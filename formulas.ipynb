{
 "cells": [
  {
   "cell_type": "code",
   "execution_count": 2,
   "metadata": {},
   "outputs": [],
   "source": [
    "import numpy as np\n",
    "import pandas as pd"
   ]
  },
  {
   "cell_type": "markdown",
   "metadata": {},
   "source": [
    "## Factura de prueba (kino)"
   ]
  },
  {
   "cell_type": "code",
   "execution_count": 3,
   "metadata": {},
   "outputs": [],
   "source": [
    "cons_mens_P1= 74 #punta #kW\n",
    "cons_mens_P2= 83 #llano \n",
    "cons_mens_P3= 168 #valle\n",
    "\n",
    "sumatorio_cons_mens=cons_mens_P1+cons_mens_P2+cons_mens_P3\n",
    "\n",
    "precio_mens_P1= 0.128515 # €\n",
    "precio_mens_P2= 0.128515\n",
    "precio_mens_P3= 0.128515\n",
    "\n",
    "descuento= 0.02 #porcentaje\n",
    "\n",
    "precio_P1_descuento= precio_mens_P1 * (1-descuento) #€\n",
    "precio_P2_descuento= precio_mens_P2 * (1-descuento)\n",
    "precio_P3_descuento= precio_mens_P3 * (1-descuento)\n"
   ]
  },
  {
   "cell_type": "code",
   "execution_count": 4,
   "metadata": {},
   "outputs": [],
   "source": [
    "total_pago_P1_energia= cons_mens_P1 * precio_P1_descuento #€\n",
    "total_pago_P2_energia= cons_mens_P2 * precio_P2_descuento\n",
    "total_pago_P3_energia= cons_mens_P3 * precio_P3_descuento\n",
    "\n",
    "sumatorio_total_pago_energia = total_pago_P1_energia + total_pago_P2_energia + total_pago_P3_energia"
   ]
  },
  {
   "cell_type": "code",
   "execution_count": 5,
   "metadata": {},
   "outputs": [],
   "source": [
    "def calcular_energia(cons_mens_P1,cons_mens_P2,cons_mens_P3, precio_mens_P1,precio_mens_P2,precio_mens_P3,descuento):\n",
    "    sumatorio_cons_mens=cons_mens_P1+cons_mens_P2+cons_mens_P3\n",
    "    precio_P1_descuento= precio_mens_P1 * (1-descuento) #€\n",
    "    precio_P2_descuento= precio_mens_P2 * (1-descuento)\n",
    "    precio_P3_descuento= precio_mens_P3 * (1-descuento)\n",
    "\n",
    "    total_pago_P1_energia= cons_mens_P1 * precio_P1_descuento #€\n",
    "    total_pago_P2_energia= cons_mens_P2 * precio_P2_descuento\n",
    "    total_pago_P3_energia= cons_mens_P3 * precio_P3_descuento\n",
    "\n",
    "    sumatorio_total_pago_energia = total_pago_P1_energia + total_pago_P2_energia + total_pago_P3_energia\n",
    "    return sumatorio_total_pago_energia"
   ]
  },
  {
   "cell_type": "code",
   "execution_count": 6,
   "metadata": {},
   "outputs": [],
   "source": [
    "potencia_contratada_P1= 3.45 #kW\n",
    "potencia_contratada_P2= 3.45\n",
    "\n",
    "dias=33\n",
    "precio_potencia_dia_P1= 0.09968 #€\n",
    "precio_potencia_dia_P2= 0.033816\n",
    "total_pago_P1_potencia= dias * precio_potencia_dia_P1 * potencia_contratada_P1\n",
    "total_pago_P2_potencia= dias * precio_potencia_dia_P2 * potencia_contratada_P2\n",
    "\n",
    "sumatorio_total_pago_potencia = total_pago_P1_potencia + total_pago_P2_potencia\n"
   ]
  },
  {
   "cell_type": "code",
   "execution_count": 7,
   "metadata": {},
   "outputs": [],
   "source": [
    "def calcular_potencia(potencia_contratada_P1,potencia_contratada_P2,dias,precio_potencia_dia_P1,precio_potencia_dia_P2):\n",
    "    total_pago_P1_potencia= dias * precio_potencia_dia_P1 * potencia_contratada_P1\n",
    "    total_pago_P2_potencia= dias * precio_potencia_dia_P2 * potencia_contratada_P2\n",
    "    sumatorio_total_pago_potencia = total_pago_P1_potencia + total_pago_P2_potencia\n",
    "    return sumatorio_total_pago_potencia"
   ]
  },
  {
   "cell_type": "code",
   "execution_count": 8,
   "metadata": {},
   "outputs": [
    {
     "data": {
      "text/plain": [
       "61.541074455"
      ]
     },
     "execution_count": 8,
     "metadata": {},
     "output_type": "execute_result"
    }
   ],
   "source": [
    "impuesto_electrico=0.33 #euros\n",
    "\n",
    "otros= 2.15 #bonos, alquiler contador\n",
    "IVA = 0.05 #%\n",
    "bi_IVA= (sumatorio_total_pago_energia\n",
    "         +sumatorio_total_pago_potencia\n",
    "         +impuesto_electrico\n",
    "         +otros)\n",
    "importe_total_factura_mens= bi_IVA * (1+IVA)\n",
    "importe_total_factura_mens"
   ]
  },
  {
   "cell_type": "code",
   "execution_count": 9,
   "metadata": {},
   "outputs": [],
   "source": [
    "def calcular_total_factura(sumatorio_total_pago_energia,sumatorio_total_pago_potencia,impuesto_electrico,otros,IVA):\n",
    "    bi_IVA= (sumatorio_total_pago_energia + sumatorio_total_pago_potencia\n",
    "         +impuesto_electrico + otros)\n",
    "    importe_total_factura_mens= bi_IVA * (1+IVA)\n",
    "    return importe_total_factura_mens"
   ]
  },
  {
   "cell_type": "markdown",
   "metadata": {},
   "source": [
    "## Propuesta"
   ]
  },
  {
   "cell_type": "code",
   "execution_count": 18,
   "metadata": {},
   "outputs": [],
   "source": [
    "energia_indexado=pd.read_csv('data/processed/indexed_price.csv')\n",
    "potencia_indexado=pd.read_csv('data/processed/indexed_price_power.csv')\n",
    "energia_indexado_fecha=pd.read_csv('data/processed/indexed_updated_DM.csv')"
   ]
  },
  {
   "cell_type": "code",
   "execution_count": 11,
   "metadata": {},
   "outputs": [
    {
     "ename": "SyntaxError",
     "evalue": "invalid syntax (3743702829.py, line 14)",
     "output_type": "error",
     "traceback": [
      "\u001b[1;36m  Cell \u001b[1;32mIn[11], line 14\u001b[1;36m\u001b[0m\n\u001b[1;33m    descuento=  #porcentaje\u001b[0m\n\u001b[1;37m                ^\u001b[0m\n\u001b[1;31mSyntaxError\u001b[0m\u001b[1;31m:\u001b[0m invalid syntax\n"
     ]
    }
   ],
   "source": [
    "#variables se obtienen del formulario de full stack \n",
    "cons_mens_P1= 74 #punta #kW\n",
    "cons_mens_P2= 83 #llano \n",
    "cons_mens_P3= 168 #valle\n",
    "\n",
    "sumatorio_cons_mens=cons_mens_P1+cons_mens_P2+cons_mens_P3\n",
    "\n",
    "#ML\n",
    "# precio_mens_P1=  # €\n",
    "# precio_mens_P2=\n",
    "# precio_mens_P3=\n",
    "#obtener de cada fee de cada compañía y comparar\n",
    "\n",
    "descuento=  #porcentaje\n",
    "\n",
    "precio_P1_descuento= precio_mens_P1 * (1-descuento) #€\n",
    "precio_P2_descuento= precio_mens_P2 * (1-descuento)\n",
    "precio_P3_descuento= precio_mens_P3 * (1-descuento)\n"
   ]
  },
  {
   "cell_type": "markdown",
   "metadata": {},
   "source": [
    "> Recorrerse con un bucle for cada fee de cada compañía, se obtienen todos los precios con las fórmulas de arriba y se calculan los más baratos"
   ]
  },
  {
   "cell_type": "code",
   "execution_count": 19,
   "metadata": {},
   "outputs": [
    {
     "name": "stdout",
     "output_type": "stream",
     "text": [
      "<class 'pandas.core.frame.DataFrame'>\n",
      "RangeIndex: 11206 entries, 0 to 11205\n",
      "Data columns (total 11 columns):\n",
      " #   Column   Non-Null Count  Dtype  \n",
      "---  ------   --------------  -----  \n",
      " 0   SISTEMA  11206 non-null  object \n",
      " 1   TARIFA   11206 non-null  object \n",
      " 2   CIA      11206 non-null  object \n",
      " 3   MES      11206 non-null  object \n",
      " 4   FEE      11206 non-null  object \n",
      " 5   P1.      11206 non-null  float64\n",
      " 6   P2.      11206 non-null  float64\n",
      " 7   P3.      11206 non-null  float64\n",
      " 8   P4.      11206 non-null  float64\n",
      " 9   P5       11206 non-null  float64\n",
      " 10  P6.      11206 non-null  float64\n",
      "dtypes: float64(6), object(5)\n",
      "memory usage: 963.1+ KB\n"
     ]
    }
   ],
   "source": [
    "energia_indexado_fecha.info()"
   ]
  }
 ],
 "metadata": {
  "kernelspec": {
   "display_name": "Python 3",
   "language": "python",
   "name": "python3"
  },
  "language_info": {
   "codemirror_mode": {
    "name": "ipython",
    "version": 3
   },
   "file_extension": ".py",
   "mimetype": "text/x-python",
   "name": "python",
   "nbconvert_exporter": "python",
   "pygments_lexer": "ipython3",
   "version": "3.11.4"
  }
 },
 "nbformat": 4,
 "nbformat_minor": 2
}
