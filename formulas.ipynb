{
 "cells": [
  {
   "cell_type": "code",
   "execution_count": 1,
   "metadata": {},
   "outputs": [],
   "source": [
    "import numpy as np\n",
    "import pandas as pd"
   ]
  },
  {
   "cell_type": "markdown",
   "metadata": {},
   "source": [
    "## Factura de prueba (kino)"
   ]
  },
  {
   "cell_type": "code",
   "execution_count": 7,
   "metadata": {},
   "outputs": [],
   "source": [
    "cons_mens_P1= 74 #punta #kW\n",
    "cons_mens_P2= 83 #llano \n",
    "cons_mens_P3= 168 #valle\n",
    "\n",
    "sumatorio_cons_mens=cons_mens_P1+cons_mens_P2+cons_mens_P3\n",
    "\n",
    "precio_mens_P1= 0.128515 # €\n",
    "precio_mens_P2= 0.128515\n",
    "precio_mens_P3= 0.128515\n",
    "\n",
    "descuento= 0.02 #porcentaje\n",
    "\n",
    "precio_P1_descuento= precio_mens_P1 * (1-descuento) #€\n",
    "precio_P2_descuento= precio_mens_P2 * (1-descuento)\n",
    "precio_P3_descuento= precio_mens_P3 * (1-descuento)\n"
   ]
  },
  {
   "cell_type": "code",
   "execution_count": 8,
   "metadata": {},
   "outputs": [],
   "source": [
    "total_pago_P1_energia= cons_mens_P1 * precio_P1_descuento #€\n",
    "total_pago_P2_energia= cons_mens_P2 * precio_P2_descuento\n",
    "total_pago_P3_energia= cons_mens_P3 * precio_P3_descuento\n",
    "\n",
    "sumatorio_total_pago_energia = total_pago_P1_energia + total_pago_P2_energia + total_pago_P3_energia"
   ]
  },
  {
   "cell_type": "code",
   "execution_count": 9,
   "metadata": {},
   "outputs": [],
   "source": [
    "potencia_contratada_P1= 3.45 #kW\n",
    "potencia_contratada_P2= 3.45\n",
    "\n",
    "dias=33\n",
    "precio_potencia_dia_P1= 0.09968 #€\n",
    "precio_potencia_dia_P2= 0.033816\n",
    "total_pago_P1_potencia= dias * precio_potencia_dia_P1 * potencia_contratada_P1\n",
    "total_pago_P2_potencia= dias * precio_potencia_dia_P2 * potencia_contratada_P2\n",
    "\n",
    "sumatorio_total_pago_potencia = total_pago_P1_potencia + total_pago_P2_potencia\n"
   ]
  },
  {
   "cell_type": "code",
   "execution_count": 10,
   "metadata": {},
   "outputs": [
    {
     "data": {
      "text/plain": [
       "61.541074455"
      ]
     },
     "execution_count": 10,
     "metadata": {},
     "output_type": "execute_result"
    }
   ],
   "source": [
    "impuesto_electrico=0.33 #euros\n",
    "\n",
    "otros= 2.15 #bonos, alquiler contador\n",
    "IVA = 0.05 #%\n",
    "bi_IVA= (sumatorio_total_pago_energia\n",
    "         +sumatorio_total_pago_potencia\n",
    "         +impuesto_electrico\n",
    "         +otros)\n",
    "importe_total_factura_mens= bi_IVA * (1+IVA)\n",
    "importe_total_factura_mens"
   ]
  },
  {
   "cell_type": "markdown",
   "metadata": {},
   "source": [
    "## Propuesta"
   ]
  },
  {
   "cell_type": "code",
   "execution_count": null,
   "metadata": {},
   "outputs": [],
   "source": [
    "#variables se obtienen del formulario de full stack \n",
    "cons_mens_P1= 74 #punta #kW\n",
    "cons_mens_P2= 83 #llano \n",
    "cons_mens_P3= 168 #valle\n",
    "\n",
    "sumatorio_cons_mens=cons_mens_P1+cons_mens_P2+cons_mens_P3\n",
    "\n",
    "#ML\n",
    "# precio_mens_P1=  # €\n",
    "# precio_mens_P2=\n",
    "# precio_mens_P3=\n",
    "#obtener de cada fee de cada compañía y comparar\n",
    "\n",
    "descuento=  #porcentaje\n",
    "\n",
    "precio_P1_descuento= precio_mens_P1 * (1-descuento) #€\n",
    "precio_P2_descuento= precio_mens_P2 * (1-descuento)\n",
    "precio_P3_descuento= precio_mens_P3 * (1-descuento)\n"
   ]
  },
  {
   "cell_type": "markdown",
   "metadata": {},
   "source": [
    "> Recorrerse con un bucle for cada fee de cada compañía, se obtienen todos los precios con las fórmulas de arriba y se calculan los más baratos"
   ]
  },
  {
   "cell_type": "code",
   "execution_count": null,
   "metadata": {},
   "outputs": [],
   "source": [
    "# def calcular_importe()"
   ]
  }
 ],
 "metadata": {
  "kernelspec": {
   "display_name": "Python 3",
   "language": "python",
   "name": "python3"
  },
  "language_info": {
   "codemirror_mode": {
    "name": "ipython",
    "version": 3
   },
   "file_extension": ".py",
   "mimetype": "text/x-python",
   "name": "python",
   "nbconvert_exporter": "python",
   "pygments_lexer": "ipython3",
   "version": "3.11.4"
  }
 },
 "nbformat": 4,
 "nbformat_minor": 2
}
