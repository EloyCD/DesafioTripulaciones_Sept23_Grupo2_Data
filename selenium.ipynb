{
 "cells": [
  {
   "cell_type": "code",
   "execution_count": 153,
   "metadata": {},
   "outputs": [],
   "source": [
    "from selenium import webdriver\n",
    "from selenium.webdriver.support.ui import Select\n",
    "from selenium.webdriver.support.ui import WebDriverWait\n",
    "from selenium.webdriver.support import expected_conditions as EC\n",
    "from selenium.webdriver.chrome.service import Service\n",
    "from selenium.webdriver.common.by import By\n",
    "# import urllib3 # urllib3 es un cliente HTTP potente y fácil de usar para Python.\n",
    "import re # Expresiones regulares \n",
    "import time\n",
    "import pandas as pd"
   ]
  },
  {
   "cell_type": "code",
   "execution_count": 154,
   "metadata": {},
   "outputs": [],
   "source": [
    "service = Service(executable_path='chromedriver.exe')\n",
    "options = webdriver.ChromeOptions()\n",
    "\n",
    "driver = webdriver.Chrome(service=service, options=options)\n",
    "driver.get(\"http://www.google.es\")\n",
    "loadMore = driver.find_element(By.XPATH, '/html/body/div[2]/div[3]/div[3]/span/div/div/div/div[3]/div[1]/button[1]/div')\n",
    "loadMore.click()"
   ]
  },
  {
   "cell_type": "code",
   "execution_count": 155,
   "metadata": {},
   "outputs": [],
   "source": [
    "url = 'https://agentes.candelaenergia.es/#/login'"
   ]
  },
  {
   "cell_type": "code",
   "execution_count": 156,
   "metadata": {},
   "outputs": [],
   "source": [
    "driver.get(url)"
   ]
  },
  {
   "cell_type": "code",
   "execution_count": 157,
   "metadata": {},
   "outputs": [],
   "source": [
    "caja_seleccion = WebDriverWait(driver, 10).until(\n",
    "    EC.presence_of_element_located((By.XPATH, '/html/body/div[1]/div/div/div/div[1]/div/form/div[1]/div[1]/md-select'))\n",
    ")"
   ]
  },
  {
   "cell_type": "code",
   "execution_count": 158,
   "metadata": {},
   "outputs": [],
   "source": [
    "caja_seleccion.click()"
   ]
  },
  {
   "cell_type": "code",
   "execution_count": 164,
   "metadata": {},
   "outputs": [],
   "source": [
    "opciones = WebDriverWait(driver, 10).until(\n",
    "    EC.presence_of_all_elements_located((By.XPATH, '/html/body/div[4]/md-select-menu/md-content/md-option[1]/div[1]'))\n",
    ")"
   ]
  },
  {
   "cell_type": "code",
   "execution_count": 165,
   "metadata": {},
   "outputs": [],
   "source": [
    "opciones[0].click()"
   ]
  },
  {
   "cell_type": "code",
   "execution_count": 170,
   "metadata": {},
   "outputs": [],
   "source": [
    "campo_usuario = driver.find_element(By.XPATH, '/html/body/div[1]/div/div/div/div[1]/div/form/div[1]/div[2]/input')\n",
    "campo_contraseña = driver.find_element(By.XPATH, '/html/body/div[1]/div/div/div/div[1]/div/form/div[1]/div[3]/input')\n",
    "\n",
    "campo_usuario.send_keys('CA001507')\n",
    "campo_contraseña.send_keys('CI001-507/258071')\n",
    "\n",
    "\n"
   ]
  },
  {
   "cell_type": "code",
   "execution_count": 171,
   "metadata": {},
   "outputs": [],
   "source": [
    "time.sleep(1)\n",
    "formulario = driver.find_element(By.XPATH, '/html/body/div[1]/div/div/div/div[1]/div/form/button')\n",
    "formulario.click()"
   ]
  },
  {
   "cell_type": "code",
   "execution_count": 172,
   "metadata": {},
   "outputs": [],
   "source": [
    "time.sleep(3)\n",
    "sips = driver.find_element(By.XPATH, '/html/body/div[1]/div/div/div/div[1]/ul/li[3]/a')\n",
    "sips.click()"
   ]
  },
  {
   "cell_type": "code",
   "execution_count": 173,
   "metadata": {},
   "outputs": [
    {
     "data": {
      "text/plain": [
       "\"lista_CUPS = driver.find_element(By.XPATH, '/html/body/div[1]/div/div/div/div[2]/div/div[2]/md-tabs/md-tabs-content-wrapper/md-tab-content/div/md-card/div/form/div[3]/md-input-container/input') \\nlista_CUPS.send_keys(lista)\""
      ]
     },
     "execution_count": 173,
     "metadata": {},
     "output_type": "execute_result"
    }
   ],
   "source": [
    "lista = ['ES0031104629924014ZJ0F', ',', 'ES0021000004877698SQ']\n",
    "\n",
    "CUPS = driver.find_element(By.XPATH, '/html/body/div[1]/div/div/div/div[2]/div/div[2]/md-tabs/md-tabs-content-wrapper/md-tab-content/div/md-card/div/form/div[1]/md-input-container[1]/input')\n",
    "CUPS.send_keys('ES0031104629924014ZJ0F')\n",
    "\"\"\"lista_CUPS = driver.find_element(By.XPATH, '/html/body/div[1]/div/div/div/div[2]/div/div[2]/md-tabs/md-tabs-content-wrapper/md-tab-content/div/md-card/div/form/div[3]/md-input-container/input') \n",
    "lista_CUPS.send_keys(lista)\"\"\"\n"
   ]
  },
  {
   "cell_type": "code",
   "execution_count": 174,
   "metadata": {},
   "outputs": [],
   "source": [
    "inspeccionar_CUPS = driver.find_element(By.XPATH, '/html/body/div[1]/div/div/div/div[2]/div/div[2]/md-tabs/md-tabs-content-wrapper/md-tab-content/div/md-card/div/form/div[4]/button')\n",
    "inspeccionar_CUPS.click()"
   ]
  },
  {
   "cell_type": "code",
   "execution_count": 175,
   "metadata": {},
   "outputs": [],
   "source": [
    "tabla_CUPS = driver.find_element(By.XPATH, '/html/body/div[1]/div/div/div/div[2]/div/div[2]/md-tabs/md-tabs-content-wrapper/md-tab-content/div/md-content/md-card/md-table-container/table/tbody/tr[1]/td[3]/input')\n",
    "placeholder_CUPS = tabla_CUPS.get_attribute('placeholder')\n",
    "\n",
    "tabla_municipio = driver.find_element(By.XPATH, '/html/body/div[1]/div/div/div/div[2]/div/div[2]/md-tabs/md-tabs-content-wrapper/md-tab-content/div/md-content/md-card/md-table-container/table/tbody/tr[1]/td[5]/input')\n",
    "placeholder_municipio = tabla_municipio.get_attribute('placeholder')\n",
    "\n",
    "tabla_Provincia = driver.find_element(By.XPATH, '/html/body/div[1]/div/div/div/div[2]/div/div[2]/md-tabs/md-tabs-content-wrapper/md-tab-content/div/md-content/md-card/md-table-container/table/tbody/tr[1]/td[6]/input')\n",
    "placeholder_Provincia = tabla_Provincia.get_attribute('placeholder')\n",
    "\n",
    "tabla_postal = driver.find_element(By.XPATH, '/html/body/div[1]/div/div/div/div[2]/div/div[2]/md-tabs/md-tabs-content-wrapper/md-tab-content/div/md-content/md-card/md-table-container/table/tbody/tr[1]/td[7]/input')\n",
    "placeholder_postal = tabla_postal.get_attribute('placeholder')\n",
    "\n",
    "tabla_tarifa = driver.find_element(By.XPATH, '/html/body/div[1]/div/div/div/div[2]/div/div[2]/md-tabs/md-tabs-content-wrapper/md-tab-content/div/md-content/md-card/md-table-container/table/tbody/tr[1]/td[8]/input')\n",
    "placeholder_tarifa = tabla_tarifa.get_attribute('placeholder')\n",
    "\n",
    "tabla_consumo_anual = driver.find_element(By.XPATH, '/html/body/div[1]/div/div/div/div[2]/div/div[2]/md-tabs/md-tabs-content-wrapper/md-tab-content/div/md-content/md-card/md-table-container/table/tbody/tr[1]/td[10]/input')\n",
    "placeholder_consumo_anual = tabla_consumo_anual.get_attribute('placeholder')\n",
    "\n",
    "tabla_consumo_anual_P1 = driver.find_element(By.XPATH, '/html/body/div[1]/div/div/div/div[2]/div/div[2]/md-tabs/md-tabs-content-wrapper/md-tab-content/div/md-content/md-card/md-table-container/table/tbody/tr[1]/td[11]/input')\n",
    "placeholder_consumo_anual_P1 = tabla_consumo_anual_P1.get_attribute('placeholder')\n",
    "\n",
    "tabla_consumo_anual_P2 = driver.find_element(By.XPATH, '/html/body/div[1]/div/div/div/div[2]/div/div[2]/md-tabs/md-tabs-content-wrapper/md-tab-content/div/md-content/md-card/md-table-container/table/tbody/tr[1]/td[12]/input')\n",
    "placeholder_consumo_anual_P2 = tabla_consumo_anual_P2.get_attribute('placeholder')\n",
    "\n",
    "tabla_consumo_anual_P3 = driver.find_element(By.XPATH, '/html/body/div[1]/div/div/div/div[2]/div/div[2]/md-tabs/md-tabs-content-wrapper/md-tab-content/div/md-content/md-card/md-table-container/table/tbody/tr[1]/td[13]/input')\n",
    "placeholder_consumo_anual_P3 = tabla_consumo_anual_P3.get_attribute('placeholder')\n",
    "\n",
    "tabla_consumo_anual_P4 = driver.find_element(By.XPATH, '/html/body/div[1]/div/div/div/div[2]/div/div[2]/md-tabs/md-tabs-content-wrapper/md-tab-content/div/md-content/md-card/md-table-container/table/tbody/tr[1]/td[14]/input')\n",
    "placeholder_consumo_anual_P4 = tabla_consumo_anual_P4.get_attribute('placeholder')\n",
    "\n",
    "tabla_consumo_anual_P5 = driver.find_element(By.XPATH, '/html/body/div[1]/div/div/div/div[2]/div/div[2]/md-tabs/md-tabs-content-wrapper/md-tab-content/div/md-content/md-card/md-table-container/table/tbody/tr[1]/td[15]/input')\n",
    "placeholder_consumo_anual_P5 = tabla_consumo_anual_P5.get_attribute('placeholder')\n",
    "\n",
    "tabla_consumo_anual_P6 = driver.find_element(By.XPATH, '/html/body/div[1]/div/div/div/div[2]/div/div[2]/md-tabs/md-tabs-content-wrapper/md-tab-content/div/md-content/md-card/md-table-container/table/tbody/tr[1]/td[16]/input')\n",
    "placeholder_consumo_anual_P6 = tabla_consumo_anual_P6.get_attribute('placeholder')\n",
    "\n",
    "tabla_P1 = driver.find_element(By.XPATH, '/html/body/div[1]/div/div/div/div[2]/div/div[2]/md-tabs/md-tabs-content-wrapper/md-tab-content/div/md-content/md-card/md-table-container/table/tbody/tr[1]/td[19]/input')\n",
    "placeholder_P1 = tabla_P1.get_attribute('placeholder')\n",
    "\n",
    "tabla_P2 = driver.find_element(By.XPATH, '/html/body/div[1]/div/div/div/div[2]/div/div[2]/md-tabs/md-tabs-content-wrapper/md-tab-content/div/md-content/md-card/md-table-container/table/tbody/tr[1]/td[20]/input')\n",
    "placeholder_P2 = tabla_P2.get_attribute('placeholder')\n",
    "\n",
    "tabla_P3 = driver.find_element(By.XPATH, '/html/body/div[1]/div/div/div/div[2]/div/div[2]/md-tabs/md-tabs-content-wrapper/md-tab-content/div/md-content/md-card/md-table-container/table/tbody/tr[1]/td[21]/input')\n",
    "placeholder_P3 = tabla_P3.get_attribute('placeholder')\n",
    "\n",
    "tabla_P4 = driver.find_element(By.XPATH, '/html/body/div[1]/div/div/div/div[2]/div/div[2]/md-tabs/md-tabs-content-wrapper/md-tab-content/div/md-content/md-card/md-table-container/table/tbody/tr[1]/td[22]/input')\n",
    "placeholder_P4 = tabla_P4.get_attribute('placeholder')\n",
    "\n",
    "tabla_P5 = driver.find_element(By.XPATH, '/html/body/div[1]/div/div/div/div[2]/div/div[2]/md-tabs/md-tabs-content-wrapper/md-tab-content/div/md-content/md-card/md-table-container/table/tbody/tr[1]/td[23]/input')\n",
    "placeholder_P5 = tabla_P5.get_attribute('placeholder')\n",
    "\n",
    "tabla_P6 = driver.find_element(By.XPATH, '/html/body/div[1]/div/div/div/div[2]/div/div[2]/md-tabs/md-tabs-content-wrapper/md-tab-content/div/md-content/md-card/md-table-container/table/tbody/tr[1]/td[24]/input')\n",
    "placeholder_P6 = tabla_P6.get_attribute('placeholder')\n",
    "\n",
    "tabla_distribuidora = driver.find_element(By.XPATH, '/html/body/div[1]/div/div/div/div[2]/div/div[2]/md-tabs/md-tabs-content-wrapper/md-tab-content/div/md-content/md-card/md-table-container/table/tbody/tr[1]/td[26]/input')\n",
    "placeholder_distribuidora = tabla_distribuidora.get_attribute('placeholder')\n",
    "\n",
    "tabla_cambio_comercial = driver.find_element(By.XPATH, '/html/body/div[1]/div/div/div/div[2]/div/div[2]/md-tabs/md-tabs-content-wrapper/md-tab-content/div/md-content/md-card/md-table-container/table/tbody/tr[1]/td[28]/input')\n",
    "placeholder_cambio_comercial = tabla_cambio_comercial.get_attribute('placeholder')\n",
    "\n",
    "tabla_ultimo_cambio_BIE = driver.find_element(By.XPATH, '/html/body/div[1]/div/div/div/div[2]/div/div[2]/md-tabs/md-tabs-content-wrapper/md-tab-content/div/md-content/md-card/md-table-container/table/tbody/tr/td[29]/input')\n",
    "placeholder_ultimo_cambio_BIE = tabla_ultimo_cambio_BIE.get_attribute('placeholder')\n",
    "\n",
    "tabla_tension = driver.find_element(By.XPATH, '/html/body/div[1]/div/div/div/div[2]/div/div[2]/md-tabs/md-tabs-content-wrapper/md-tab-content/div/md-content/md-card/md-table-container/table/tbody/tr/td[30]/input')\n",
    "placeholder_tension = tabla_tension.get_attribute('placeholder')\n",
    "\n",
    "tabla_distribuidora_Contrato = driver.find_element(By.XPATH, '/html/body/div[1]/div/div/div/div[2]/div/div[2]/md-tabs/md-tabs-content-wrapper/md-tab-content/div/md-content/md-card/md-table-container/table/tbody/tr/td[34]/input')\n",
    "placeholder_distribuidora_Contrato = tabla_distribuidora_Contrato.get_attribute('placeholder')\n"
   ]
  },
  {
   "cell_type": "code",
   "execution_count": 176,
   "metadata": {},
   "outputs": [],
   "source": [
    "placeholder_CUPS = placeholder_CUPS.strip()\n",
    "placeholder_municipio = placeholder_municipio.strip()\n",
    "placeholder_Provincia = placeholder_Provincia.strip()\n",
    "placeholder_postal = placeholder_postal.strip()\n",
    "placeholder_tarifa = placeholder_tarifa.strip()\n",
    "placeholder_consumo_anual = placeholder_consumo_anual.strip()\n",
    "placeholder_consumo_anual_P1 = placeholder_consumo_anual_P1.strip()\n",
    "placeholder_consumo_anual_P2 = placeholder_consumo_anual_P2.strip()\n",
    "placeholder_consumo_anual_P3 = placeholder_consumo_anual_P3.strip()\n",
    "placeholder_consumo_anual_P4 = placeholder_consumo_anual_P4.strip()\n",
    "placeholder_consumo_anual_P5 = placeholder_consumo_anual_P5.strip()\n",
    "placeholder_consumo_anual_P6 = placeholder_consumo_anual_P6.strip()\n",
    "placeholder_P1 = placeholder_P1.strip()\n",
    "placeholder_P2 = placeholder_P2.strip()\n",
    "placeholder_P3 = placeholder_P3.strip()\n",
    "placeholder_P4 = placeholder_P4.strip()\n",
    "placeholder_P5 = placeholder_P5.strip()\n",
    "placeholder_P6 = placeholder_P6.strip()\n",
    "placeholder_distribuidora = placeholder_distribuidora.strip()\n",
    "placeholder_cambio_comercial = placeholder_cambio_comercial.strip()\n",
    "placeholder_ultimo_cambio_BIE = placeholder_ultimo_cambio_BIE.strip()\n",
    "placeholder_tension = placeholder_tension.strip()\n",
    "placeholder_distribuidora_Contrato = placeholder_distribuidora_Contrato.strip()"
   ]
  },
  {
   "cell_type": "code",
   "execution_count": 177,
   "metadata": {},
   "outputs": [
    {
     "name": "stdout",
     "output_type": "stream",
     "text": [
      "placeholder_CUPS: CUPS\n",
      "placeholder_municipio: Municipio\n",
      "placeholder_Provincia: Provincia\n",
      "placeholder_postal: Código Postal\n",
      "placeholder_tarifa: Tarifa\n",
      "placeholder_consumo_anual: Consumo anual\n",
      "placeholder_consumo_anual_P1: Consumo anual P1\n",
      "placeholder_consumo_anual_P2: Consumo anual P2\n",
      "placeholder_consumo_anual_P3: Consumo anual P3\n",
      "placeholder_consumo_anual_P4: Consumo anual P4\n",
      "placeholder_consumo_anual_P5: Consumo anual P5\n",
      "placeholder_consumo_anual_P6: Consumo anual P6\n",
      "placeholder_P1: P1\n",
      "placeholder_P2: P2\n",
      "placeholder_P3: P3\n",
      "placeholder_P4: P4\n",
      "placeholder_P5: P5\n",
      "placeholder_P6: P6\n",
      "placeholder_distribuidora: Distribuidora\n",
      "placeholder_cambio_comercial: Cambio Comercializadora\n",
      "placeholder_ultimo_cambio_BIE: Cambio BIE\n",
      "placeholder_tension: Tensión\n",
      "placeholder_distribuidora_Contrato: Cambio Contrato\n"
     ]
    }
   ],
   "source": [
    "print(\"placeholder_CUPS:\", placeholder_CUPS)\n",
    "print(\"placeholder_municipio:\", placeholder_municipio)\n",
    "print(\"placeholder_Provincia:\", placeholder_Provincia)\n",
    "print(\"placeholder_postal:\", placeholder_postal)\n",
    "print(\"placeholder_tarifa:\", placeholder_tarifa)\n",
    "print(\"placeholder_consumo_anual:\", placeholder_consumo_anual)\n",
    "print(\"placeholder_consumo_anual_P1:\", placeholder_consumo_anual_P1)\n",
    "print(\"placeholder_consumo_anual_P2:\", placeholder_consumo_anual_P2)\n",
    "print(\"placeholder_consumo_anual_P3:\", placeholder_consumo_anual_P3)\n",
    "print(\"placeholder_consumo_anual_P4:\", placeholder_consumo_anual_P4)\n",
    "print(\"placeholder_consumo_anual_P5:\", placeholder_consumo_anual_P5)\n",
    "print(\"placeholder_consumo_anual_P6:\", placeholder_consumo_anual_P6)\n",
    "print(\"placeholder_P1:\", placeholder_P1)\n",
    "print(\"placeholder_P2:\", placeholder_P2)\n",
    "print(\"placeholder_P3:\", placeholder_P3)\n",
    "print(\"placeholder_P4:\", placeholder_P4)\n",
    "print(\"placeholder_P5:\", placeholder_P5)\n",
    "print(\"placeholder_P6:\", placeholder_P6)\n",
    "print(\"placeholder_distribuidora:\", placeholder_distribuidora)\n",
    "print(\"placeholder_cambio_comercial:\", placeholder_cambio_comercial)\n",
    "print(\"placeholder_ultimo_cambio_BIE:\", placeholder_ultimo_cambio_BIE)\n",
    "print(\"placeholder_tension:\", placeholder_tension)\n",
    "print(\"placeholder_distribuidora_Contrato:\", placeholder_distribuidora_Contrato)"
   ]
  },
  {
   "cell_type": "code",
   "execution_count": 178,
   "metadata": {},
   "outputs": [],
   "source": [
    "valor_CUPS = driver.find_element(By.XPATH, '/html/body/div[1]/div/div/div/div[2]/div/div[2]/md-tabs/md-tabs-content-wrapper/md-tab-content/div/md-content/md-card/md-table-container/table/tbody/tr[2]/td[3]')\n",
    "valor_placeholder_CUPS = valor_CUPS.text\n",
    "\n",
    "valor_municipio = driver.find_element(By.XPATH, '/html/body/div[1]/div/div/div/div[2]/div/div[2]/md-tabs/md-tabs-content-wrapper/md-tab-content/div/md-content/md-card/md-table-container/table/tbody/tr[2]/td[6]')\n",
    "valor_placeholder_municipio = valor_municipio.text\n",
    "\n",
    "valor_Provincia = driver.find_element(By.XPATH, '/html/body/div[1]/div/div/div/div[2]/div/div[2]/md-tabs/md-tabs-content-wrapper/md-tab-content/div/md-content/md-card/md-table-container/table/tbody/tr[2]/td[7]')\n",
    "valor_placeholder_Provincia = valor_Provincia.text\n",
    "\n",
    "valor_postal = driver.find_element(By.XPATH, '/html/body/div[1]/div/div/div/div[2]/div/div[2]/md-tabs/md-tabs-content-wrapper/md-tab-content/div/md-content/md-card/md-table-container/table/tbody/tr[2]/td[8]')\n",
    "valor_placeholder_postal = valor_postal.text\n",
    "\n",
    "valor_tarifa = driver.find_element(By.XPATH, '/html/body/div[1]/div/div/div/div[2]/div/div[2]/md-tabs/md-tabs-content-wrapper/md-tab-content/div/md-content/md-card/md-table-container/table/tbody/tr[2]/td[9]/any/any')\n",
    "valor_placeholder_tarifa = valor_tarifa.text\n",
    "\n",
    "valor_consumo_anual = driver.find_element(By.XPATH, '/html/body/div[1]/div/div/div/div[2]/div/div[2]/md-tabs/md-tabs-content-wrapper/md-tab-content/div/md-content/md-card/md-table-container/table/tbody/tr[2]/td[11]')\n",
    "valor_placeholder_consumo_anual = valor_consumo_anual.text\n",
    "\n",
    "valor_consumo_anual_P1 = driver.find_element(By.XPATH, '/html/body/div[1]/div/div/div/div[2]/div/div[2]/md-tabs/md-tabs-content-wrapper/md-tab-content/div/md-content/md-card/md-table-container/table/tbody/tr[2]/td[13]')\n",
    "valor_placeholder_consumo_anual_P1 = valor_consumo_anual_P1.text\n",
    "\n",
    "valor_consumo_anual_P2 = driver.find_element(By.XPATH, '/html/body/div[1]/div/div/div/div[2]/div/div[2]/md-tabs/md-tabs-content-wrapper/md-tab-content/div/md-content/md-card/md-table-container/table/tbody/tr[2]/td[14]')\n",
    "valor_placeholder_consumo_anual_P2 = valor_consumo_anual_P2.text\n",
    "\n",
    "valor_consumo_anual_P3 = driver.find_element(By.XPATH, '/html/body/div[1]/div/div/div/div[2]/div/div[2]/md-tabs/md-tabs-content-wrapper/md-tab-content/div/md-content/md-card/md-table-container/table/tbody/tr[2]/td[15]')\n",
    "valor_placeholder_consumo_anual_P3 = valor_consumo_anual_P3.text\n",
    "\n",
    "valor_consumo_anual_P4 = driver.find_element(By.XPATH, '/html/body/div[1]/div/div/div/div[2]/div/div[2]/md-tabs/md-tabs-content-wrapper/md-tab-content/div/md-content/md-card/md-table-container/table/tbody/tr[2]/td[16]')\n",
    "valor_placeholder_consumo_anual_P4 = valor_consumo_anual_P4.text\n",
    "\n",
    "valor_consumo_anual_P5 = driver.find_element(By.XPATH, '/html/body/div[1]/div/div/div/div[2]/div/div[2]/md-tabs/md-tabs-content-wrapper/md-tab-content/div/md-content/md-card/md-table-container/table/tbody/tr[2]/td[17]')\n",
    "valor_placeholder_consumo_anual_P5 = valor_consumo_anual_P5.text\n",
    "\n",
    "valor_consumo_anual_P6 = driver.find_element(By.XPATH, '/html/body/div[1]/div/div/div/div[2]/div/div[2]/md-tabs/md-tabs-content-wrapper/md-tab-content/div/md-content/md-card/md-table-container/table/tbody/tr[2]/td[18]')\n",
    "valor_placeholder_consumo_anual_P6 = valor_consumo_anual_P6.text\n",
    "\n",
    "valor_P1 = driver.find_element(By.XPATH, '/html/body/div[1]/div/div/div/div[2]/div/div[2]/md-tabs/md-tabs-content-wrapper/md-tab-content/div/md-content/md-card/md-table-container/table/tbody/tr[2]/td[21]')\n",
    "valor_placeholder_P1 = valor_P1.text\n",
    "\n",
    "valor_P2 = driver.find_element(By.XPATH, '/html/body/div[1]/div/div/div/div[2]/div/div[2]/md-tabs/md-tabs-content-wrapper/md-tab-content/div/md-content/md-card/md-table-container/table/tbody/tr[2]/td[22]')\n",
    "valor_placeholder_P2 = valor_P2.text\n",
    "\n",
    "valor_P3 = driver.find_element(By.XPATH, '/html/body/div[1]/div/div/div/div[2]/div/div[2]/md-tabs/md-tabs-content-wrapper/md-tab-content/div/md-content/md-card/md-table-container/table/tbody/tr[2]/td[23]')\n",
    "valor_placeholder_P3 = valor_P3.text\n",
    "\n",
    "valor_P4 = driver.find_element(By.XPATH, '/html/body/div[1]/div/div/div/div[2]/div/div[2]/md-tabs/md-tabs-content-wrapper/md-tab-content/div/md-content/md-card/md-table-container/table/tbody/tr[2]/td[24]')\n",
    "valor_placeholder_P4 = valor_P4.text\n",
    "\n",
    "valor_P5 = driver.find_element(By.XPATH, '/html/body/div[1]/div/div/div/div[2]/div/div[2]/md-tabs/md-tabs-content-wrapper/md-tab-content/div/md-content/md-card/md-table-container/table/tbody/tr[2]/td[25]')\n",
    "valor_placeholder_P5 = valor_P5.text\n",
    "\n",
    "valor_P6 = driver.find_element(By.XPATH, '/html/body/div[1]/div/div/div/div[2]/div/div[2]/md-tabs/md-tabs-content-wrapper/md-tab-content/div/md-content/md-card/md-table-container/table/tbody/tr[2]/td[26]')\n",
    "valor_placeholder_P6 = valor_P6.text\n",
    "\n",
    "valor_distribuidora = driver.find_element(By.XPATH, '/html/body/div[1]/div/div/div/div[2]/div/div[2]/md-tabs/md-tabs-content-wrapper/md-tab-content/div/md-content/md-card/md-table-container/table/tbody/tr[2]/td[28]')\n",
    "valor_placeholder_distribuidora = valor_distribuidora.text\n",
    "\n",
    "valor_cambio_comercial = driver.find_element(By.XPATH, '/html/body/div[1]/div/div/div/div[2]/div/div[2]/md-tabs/md-tabs-content-wrapper/md-tab-content/div/md-content/md-card/md-table-container/table/tbody/tr[2]/td[30]')\n",
    "valor_placeholder_cambio_comercial = valor_cambio_comercial.text\n",
    "\n",
    "valor_ultimo_cambio_BIE = driver.find_element(By.XPATH, '/html/body/div[1]/div/div/div/div[2]/div/div[2]/md-tabs/md-tabs-content-wrapper/md-tab-content/div/md-content/md-card/md-table-container/table/tbody/tr[2]/td[31]')\n",
    "valor_placeholder_ultimo_cambio_BIE = valor_ultimo_cambio_BIE.text\n",
    "\n",
    "valor_tension = driver.find_element(By.XPATH, '/html/body/div[1]/div/div/div/div[2]/div/div[2]/md-tabs/md-tabs-content-wrapper/md-tab-content/div/md-content/md-card/md-table-container/table/tbody/tr[2]/td[32]/any/any')\n",
    "valor_placeholder_tension = valor_tension.text\n",
    "\n",
    "valor_distribuidora_Contrato = driver.find_element(By.XPATH, '/html/body/div[1]/div/div/div/div[2]/div/div[2]/md-tabs/md-tabs-content-wrapper/md-tab-content/div/md-content/md-card/md-table-container/table/tbody/tr[2]/td[37]')\n",
    "valor_placeholder_distribuidora_Contrato = valor_distribuidora_Contrato.text\n"
   ]
  },
  {
   "cell_type": "code",
   "execution_count": 179,
   "metadata": {},
   "outputs": [
    {
     "data": {
      "text/plain": [
       "'ES0031104629924014ZJ'"
      ]
     },
     "execution_count": 179,
     "metadata": {},
     "output_type": "execute_result"
    }
   ],
   "source": [
    "valor_placeholder_CUPS"
   ]
  },
  {
   "cell_type": "code",
   "execution_count": 180,
   "metadata": {},
   "outputs": [],
   "source": [
    "valor_placeholder_CUPS = valor_placeholder_CUPS.strip()\n",
    "valor_placeholder_municipio = valor_placeholder_municipio.strip()\n",
    "valor_placeholder_Provincia = valor_placeholder_Provincia.strip()\n",
    "valor_placeholder_postal = valor_placeholder_postal.strip()\n",
    "valor_placeholder_tarifa = valor_placeholder_tarifa.strip()\n",
    "valor_placeholder_consumo_anual = valor_placeholder_consumo_anual.strip()\n",
    "valor_placeholder_consumo_anual_P1 = valor_placeholder_consumo_anual_P1.strip()\n",
    "valor_placeholder_consumo_anual_P2 = valor_placeholder_consumo_anual_P2.strip()\n",
    "valor_placeholder_consumo_anual_P3 = valor_placeholder_consumo_anual_P3.strip()\n",
    "valor_placeholder_consumo_anual_P4 = valor_placeholder_consumo_anual_P4.strip()\n",
    "valor_placeholder_consumo_anual_P5 = valor_placeholder_consumo_anual_P5.strip()\n",
    "valor_placeholder_consumo_anual_P6 = valor_placeholder_consumo_anual_P6.strip()\n",
    "valor_placeholder_P1 = valor_placeholder_P1.strip()\n",
    "valor_placeholder_P2 = valor_placeholder_P2.strip()\n",
    "valor_placeholder_P3 = valor_placeholder_P3.strip()\n",
    "valor_placeholder_P4 = valor_placeholder_P4.strip()\n",
    "valor_placeholder_P5 = valor_placeholder_P5.strip()\n",
    "valor_placeholder_P6 = valor_placeholder_P6.strip()\n",
    "valor_placeholder_distribuidora = valor_placeholder_distribuidora.strip()\n",
    "valor_placeholder_cambio_comercial = valor_placeholder_cambio_comercial.strip()\n",
    "valor_placeholder_ultimo_cambio_BIE = valor_placeholder_ultimo_cambio_BIE.strip()\n",
    "valor_placeholder_tension = valor_placeholder_tension.strip()\n",
    "valor_placeholder_distribuidora_Contrato = valor_placeholder_distribuidora_Contrato.strip()"
   ]
  },
  {
   "cell_type": "code",
   "execution_count": 181,
   "metadata": {},
   "outputs": [
    {
     "name": "stdout",
     "output_type": "stream",
     "text": [
      "Valor 'placeholder_CUPS': ES0031104629924014ZJ\n",
      "Valor 'placeholder_municipio': Jerez de la Frontera\n",
      "Valor 'placeholder_Provincia': Cádiz\n",
      "Valor 'placeholder_postal': 11408\n",
      "Valor 'placeholder_tarifa': 2.0TD\n",
      "Valor 'placeholder_consumo_anual': 3.613 KWh\n",
      "Valor 'placeholder_consumo_anual_P1': 834 KWh\n",
      "Valor 'placeholder_consumo_anual_P2': 955 KWh\n",
      "Valor 'placeholder_consumo_anual_P3': 1824 KWh\n",
      "Valor 'placeholder_consumo_anual_P4': 0 KWh\n",
      "Valor 'placeholder_consumo_anual_P5': 0 KWh\n",
      "Valor 'placeholder_consumo_anual_P6': 0 KWh\n",
      "Valor 'placeholder_P1': 3,45\n",
      "Valor 'placeholder_P2': 3,45\n",
      "Valor 'placeholder_P3': \n",
      "Valor 'placeholder_P4': \n",
      "Valor 'placeholder_P5': \n",
      "Valor 'placeholder_P6': \n",
      "Valor 'placeholder_distribuidora': ENDESA DISTRIBUCION ELECTRICA, S.L.\n",
      "Valor 'placeholder_cambio_comercial': 19/08/2023\n",
      "Valor 'placeholder_ultimo_cambio_BIE': 25/10/2006\n",
      "Valor 'placeholder_tension': 1X230\n",
      "Valor 'placeholder_distribuidora_Contrato': 31/05/2021\n"
     ]
    }
   ],
   "source": [
    "print(\"Valor 'placeholder_CUPS':\", valor_placeholder_CUPS)\n",
    "print(\"Valor 'placeholder_municipio':\", valor_placeholder_municipio)\n",
    "print(\"Valor 'placeholder_Provincia':\", valor_placeholder_Provincia)\n",
    "print(\"Valor 'placeholder_postal':\", valor_placeholder_postal)\n",
    "print(\"Valor 'placeholder_tarifa':\", valor_placeholder_tarifa)\n",
    "print(\"Valor 'placeholder_consumo_anual':\", valor_placeholder_consumo_anual)\n",
    "print(\"Valor 'placeholder_consumo_anual_P1':\", valor_placeholder_consumo_anual_P1)\n",
    "print(\"Valor 'placeholder_consumo_anual_P2':\", valor_placeholder_consumo_anual_P2)\n",
    "print(\"Valor 'placeholder_consumo_anual_P3':\", valor_placeholder_consumo_anual_P3)\n",
    "print(\"Valor 'placeholder_consumo_anual_P4':\", valor_placeholder_consumo_anual_P4)\n",
    "print(\"Valor 'placeholder_consumo_anual_P5':\", valor_placeholder_consumo_anual_P5)\n",
    "print(\"Valor 'placeholder_consumo_anual_P6':\", valor_placeholder_consumo_anual_P6)\n",
    "print(\"Valor 'placeholder_P1':\", valor_placeholder_P1)\n",
    "print(\"Valor 'placeholder_P2':\", valor_placeholder_P2)\n",
    "print(\"Valor 'placeholder_P3':\", valor_placeholder_P3)\n",
    "print(\"Valor 'placeholder_P4':\", valor_placeholder_P4)\n",
    "print(\"Valor 'placeholder_P5':\", valor_placeholder_P5)\n",
    "print(\"Valor 'placeholder_P6':\", valor_placeholder_P6)\n",
    "print(\"Valor 'placeholder_distribuidora':\", valor_placeholder_distribuidora)\n",
    "print(\"Valor 'placeholder_cambio_comercial':\", valor_placeholder_cambio_comercial)\n",
    "print(\"Valor 'placeholder_ultimo_cambio_BIE':\", valor_placeholder_ultimo_cambio_BIE)\n",
    "print(\"Valor 'placeholder_tension':\", valor_placeholder_tension)\n",
    "print(\"Valor 'placeholder_distribuidora_Contrato':\", valor_placeholder_distribuidora_Contrato)"
   ]
  },
  {
   "cell_type": "code",
   "execution_count": 182,
   "metadata": {},
   "outputs": [],
   "source": [
    "dicc = {placeholder_CUPS:valor_placeholder_CUPS, \n",
    "        placeholder_municipio:valor_placeholder_municipio,\n",
    "        placeholder_Provincia:valor_placeholder_Provincia,\n",
    "        placeholder_postal:valor_placeholder_postal,\n",
    "        placeholder_tarifa:valor_placeholder_tarifa,\n",
    "        placeholder_consumo_anual:valor_placeholder_consumo_anual,\n",
    "        placeholder_consumo_anual_P1:valor_placeholder_consumo_anual_P1,\n",
    "        placeholder_consumo_anual_P2:valor_placeholder_consumo_anual_P2,\n",
    "        placeholder_consumo_anual_P3:valor_placeholder_consumo_anual_P3,\n",
    "        placeholder_consumo_anual_P4:valor_placeholder_consumo_anual_P4,\n",
    "        placeholder_consumo_anual_P5:valor_placeholder_consumo_anual_P5,\n",
    "        placeholder_consumo_anual_P6:valor_placeholder_consumo_anual_P6,\n",
    "        placeholder_P1:valor_placeholder_P1,\n",
    "        placeholder_P2:valor_placeholder_P2,\n",
    "        placeholder_P3:valor_placeholder_P3,\n",
    "        placeholder_P4:valor_placeholder_P4,\n",
    "        placeholder_P5:valor_placeholder_P5,\n",
    "        placeholder_P6:valor_placeholder_P6,\n",
    "        placeholder_distribuidora:valor_placeholder_distribuidora,\n",
    "        placeholder_cambio_comercial:valor_placeholder_cambio_comercial,\n",
    "        placeholder_ultimo_cambio_BIE:valor_placeholder_ultimo_cambio_BIE,\n",
    "        valor_placeholder_tension:placeholder_tension,\n",
    "        placeholder_distribuidora_Contrato:valor_placeholder_distribuidora_Contrato}"
   ]
  },
  {
   "cell_type": "code",
   "execution_count": 183,
   "metadata": {},
   "outputs": [],
   "source": [
    "placeholder_CUPS = placeholder_CUPS.strip()\n",
    "placeholder_municipio = placeholder_municipio.strip()\n",
    "placeholder_Provincia = placeholder_Provincia.strip()\n",
    "placeholder_postal = placeholder_postal.strip()\n",
    "placeholder_tarifa = placeholder_tarifa.strip()\n",
    "placeholder_consumo_anual = placeholder_consumo_anual.strip()\n",
    "placeholder_consumo_anual_P1 = placeholder_consumo_anual_P1.strip()\n",
    "placeholder_consumo_anual_P2 = placeholder_consumo_anual_P2.strip()\n",
    "placeholder_consumo_anual_P3 = placeholder_consumo_anual_P3.strip()\n",
    "placeholder_consumo_anual_P4 = placeholder_consumo_anual_P4.strip()\n",
    "placeholder_consumo_anual_P5 = placeholder_consumo_anual_P5.strip()\n",
    "placeholder_consumo_anual_P6 = placeholder_consumo_anual_P6.strip()\n",
    "placeholder_P1 = placeholder_P1.strip()\n",
    "placeholder_P2 = placeholder_P2.strip()\n",
    "placeholder_P3 = placeholder_P3.strip()\n",
    "placeholder_P4 = placeholder_P4.strip()\n",
    "placeholder_P5 = placeholder_P5.strip()\n",
    "placeholder_P6 = placeholder_P6.strip()\n",
    "placeholder_distribuidora = placeholder_distribuidora.strip()\n",
    "placeholder_cambio_comercial = placeholder_cambio_comercial.strip()\n",
    "placeholder_ultimo_cambio_BIE = placeholder_ultimo_cambio_BIE.strip()\n",
    "placeholder_tension = placeholder_tension.strip()\n",
    "placeholder_distribuidora_Contrato = placeholder_distribuidora_Contrato.strip()"
   ]
  },
  {
   "cell_type": "code",
   "execution_count": 184,
   "metadata": {},
   "outputs": [
    {
     "data": {
      "text/plain": [
       "{'CUPS': 'ES0031104629924014ZJ',\n",
       " 'Municipio': 'Jerez de la Frontera',\n",
       " 'Provincia': 'Cádiz',\n",
       " 'Código Postal': '11408',\n",
       " 'Tarifa': '2.0TD',\n",
       " 'Consumo anual': '3.613 KWh',\n",
       " 'Consumo anual P1': '834 KWh',\n",
       " 'Consumo anual P2': '955 KWh',\n",
       " 'Consumo anual P3': '1824 KWh',\n",
       " 'Consumo anual P4': '0 KWh',\n",
       " 'Consumo anual P5': '0 KWh',\n",
       " 'Consumo anual P6': '0 KWh',\n",
       " 'P1': '3,45',\n",
       " 'P2': '3,45',\n",
       " 'P3': '',\n",
       " 'P4': '',\n",
       " 'P5': '',\n",
       " 'P6': '',\n",
       " 'Distribuidora': 'ENDESA DISTRIBUCION ELECTRICA, S.L.',\n",
       " 'Cambio Comercializadora': '19/08/2023',\n",
       " 'Cambio BIE': '25/10/2006',\n",
       " '1X230': 'Tensión',\n",
       " 'Cambio Contrato': '31/05/2021'}"
      ]
     },
     "execution_count": 184,
     "metadata": {},
     "output_type": "execute_result"
    }
   ],
   "source": [
    "dicc"
   ]
  },
  {
   "cell_type": "code",
   "execution_count": 192,
   "metadata": {},
   "outputs": [],
   "source": [
    "df = pd.DataFrame([dicc])"
   ]
  },
  {
   "cell_type": "code",
   "execution_count": 195,
   "metadata": {},
   "outputs": [],
   "source": [
    "df[\"P1\"] = df[\"P1\"].str.replace(\",\",\".\")\n",
    "df[\"P2\"] = df[\"P2\"].str.replace(\",\",\".\")"
   ]
  },
  {
   "cell_type": "code",
   "execution_count": 196,
   "metadata": {},
   "outputs": [
    {
     "name": "stdout",
     "output_type": "stream",
     "text": [
      "<class 'pandas.core.frame.DataFrame'>\n",
      "RangeIndex: 1 entries, 0 to 0\n",
      "Data columns (total 23 columns):\n",
      " #   Column                   Non-Null Count  Dtype \n",
      "---  ------                   --------------  ----- \n",
      " 0   CUPS                     1 non-null      object\n",
      " 1   Municipio                1 non-null      object\n",
      " 2   Provincia                1 non-null      object\n",
      " 3   Código Postal            1 non-null      object\n",
      " 4   Tarifa                   1 non-null      object\n",
      " 5   Consumo anual            1 non-null      object\n",
      " 6   Consumo anual P1         1 non-null      object\n",
      " 7   Consumo anual P2         1 non-null      object\n",
      " 8   Consumo anual P3         1 non-null      object\n",
      " 9   Consumo anual P4         1 non-null      object\n",
      " 10  Consumo anual P5         1 non-null      object\n",
      " 11  Consumo anual P6         1 non-null      object\n",
      " 12  P1                       1 non-null      object\n",
      " 13  P2                       1 non-null      object\n",
      " 14  P3                       1 non-null      object\n",
      " 15  P4                       1 non-null      object\n",
      " 16  P5                       1 non-null      object\n",
      " 17  P6                       1 non-null      object\n",
      " 18  Distribuidora            1 non-null      object\n",
      " 19  Cambio Comercializadora  1 non-null      object\n",
      " 20  Cambio BIE               1 non-null      object\n",
      " 21  1X230                    1 non-null      object\n",
      " 22  Cambio Contrato          1 non-null      object\n",
      "dtypes: object(23)\n",
      "memory usage: 316.0+ bytes\n"
     ]
    }
   ],
   "source": [
    "df.info()"
   ]
  },
  {
   "cell_type": "code",
   "execution_count": 197,
   "metadata": {},
   "outputs": [],
   "source": [
    "columnas_numericas = [\"Código Postal\", \"P1\", \"P2\"]\n",
    "df[columnas_numericas] = df[columnas_numericas].apply(pd.to_numeric, errors='coerce')"
   ]
  },
  {
   "cell_type": "code",
   "execution_count": 198,
   "metadata": {},
   "outputs": [
    {
     "data": {
      "text/html": [
       "<div>\n",
       "<style scoped>\n",
       "    .dataframe tbody tr th:only-of-type {\n",
       "        vertical-align: middle;\n",
       "    }\n",
       "\n",
       "    .dataframe tbody tr th {\n",
       "        vertical-align: top;\n",
       "    }\n",
       "\n",
       "    .dataframe thead th {\n",
       "        text-align: right;\n",
       "    }\n",
       "</style>\n",
       "<table border=\"1\" class=\"dataframe\">\n",
       "  <thead>\n",
       "    <tr style=\"text-align: right;\">\n",
       "      <th></th>\n",
       "      <th>CUPS</th>\n",
       "      <th>Municipio</th>\n",
       "      <th>Provincia</th>\n",
       "      <th>Código Postal</th>\n",
       "      <th>Tarifa</th>\n",
       "      <th>Consumo anual</th>\n",
       "      <th>Consumo anual P1</th>\n",
       "      <th>Consumo anual P2</th>\n",
       "      <th>Consumo anual P3</th>\n",
       "      <th>Consumo anual P4</th>\n",
       "      <th>...</th>\n",
       "      <th>P2</th>\n",
       "      <th>P3</th>\n",
       "      <th>P4</th>\n",
       "      <th>P5</th>\n",
       "      <th>P6</th>\n",
       "      <th>Distribuidora</th>\n",
       "      <th>Cambio Comercializadora</th>\n",
       "      <th>Cambio BIE</th>\n",
       "      <th>1X230</th>\n",
       "      <th>Cambio Contrato</th>\n",
       "    </tr>\n",
       "  </thead>\n",
       "  <tbody>\n",
       "    <tr>\n",
       "      <th>0</th>\n",
       "      <td>ES0031104629924014ZJ</td>\n",
       "      <td>Jerez de la Frontera</td>\n",
       "      <td>Cádiz</td>\n",
       "      <td>11408</td>\n",
       "      <td>2.0TD</td>\n",
       "      <td>3.613 KWh</td>\n",
       "      <td>834 KWh</td>\n",
       "      <td>955 KWh</td>\n",
       "      <td>1824 KWh</td>\n",
       "      <td>0 KWh</td>\n",
       "      <td>...</td>\n",
       "      <td>3.45</td>\n",
       "      <td></td>\n",
       "      <td></td>\n",
       "      <td></td>\n",
       "      <td></td>\n",
       "      <td>ENDESA DISTRIBUCION ELECTRICA, S.L.</td>\n",
       "      <td>19/08/2023</td>\n",
       "      <td>25/10/2006</td>\n",
       "      <td>Tensión</td>\n",
       "      <td>31/05/2021</td>\n",
       "    </tr>\n",
       "  </tbody>\n",
       "</table>\n",
       "<p>1 rows × 23 columns</p>\n",
       "</div>"
      ],
      "text/plain": [
       "                   CUPS             Municipio Provincia  Código Postal Tarifa  \\\n",
       "0  ES0031104629924014ZJ  Jerez de la Frontera     Cádiz          11408  2.0TD   \n",
       "\n",
       "  Consumo anual Consumo anual P1 Consumo anual P2 Consumo anual P3  \\\n",
       "0     3.613 KWh          834 KWh          955 KWh         1824 KWh   \n",
       "\n",
       "  Consumo anual P4  ...    P2 P3  P4  P5 P6  \\\n",
       "0            0 KWh  ...  3.45                 \n",
       "\n",
       "                         Distribuidora Cambio Comercializadora  Cambio BIE  \\\n",
       "0  ENDESA DISTRIBUCION ELECTRICA, S.L.              19/08/2023  25/10/2006   \n",
       "\n",
       "     1X230 Cambio Contrato  \n",
       "0  Tensión      31/05/2021  \n",
       "\n",
       "[1 rows x 23 columns]"
      ]
     },
     "execution_count": 198,
     "metadata": {},
     "output_type": "execute_result"
    }
   ],
   "source": [
    "df"
   ]
  },
  {
   "cell_type": "code",
   "execution_count": 199,
   "metadata": {},
   "outputs": [
    {
     "name": "stderr",
     "output_type": "stream",
     "text": [
      "C:\\Users\\adria\\AppData\\Local\\Temp\\ipykernel_8516\\2341865824.py:4: UserWarning: Parsing dates in %d/%m/%Y format when dayfirst=False (the default) was specified. Pass `dayfirst=True` or specify a format to silence this warning.\n",
      "  df[columnas_fecha] = df[columnas_fecha].apply(pd.to_datetime, errors='coerce')\n",
      "C:\\Users\\adria\\AppData\\Local\\Temp\\ipykernel_8516\\2341865824.py:4: UserWarning: Parsing dates in %d/%m/%Y format when dayfirst=False (the default) was specified. Pass `dayfirst=True` or specify a format to silence this warning.\n",
      "  df[columnas_fecha] = df[columnas_fecha].apply(pd.to_datetime, errors='coerce')\n",
      "C:\\Users\\adria\\AppData\\Local\\Temp\\ipykernel_8516\\2341865824.py:4: UserWarning: Parsing dates in %d/%m/%Y format when dayfirst=False (the default) was specified. Pass `dayfirst=True` or specify a format to silence this warning.\n",
      "  df[columnas_fecha] = df[columnas_fecha].apply(pd.to_datetime, errors='coerce')\n"
     ]
    }
   ],
   "source": [
    "columnas_fecha = [\"Cambio Comercializadora\", \"Cambio BIE\", \"Cambio Contrato\"]\n",
    "\n",
    "# Aplicar la conversión a formato de fecha a las columnas seleccionadas\n",
    "df[columnas_fecha] = df[columnas_fecha].apply(pd.to_datetime, errors='coerce')\n"
   ]
  },
  {
   "cell_type": "code",
   "execution_count": 200,
   "metadata": {},
   "outputs": [
    {
     "data": {
      "text/html": [
       "<div>\n",
       "<style scoped>\n",
       "    .dataframe tbody tr th:only-of-type {\n",
       "        vertical-align: middle;\n",
       "    }\n",
       "\n",
       "    .dataframe tbody tr th {\n",
       "        vertical-align: top;\n",
       "    }\n",
       "\n",
       "    .dataframe thead th {\n",
       "        text-align: right;\n",
       "    }\n",
       "</style>\n",
       "<table border=\"1\" class=\"dataframe\">\n",
       "  <thead>\n",
       "    <tr style=\"text-align: right;\">\n",
       "      <th></th>\n",
       "      <th>CUPS</th>\n",
       "      <th>Municipio</th>\n",
       "      <th>Provincia</th>\n",
       "      <th>Código Postal</th>\n",
       "      <th>Tarifa</th>\n",
       "      <th>Consumo anual</th>\n",
       "      <th>Consumo anual P1</th>\n",
       "      <th>Consumo anual P2</th>\n",
       "      <th>Consumo anual P3</th>\n",
       "      <th>Consumo anual P4</th>\n",
       "      <th>...</th>\n",
       "      <th>P2</th>\n",
       "      <th>P3</th>\n",
       "      <th>P4</th>\n",
       "      <th>P5</th>\n",
       "      <th>P6</th>\n",
       "      <th>Distribuidora</th>\n",
       "      <th>Cambio Comercializadora</th>\n",
       "      <th>Cambio BIE</th>\n",
       "      <th>1X230</th>\n",
       "      <th>Cambio Contrato</th>\n",
       "    </tr>\n",
       "  </thead>\n",
       "  <tbody>\n",
       "    <tr>\n",
       "      <th>0</th>\n",
       "      <td>ES0031104629924014ZJ</td>\n",
       "      <td>Jerez de la Frontera</td>\n",
       "      <td>Cádiz</td>\n",
       "      <td>11408</td>\n",
       "      <td>2.0TD</td>\n",
       "      <td>3.613 KWh</td>\n",
       "      <td>834 KWh</td>\n",
       "      <td>955 KWh</td>\n",
       "      <td>1824 KWh</td>\n",
       "      <td>0 KWh</td>\n",
       "      <td>...</td>\n",
       "      <td>3.45</td>\n",
       "      <td></td>\n",
       "      <td></td>\n",
       "      <td></td>\n",
       "      <td></td>\n",
       "      <td>ENDESA DISTRIBUCION ELECTRICA, S.L.</td>\n",
       "      <td>2023-08-19</td>\n",
       "      <td>2006-10-25</td>\n",
       "      <td>Tensión</td>\n",
       "      <td>2021-05-31</td>\n",
       "    </tr>\n",
       "  </tbody>\n",
       "</table>\n",
       "<p>1 rows × 23 columns</p>\n",
       "</div>"
      ],
      "text/plain": [
       "                   CUPS             Municipio Provincia  Código Postal Tarifa  \\\n",
       "0  ES0031104629924014ZJ  Jerez de la Frontera     Cádiz          11408  2.0TD   \n",
       "\n",
       "  Consumo anual Consumo anual P1 Consumo anual P2 Consumo anual P3  \\\n",
       "0     3.613 KWh          834 KWh          955 KWh         1824 KWh   \n",
       "\n",
       "  Consumo anual P4  ...    P2 P3  P4  P5 P6  \\\n",
       "0            0 KWh  ...  3.45                 \n",
       "\n",
       "                         Distribuidora Cambio Comercializadora Cambio BIE  \\\n",
       "0  ENDESA DISTRIBUCION ELECTRICA, S.L.              2023-08-19 2006-10-25   \n",
       "\n",
       "     1X230 Cambio Contrato  \n",
       "0  Tensión      2021-05-31  \n",
       "\n",
       "[1 rows x 23 columns]"
      ]
     },
     "execution_count": 200,
     "metadata": {},
     "output_type": "execute_result"
    }
   ],
   "source": [
    "df"
   ]
  }
 ],
 "metadata": {
  "kernelspec": {
   "display_name": "Python 3",
   "language": "python",
   "name": "python3"
  },
  "language_info": {
   "codemirror_mode": {
    "name": "ipython",
    "version": 3
   },
   "file_extension": ".py",
   "mimetype": "text/x-python",
   "name": "python",
   "nbconvert_exporter": "python",
   "pygments_lexer": "ipython3",
   "version": "3.11.3"
  }
 },
 "nbformat": 4,
 "nbformat_minor": 2
}
