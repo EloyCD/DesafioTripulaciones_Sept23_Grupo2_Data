{
 "cells": [
  {
   "cell_type": "code",
   "execution_count": 1,
   "metadata": {},
   "outputs": [],
   "source": [
    "import pandas as pd\n",
    "import matplotlib.pyplot as plt\n",
    "import seaborn as sns"
   ]
  },
  {
   "cell_type": "code",
   "execution_count": 2,
   "metadata": {},
   "outputs": [],
   "source": [
    "url1 = './data/processed/fixed_price.csv'\n",
    "url2 = './data/processed/indexed_updated_DM.csv'\n",
    "url3 = './data/processed/indexed_price_power.csv'"
   ]
  },
  {
   "cell_type": "code",
   "execution_count": 3,
   "metadata": {},
   "outputs": [],
   "source": [
    "df_fixed = pd.read_csv(url1)\n",
    "df_indexed_price = pd.read_csv(url2)\n",
    "df_indexed_price_power = pd.read_csv(url3)"
   ]
  },
  {
   "cell_type": "code",
   "execution_count": 4,
   "metadata": {},
   "outputs": [
    {
     "name": "stdout",
     "output_type": "stream",
     "text": [
      "<class 'pandas.core.frame.DataFrame'>\n",
      "RangeIndex: 907 entries, 0 to 906\n",
      "Data columns (total 18 columns):\n",
      " #   Column        Non-Null Count  Dtype  \n",
      "---  ------        --------------  -----  \n",
      " 0   SISTEMA       907 non-null    object \n",
      " 1   CIA           907 non-null    object \n",
      " 2   PRODUCTO      907 non-null    object \n",
      " 3   PRODUCTO_CIA  907 non-null    object \n",
      " 4   TARIFA        907 non-null    object \n",
      " 5   FEE           907 non-null    object \n",
      " 6   P1_P          907 non-null    float64\n",
      " 7   P2_P          907 non-null    float64\n",
      " 8   P3_P          907 non-null    float64\n",
      " 9   P4_P          907 non-null    float64\n",
      " 10  P5_P          907 non-null    float64\n",
      " 11  P6_P          907 non-null    float64\n",
      " 12  P1_E          907 non-null    object \n",
      " 13  P2_E          907 non-null    object \n",
      " 14  P3_E          907 non-null    object \n",
      " 15  P4_E          907 non-null    object \n",
      " 16  P5_E          907 non-null    object \n",
      " 17  P6_E          907 non-null    object \n",
      "dtypes: float64(6), object(12)\n",
      "memory usage: 127.7+ KB\n"
     ]
    }
   ],
   "source": [
    "df_fixed.info()"
   ]
  },
  {
   "cell_type": "code",
   "execution_count": 5,
   "metadata": {},
   "outputs": [
    {
     "name": "stdout",
     "output_type": "stream",
     "text": [
      "<class 'pandas.core.frame.DataFrame'>\n",
      "RangeIndex: 11206 entries, 0 to 11205\n",
      "Data columns (total 11 columns):\n",
      " #   Column   Non-Null Count  Dtype  \n",
      "---  ------   --------------  -----  \n",
      " 0   SISTEMA  11206 non-null  object \n",
      " 1   TARIFA   11206 non-null  object \n",
      " 2   CIA      11206 non-null  object \n",
      " 3   MES      11206 non-null  object \n",
      " 4   FEE      11206 non-null  object \n",
      " 5   P1.      11206 non-null  float64\n",
      " 6   P2.      11206 non-null  float64\n",
      " 7   P3.      11206 non-null  float64\n",
      " 8   P4.      11206 non-null  float64\n",
      " 9   P5       11206 non-null  float64\n",
      " 10  P6.      11206 non-null  float64\n",
      "dtypes: float64(6), object(5)\n",
      "memory usage: 963.1+ KB\n"
     ]
    }
   ],
   "source": [
    "df_indexed_price.info()"
   ]
  },
  {
   "cell_type": "code",
   "execution_count": 6,
   "metadata": {},
   "outputs": [
    {
     "name": "stdout",
     "output_type": "stream",
     "text": [
      "<class 'pandas.core.frame.DataFrame'>\n",
      "RangeIndex: 379 entries, 0 to 378\n",
      "Data columns (total 11 columns):\n",
      " #   Column        Non-Null Count  Dtype  \n",
      "---  ------        --------------  -----  \n",
      " 0   SISTEMA       379 non-null    object \n",
      " 1   CIA           379 non-null    object \n",
      " 2   PRODUCTO      379 non-null    object \n",
      " 3   PRODUCTO_CIA  379 non-null    object \n",
      " 4   TARIFA        379 non-null    object \n",
      " 5   P1            379 non-null    float64\n",
      " 6   P2            379 non-null    float64\n",
      " 7   P3            379 non-null    float64\n",
      " 8   P4            379 non-null    float64\n",
      " 9   P5            379 non-null    float64\n",
      " 10  P6            379 non-null    float64\n",
      "dtypes: float64(6), object(5)\n",
      "memory usage: 32.7+ KB\n"
     ]
    }
   ],
   "source": [
    "df_indexed_price_power.info()"
   ]
  },
  {
   "cell_type": "code",
   "execution_count": 7,
   "metadata": {},
   "outputs": [
    {
     "data": {
      "text/html": [
       "<div>\n",
       "<style scoped>\n",
       "    .dataframe tbody tr th:only-of-type {\n",
       "        vertical-align: middle;\n",
       "    }\n",
       "\n",
       "    .dataframe tbody tr th {\n",
       "        vertical-align: top;\n",
       "    }\n",
       "\n",
       "    .dataframe thead th {\n",
       "        text-align: right;\n",
       "    }\n",
       "</style>\n",
       "<table border=\"1\" class=\"dataframe\">\n",
       "  <thead>\n",
       "    <tr style=\"text-align: right;\">\n",
       "      <th></th>\n",
       "      <th>SISTEMA</th>\n",
       "      <th>CIA</th>\n",
       "      <th>PRODUCTO</th>\n",
       "      <th>PRODUCTO_CIA</th>\n",
       "      <th>TARIFA</th>\n",
       "      <th>FEE</th>\n",
       "      <th>P1_P</th>\n",
       "      <th>P2_P</th>\n",
       "      <th>P3_P</th>\n",
       "      <th>P4_P</th>\n",
       "      <th>P5_P</th>\n",
       "      <th>P6_P</th>\n",
       "      <th>P1_E</th>\n",
       "      <th>P2_E</th>\n",
       "      <th>P3_E</th>\n",
       "      <th>P4_E</th>\n",
       "      <th>P5_E</th>\n",
       "      <th>P6_E</th>\n",
       "    </tr>\n",
       "  </thead>\n",
       "  <tbody>\n",
       "    <tr>\n",
       "      <th>0</th>\n",
       "      <td>PENINSULA</td>\n",
       "      <td>ACCIONA</td>\n",
       "      <td>FIJO</td>\n",
       "      <td>CIERZO</td>\n",
       "      <td>2.0TD</td>\n",
       "      <td>-</td>\n",
       "      <td>0.088121</td>\n",
       "      <td>0.019570</td>\n",
       "      <td>0.000000</td>\n",
       "      <td>0.000000</td>\n",
       "      <td>0.000000</td>\n",
       "      <td>0.000000</td>\n",
       "      <td>0.355703</td>\n",
       "      <td>0.304626</td>\n",
       "      <td>0.265992</td>\n",
       "      <td>0</td>\n",
       "      <td>0</td>\n",
       "      <td>0</td>\n",
       "    </tr>\n",
       "    <tr>\n",
       "      <th>1</th>\n",
       "      <td>PENINSULA</td>\n",
       "      <td>ACCIONA</td>\n",
       "      <td>FIJO</td>\n",
       "      <td>LEVANTE</td>\n",
       "      <td>2.0TD</td>\n",
       "      <td>-</td>\n",
       "      <td>0.071682</td>\n",
       "      <td>0.003132</td>\n",
       "      <td>0.000000</td>\n",
       "      <td>0.000000</td>\n",
       "      <td>0.000000</td>\n",
       "      <td>0.000000</td>\n",
       "      <td>0.366868</td>\n",
       "      <td>0.315791</td>\n",
       "      <td>0.277157</td>\n",
       "      <td>0</td>\n",
       "      <td>0</td>\n",
       "      <td>0</td>\n",
       "    </tr>\n",
       "    <tr>\n",
       "      <th>2</th>\n",
       "      <td>PENINSULA</td>\n",
       "      <td>ACCIONA</td>\n",
       "      <td>FIJO</td>\n",
       "      <td>LEVANTE+</td>\n",
       "      <td>2.0TD</td>\n",
       "      <td>-</td>\n",
       "      <td>0.082641</td>\n",
       "      <td>0.014091</td>\n",
       "      <td>0.000000</td>\n",
       "      <td>0.000000</td>\n",
       "      <td>0.000000</td>\n",
       "      <td>0.000000</td>\n",
       "      <td>0.366868</td>\n",
       "      <td>0.315791</td>\n",
       "      <td>0.277157</td>\n",
       "      <td>0</td>\n",
       "      <td>0</td>\n",
       "      <td>0</td>\n",
       "    </tr>\n",
       "    <tr>\n",
       "      <th>3</th>\n",
       "      <td>PENINSULA</td>\n",
       "      <td>ACCIONA</td>\n",
       "      <td>FIJO</td>\n",
       "      <td>PONIENTE</td>\n",
       "      <td>2.0TD</td>\n",
       "      <td>-</td>\n",
       "      <td>0.071682</td>\n",
       "      <td>0.003132</td>\n",
       "      <td>0.000000</td>\n",
       "      <td>0.000000</td>\n",
       "      <td>0.000000</td>\n",
       "      <td>0.000000</td>\n",
       "      <td>0.360778</td>\n",
       "      <td>0.309701</td>\n",
       "      <td>0.271067</td>\n",
       "      <td>0</td>\n",
       "      <td>0</td>\n",
       "      <td>0</td>\n",
       "    </tr>\n",
       "    <tr>\n",
       "      <th>4</th>\n",
       "      <td>PENINSULA</td>\n",
       "      <td>ACCIONA</td>\n",
       "      <td>FIJO</td>\n",
       "      <td>PONIENTE+</td>\n",
       "      <td>2.0TD</td>\n",
       "      <td>-</td>\n",
       "      <td>0.077162</td>\n",
       "      <td>0.008611</td>\n",
       "      <td>0.000000</td>\n",
       "      <td>0.000000</td>\n",
       "      <td>0.000000</td>\n",
       "      <td>0.000000</td>\n",
       "      <td>0.360778</td>\n",
       "      <td>0.309701</td>\n",
       "      <td>0.271067</td>\n",
       "      <td>0</td>\n",
       "      <td>0</td>\n",
       "      <td>0</td>\n",
       "    </tr>\n",
       "    <tr>\n",
       "      <th>...</th>\n",
       "      <td>...</td>\n",
       "      <td>...</td>\n",
       "      <td>...</td>\n",
       "      <td>...</td>\n",
       "      <td>...</td>\n",
       "      <td>...</td>\n",
       "      <td>...</td>\n",
       "      <td>...</td>\n",
       "      <td>...</td>\n",
       "      <td>...</td>\n",
       "      <td>...</td>\n",
       "      <td>...</td>\n",
       "      <td>...</td>\n",
       "      <td>...</td>\n",
       "      <td>...</td>\n",
       "      <td>...</td>\n",
       "      <td>...</td>\n",
       "      <td>...</td>\n",
       "    </tr>\n",
       "    <tr>\n",
       "      <th>902</th>\n",
       "      <td>PENINSULA</td>\n",
       "      <td>ADI</td>\n",
       "      <td>FIJO</td>\n",
       "      <td>ECO ADI</td>\n",
       "      <td>6.1TD</td>\n",
       "      <td>-</td>\n",
       "      <td>0.071138</td>\n",
       "      <td>0.062579</td>\n",
       "      <td>0.036514</td>\n",
       "      <td>0.031673</td>\n",
       "      <td>0.013448</td>\n",
       "      <td>0.011367</td>\n",
       "      <td>0.223107</td>\n",
       "      <td>0.205496</td>\n",
       "      <td>0.185999</td>\n",
       "      <td>0.169934</td>\n",
       "      <td>0.167387</td>\n",
       "      <td>0.166234</td>\n",
       "    </tr>\n",
       "    <tr>\n",
       "      <th>903</th>\n",
       "      <td>PENINSULA</td>\n",
       "      <td>ADI</td>\n",
       "      <td>FIJO</td>\n",
       "      <td>RESIDENCIAL ESPECIAL</td>\n",
       "      <td>2.0TD</td>\n",
       "      <td>-</td>\n",
       "      <td>0.135186</td>\n",
       "      <td>0.135186</td>\n",
       "      <td>0.000000</td>\n",
       "      <td>0.000000</td>\n",
       "      <td>0.000000</td>\n",
       "      <td>0.000000</td>\n",
       "      <td>0.165071</td>\n",
       "      <td>0.165071</td>\n",
       "      <td>0.165071</td>\n",
       "      <td>0</td>\n",
       "      <td>0</td>\n",
       "      <td>0</td>\n",
       "    </tr>\n",
       "    <tr>\n",
       "      <th>904</th>\n",
       "      <td>PENINSULA</td>\n",
       "      <td>ADI</td>\n",
       "      <td>FIJO</td>\n",
       "      <td>ADI SENCILLA</td>\n",
       "      <td>2.0TD</td>\n",
       "      <td>-</td>\n",
       "      <td>0.075022</td>\n",
       "      <td>0.028336</td>\n",
       "      <td>0.000000</td>\n",
       "      <td>0.000000</td>\n",
       "      <td>0.000000</td>\n",
       "      <td>0.000000</td>\n",
       "      <td>0.253546</td>\n",
       "      <td>0.202874</td>\n",
       "      <td>0.17825</td>\n",
       "      <td>0</td>\n",
       "      <td>0</td>\n",
       "      <td>0</td>\n",
       "    </tr>\n",
       "    <tr>\n",
       "      <th>905</th>\n",
       "      <td>PENINSULA</td>\n",
       "      <td>ADI</td>\n",
       "      <td>FIJO</td>\n",
       "      <td>ADI SENCILLA</td>\n",
       "      <td>3.0TD</td>\n",
       "      <td>-</td>\n",
       "      <td>0.038308</td>\n",
       "      <td>0.032600</td>\n",
       "      <td>0.010965</td>\n",
       "      <td>0.010011</td>\n",
       "      <td>0.007487</td>\n",
       "      <td>0.005483</td>\n",
       "      <td>0.239604</td>\n",
       "      <td>0.218459</td>\n",
       "      <td>0.19183</td>\n",
       "      <td>0.171813</td>\n",
       "      <td>0.168778</td>\n",
       "      <td>0.167685</td>\n",
       "    </tr>\n",
       "    <tr>\n",
       "      <th>906</th>\n",
       "      <td>PENINSULA</td>\n",
       "      <td>ADI</td>\n",
       "      <td>FIJO</td>\n",
       "      <td>ADI SENCILLA</td>\n",
       "      <td>6.1TD</td>\n",
       "      <td>-</td>\n",
       "      <td>0.062918</td>\n",
       "      <td>0.054359</td>\n",
       "      <td>0.028295</td>\n",
       "      <td>0.023454</td>\n",
       "      <td>0.005229</td>\n",
       "      <td>0.003148</td>\n",
       "      <td>0.210616</td>\n",
       "      <td>0.19298</td>\n",
       "      <td>0.173552</td>\n",
       "      <td>0.157523</td>\n",
       "      <td>0.154953</td>\n",
       "      <td>0.153746</td>\n",
       "    </tr>\n",
       "  </tbody>\n",
       "</table>\n",
       "<p>907 rows × 18 columns</p>\n",
       "</div>"
      ],
      "text/plain": [
       "       SISTEMA      CIA PRODUCTO          PRODUCTO_CIA TARIFA FEE      P1_P  \\\n",
       "0    PENINSULA  ACCIONA     FIJO                CIERZO  2.0TD   -  0.088121   \n",
       "1    PENINSULA  ACCIONA     FIJO               LEVANTE  2.0TD   -  0.071682   \n",
       "2    PENINSULA  ACCIONA     FIJO              LEVANTE+  2.0TD   -  0.082641   \n",
       "3    PENINSULA  ACCIONA     FIJO              PONIENTE  2.0TD   -  0.071682   \n",
       "4    PENINSULA  ACCIONA     FIJO             PONIENTE+  2.0TD   -  0.077162   \n",
       "..         ...      ...      ...                   ...    ...  ..       ...   \n",
       "902  PENINSULA      ADI     FIJO               ECO ADI  6.1TD   -  0.071138   \n",
       "903  PENINSULA      ADI     FIJO  RESIDENCIAL ESPECIAL  2.0TD   -  0.135186   \n",
       "904  PENINSULA      ADI     FIJO          ADI SENCILLA  2.0TD   -  0.075022   \n",
       "905  PENINSULA      ADI     FIJO          ADI SENCILLA  3.0TD   -  0.038308   \n",
       "906  PENINSULA      ADI     FIJO          ADI SENCILLA  6.1TD   -  0.062918   \n",
       "\n",
       "         P2_P      P3_P      P4_P      P5_P      P6_P      P1_E      P2_E  \\\n",
       "0    0.019570  0.000000  0.000000  0.000000  0.000000  0.355703  0.304626   \n",
       "1    0.003132  0.000000  0.000000  0.000000  0.000000  0.366868  0.315791   \n",
       "2    0.014091  0.000000  0.000000  0.000000  0.000000  0.366868  0.315791   \n",
       "3    0.003132  0.000000  0.000000  0.000000  0.000000  0.360778  0.309701   \n",
       "4    0.008611  0.000000  0.000000  0.000000  0.000000  0.360778  0.309701   \n",
       "..        ...       ...       ...       ...       ...       ...       ...   \n",
       "902  0.062579  0.036514  0.031673  0.013448  0.011367  0.223107  0.205496   \n",
       "903  0.135186  0.000000  0.000000  0.000000  0.000000  0.165071  0.165071   \n",
       "904  0.028336  0.000000  0.000000  0.000000  0.000000  0.253546  0.202874   \n",
       "905  0.032600  0.010965  0.010011  0.007487  0.005483  0.239604  0.218459   \n",
       "906  0.054359  0.028295  0.023454  0.005229  0.003148  0.210616   0.19298   \n",
       "\n",
       "         P3_E      P4_E      P5_E      P6_E  \n",
       "0    0.265992         0         0         0  \n",
       "1    0.277157         0         0         0  \n",
       "2    0.277157         0         0         0  \n",
       "3    0.271067         0         0         0  \n",
       "4    0.271067         0         0         0  \n",
       "..        ...       ...       ...       ...  \n",
       "902  0.185999  0.169934  0.167387  0.166234  \n",
       "903  0.165071         0         0         0  \n",
       "904   0.17825         0         0         0  \n",
       "905   0.19183  0.171813  0.168778  0.167685  \n",
       "906  0.173552  0.157523  0.154953  0.153746  \n",
       "\n",
       "[907 rows x 18 columns]"
      ]
     },
     "execution_count": 7,
     "metadata": {},
     "output_type": "execute_result"
    }
   ],
   "source": [
    "df_fixed"
   ]
  },
  {
   "cell_type": "code",
   "execution_count": 8,
   "metadata": {},
   "outputs": [
    {
     "data": {
      "text/html": [
       "<div>\n",
       "<style scoped>\n",
       "    .dataframe tbody tr th:only-of-type {\n",
       "        vertical-align: middle;\n",
       "    }\n",
       "\n",
       "    .dataframe tbody tr th {\n",
       "        vertical-align: top;\n",
       "    }\n",
       "\n",
       "    .dataframe thead th {\n",
       "        text-align: right;\n",
       "    }\n",
       "</style>\n",
       "<table border=\"1\" class=\"dataframe\">\n",
       "  <thead>\n",
       "    <tr style=\"text-align: right;\">\n",
       "      <th></th>\n",
       "      <th>SISTEMA</th>\n",
       "      <th>TARIFA</th>\n",
       "      <th>CIA</th>\n",
       "      <th>MES</th>\n",
       "      <th>FEE</th>\n",
       "      <th>P1.</th>\n",
       "      <th>P2.</th>\n",
       "      <th>P3.</th>\n",
       "      <th>P4.</th>\n",
       "      <th>P5</th>\n",
       "      <th>P6.</th>\n",
       "    </tr>\n",
       "  </thead>\n",
       "  <tbody>\n",
       "    <tr>\n",
       "      <th>0</th>\n",
       "      <td>BALEARES</td>\n",
       "      <td>2.0TD</td>\n",
       "      <td>ACCIONA</td>\n",
       "      <td>2023-10-01 00:00:00</td>\n",
       "      <td>Cierzo</td>\n",
       "      <td>0.209373</td>\n",
       "      <td>0.162565</td>\n",
       "      <td>0.139301</td>\n",
       "      <td>0.00000</td>\n",
       "      <td>0.000000</td>\n",
       "      <td>0.000000</td>\n",
       "    </tr>\n",
       "    <tr>\n",
       "      <th>1</th>\n",
       "      <td>BALEARES</td>\n",
       "      <td>2.0TD</td>\n",
       "      <td>ACCIONA</td>\n",
       "      <td>2023-10-01 00:00:00</td>\n",
       "      <td>Levante</td>\n",
       "      <td>0.228658</td>\n",
       "      <td>0.181850</td>\n",
       "      <td>0.158586</td>\n",
       "      <td>0.00000</td>\n",
       "      <td>0.000000</td>\n",
       "      <td>0.000000</td>\n",
       "    </tr>\n",
       "    <tr>\n",
       "      <th>2</th>\n",
       "      <td>BALEARES</td>\n",
       "      <td>2.0TD</td>\n",
       "      <td>ACCIONA</td>\n",
       "      <td>2023-10-01 00:00:00</td>\n",
       "      <td>Levante+</td>\n",
       "      <td>0.228658</td>\n",
       "      <td>0.181850</td>\n",
       "      <td>0.158586</td>\n",
       "      <td>0.00000</td>\n",
       "      <td>0.000000</td>\n",
       "      <td>0.000000</td>\n",
       "    </tr>\n",
       "    <tr>\n",
       "      <th>3</th>\n",
       "      <td>BALEARES</td>\n",
       "      <td>2.0TD</td>\n",
       "      <td>ACCIONA</td>\n",
       "      <td>2023-10-01 00:00:00</td>\n",
       "      <td>Poniente</td>\n",
       "      <td>0.218508</td>\n",
       "      <td>0.171700</td>\n",
       "      <td>0.148436</td>\n",
       "      <td>0.00000</td>\n",
       "      <td>0.000000</td>\n",
       "      <td>0.000000</td>\n",
       "    </tr>\n",
       "    <tr>\n",
       "      <th>4</th>\n",
       "      <td>BALEARES</td>\n",
       "      <td>2.0TD</td>\n",
       "      <td>ACCIONA</td>\n",
       "      <td>2023-10-01 00:00:00</td>\n",
       "      <td>Poniente+</td>\n",
       "      <td>0.218508</td>\n",
       "      <td>0.171700</td>\n",
       "      <td>0.148436</td>\n",
       "      <td>0.00000</td>\n",
       "      <td>0.000000</td>\n",
       "      <td>0.000000</td>\n",
       "    </tr>\n",
       "    <tr>\n",
       "      <th>...</th>\n",
       "      <td>...</td>\n",
       "      <td>...</td>\n",
       "      <td>...</td>\n",
       "      <td>...</td>\n",
       "      <td>...</td>\n",
       "      <td>...</td>\n",
       "      <td>...</td>\n",
       "      <td>...</td>\n",
       "      <td>...</td>\n",
       "      <td>...</td>\n",
       "      <td>...</td>\n",
       "    </tr>\n",
       "    <tr>\n",
       "      <th>11201</th>\n",
       "      <td>PENINSULA</td>\n",
       "      <td>6.4TD</td>\n",
       "      <td>IGNIS</td>\n",
       "      <td>2023-05-01 00:00:00</td>\n",
       "      <td>30 MARE PLUS 1</td>\n",
       "      <td>0.000000</td>\n",
       "      <td>0.000000</td>\n",
       "      <td>0.000000</td>\n",
       "      <td>0.12748</td>\n",
       "      <td>0.119923</td>\n",
       "      <td>0.122326</td>\n",
       "    </tr>\n",
       "    <tr>\n",
       "      <th>11202</th>\n",
       "      <td>PENINSULA</td>\n",
       "      <td>6.4TD</td>\n",
       "      <td>IGNIS</td>\n",
       "      <td>2023-05-01 00:00:00</td>\n",
       "      <td>4 MARE KIT 2</td>\n",
       "      <td>0.000000</td>\n",
       "      <td>0.000000</td>\n",
       "      <td>0.000000</td>\n",
       "      <td>0.10148</td>\n",
       "      <td>0.093923</td>\n",
       "      <td>0.096326</td>\n",
       "    </tr>\n",
       "    <tr>\n",
       "      <th>11203</th>\n",
       "      <td>PENINSULA</td>\n",
       "      <td>6.4TD</td>\n",
       "      <td>IGNIS</td>\n",
       "      <td>2023-05-01 00:00:00</td>\n",
       "      <td>6 MARE KIT 1</td>\n",
       "      <td>0.000000</td>\n",
       "      <td>0.000000</td>\n",
       "      <td>0.000000</td>\n",
       "      <td>0.10348</td>\n",
       "      <td>0.095923</td>\n",
       "      <td>0.098326</td>\n",
       "    </tr>\n",
       "    <tr>\n",
       "      <th>11204</th>\n",
       "      <td>PENINSULA</td>\n",
       "      <td>6.4TD</td>\n",
       "      <td>IGNIS</td>\n",
       "      <td>2023-05-01 00:00:00</td>\n",
       "      <td>8 MARE ZEN 3</td>\n",
       "      <td>0.000000</td>\n",
       "      <td>0.000000</td>\n",
       "      <td>0.000000</td>\n",
       "      <td>0.10548</td>\n",
       "      <td>0.097923</td>\n",
       "      <td>0.100326</td>\n",
       "    </tr>\n",
       "    <tr>\n",
       "      <th>11205</th>\n",
       "      <td>PENINSULA</td>\n",
       "      <td>6.4TD</td>\n",
       "      <td>IGNIS</td>\n",
       "      <td>2023-05-01 00:00:00</td>\n",
       "      <td>2,5 MARE KIT 3</td>\n",
       "      <td>0.000000</td>\n",
       "      <td>0.000000</td>\n",
       "      <td>0.000000</td>\n",
       "      <td>0.09998</td>\n",
       "      <td>0.092423</td>\n",
       "      <td>0.094826</td>\n",
       "    </tr>\n",
       "  </tbody>\n",
       "</table>\n",
       "<p>11206 rows × 11 columns</p>\n",
       "</div>"
      ],
      "text/plain": [
       "         SISTEMA TARIFA      CIA                  MES               FEE  \\\n",
       "0       BALEARES  2.0TD  ACCIONA  2023-10-01 00:00:00            Cierzo   \n",
       "1       BALEARES  2.0TD  ACCIONA  2023-10-01 00:00:00           Levante   \n",
       "2       BALEARES  2.0TD  ACCIONA  2023-10-01 00:00:00          Levante+   \n",
       "3       BALEARES  2.0TD  ACCIONA  2023-10-01 00:00:00          Poniente   \n",
       "4       BALEARES  2.0TD  ACCIONA  2023-10-01 00:00:00         Poniente+   \n",
       "...          ...    ...      ...                  ...               ...   \n",
       "11201  PENINSULA  6.4TD    IGNIS  2023-05-01 00:00:00   30 MARE PLUS 1    \n",
       "11202  PENINSULA  6.4TD    IGNIS  2023-05-01 00:00:00     4 MARE KIT 2    \n",
       "11203  PENINSULA  6.4TD    IGNIS  2023-05-01 00:00:00     6 MARE KIT 1    \n",
       "11204  PENINSULA  6.4TD    IGNIS  2023-05-01 00:00:00     8 MARE ZEN 3    \n",
       "11205  PENINSULA  6.4TD    IGNIS  2023-05-01 00:00:00    2,5 MARE KIT 3   \n",
       "\n",
       "            P1.       P2.       P3.      P4.        P5       P6.  \n",
       "0      0.209373  0.162565  0.139301  0.00000  0.000000  0.000000  \n",
       "1      0.228658  0.181850  0.158586  0.00000  0.000000  0.000000  \n",
       "2      0.228658  0.181850  0.158586  0.00000  0.000000  0.000000  \n",
       "3      0.218508  0.171700  0.148436  0.00000  0.000000  0.000000  \n",
       "4      0.218508  0.171700  0.148436  0.00000  0.000000  0.000000  \n",
       "...         ...       ...       ...      ...       ...       ...  \n",
       "11201  0.000000  0.000000  0.000000  0.12748  0.119923  0.122326  \n",
       "11202  0.000000  0.000000  0.000000  0.10148  0.093923  0.096326  \n",
       "11203  0.000000  0.000000  0.000000  0.10348  0.095923  0.098326  \n",
       "11204  0.000000  0.000000  0.000000  0.10548  0.097923  0.100326  \n",
       "11205  0.000000  0.000000  0.000000  0.09998  0.092423  0.094826  \n",
       "\n",
       "[11206 rows x 11 columns]"
      ]
     },
     "execution_count": 8,
     "metadata": {},
     "output_type": "execute_result"
    }
   ],
   "source": [
    "df_indexed_price"
   ]
  },
  {
   "cell_type": "code",
   "execution_count": 9,
   "metadata": {},
   "outputs": [
    {
     "data": {
      "text/plain": [
       "23"
      ]
     },
     "execution_count": 9,
     "metadata": {},
     "output_type": "execute_result"
    }
   ],
   "source": [
    "df_indexed_price[\"MES\"].nunique()"
   ]
  },
  {
   "cell_type": "code",
   "execution_count": 10,
   "metadata": {},
   "outputs": [],
   "source": [
    "meses = sorted(df_indexed_price[\"MES\"].unique())"
   ]
  },
  {
   "cell_type": "code",
   "execution_count": 11,
   "metadata": {},
   "outputs": [
    {
     "data": {
      "text/plain": [
       "['2022-01-01 00:00:00',\n",
       " '2022-02-01 00:00:00',\n",
       " '2022-03-01 00:00:00',\n",
       " '2022-04-01 00:00:00',\n",
       " '2022-05-01 00:00:00',\n",
       " '2022-06-01 00:00:00',\n",
       " '2022-07-01 00:00:00',\n",
       " '2022-08-01 00:00:00',\n",
       " '2022-09-01 00:00:00',\n",
       " '2022-10-01 00:00:00',\n",
       " '2022-11-01 00:00:00',\n",
       " '2022-12-01 00:00:00',\n",
       " '2023-01-01 00:00:00',\n",
       " '2023-02-01 00:00:00',\n",
       " '2023-03-01 00:00:00',\n",
       " '2023-04-01 00:00:00',\n",
       " '2023-05-01 00:00:00',\n",
       " '2023-06-01 00:00:00',\n",
       " '2023-07-01 00:00:00',\n",
       " '2023-08-01 00:00:00',\n",
       " '2023-09-01 00:00:00',\n",
       " '2023-10-01 00:00:00',\n",
       " '2023-11-01 00:00:00']"
      ]
     },
     "execution_count": 11,
     "metadata": {},
     "output_type": "execute_result"
    }
   ],
   "source": [
    "meses"
   ]
  },
  {
   "cell_type": "code",
   "execution_count": 12,
   "metadata": {},
   "outputs": [
    {
     "data": {
      "text/plain": [
       "144"
      ]
     },
     "execution_count": 12,
     "metadata": {},
     "output_type": "execute_result"
    }
   ],
   "source": [
    "8*6*3"
   ]
  },
  {
   "cell_type": "code",
   "execution_count": 13,
   "metadata": {},
   "outputs": [],
   "source": [
    "df_indexed_price['MES'] = pd.to_datetime(df_indexed_price['MES'])"
   ]
  },
  {
   "cell_type": "code",
   "execution_count": 14,
   "metadata": {},
   "outputs": [
    {
     "data": {
      "text/html": [
       "<div>\n",
       "<style scoped>\n",
       "    .dataframe tbody tr th:only-of-type {\n",
       "        vertical-align: middle;\n",
       "    }\n",
       "\n",
       "    .dataframe tbody tr th {\n",
       "        vertical-align: top;\n",
       "    }\n",
       "\n",
       "    .dataframe thead th {\n",
       "        text-align: right;\n",
       "    }\n",
       "</style>\n",
       "<table border=\"1\" class=\"dataframe\">\n",
       "  <thead>\n",
       "    <tr style=\"text-align: right;\">\n",
       "      <th></th>\n",
       "      <th>SISTEMA</th>\n",
       "      <th>CIA</th>\n",
       "      <th>PRODUCTO</th>\n",
       "      <th>PRODUCTO_CIA</th>\n",
       "      <th>TARIFA</th>\n",
       "      <th>P1</th>\n",
       "      <th>P2</th>\n",
       "      <th>P3</th>\n",
       "      <th>P4</th>\n",
       "      <th>P5</th>\n",
       "      <th>P6</th>\n",
       "    </tr>\n",
       "  </thead>\n",
       "  <tbody>\n",
       "    <tr>\n",
       "      <th>0</th>\n",
       "      <td>BALEARES</td>\n",
       "      <td>ACCIONA</td>\n",
       "      <td>INDEXADO</td>\n",
       "      <td>CIERZO</td>\n",
       "      <td>2.0TD</td>\n",
       "      <td>0.088121</td>\n",
       "      <td>0.019570</td>\n",
       "      <td>0.000000</td>\n",
       "      <td>0.000000</td>\n",
       "      <td>0.000000</td>\n",
       "      <td>0.000000</td>\n",
       "    </tr>\n",
       "    <tr>\n",
       "      <th>1</th>\n",
       "      <td>BALEARES</td>\n",
       "      <td>ACCIONA</td>\n",
       "      <td>INDEXADO</td>\n",
       "      <td>CIERZO</td>\n",
       "      <td>3.0TD</td>\n",
       "      <td>0.056000</td>\n",
       "      <td>0.046924</td>\n",
       "      <td>0.030475</td>\n",
       "      <td>0.028048</td>\n",
       "      <td>0.023445</td>\n",
       "      <td>0.021317</td>\n",
       "    </tr>\n",
       "    <tr>\n",
       "      <th>2</th>\n",
       "      <td>BALEARES</td>\n",
       "      <td>ACCIONA</td>\n",
       "      <td>INDEXADO</td>\n",
       "      <td>CIERZO</td>\n",
       "      <td>6.1TD</td>\n",
       "      <td>0.077855</td>\n",
       "      <td>0.072249</td>\n",
       "      <td>0.047885</td>\n",
       "      <td>0.041248</td>\n",
       "      <td>0.021896</td>\n",
       "      <td>0.019686</td>\n",
       "    </tr>\n",
       "    <tr>\n",
       "      <th>3</th>\n",
       "      <td>BALEARES</td>\n",
       "      <td>ACCIONA</td>\n",
       "      <td>INDEXADO</td>\n",
       "      <td>CIERZO</td>\n",
       "      <td>6.2TD</td>\n",
       "      <td>0.060270</td>\n",
       "      <td>0.056978</td>\n",
       "      <td>0.037051</td>\n",
       "      <td>0.035407</td>\n",
       "      <td>0.019981</td>\n",
       "      <td>0.018683</td>\n",
       "    </tr>\n",
       "    <tr>\n",
       "      <th>4</th>\n",
       "      <td>BALEARES</td>\n",
       "      <td>ACCIONA</td>\n",
       "      <td>INDEXADO</td>\n",
       "      <td>LEVANTE+</td>\n",
       "      <td>2.0TD</td>\n",
       "      <td>0.082641</td>\n",
       "      <td>0.014091</td>\n",
       "      <td>0.000000</td>\n",
       "      <td>0.000000</td>\n",
       "      <td>0.000000</td>\n",
       "      <td>0.000000</td>\n",
       "    </tr>\n",
       "    <tr>\n",
       "      <th>...</th>\n",
       "      <td>...</td>\n",
       "      <td>...</td>\n",
       "      <td>...</td>\n",
       "      <td>...</td>\n",
       "      <td>...</td>\n",
       "      <td>...</td>\n",
       "      <td>...</td>\n",
       "      <td>...</td>\n",
       "      <td>...</td>\n",
       "      <td>...</td>\n",
       "      <td>...</td>\n",
       "    </tr>\n",
       "    <tr>\n",
       "      <th>374</th>\n",
       "      <td>PENINSULA</td>\n",
       "      <td>FACTOR</td>\n",
       "      <td>INDEXADO</td>\n",
       "      <td>NEGOCIO_POOLNAHORRO</td>\n",
       "      <td>6.1TD</td>\n",
       "      <td>0.062918</td>\n",
       "      <td>0.054359</td>\n",
       "      <td>0.028295</td>\n",
       "      <td>0.023454</td>\n",
       "      <td>0.005229</td>\n",
       "      <td>0.003148</td>\n",
       "    </tr>\n",
       "    <tr>\n",
       "      <th>375</th>\n",
       "      <td>PENINSULA</td>\n",
       "      <td>FACTOR</td>\n",
       "      <td>INDEXADO</td>\n",
       "      <td>NEGOCIO_POOLNEXTRA</td>\n",
       "      <td>6.1TD</td>\n",
       "      <td>0.068521</td>\n",
       "      <td>0.059962</td>\n",
       "      <td>0.033914</td>\n",
       "      <td>0.027047</td>\n",
       "      <td>0.020619</td>\n",
       "      <td>0.013004</td>\n",
       "    </tr>\n",
       "    <tr>\n",
       "      <th>376</th>\n",
       "      <td>PENINSULA</td>\n",
       "      <td>FACTOR</td>\n",
       "      <td>INDEXADO</td>\n",
       "      <td>NEGOCIO_POOLNPLUS</td>\n",
       "      <td>6.1TD</td>\n",
       "      <td>0.073808</td>\n",
       "      <td>0.064304</td>\n",
       "      <td>0.038900</td>\n",
       "      <td>0.034208</td>\n",
       "      <td>0.015813</td>\n",
       "      <td>0.013550</td>\n",
       "    </tr>\n",
       "    <tr>\n",
       "      <th>377</th>\n",
       "      <td>PENINSULA</td>\n",
       "      <td>FACTOR</td>\n",
       "      <td>INDEXADO</td>\n",
       "      <td>NEGOCIO_POOLNPROF</td>\n",
       "      <td>6.1TD</td>\n",
       "      <td>0.065781</td>\n",
       "      <td>0.057222</td>\n",
       "      <td>0.031174</td>\n",
       "      <td>0.024307</td>\n",
       "      <td>0.017879</td>\n",
       "      <td>0.010264</td>\n",
       "    </tr>\n",
       "    <tr>\n",
       "      <th>378</th>\n",
       "      <td>PENINSULA</td>\n",
       "      <td>FACTOR</td>\n",
       "      <td>INDEXADO</td>\n",
       "      <td>NEGOCIO_POOLSUMMER</td>\n",
       "      <td>6.1TD</td>\n",
       "      <td>0.076576</td>\n",
       "      <td>0.068017</td>\n",
       "      <td>0.041952</td>\n",
       "      <td>0.037207</td>\n",
       "      <td>0.018982</td>\n",
       "      <td>0.016901</td>\n",
       "    </tr>\n",
       "  </tbody>\n",
       "</table>\n",
       "<p>379 rows × 11 columns</p>\n",
       "</div>"
      ],
      "text/plain": [
       "       SISTEMA      CIA  PRODUCTO         PRODUCTO_CIA TARIFA        P1  \\\n",
       "0     BALEARES  ACCIONA  INDEXADO               CIERZO  2.0TD  0.088121   \n",
       "1     BALEARES  ACCIONA  INDEXADO               CIERZO  3.0TD  0.056000   \n",
       "2     BALEARES  ACCIONA  INDEXADO               CIERZO  6.1TD  0.077855   \n",
       "3     BALEARES  ACCIONA  INDEXADO               CIERZO  6.2TD  0.060270   \n",
       "4     BALEARES  ACCIONA  INDEXADO             LEVANTE+  2.0TD  0.082641   \n",
       "..         ...      ...       ...                  ...    ...       ...   \n",
       "374  PENINSULA   FACTOR  INDEXADO  NEGOCIO_POOLNAHORRO  6.1TD  0.062918   \n",
       "375  PENINSULA   FACTOR  INDEXADO   NEGOCIO_POOLNEXTRA  6.1TD  0.068521   \n",
       "376  PENINSULA   FACTOR  INDEXADO    NEGOCIO_POOLNPLUS  6.1TD  0.073808   \n",
       "377  PENINSULA   FACTOR  INDEXADO    NEGOCIO_POOLNPROF  6.1TD  0.065781   \n",
       "378  PENINSULA   FACTOR  INDEXADO   NEGOCIO_POOLSUMMER  6.1TD  0.076576   \n",
       "\n",
       "           P2        P3        P4        P5        P6  \n",
       "0    0.019570  0.000000  0.000000  0.000000  0.000000  \n",
       "1    0.046924  0.030475  0.028048  0.023445  0.021317  \n",
       "2    0.072249  0.047885  0.041248  0.021896  0.019686  \n",
       "3    0.056978  0.037051  0.035407  0.019981  0.018683  \n",
       "4    0.014091  0.000000  0.000000  0.000000  0.000000  \n",
       "..        ...       ...       ...       ...       ...  \n",
       "374  0.054359  0.028295  0.023454  0.005229  0.003148  \n",
       "375  0.059962  0.033914  0.027047  0.020619  0.013004  \n",
       "376  0.064304  0.038900  0.034208  0.015813  0.013550  \n",
       "377  0.057222  0.031174  0.024307  0.017879  0.010264  \n",
       "378  0.068017  0.041952  0.037207  0.018982  0.016901  \n",
       "\n",
       "[379 rows x 11 columns]"
      ]
     },
     "execution_count": 14,
     "metadata": {},
     "output_type": "execute_result"
    }
   ],
   "source": [
    "df_indexed_price_power"
   ]
  },
  {
   "cell_type": "code",
   "execution_count": 15,
   "metadata": {},
   "outputs": [
    {
     "data": {
      "text/plain": [
       "6"
      ]
     },
     "execution_count": 15,
     "metadata": {},
     "output_type": "execute_result"
    }
   ],
   "source": [
    "df_indexed_price_power[\"TARIFA\"].nunique()"
   ]
  },
  {
   "cell_type": "code",
   "execution_count": 16,
   "metadata": {},
   "outputs": [
    {
     "data": {
      "image/png": "[encoded data removed]",
      "text/plain": [
       "<Figure size 640x480 with 2 Axes>"
      ]
     },
     "metadata": {},
     "output_type": "display_data"
    }
   ],
   "source": [
    "sns.heatmap(df_fixed.corr(numeric_only=True), cmap='YlGnBu');"
   ]
  },
  {
   "cell_type": "code",
   "execution_count": 17,
   "metadata": {},
   "outputs": [
    {
     "data": {
      "image/png": "[encoded data removed]",
      "text/plain": [
       "<Figure size 640x480 with 2 Axes>"
      ]
     },
     "metadata": {},
     "output_type": "display_data"
    }
   ],
   "source": [
    "sns.heatmap(df_indexed_price.corr(numeric_only=True), cmap='YlGnBu');"
   ]
  },
  {
   "cell_type": "code",
   "execution_count": 18,
   "metadata": {},
   "outputs": [
    {
     "data": {
      "image/png": "[encoded data removed]",
      "text/plain": [
       "<Figure size 640x480 with 2 Axes>"
      ]
     },
     "metadata": {},
     "output_type": "display_data"
    }
   ],
   "source": [
    "sns.heatmap(df_indexed_price_power.corr(numeric_only=True), cmap='YlGnBu');\n"
   ]
  },
  {
   "cell_type": "code",
   "execution_count": 19,
   "metadata": {},
   "outputs": [
    {
     "data": {
      "text/html": [
       "<div>\n",
       "<style scoped>\n",
       "    .dataframe tbody tr th:only-of-type {\n",
       "        vertical-align: middle;\n",
       "    }\n",
       "\n",
       "    .dataframe tbody tr th {\n",
       "        vertical-align: top;\n",
       "    }\n",
       "\n",
       "    .dataframe thead th {\n",
       "        text-align: right;\n",
       "    }\n",
       "</style>\n",
       "<table border=\"1\" class=\"dataframe\">\n",
       "  <thead>\n",
       "    <tr style=\"text-align: right;\">\n",
       "      <th></th>\n",
       "      <th>SISTEMA</th>\n",
       "      <th>TARIFA</th>\n",
       "      <th>CIA</th>\n",
       "      <th>MES</th>\n",
       "      <th>FEE</th>\n",
       "      <th>P1.</th>\n",
       "      <th>P2.</th>\n",
       "      <th>P3.</th>\n",
       "      <th>P4.</th>\n",
       "      <th>P5</th>\n",
       "      <th>P6.</th>\n",
       "    </tr>\n",
       "  </thead>\n",
       "  <tbody>\n",
       "    <tr>\n",
       "      <th>0</th>\n",
       "      <td>BALEARES</td>\n",
       "      <td>2.0TD</td>\n",
       "      <td>ACCIONA</td>\n",
       "      <td>2023-10-01</td>\n",
       "      <td>Cierzo</td>\n",
       "      <td>0.209373</td>\n",
       "      <td>0.162565</td>\n",
       "      <td>0.139301</td>\n",
       "      <td>0.00000</td>\n",
       "      <td>0.000000</td>\n",
       "      <td>0.000000</td>\n",
       "    </tr>\n",
       "    <tr>\n",
       "      <th>1</th>\n",
       "      <td>BALEARES</td>\n",
       "      <td>2.0TD</td>\n",
       "      <td>ACCIONA</td>\n",
       "      <td>2023-10-01</td>\n",
       "      <td>Levante</td>\n",
       "      <td>0.228658</td>\n",
       "      <td>0.181850</td>\n",
       "      <td>0.158586</td>\n",
       "      <td>0.00000</td>\n",
       "      <td>0.000000</td>\n",
       "      <td>0.000000</td>\n",
       "    </tr>\n",
       "    <tr>\n",
       "      <th>2</th>\n",
       "      <td>BALEARES</td>\n",
       "      <td>2.0TD</td>\n",
       "      <td>ACCIONA</td>\n",
       "      <td>2023-10-01</td>\n",
       "      <td>Levante+</td>\n",
       "      <td>0.228658</td>\n",
       "      <td>0.181850</td>\n",
       "      <td>0.158586</td>\n",
       "      <td>0.00000</td>\n",
       "      <td>0.000000</td>\n",
       "      <td>0.000000</td>\n",
       "    </tr>\n",
       "    <tr>\n",
       "      <th>3</th>\n",
       "      <td>BALEARES</td>\n",
       "      <td>2.0TD</td>\n",
       "      <td>ACCIONA</td>\n",
       "      <td>2023-10-01</td>\n",
       "      <td>Poniente</td>\n",
       "      <td>0.218508</td>\n",
       "      <td>0.171700</td>\n",
       "      <td>0.148436</td>\n",
       "      <td>0.00000</td>\n",
       "      <td>0.000000</td>\n",
       "      <td>0.000000</td>\n",
       "    </tr>\n",
       "    <tr>\n",
       "      <th>4</th>\n",
       "      <td>BALEARES</td>\n",
       "      <td>2.0TD</td>\n",
       "      <td>ACCIONA</td>\n",
       "      <td>2023-10-01</td>\n",
       "      <td>Poniente+</td>\n",
       "      <td>0.218508</td>\n",
       "      <td>0.171700</td>\n",
       "      <td>0.148436</td>\n",
       "      <td>0.00000</td>\n",
       "      <td>0.000000</td>\n",
       "      <td>0.000000</td>\n",
       "    </tr>\n",
       "    <tr>\n",
       "      <th>...</th>\n",
       "      <td>...</td>\n",
       "      <td>...</td>\n",
       "      <td>...</td>\n",
       "      <td>...</td>\n",
       "      <td>...</td>\n",
       "      <td>...</td>\n",
       "      <td>...</td>\n",
       "      <td>...</td>\n",
       "      <td>...</td>\n",
       "      <td>...</td>\n",
       "      <td>...</td>\n",
       "    </tr>\n",
       "    <tr>\n",
       "      <th>11201</th>\n",
       "      <td>PENINSULA</td>\n",
       "      <td>6.4TD</td>\n",
       "      <td>IGNIS</td>\n",
       "      <td>2023-05-01</td>\n",
       "      <td>30 MARE PLUS 1</td>\n",
       "      <td>0.000000</td>\n",
       "      <td>0.000000</td>\n",
       "      <td>0.000000</td>\n",
       "      <td>0.12748</td>\n",
       "      <td>0.119923</td>\n",
       "      <td>0.122326</td>\n",
       "    </tr>\n",
       "    <tr>\n",
       "      <th>11202</th>\n",
       "      <td>PENINSULA</td>\n",
       "      <td>6.4TD</td>\n",
       "      <td>IGNIS</td>\n",
       "      <td>2023-05-01</td>\n",
       "      <td>4 MARE KIT 2</td>\n",
       "      <td>0.000000</td>\n",
       "      <td>0.000000</td>\n",
       "      <td>0.000000</td>\n",
       "      <td>0.10148</td>\n",
       "      <td>0.093923</td>\n",
       "      <td>0.096326</td>\n",
       "    </tr>\n",
       "    <tr>\n",
       "      <th>11203</th>\n",
       "      <td>PENINSULA</td>\n",
       "      <td>6.4TD</td>\n",
       "      <td>IGNIS</td>\n",
       "      <td>2023-05-01</td>\n",
       "      <td>6 MARE KIT 1</td>\n",
       "      <td>0.000000</td>\n",
       "      <td>0.000000</td>\n",
       "      <td>0.000000</td>\n",
       "      <td>0.10348</td>\n",
       "      <td>0.095923</td>\n",
       "      <td>0.098326</td>\n",
       "    </tr>\n",
       "    <tr>\n",
       "      <th>11204</th>\n",
       "      <td>PENINSULA</td>\n",
       "      <td>6.4TD</td>\n",
       "      <td>IGNIS</td>\n",
       "      <td>2023-05-01</td>\n",
       "      <td>8 MARE ZEN 3</td>\n",
       "      <td>0.000000</td>\n",
       "      <td>0.000000</td>\n",
       "      <td>0.000000</td>\n",
       "      <td>0.10548</td>\n",
       "      <td>0.097923</td>\n",
       "      <td>0.100326</td>\n",
       "    </tr>\n",
       "    <tr>\n",
       "      <th>11205</th>\n",
       "      <td>PENINSULA</td>\n",
       "      <td>6.4TD</td>\n",
       "      <td>IGNIS</td>\n",
       "      <td>2023-05-01</td>\n",
       "      <td>2,5 MARE KIT 3</td>\n",
       "      <td>0.000000</td>\n",
       "      <td>0.000000</td>\n",
       "      <td>0.000000</td>\n",
       "      <td>0.09998</td>\n",
       "      <td>0.092423</td>\n",
       "      <td>0.094826</td>\n",
       "    </tr>\n",
       "  </tbody>\n",
       "</table>\n",
       "<p>11206 rows × 11 columns</p>\n",
       "</div>"
      ],
      "text/plain": [
       "         SISTEMA TARIFA      CIA        MES               FEE       P1.  \\\n",
       "0       BALEARES  2.0TD  ACCIONA 2023-10-01            Cierzo  0.209373   \n",
       "1       BALEARES  2.0TD  ACCIONA 2023-10-01           Levante  0.228658   \n",
       "2       BALEARES  2.0TD  ACCIONA 2023-10-01          Levante+  0.228658   \n",
       "3       BALEARES  2.0TD  ACCIONA 2023-10-01          Poniente  0.218508   \n",
       "4       BALEARES  2.0TD  ACCIONA 2023-10-01         Poniente+  0.218508   \n",
       "...          ...    ...      ...        ...               ...       ...   \n",
       "11201  PENINSULA  6.4TD    IGNIS 2023-05-01   30 MARE PLUS 1   0.000000   \n",
       "11202  PENINSULA  6.4TD    IGNIS 2023-05-01     4 MARE KIT 2   0.000000   \n",
       "11203  PENINSULA  6.4TD    IGNIS 2023-05-01     6 MARE KIT 1   0.000000   \n",
       "11204  PENINSULA  6.4TD    IGNIS 2023-05-01     8 MARE ZEN 3   0.000000   \n",
       "11205  PENINSULA  6.4TD    IGNIS 2023-05-01    2,5 MARE KIT 3  0.000000   \n",
       "\n",
       "            P2.       P3.      P4.        P5       P6.  \n",
       "0      0.162565  0.139301  0.00000  0.000000  0.000000  \n",
       "1      0.181850  0.158586  0.00000  0.000000  0.000000  \n",
       "2      0.181850  0.158586  0.00000  0.000000  0.000000  \n",
       "3      0.171700  0.148436  0.00000  0.000000  0.000000  \n",
       "4      0.171700  0.148436  0.00000  0.000000  0.000000  \n",
       "...         ...       ...      ...       ...       ...  \n",
       "11201  0.000000  0.000000  0.12748  0.119923  0.122326  \n",
       "11202  0.000000  0.000000  0.10148  0.093923  0.096326  \n",
       "11203  0.000000  0.000000  0.10348  0.095923  0.098326  \n",
       "11204  0.000000  0.000000  0.10548  0.097923  0.100326  \n",
       "11205  0.000000  0.000000  0.09998  0.092423  0.094826  \n",
       "\n",
       "[11206 rows x 11 columns]"
      ]
     },
     "execution_count": 19,
     "metadata": {},
     "output_type": "execute_result"
    }
   ],
   "source": [
    "df_indexed_price"
   ]
  },
  {
   "cell_type": "code",
   "execution_count": 20,
   "metadata": {},
   "outputs": [],
   "source": [
    "df_indexed_price['MES'] = pd.to_datetime(df_indexed_price['MES'])"
   ]
  },
  {
   "cell_type": "code",
   "execution_count": 21,
   "metadata": {},
   "outputs": [],
   "source": [
    "df_indexed_price.set_index('MES', inplace=True)"
   ]
  },
  {
   "cell_type": "code",
   "execution_count": 22,
   "metadata": {},
   "outputs": [],
   "source": [
    "df_indexed = df_indexed_price.sort_index()"
   ]
  },
  {
   "cell_type": "code",
   "execution_count": 23,
   "metadata": {},
   "outputs": [
    {
     "data": {
      "text/html": [
       "<div>\n",
       "<style scoped>\n",
       "    .dataframe tbody tr th:only-of-type {\n",
       "        vertical-align: middle;\n",
       "    }\n",
       "\n",
       "    .dataframe tbody tr th {\n",
       "        vertical-align: top;\n",
       "    }\n",
       "\n",
       "    .dataframe thead th {\n",
       "        text-align: right;\n",
       "    }\n",
       "</style>\n",
       "<table border=\"1\" class=\"dataframe\">\n",
       "  <thead>\n",
       "    <tr style=\"text-align: right;\">\n",
       "      <th></th>\n",
       "      <th>SISTEMA</th>\n",
       "      <th>TARIFA</th>\n",
       "      <th>CIA</th>\n",
       "      <th>FEE</th>\n",
       "      <th>P1.</th>\n",
       "      <th>P2.</th>\n",
       "      <th>P3.</th>\n",
       "      <th>P4.</th>\n",
       "      <th>P5</th>\n",
       "      <th>P6.</th>\n",
       "    </tr>\n",
       "    <tr>\n",
       "      <th>MES</th>\n",
       "      <th></th>\n",
       "      <th></th>\n",
       "      <th></th>\n",
       "      <th></th>\n",
       "      <th></th>\n",
       "      <th></th>\n",
       "      <th></th>\n",
       "      <th></th>\n",
       "      <th></th>\n",
       "      <th></th>\n",
       "    </tr>\n",
       "  </thead>\n",
       "  <tbody>\n",
       "    <tr>\n",
       "      <th>2022-01-01</th>\n",
       "      <td>CANARIAS</td>\n",
       "      <td>6.1TD</td>\n",
       "      <td>IGNIS</td>\n",
       "      <td>20 MARE PLUS 3</td>\n",
       "      <td>0.000000</td>\n",
       "      <td>0.346268</td>\n",
       "      <td>0.000000</td>\n",
       "      <td>0.301674</td>\n",
       "      <td>0.000000</td>\n",
       "      <td>0.253928</td>\n",
       "    </tr>\n",
       "    <tr>\n",
       "      <th>2022-01-01</th>\n",
       "      <td>PENINSULA</td>\n",
       "      <td>6.1TD</td>\n",
       "      <td>FACTOR</td>\n",
       "      <td>25.5</td>\n",
       "      <td>0.307259</td>\n",
       "      <td>0.280759</td>\n",
       "      <td>0.000000</td>\n",
       "      <td>0.000000</td>\n",
       "      <td>0.000000</td>\n",
       "      <td>0.244369</td>\n",
       "    </tr>\n",
       "    <tr>\n",
       "      <th>2022-01-01</th>\n",
       "      <td>PENINSULA</td>\n",
       "      <td>2.0TD</td>\n",
       "      <td>ACCIONA</td>\n",
       "      <td>Cierzo</td>\n",
       "      <td>0.335863</td>\n",
       "      <td>0.289650</td>\n",
       "      <td>0.269060</td>\n",
       "      <td>0.000000</td>\n",
       "      <td>0.000000</td>\n",
       "      <td>0.000000</td>\n",
       "    </tr>\n",
       "    <tr>\n",
       "      <th>2022-01-01</th>\n",
       "      <td>PENINSULA</td>\n",
       "      <td>2.0TD</td>\n",
       "      <td>ACCIONA</td>\n",
       "      <td>Levante</td>\n",
       "      <td>0.355148</td>\n",
       "      <td>0.308935</td>\n",
       "      <td>0.288345</td>\n",
       "      <td>0.000000</td>\n",
       "      <td>0.000000</td>\n",
       "      <td>0.000000</td>\n",
       "    </tr>\n",
       "    <tr>\n",
       "      <th>2022-01-01</th>\n",
       "      <td>PENINSULA</td>\n",
       "      <td>6.1TD</td>\n",
       "      <td>FACTOR</td>\n",
       "      <td>23.5</td>\n",
       "      <td>0.305259</td>\n",
       "      <td>0.278759</td>\n",
       "      <td>0.000000</td>\n",
       "      <td>0.000000</td>\n",
       "      <td>0.000000</td>\n",
       "      <td>0.242369</td>\n",
       "    </tr>\n",
       "    <tr>\n",
       "      <th>...</th>\n",
       "      <td>...</td>\n",
       "      <td>...</td>\n",
       "      <td>...</td>\n",
       "      <td>...</td>\n",
       "      <td>...</td>\n",
       "      <td>...</td>\n",
       "      <td>...</td>\n",
       "      <td>...</td>\n",
       "      <td>...</td>\n",
       "      <td>...</td>\n",
       "    </tr>\n",
       "    <tr>\n",
       "      <th>2023-11-01</th>\n",
       "      <td>PENINSULA</td>\n",
       "      <td>6.3TD</td>\n",
       "      <td>IGNIS</td>\n",
       "      <td>4 MARE KIT 2</td>\n",
       "      <td>0.000000</td>\n",
       "      <td>0.129119</td>\n",
       "      <td>0.119301</td>\n",
       "      <td>0.000000</td>\n",
       "      <td>0.000000</td>\n",
       "      <td>0.091489</td>\n",
       "    </tr>\n",
       "    <tr>\n",
       "      <th>2023-11-01</th>\n",
       "      <td>PENINSULA</td>\n",
       "      <td>6.3TD</td>\n",
       "      <td>IGNIS</td>\n",
       "      <td>30 MARE PLUS 1</td>\n",
       "      <td>0.000000</td>\n",
       "      <td>0.155119</td>\n",
       "      <td>0.145301</td>\n",
       "      <td>0.000000</td>\n",
       "      <td>0.000000</td>\n",
       "      <td>0.117489</td>\n",
       "    </tr>\n",
       "    <tr>\n",
       "      <th>2023-11-01</th>\n",
       "      <td>PENINSULA</td>\n",
       "      <td>6.3TD</td>\n",
       "      <td>IGNIS</td>\n",
       "      <td>25 MARE PLUS 2</td>\n",
       "      <td>0.000000</td>\n",
       "      <td>0.150119</td>\n",
       "      <td>0.140301</td>\n",
       "      <td>0.000000</td>\n",
       "      <td>0.000000</td>\n",
       "      <td>0.112489</td>\n",
       "    </tr>\n",
       "    <tr>\n",
       "      <th>2023-11-01</th>\n",
       "      <td>PENINSULA</td>\n",
       "      <td>6.2TD</td>\n",
       "      <td>CANDELA</td>\n",
       "      <td>08 / Bi0,01</td>\n",
       "      <td>0.000000</td>\n",
       "      <td>0.134757</td>\n",
       "      <td>0.123334</td>\n",
       "      <td>0.000000</td>\n",
       "      <td>0.000000</td>\n",
       "      <td>0.094704</td>\n",
       "    </tr>\n",
       "    <tr>\n",
       "      <th>2023-11-01</th>\n",
       "      <td>BALEARES</td>\n",
       "      <td>6.1TD</td>\n",
       "      <td>FACTOR</td>\n",
       "      <td>11.5</td>\n",
       "      <td>0.000000</td>\n",
       "      <td>0.000000</td>\n",
       "      <td>0.000000</td>\n",
       "      <td>0.125959</td>\n",
       "      <td>0.111199</td>\n",
       "      <td>0.081642</td>\n",
       "    </tr>\n",
       "  </tbody>\n",
       "</table>\n",
       "<p>11206 rows × 10 columns</p>\n",
       "</div>"
      ],
      "text/plain": [
       "              SISTEMA TARIFA      CIA               FEE       P1.       P2.  \\\n",
       "MES                                                                           \n",
       "2022-01-01   CANARIAS  6.1TD    IGNIS   20 MARE PLUS 3   0.000000  0.346268   \n",
       "2022-01-01  PENINSULA  6.1TD   FACTOR              25.5  0.307259  0.280759   \n",
       "2022-01-01  PENINSULA  2.0TD  ACCIONA            Cierzo  0.335863  0.289650   \n",
       "2022-01-01  PENINSULA  2.0TD  ACCIONA           Levante  0.355148  0.308935   \n",
       "2022-01-01  PENINSULA  6.1TD   FACTOR              23.5  0.305259  0.278759   \n",
       "...               ...    ...      ...               ...       ...       ...   \n",
       "2023-11-01  PENINSULA  6.3TD    IGNIS     4 MARE KIT 2   0.000000  0.129119   \n",
       "2023-11-01  PENINSULA  6.3TD    IGNIS   30 MARE PLUS 1   0.000000  0.155119   \n",
       "2023-11-01  PENINSULA  6.3TD    IGNIS   25 MARE PLUS 2   0.000000  0.150119   \n",
       "2023-11-01  PENINSULA  6.2TD  CANDELA       08 / Bi0,01  0.000000  0.134757   \n",
       "2023-11-01   BALEARES  6.1TD   FACTOR              11.5  0.000000  0.000000   \n",
       "\n",
       "                 P3.       P4.        P5       P6.  \n",
       "MES                                                 \n",
       "2022-01-01  0.000000  0.301674  0.000000  0.253928  \n",
       "2022-01-01  0.000000  0.000000  0.000000  0.244369  \n",
       "2022-01-01  0.269060  0.000000  0.000000  0.000000  \n",
       "2022-01-01  0.288345  0.000000  0.000000  0.000000  \n",
       "2022-01-01  0.000000  0.000000  0.000000  0.242369  \n",
       "...              ...       ...       ...       ...  \n",
       "2023-11-01  0.119301  0.000000  0.000000  0.091489  \n",
       "2023-11-01  0.145301  0.000000  0.000000  0.117489  \n",
       "2023-11-01  0.140301  0.000000  0.000000  0.112489  \n",
       "2023-11-01  0.123334  0.000000  0.000000  0.094704  \n",
       "2023-11-01  0.000000  0.125959  0.111199  0.081642  \n",
       "\n",
       "[11206 rows x 10 columns]"
      ]
     },
     "execution_count": 23,
     "metadata": {},
     "output_type": "execute_result"
    }
   ],
   "source": [
    "df_indexed"
   ]
  },
  {
   "cell_type": "code",
   "execution_count": 24,
   "metadata": {},
   "outputs": [
    {
     "data": {
      "text/plain": [
       "6"
      ]
     },
     "execution_count": 24,
     "metadata": {},
     "output_type": "execute_result"
    }
   ],
   "source": [
    "df_indexed[\"TARIFA\"].nunique()"
   ]
  },
  {
   "cell_type": "code",
   "execution_count": 25,
   "metadata": {},
   "outputs": [],
   "source": [
    "sns.set(style=\"whitegrid\")"
   ]
  },
  {
   "cell_type": "code",
   "execution_count": 26,
   "metadata": {},
   "outputs": [],
   "source": [
    "variables_p = ['P1.', 'P2.', 'P3.', 'P4.', 'P5', 'P6.']"
   ]
  },
  {
   "cell_type": "code",
   "execution_count": 27,
   "metadata": {},
   "outputs": [
    {
     "data": {
      "text/plain": [
       "\"for variable_p in variables_p:\\n    plt.figure(figsize=(12, 6))\\n    sns.lineplot(x='MES', y=variable_p, hue='TARIFA', style='SISTEMA', data=df_indexed)\\n    plt.title(f'{variable_p} por TARIFA y SISTEMA contratado')\\n    plt.xlabel('Fecha')\\n    plt.ylabel(variable_p)\\n    plt.legend(title='TARIFA', bbox_to_anchor=(1, 1))\\n    plt.show()\""
      ]
     },
     "execution_count": 27,
     "metadata": {},
     "output_type": "execute_result"
    }
   ],
   "source": [
    "\"\"\"for variable_p in variables_p:\n",
    "    plt.figure(figsize=(12, 6))\n",
    "    sns.lineplot(x='MES', y=variable_p, hue='TARIFA', style='SISTEMA', data=df_indexed)\n",
    "    plt.title(f'{variable_p} por TARIFA y SISTEMA contratado')\n",
    "    plt.xlabel('Fecha')\n",
    "    plt.ylabel(variable_p)\n",
    "    plt.legend(title='TARIFA', bbox_to_anchor=(1, 1))\n",
    "    plt.show()\"\"\""
   ]
  },
  {
   "cell_type": "code",
   "execution_count": 28,
   "metadata": {},
   "outputs": [
    {
     "data": {
      "text/plain": [
       "\"('Precio actual:',\\n 61.54,\\n 'Opción más barata:',\\n CIA                           NATURGY\\n FEE                                 -\\n PRODUCTO_CIA    RESIDENCIAL NOCHE LUZ\\n CostoTotal                      59.15\\n Name: 89, dtype: object,\\n 'Ahorro:',\\n 2.39,\\n 'Porcentaje de ahorro:',\\n '3.9%',\\n 'Opciones más baratas:',\\n           CIA FEE                   PRODUCTO_CIA  CostoTotal\\n 89    NATURGY   -          RESIDENCIAL NOCHE LUZ       59.15\\n 88    NATURGY   -  RESIDENCIAL POR USO LUZ LOYAL       59.98\\n 90    NATURGY   -        RESIDENCIAL POR USO LUZ       60.67\\n 52     ENDESA   -                    TEMPO LIBRE       61.56\\n 82  IBERDROLA   -  PEH/API 2.0<10kW PLAN ESTABLE       64.05)\""
      ]
     },
     "execution_count": 28,
     "metadata": {},
     "output_type": "execute_result"
    }
   ],
   "source": [
    "\"\"\"('Precio actual:',\n",
    " 61.54,\n",
    " 'Opción más barata:',\n",
    " CIA                           NATURGY\n",
    " FEE                                 -\n",
    " PRODUCTO_CIA    RESIDENCIAL NOCHE LUZ\n",
    " CostoTotal                      59.15\n",
    " Name: 89, dtype: object,\n",
    " 'Ahorro:',\n",
    " 2.39,\n",
    " 'Porcentaje de ahorro:',\n",
    " '3.9%',\n",
    " 'Opciones más baratas:',\n",
    "           CIA FEE                   PRODUCTO_CIA  CostoTotal\n",
    " 89    NATURGY   -          RESIDENCIAL NOCHE LUZ       59.15\n",
    " 88    NATURGY   -  RESIDENCIAL POR USO LUZ LOYAL       59.98\n",
    " 90    NATURGY   -        RESIDENCIAL POR USO LUZ       60.67\n",
    " 52     ENDESA   -                    TEMPO LIBRE       61.56\n",
    " 82  IBERDROLA   -  PEH/API 2.0<10kW PLAN ESTABLE       64.05)\"\"\""
   ]
  },
  {
   "cell_type": "markdown",
   "metadata": {},
   "source": [
    "# Visualizaciones Plotly"
   ]
  },
  {
   "cell_type": "markdown",
   "metadata": {},
   "source": [
    "#### Ejemplos de visualizaciones con datos ficticios"
   ]
  },
  {
   "cell_type": "code",
   "execution_count": 29,
   "metadata": {},
   "outputs": [],
   "source": [
    "import plotly.express as px"
   ]
  },
  {
   "cell_type": "code",
   "execution_count": 30,
   "metadata": {},
   "outputs": [
    {
     "data": {
      "application/vnd.plotly.v1+json": {
       "config": {
        "plotlyServerURL": "https://plot.ly"
       },
       "data": [
        {
         "alignmentgroup": "True",
         "hovertemplate": "Compania=%{x}<br>Mejor Tarifa=%{text}<extra></extra>",
         "legendgroup": "Compania1",
         "marker": {
          "color": "#636efa",
          "pattern": {
           "shape": ""
          }
         },
         "name": "Compania1",
         "offsetgroup": "Compania1",
         "orientation": "v",
         "showlegend": true,
         "text": [
          80
         ],
         "textposition": "outside",
         "texttemplate": "%{text:.2f}",
         "type": "bar",
         "x": [
          "Compania1"
         ],
         "xaxis": "x",
         "y": [
          80
         ],
         "yaxis": "y"
        },
        {
         "alignmentgroup": "True",
         "hovertemplate": "Compania=%{x}<br>Mejor Tarifa=%{text}<extra></extra>",
         "legendgroup": "Compania2",
         "marker": {
          "color": "#EF553B",
          "pattern": {
           "shape": ""
          }
         },
         "name": "Compania2",
         "offsetgroup": "Compania2",
         "orientation": "v",
         "showlegend": true,
         "text": [
          95
         ],
         "textposition": "outside",
         "texttemplate": "%{text:.2f}",
         "type": "bar",
         "x": [
          "Compania2"
         ],
         "xaxis": "x",
         "y": [
          95
         ],
         "yaxis": "y"
        },
        {
         "alignmentgroup": "True",
         "hovertemplate": "Compania=%{x}<br>Mejor Tarifa=%{text}<extra></extra>",
         "legendgroup": "Compania3",
         "marker": {
          "color": "#00cc96",
          "pattern": {
           "shape": ""
          }
         },
         "name": "Compania3",
         "offsetgroup": "Compania3",
         "orientation": "v",
         "showlegend": true,
         "text": [
          105
         ],
         "textposition": "outside",
         "texttemplate": "%{text:.2f}",
         "type": "bar",
         "x": [
          "Compania3"
         ],
         "xaxis": "x",
         "y": [
          105
         ],
         "yaxis": "y"
        },
        {
         "alignmentgroup": "True",
         "hovertemplate": "Compania=%{x}<br>Mejor Tarifa=%{text}<extra></extra>",
         "legendgroup": "Compania4",
         "marker": {
          "color": "#ab63fa",
          "pattern": {
           "shape": ""
          }
         },
         "name": "Compania4",
         "offsetgroup": "Compania4",
         "orientation": "v",
         "showlegend": true,
         "text": [
          115
         ],
         "textposition": "outside",
         "texttemplate": "%{text:.2f}",
         "type": "bar",
         "x": [
          "Compania4"
         ],
         "xaxis": "x",
         "y": [
          115
         ],
         "yaxis": "y"
        },
        {
         "alignmentgroup": "True",
         "hovertemplate": "Compania=%{x}<br>Mejor Tarifa=%{text}<extra></extra>",
         "legendgroup": "Actual",
         "marker": {
          "color": "#FFA15A",
          "pattern": {
           "shape": ""
          }
         },
         "name": "Actual",
         "offsetgroup": "Actual",
         "orientation": "v",
         "showlegend": true,
         "text": [
          92
         ],
         "textposition": "outside",
         "texttemplate": "%{text:.2f}",
         "type": "bar",
         "x": [
          "Actual"
         ],
         "xaxis": "x",
         "y": [
          92
         ],
         "yaxis": "y"
        }
       ],
       "layout": {
        "barmode": "relative",
        "legend": {
         "title": {
          "text": "Compania"
         },
         "tracegroupgap": 0
        },
        "template": {
         "data": {
          "bar": [
           {
            "error_x": {
             "color": "#2a3f5f"
            },
            "error_y": {
             "color": "#2a3f5f"
            },
            "marker": {
             "line": {
              "color": "#E5ECF6",
              "width": 0.5
             },
             "pattern": {
              "fillmode": "overlay",
              "size": 10,
              "solidity": 0.2
             }
            },
            "type": "bar"
           }
          ],
          "barpolar": [
           {
            "marker": {
             "line": {
              "color": "#E5ECF6",
              "width": 0.5
             },
             "pattern": {
              "fillmode": "overlay",
              "size": 10,
              "solidity": 0.2
             }
            },
            "type": "barpolar"
           }
          ],
          "carpet": [
           {
            "aaxis": {
             "endlinecolor": "#2a3f5f",
             "gridcolor": "white",
             "linecolor": "white",
             "minorgridcolor": "white",
             "startlinecolor": "#2a3f5f"
            },
            "baxis": {
             "endlinecolor": "#2a3f5f",
             "gridcolor": "white",
             "linecolor": "white",
             "minorgridcolor": "white",
             "startlinecolor": "#2a3f5f"
            },
            "type": "carpet"
           }
          ],
          "choropleth": [
           {
            "colorbar": {
             "outlinewidth": 0,
             "ticks": ""
            },
            "type": "choropleth"
           }
          ],
          "contour": [
           {
            "colorbar": {
             "outlinewidth": 0,
             "ticks": ""
            },
            "colorscale": [
             [
              0,
              "#0d0887"
             ],
             [
              0.1111111111111111,
              "#46039f"
             ],
             [
              0.2222222222222222,
              "#7201a8"
             ],
             [
              0.3333333333333333,
              "#9c179e"
             ],
             [
              0.4444444444444444,
              "#bd3786"
             ],
             [
              0.5555555555555556,
              "#d8576b"
             ],
             [
              0.6666666666666666,
              "#ed7953"
             ],
             [
              0.7777777777777778,
              "#fb9f3a"
             ],
             [
              0.8888888888888888,
              "#fdca26"
             ],
             [
              1,
              "#f0f921"
             ]
            ],
            "type": "contour"
           }
          ],
          "contourcarpet": [
           {
            "colorbar": {
             "outlinewidth": 0,
             "ticks": ""
            },
            "type": "contourcarpet"
           }
          ],
          "heatmap": [
           {
            "colorbar": {
             "outlinewidth": 0,
             "ticks": ""
            },
            "colorscale": [
             [
              0,
              "#0d0887"
             ],
             [
              0.1111111111111111,
              "#46039f"
             ],
             [
              0.2222222222222222,
              "#7201a8"
             ],
             [
              0.3333333333333333,
              "#9c179e"
             ],
             [
              0.4444444444444444,
              "#bd3786"
             ],
             [
              0.5555555555555556,
              "#d8576b"
             ],
             [
              0.6666666666666666,
              "#ed7953"
             ],
             [
              0.7777777777777778,
              "#fb9f3a"
             ],
             [
              0.8888888888888888,
              "#fdca26"
             ],
             [
              1,
              "#f0f921"
             ]
            ],
            "type": "heatmap"
           }
          ],
          "heatmapgl": [
           {
            "colorbar": {
             "outlinewidth": 0,
             "ticks": ""
            },
            "colorscale": [
             [
              0,
              "#0d0887"
             ],
             [
              0.1111111111111111,
              "#46039f"
             ],
             [
              0.2222222222222222,
              "#7201a8"
             ],
             [
              0.3333333333333333,
              "#9c179e"
             ],
             [
              0.4444444444444444,
              "#bd3786"
             ],
             [
              0.5555555555555556,
              "#d8576b"
             ],
             [
              0.6666666666666666,
              "#ed7953"
             ],
             [
              0.7777777777777778,
              "#fb9f3a"
             ],
             [
              0.8888888888888888,
              "#fdca26"
             ],
             [
              1,
              "#f0f921"
             ]
            ],
            "type": "heatmapgl"
           }
          ],
          "histogram": [
           {
            "marker": {
             "pattern": {
              "fillmode": "overlay",
              "size": 10,
              "solidity": 0.2
             }
            },
            "type": "histogram"
           }
          ],
          "histogram2d": [
           {
            "colorbar": {
             "outlinewidth": 0,
             "ticks": ""
            },
            "colorscale": [
             [
              0,
              "#0d0887"
             ],
             [
              0.1111111111111111,
              "#46039f"
             ],
             [
              0.2222222222222222,
              "#7201a8"
             ],
             [
              0.3333333333333333,
              "#9c179e"
             ],
             [
              0.4444444444444444,
              "#bd3786"
             ],
             [
              0.5555555555555556,
              "#d8576b"
             ],
             [
              0.6666666666666666,
              "#ed7953"
             ],
             [
              0.7777777777777778,
              "#fb9f3a"
             ],
             [
              0.8888888888888888,
              "#fdca26"
             ],
             [
              1,
              "#f0f921"
             ]
            ],
            "type": "histogram2d"
           }
          ],
          "histogram2dcontour": [
           {
            "colorbar": {
             "outlinewidth": 0,
             "ticks": ""
            },
            "colorscale": [
             [
              0,
              "#0d0887"
             ],
             [
              0.1111111111111111,
              "#46039f"
             ],
             [
              0.2222222222222222,
              "#7201a8"
             ],
             [
              0.3333333333333333,
              "#9c179e"
             ],
             [
              0.4444444444444444,
              "#bd3786"
             ],
             [
              0.5555555555555556,
              "#d8576b"
             ],
             [
              0.6666666666666666,
              "#ed7953"
             ],
             [
              0.7777777777777778,
              "#fb9f3a"
             ],
             [
              0.8888888888888888,
              "#fdca26"
             ],
             [
              1,
              "#f0f921"
             ]
            ],
            "type": "histogram2dcontour"
           }
          ],
          "mesh3d": [
           {
            "colorbar": {
             "outlinewidth": 0,
             "ticks": ""
            },
            "type": "mesh3d"
           }
          ],
          "parcoords": [
           {
            "line": {
             "colorbar": {
              "outlinewidth": 0,
              "ticks": ""
             }
            },
            "type": "parcoords"
           }
          ],
          "pie": [
           {
            "automargin": true,
            "type": "pie"
           }
          ],
          "scatter": [
           {
            "fillpattern": {
             "fillmode": "overlay",
             "size": 10,
             "solidity": 0.2
            },
            "type": "scatter"
           }
          ],
          "scatter3d": [
           {
            "line": {
             "colorbar": {
              "outlinewidth": 0,
              "ticks": ""
             }
            },
            "marker": {
             "colorbar": {
              "outlinewidth": 0,
              "ticks": ""
             }
            },
            "type": "scatter3d"
           }
          ],
          "scattercarpet": [
           {
            "marker": {
             "colorbar": {
              "outlinewidth": 0,
              "ticks": ""
             }
            },
            "type": "scattercarpet"
           }
          ],
          "scattergeo": [
           {
            "marker": {
             "colorbar": {
              "outlinewidth": 0,
              "ticks": ""
             }
            },
            "type": "scattergeo"
           }
          ],
          "scattergl": [
           {
            "marker": {
             "colorbar": {
              "outlinewidth": 0,
              "ticks": ""
             }
            },
            "type": "scattergl"
           }
          ],
          "scattermapbox": [
           {
            "marker": {
             "colorbar": {
              "outlinewidth": 0,
              "ticks": ""
             }
            },
            "type": "scattermapbox"
           }
          ],
          "scatterpolar": [
           {
            "marker": {
             "colorbar": {
              "outlinewidth": 0,
              "ticks": ""
             }
            },
            "type": "scatterpolar"
           }
          ],
          "scatterpolargl": [
           {
            "marker": {
             "colorbar": {
              "outlinewidth": 0,
              "ticks": ""
             }
            },
            "type": "scatterpolargl"
           }
          ],
          "scatterternary": [
           {
            "marker": {
             "colorbar": {
              "outlinewidth": 0,
              "ticks": ""
             }
            },
            "type": "scatterternary"
           }
          ],
          "surface": [
           {
            "colorbar": {
             "outlinewidth": 0,
             "ticks": ""
            },
            "colorscale": [
             [
              0,
              "#0d0887"
             ],
             [
              0.1111111111111111,
              "#46039f"
             ],
             [
              0.2222222222222222,
              "#7201a8"
             ],
             [
              0.3333333333333333,
              "#9c179e"
             ],
             [
              0.4444444444444444,
              "#bd3786"
             ],
             [
              0.5555555555555556,
              "#d8576b"
             ],
             [
              0.6666666666666666,
              "#ed7953"
             ],
             [
              0.7777777777777778,
              "#fb9f3a"
             ],
             [
              0.8888888888888888,
              "#fdca26"
             ],
             [
              1,
              "#f0f921"
             ]
            ],
            "type": "surface"
           }
          ],
          "table": [
           {
            "cells": {
             "fill": {
              "color": "#EBF0F8"
             },
             "line": {
              "color": "white"
             }
            },
            "header": {
             "fill": {
              "color": "#C8D4E3"
             },
             "line": {
              "color": "white"
             }
            },
            "type": "table"
           }
          ]
         },
         "layout": {
          "annotationdefaults": {
           "arrowcolor": "#2a3f5f",
           "arrowhead": 0,
           "arrowwidth": 1
          },
          "autotypenumbers": "strict",
          "coloraxis": {
           "colorbar": {
            "outlinewidth": 0,
            "ticks": ""
           }
          },
          "colorscale": {
           "diverging": [
            [
             0,
             "#8e0152"
            ],
            [
             0.1,
             "#c51b7d"
            ],
            [
             0.2,
             "#de77ae"
            ],
            [
             0.3,
             "#f1b6da"
            ],
            [
             0.4,
             "#fde0ef"
            ],
            [
             0.5,
             "#f7f7f7"
            ],
            [
             0.6,
             "#e6f5d0"
            ],
            [
             0.7,
             "#b8e186"
            ],
            [
             0.8,
             "#7fbc41"
            ],
            [
             0.9,
             "#4d9221"
            ],
            [
             1,
             "#276419"
            ]
           ],
           "sequential": [
            [
             0,
             "#0d0887"
            ],
            [
             0.1111111111111111,
             "#46039f"
            ],
            [
             0.2222222222222222,
             "#7201a8"
            ],
            [
             0.3333333333333333,
             "#9c179e"
            ],
            [
             0.4444444444444444,
             "#bd3786"
            ],
            [
             0.5555555555555556,
             "#d8576b"
            ],
            [
             0.6666666666666666,
             "#ed7953"
            ],
            [
             0.7777777777777778,
             "#fb9f3a"
            ],
            [
             0.8888888888888888,
             "#fdca26"
            ],
            [
             1,
             "#f0f921"
            ]
           ],
           "sequentialminus": [
            [
             0,
             "#0d0887"
            ],
            [
             0.1111111111111111,
             "#46039f"
            ],
            [
             0.2222222222222222,
             "#7201a8"
            ],
            [
             0.3333333333333333,
             "#9c179e"
            ],
            [
             0.4444444444444444,
             "#bd3786"
            ],
            [
             0.5555555555555556,
             "#d8576b"
            ],
            [
             0.6666666666666666,
             "#ed7953"
            ],
            [
             0.7777777777777778,
             "#fb9f3a"
            ],
            [
             0.8888888888888888,
             "#fdca26"
            ],
            [
             1,
             "#f0f921"
            ]
           ]
          },
          "colorway": [
           "#636efa",
           "#EF553B",
           "#00cc96",
           "#ab63fa",
           "#FFA15A",
           "#19d3f3",
           "#FF6692",
           "#B6E880",
           "#FF97FF",
           "#FECB52"
          ],
          "font": {
           "color": "#2a3f5f"
          },
          "geo": {
           "bgcolor": "white",
           "lakecolor": "white",
           "landcolor": "#E5ECF6",
           "showlakes": true,
           "showland": true,
           "subunitcolor": "white"
          },
          "hoverlabel": {
           "align": "left"
          },
          "hovermode": "closest",
          "mapbox": {
           "style": "light"
          },
          "paper_bgcolor": "white",
          "plot_bgcolor": "#E5ECF6",
          "polar": {
           "angularaxis": {
            "gridcolor": "white",
            "linecolor": "white",
            "ticks": ""
           },
           "bgcolor": "#E5ECF6",
           "radialaxis": {
            "gridcolor": "white",
            "linecolor": "white",
            "ticks": ""
           }
          },
          "scene": {
           "xaxis": {
            "backgroundcolor": "#E5ECF6",
            "gridcolor": "white",
            "gridwidth": 2,
            "linecolor": "white",
            "showbackground": true,
            "ticks": "",
            "zerolinecolor": "white"
           },
           "yaxis": {
            "backgroundcolor": "#E5ECF6",
            "gridcolor": "white",
            "gridwidth": 2,
            "linecolor": "white",
            "showbackground": true,
            "ticks": "",
            "zerolinecolor": "white"
           },
           "zaxis": {
            "backgroundcolor": "#E5ECF6",
            "gridcolor": "white",
            "gridwidth": 2,
            "linecolor": "white",
            "showbackground": true,
            "ticks": "",
            "zerolinecolor": "white"
           }
          },
          "shapedefaults": {
           "line": {
            "color": "#2a3f5f"
           }
          },
          "ternary": {
           "aaxis": {
            "gridcolor": "white",
            "linecolor": "white",
            "ticks": ""
           },
           "baxis": {
            "gridcolor": "white",
            "linecolor": "white",
            "ticks": ""
           },
           "bgcolor": "#E5ECF6",
           "caxis": {
            "gridcolor": "white",
            "linecolor": "white",
            "ticks": ""
           }
          },
          "title": {
           "x": 0.05
          },
          "xaxis": {
           "automargin": true,
           "gridcolor": "white",
           "linecolor": "white",
           "ticks": "",
           "title": {
            "standoff": 15
           },
           "zerolinecolor": "white",
           "zerolinewidth": 2
          },
          "yaxis": {
           "automargin": true,
           "gridcolor": "white",
           "linecolor": "white",
           "ticks": "",
           "title": {
            "standoff": 15
           },
           "zerolinecolor": "white",
           "zerolinewidth": 2
          }
         }
        },
        "title": {
         "text": "Mejor Tarifa por Compañía"
        },
        "xaxis": {
         "anchor": "y",
         "categoryarray": [
          "Compania1",
          "Compania2",
          "Compania3",
          "Compania4",
          "Actual"
         ],
         "categoryorder": "array",
         "domain": [
          0,
          1
         ],
         "title": {
          "text": "Compania"
         }
        },
        "yaxis": {
         "anchor": "x",
         "domain": [
          0,
          1
         ],
         "title": {
          "text": "Mejor Tarifa"
         }
        }
       }
      }
     },
     "metadata": {},
     "output_type": "display_data"
    }
   ],
   "source": [
    "data = {\n",
    "    'Compania': ['Compania1', 'Compania2', 'Compania3', 'Compania4'],\n",
    "    'Tarifa1': [100, 110, 120, 130],\n",
    "    'Tarifa2': [90, 100, 110, 120],\n",
    "    'Tarifa3': [80, 95, 105, 115]\n",
    "}\n",
    "\n",
    "df = pd.DataFrame(data)\n",
    "\n",
    "df['Mejor_Tarifa'] = df[['Tarifa1', 'Tarifa2', 'Tarifa3']].min(axis=1)\n",
    "compania_actual = 'Actual'\n",
    "tarifas_compania_actual = [105, 98, 92]\n",
    "\n",
    "nueva_fila = pd.DataFrame({\n",
    "    'Compania': [compania_actual],\n",
    "    'Tarifa1': [tarifas_compania_actual[0]],\n",
    "    'Tarifa2': [tarifas_compania_actual[1]],\n",
    "    'Tarifa3': [tarifas_compania_actual[2]],\n",
    "    'Mejor_Tarifa': min(tarifas_compania_actual)\n",
    "})\n",
    "\n",
    "df = pd.concat([df, nueva_fila], ignore_index=True)\n",
    "\n",
    "\n",
    "fig = px.bar(df, x='Compania', y='Mejor_Tarifa', title='Mejor Tarifa por Compañía', text='Mejor_Tarifa',\n",
    "             labels={'Mejor_Tarifa': 'Mejor Tarifa'},\n",
    "             color='Compania',\n",
    "             category_orders={'Compania': df['Compania'].tolist() + [compania_actual]}\n",
    "             )\n",
    "\n",
    "# Personalizar la visualización\n",
    "fig.update_traces(texttemplate='%{text:.2f}', textposition='outside')\n",
    "\n",
    "# Mostrar la visualización\n",
    "fig.show()\n"
   ]
  },
  {
   "cell_type": "code",
   "execution_count": 31,
   "metadata": {},
   "outputs": [
    {
     "data": {
      "application/vnd.plotly.v1+json": {
       "config": {
        "plotlyServerURL": "https://plot.ly"
       },
       "data": [
        {
         "fillpattern": {
          "shape": ""
         },
         "hovertemplate": "company=GOOG<br>date=%{x}<br>value=%{y}<extra></extra>",
         "legendgroup": "GOOG",
         "line": {
          "color": "#636efa"
         },
         "marker": {
          "symbol": "circle"
         },
         "mode": "lines",
         "name": "GOOG",
         "orientation": "v",
         "showlegend": true,
         "stackgroup": "1",
         "type": "scatter",
         "x": [
          "2018-01-01",
          "2018-01-08",
          "2018-01-15",
          "2018-01-22",
          "2018-01-29",
          "2018-02-05",
          "2018-02-12",
          "2018-02-19",
          "2018-02-26",
          "2018-03-05",
          "2018-03-12",
          "2018-03-19",
          "2018-03-26",
          "2018-04-02",
          "2018-04-09",
          "2018-04-16",
          "2018-04-23",
          "2018-04-30",
          "2018-05-07",
          "2018-05-14",
          "2018-05-21",
          "2018-05-28",
          "2018-06-04",
          "2018-06-11",
          "2018-06-18",
          "2018-06-25",
          "2018-07-02",
          "2018-07-09",
          "2018-07-16",
          "2018-07-23",
          "2018-07-30",
          "2018-08-06",
          "2018-08-13",
          "2018-08-20",
          "2018-08-27",
          "2018-09-03",
          "2018-09-10",
          "2018-09-17",
          "2018-09-24",
          "2018-10-01",
          "2018-10-08",
          "2018-10-15",
          "2018-10-22",
          "2018-10-29",
          "2018-11-05",
          "2018-11-12",
          "2018-11-19",
          "2018-11-26",
          "2018-12-03",
          "2018-12-10",
          "2018-12-17",
          "2018-12-24",
          "2018-12-31",
          "2019-01-07",
          "2019-01-14",
          "2019-01-21",
          "2019-01-28",
          "2019-02-04",
          "2019-02-11",
          "2019-02-18",
          "2019-02-25",
          "2019-03-04",
          "2019-03-11",
          "2019-03-18",
          "2019-03-25",
          "2019-04-01",
          "2019-04-08",
          "2019-04-15",
          "2019-04-22",
          "2019-04-29",
          "2019-05-06",
          "2019-05-13",
          "2019-05-20",
          "2019-05-27",
          "2019-06-03",
          "2019-06-10",
          "2019-06-17",
          "2019-06-24",
          "2019-07-01",
          "2019-07-08",
          "2019-07-15",
          "2019-07-22",
          "2019-07-29",
          "2019-08-05",
          "2019-08-12",
          "2019-08-19",
          "2019-08-26",
          "2019-09-02",
          "2019-09-09",
          "2019-09-16",
          "2019-09-23",
          "2019-09-30",
          "2019-10-07",
          "2019-10-14",
          "2019-10-21",
          "2019-10-28",
          "2019-11-04",
          "2019-11-11",
          "2019-11-18",
          "2019-11-25",
          "2019-12-02",
          "2019-12-09",
          "2019-12-16",
          "2019-12-23",
          "2019-12-30"
         ],
         "xaxis": "x5",
         "y": [
          0,
          0.01817227834793611,
          0.03200786645269793,
          0.0667827833897241,
          0.008773163655011684,
          -0.058472326256268414,
          -0.006740817374609964,
          0.02228215476410833,
          -0.021147978573400783,
          0.05244827309088418,
          0.03039293124652631,
          -0.073178895932408,
          -0.06390675474096619,
          -0.08636128913858798,
          -0.06619304620983002,
          -0.026555273882134744,
          -0.06548536358991075,
          -0.049009752937404394,
          -0.0036017619480828156,
          -0.03254311318949976,
          -0.024105628119460376,
          0.01566825464137711,
          0.01691118490534982,
          0.04538982871795949,
          0.048311151906791805,
          0.012175357451264412,
          0.03442118676539718,
          0.07855889203812083,
          0.07501161781137511,
          0.12363120444247033,
          0.11021291672723321,
          0.1228237368393843,
          0.08957294102996549,
          0.10743678374634658,
          0.10520486931411543,
          0.0567939333314087,
          0.06377983748908722,
          0.05793707951946647,
          0.08277763502676638,
          0.05000770891751638,
          0.0071219039061158895,
          -0.005234859425616412,
          -0.027907069811329177,
          -0.040318211086946,
          -0.03273360065927444,
          -0.03696142432997518,
          -0.07108314636841939,
          -0.007076495959582041,
          -0.05956109450044178,
          -0.054553047087324,
          -0.11131071031110962,
          -0.05910746866094141,
          -0.028596590159886803,
          -0.04086265100501085,
          -0.0036017619480828156,
          -0.010197499799451948,
          0.007729802450120227,
          -0.006504922865553153,
          0.010360854093262706,
          0.007385042275841691,
          0.035165084150587056,
          0.036371688964584425,
          0.07460328832645247,
          0.0936918990354445,
          0.0644875210162581,
          0.095188886079836,
          0.10491459776842582,
          0.12169875382994033,
          0.1541874899828073,
          0.07545616206156902,
          0.056285930455275635,
          0.054498670957942696,
          0.02834253428671918,
          0.0012701750318930838,
          -0.032833384735189375,
          -0.015314411970539954,
          0.017827518173657353,
          -0.01934255680470598,
          0.02663689659393942,
          0.03871246906203729,
          0.025285100664744986,
          0.13443660278592673,
          0.08324942313762862,
          0.07782407624223753,
          0.06837955541728191,
          0.04450982089962752,
          0.07790569804679048,
          0.09317481457000465,
          0.12459294475006,
          0.1158561065450241,
          0.11146492858051271,
          0.09686727991194721,
          0.10271900878617002,
          0.12997288460616896,
          0.14779132119051952,
          0.1556027445379411,
          0.1897426297549989,
          0.21106304421151711,
          0.1751993590303178,
          0.1839271156460469,
          0.216279741365772,
          0.2228209905885521,
          0.2244177626161099,
          0.2265044859331442,
          0.21301365800266092
         ],
         "yaxis": "y5"
        },
        {
         "fillpattern": {
          "shape": ""
         },
         "hovertemplate": "company=AAPL<br>date=%{x}<br>value=%{y}<extra></extra>",
         "legendgroup": "AAPL",
         "line": {
          "color": "#EF553B"
         },
         "marker": {
          "symbol": "circle"
         },
         "mode": "lines",
         "name": "AAPL",
         "orientation": "v",
         "showlegend": true,
         "stackgroup": "1",
         "type": "scatter",
         "x": [
          "2018-01-01",
          "2018-01-08",
          "2018-01-15",
          "2018-01-22",
          "2018-01-29",
          "2018-02-05",
          "2018-02-12",
          "2018-02-19",
          "2018-02-26",
          "2018-03-05",
          "2018-03-12",
          "2018-03-19",
          "2018-03-26",
          "2018-04-02",
          "2018-04-09",
          "2018-04-16",
          "2018-04-23",
          "2018-04-30",
          "2018-05-07",
          "2018-05-14",
          "2018-05-21",
          "2018-05-28",
          "2018-06-04",
          "2018-06-11",
          "2018-06-18",
          "2018-06-25",
          "2018-07-02",
          "2018-07-09",
          "2018-07-16",
          "2018-07-23",
          "2018-07-30",
          "2018-08-06",
          "2018-08-13",
          "2018-08-20",
          "2018-08-27",
          "2018-09-03",
          "2018-09-10",
          "2018-09-17",
          "2018-09-24",
          "2018-10-01",
          "2018-10-08",
          "2018-10-15",
          "2018-10-22",
          "2018-10-29",
          "2018-11-05",
          "2018-11-12",
          "2018-11-19",
          "2018-11-26",
          "2018-12-03",
          "2018-12-10",
          "2018-12-17",
          "2018-12-24",
          "2018-12-31",
          "2019-01-07",
          "2019-01-14",
          "2019-01-21",
          "2019-01-28",
          "2019-02-04",
          "2019-02-11",
          "2019-02-18",
          "2019-02-25",
          "2019-03-04",
          "2019-03-11",
          "2019-03-18",
          "2019-03-25",
          "2019-04-01",
          "2019-04-08",
          "2019-04-15",
          "2019-04-22",
          "2019-04-29",
          "2019-05-06",
          "2019-05-13",
          "2019-05-20",
          "2019-05-27",
          "2019-06-03",
          "2019-06-10",
          "2019-06-17",
          "2019-06-24",
          "2019-07-01",
          "2019-07-08",
          "2019-07-15",
          "2019-07-22",
          "2019-07-29",
          "2019-08-05",
          "2019-08-12",
          "2019-08-19",
          "2019-08-26",
          "2019-09-02",
          "2019-09-09",
          "2019-09-16",
          "2019-09-23",
          "2019-09-30",
          "2019-10-07",
          "2019-10-14",
          "2019-10-21",
          "2019-10-28",
          "2019-11-04",
          "2019-11-11",
          "2019-11-18",
          "2019-11-25",
          "2019-12-02",
          "2019-12-09",
          "2019-12-16",
          "2019-12-23",
          "2019-12-30"
         ],
         "xaxis": "x6",
         "y": [
          0,
          0.011942834285714188,
          0.019771468571428752,
          -0.019942885714285596,
          -0.08285714285714285,
          -0.1062285485714285,
          -0.014685754285714392,
          0.0028571428571428914,
          0.006914325714286074,
          0.02845711999999989,
          0.017257165714285705,
          -0.05748570285714283,
          -0.04125714857142859,
          -0.037828542857142766,
          -0.0015428800000000242,
          -0.0530285657142856,
          -0.0724571028571428,
          0.0504571542857144,
          0.07765712000000002,
          0.06462856000000006,
          0.07760001142857154,
          0.08708574285714277,
          0.0954285542857145,
          0.07908569142857136,
          0.056685702857142806,
          0.057771434285714296,
          0.07411429142857151,
          0.0933142971428571,
          0.0939428685714283,
          0.09131426285714284,
          0.1885143142857142,
          0.1858857085714285,
          0.24331429714285724,
          0.23520002285714292,
          0.30074288571428553,
          0.2645714457142856,
          0.2790856914285711,
          0.2437714514285716,
          0.2899428857142856,
          0.28165710285714285,
          0.2692000057142856,
          0.2531999885714289,
          0.2360000171428569,
          0.18559997714285714,
          0.1684000057142856,
          0.10588570857142865,
          -0.015485754285714415,
          0.020457154285714374,
          -0.037199971428571565,
          -0.05440002285714285,
          -0.13868573714285715,
          -0.10725716571428567,
          -0.1528000285714286,
          -0.12977146857142863,
          -0.10388567428571427,
          -0.09851431428571422,
          -0.04845712000000002,
          -0.026228548571428423,
          -0.026171440000000046,
          -0.011599994285714454,
          -0.00017142285714277783,
          -0.011942834285714188,
          0.06354282857142857,
          0.09171430285714277,
          0.0854285542857145,
          0.12571428571428567,
          0.1363999714285713,
          0.1649142914285715,
          0.16742858857142862,
          0.20999999999999996,
          0.12674281714285707,
          0.08000000000000007,
          0.02268571999999991,
          0.0004000399999999349,
          0.08657139428571448,
          0.10137145714285722,
          0.1358857085714289,
          0.1309714171428571,
          0.1670285485714289,
          0.16171430285714283,
          0.1576571200000001,
          0.18708574285714286,
          0.1658285942857145,
          0.14851431428571416,
          0.17999999999999994,
          0.15794285142857167,
          0.19280002857142864,
          0.21862854285714306,
          0.25,
          0.24417140571428564,
          0.25040003999999993,
          0.2971999714285716,
          0.3497714685714286,
          0.3509143085714286,
          0.40902858285714294,
          0.46182861142857123,
          0.48651437142857157,
          0.5186286285714288,
          0.4958857085714288,
          0.5271428571428571,
          0.5469142342857145,
          0.57228568,
          0.5968000114285714,
          0.6559999314285714,
          0.6779999657142857
         ],
         "yaxis": "y6"
        },
        {
         "fillpattern": {
          "shape": ""
         },
         "hovertemplate": "company=AMZN<br>date=%{x}<br>value=%{y}<extra></extra>",
         "legendgroup": "AMZN",
         "line": {
          "color": "#00cc96"
         },
         "marker": {
          "symbol": "circle"
         },
         "mode": "lines",
         "name": "AMZN",
         "orientation": "v",
         "showlegend": true,
         "stackgroup": "1",
         "type": "scatter",
         "x": [
          "2018-01-01",
          "2018-01-08",
          "2018-01-15",
          "2018-01-22",
          "2018-01-29",
          "2018-02-05",
          "2018-02-12",
          "2018-02-19",
          "2018-02-26",
          "2018-03-05",
          "2018-03-12",
          "2018-03-19",
          "2018-03-26",
          "2018-04-02",
          "2018-04-09",
          "2018-04-16",
          "2018-04-23",
          "2018-04-30",
          "2018-05-07",
          "2018-05-14",
          "2018-05-21",
          "2018-05-28",
          "2018-06-04",
          "2018-06-11",
          "2018-06-18",
          "2018-06-25",
          "2018-07-02",
          "2018-07-09",
          "2018-07-16",
          "2018-07-23",
          "2018-07-30",
          "2018-08-06",
          "2018-08-13",
          "2018-08-20",
          "2018-08-27",
          "2018-09-03",
          "2018-09-10",
          "2018-09-17",
          "2018-09-24",
          "2018-10-01",
          "2018-10-08",
          "2018-10-15",
          "2018-10-22",
          "2018-10-29",
          "2018-11-05",
          "2018-11-12",
          "2018-11-19",
          "2018-11-26",
          "2018-12-03",
          "2018-12-10",
          "2018-12-17",
          "2018-12-24",
          "2018-12-31",
          "2019-01-07",
          "2019-01-14",
          "2019-01-21",
          "2019-01-28",
          "2019-02-04",
          "2019-02-11",
          "2019-02-18",
          "2019-02-25",
          "2019-03-04",
          "2019-03-11",
          "2019-03-18",
          "2019-03-25",
          "2019-04-01",
          "2019-04-08",
          "2019-04-15",
          "2019-04-22",
          "2019-04-29",
          "2019-05-06",
          "2019-05-13",
          "2019-05-20",
          "2019-05-27",
          "2019-06-03",
          "2019-06-10",
          "2019-06-17",
          "2019-06-24",
          "2019-07-01",
          "2019-07-08",
          "2019-07-15",
          "2019-07-22",
          "2019-07-29",
          "2019-08-05",
          "2019-08-12",
          "2019-08-19",
          "2019-08-26",
          "2019-09-02",
          "2019-09-09",
          "2019-09-16",
          "2019-09-23",
          "2019-09-30",
          "2019-10-07",
          "2019-10-14",
          "2019-10-21",
          "2019-10-28",
          "2019-11-04",
          "2019-11-11",
          "2019-11-18",
          "2019-11-25",
          "2019-12-02",
          "2019-12-09",
          "2019-12-16",
          "2019-12-23",
          "2019-12-30"
         ],
         "xaxis": "x3",
         "y": [
          0,
          0.06188061170557568,
          0.053240428430767706,
          0.14067562026283875,
          0.16337433778852284,
          0.08986767955805264,
          0.17862076193166665,
          0.2203654438831366,
          0.2205688381237838,
          0.28454854266541796,
          0.2786826844946546,
          0.21675321017028315,
          0.17752245337159578,
          0.14326273886706065,
          0.16405781403187003,
          0.24273066644893193,
          0.2794473988384474,
          0.2862244591394254,
          0.3040906767647622,
          0.2808711585229775,
          0.3099809658381354,
          0.3355191588974509,
          0.3700554610940725,
          0.3960736368996989,
          0.3958296232020404,
          0.3829181608736414,
          0.3917291635810911,
          0.47503946407602715,
          0.4755844971819587,
          0.4784890230752108,
          0.4833867718479574,
          0.5346502643964448,
          0.5313308069300795,
          0.5501814209506477,
          0.6374944566425169,
          0.5881591374274802,
          0.6029011479217037,
          0.5580080272628667,
          0.6295946560652816,
          0.5373757268816928,
          0.45517187885222343,
          0.4351741929091779,
          0.3365524179114776,
          0.3550368620941855,
          0.3931936419790223,
          0.2963616956201691,
          0.22204146042710993,
          0.375083410656027,
          0.32542264113010755,
          0.29514133017628597,
          0.12066154725261313,
          0.2024830385169749,
          0.28170102329635727,
          0.3347218697456531,
          0.3799892040777797,
          0.359137222458745,
          0.32306324759917615,
          0.29213917992898475,
          0.3081910371293215,
          0.3273996770823542,
          0.3600809993969647,
          0.3186455808291295,
          0.3931366354548309,
          0.4357762325393011,
          0.4487771761299302,
          0.4947687054188046,
          0.4994712046698764,
          0.5146280474808236,
          0.5869876346023932,
          0.5966122142724319,
          0.5376441714819611,
          0.5205753430783882,
          0.48337862794256203,
          0.44415601504927005,
          0.46771727141272845,
          0.521120475440709,
          0.5549896884611636,
          0.5406137477348341,
          0.5807068440449401,
          0.6361032717659916,
          0.5982882308164057,
          0.5808207570233568,
          0.4833460531345568,
          0.4706054102388,
          0.4583936118945735,
          0.4234505212166575,
          0.44514865460628594,
          0.4917015048118829,
          0.4964446227063888,
          0.4596872708598625,
          0.40378633023350075,
          0.4153391824933792,
          0.4090502488441077,
          0.42986965565513735,
          0.4329774757190701,
          0.4574742658589632,
          0.4529508300158951,
          0.4152089825177483,
          0.4202775515367141,
          0.46508943409510595,
          0.425061388144621,
          0.4326601685000062,
          0.4534552436648156,
          0.5212262445137299,
          0.5033600268883931
         ],
         "yaxis": "y3"
        },
        {
         "fillpattern": {
          "shape": ""
         },
         "hovertemplate": "company=FB<br>date=%{x}<br>value=%{y}<extra></extra>",
         "legendgroup": "FB",
         "line": {
          "color": "#ab63fa"
         },
         "marker": {
          "symbol": "circle"
         },
         "mode": "lines",
         "name": "FB",
         "orientation": "v",
         "showlegend": true,
         "stackgroup": "1",
         "type": "scatter",
         "x": [
          "2018-01-01",
          "2018-01-08",
          "2018-01-15",
          "2018-01-22",
          "2018-01-29",
          "2018-02-05",
          "2018-02-12",
          "2018-02-19",
          "2018-02-26",
          "2018-03-05",
          "2018-03-12",
          "2018-03-19",
          "2018-03-26",
          "2018-04-02",
          "2018-04-09",
          "2018-04-16",
          "2018-04-23",
          "2018-04-30",
          "2018-05-07",
          "2018-05-14",
          "2018-05-21",
          "2018-05-28",
          "2018-06-04",
          "2018-06-11",
          "2018-06-18",
          "2018-06-25",
          "2018-07-02",
          "2018-07-09",
          "2018-07-16",
          "2018-07-23",
          "2018-07-30",
          "2018-08-06",
          "2018-08-13",
          "2018-08-20",
          "2018-08-27",
          "2018-09-03",
          "2018-09-10",
          "2018-09-17",
          "2018-09-24",
          "2018-10-01",
          "2018-10-08",
          "2018-10-15",
          "2018-10-22",
          "2018-10-29",
          "2018-11-05",
          "2018-11-12",
          "2018-11-19",
          "2018-11-26",
          "2018-12-03",
          "2018-12-10",
          "2018-12-17",
          "2018-12-24",
          "2018-12-31",
          "2019-01-07",
          "2019-01-14",
          "2019-01-21",
          "2019-01-28",
          "2019-02-04",
          "2019-02-11",
          "2019-02-18",
          "2019-02-25",
          "2019-03-04",
          "2019-03-11",
          "2019-03-18",
          "2019-03-25",
          "2019-04-01",
          "2019-04-08",
          "2019-04-15",
          "2019-04-22",
          "2019-04-29",
          "2019-05-06",
          "2019-05-13",
          "2019-05-20",
          "2019-05-27",
          "2019-06-03",
          "2019-06-10",
          "2019-06-17",
          "2019-06-24",
          "2019-07-01",
          "2019-07-08",
          "2019-07-15",
          "2019-07-22",
          "2019-07-29",
          "2019-08-05",
          "2019-08-12",
          "2019-08-19",
          "2019-08-26",
          "2019-09-02",
          "2019-09-09",
          "2019-09-16",
          "2019-09-23",
          "2019-09-30",
          "2019-10-07",
          "2019-10-14",
          "2019-10-21",
          "2019-10-28",
          "2019-11-04",
          "2019-11-11",
          "2019-11-18",
          "2019-11-25",
          "2019-12-02",
          "2019-12-09",
          "2019-12-16",
          "2019-12-23",
          "2019-12-30"
         ],
         "xaxis": "x4",
         "y": [
          0,
          -0.04003216890450645,
          -0.029756557781432602,
          0.016858409948351527,
          0.018356932779547197,
          -0.05747928635335442,
          -0.050789428393168023,
          -0.01905278504513419,
          -0.054749856416916765,
          -0.008670109435265583,
          -0.00941937352680644,
          -0.1469628371325823,
          -0.14482211469664086,
          -0.1586834789826017,
          -0.11950763330454484,
          -0.11008834005603407,
          -0.07096606676052242,
          -0.05480334316927982,
          0.0007492587396544792,
          -0.022317435729705237,
          -0.010329183505619177,
          0.03821246331669892,
          0.012041744328335824,
          0.04816697731334307,
          0.07968958266985537,
          0.03997859652196101,
          0.08766384519142045,
          0.1095531193079009,
          0.12357503483302001,
          -0.06400859842626938,
          -0.048541646822317985,
          -0.035268990036853576,
          -0.06984213316000643,
          -0.06529307791405703,
          -0.05951302993268304,
          -0.12742848400015583,
          -0.13128176725881402,
          -0.12801719150065216,
          -0.11982873043097464,
          -0.1579877069953104,
          -0.17720096300130705,
          -0.17554188893095357,
          -0.22199630542157978,
          -0.19534385243744656,
          -0.22419051460988437,
          -0.25325130040402566,
          -0.29499603013124875,
          -0.24747125242265178,
          -0.264543785992707,
          -0.2290072605081961,
          -0.33128181435541404,
          -0.287128751818183,
          -0.26170729156947425,
          -0.23039872420448304,
          -0.19700300678609572,
          -0.2025154390415166,
          -0.11313887247078813,
          -0.10446884331381823,
          -0.13031846517575174,
          -0.13358312121220917,
          -0.1314958855286309,
          -0.09232003985057402,
          -0.1116939220221379,
          -0.12047101566590279,
          -0.1078940505894338,
          -0.0595665220369328,
          -0.041477119353156455,
          -0.04586570363824338,
          0.024832747396325905,
          0.046133233734014345,
          0.007974257169678589,
          -0.008295439926290449,
          -0.03098746488667481,
          -0.05020072089267158,
          -0.07225046597001439,
          -0.029542434159729236,
          0.022959555056155434,
          0.032914069052799366,
          0.051110450593188306,
          0.09644093348329874,
          0.06160018533796552,
          0.06903930203780662,
          0.011613582715110926,
          0.005351886368149206,
          -0.016858490226647427,
          -0.04870219806147602,
          -0.006315268729507051,
          0.003425201923729082,
          0.0018196199576252514,
          0.016483740439376726,
          -0.052180892089454756,
          -0.034252120923132345,
          -0.014236039146822366,
          -0.005351886368149206,
          0.0055659243596704044,
          0.036232211841620066,
          0.021353973090051603,
          0.04415306253723106,
          0.06406208517863243,
          0.07915436192172232,
          0.0759967703720601,
          0.038854668273331505,
          0.1040941738048431,
          0.11372758532317095,
          0.09847467706262769
         ],
         "yaxis": "y4"
        },
        {
         "fillpattern": {
          "shape": ""
         },
         "hovertemplate": "company=NFLX<br>date=%{x}<br>value=%{y}<extra></extra>",
         "legendgroup": "NFLX",
         "line": {
          "color": "#FFA15A"
         },
         "marker": {
          "symbol": "circle"
         },
         "mode": "lines",
         "name": "NFLX",
         "orientation": "v",
         "showlegend": true,
         "stackgroup": "1",
         "type": "scatter",
         "x": [
          "2018-01-01",
          "2018-01-08",
          "2018-01-15",
          "2018-01-22",
          "2018-01-29",
          "2018-02-05",
          "2018-02-12",
          "2018-02-19",
          "2018-02-26",
          "2018-03-05",
          "2018-03-12",
          "2018-03-19",
          "2018-03-26",
          "2018-04-02",
          "2018-04-09",
          "2018-04-16",
          "2018-04-23",
          "2018-04-30",
          "2018-05-07",
          "2018-05-14",
          "2018-05-21",
          "2018-05-28",
          "2018-06-04",
          "2018-06-11",
          "2018-06-18",
          "2018-06-25",
          "2018-07-02",
          "2018-07-09",
          "2018-07-16",
          "2018-07-23",
          "2018-07-30",
          "2018-08-06",
          "2018-08-13",
          "2018-08-20",
          "2018-08-27",
          "2018-09-03",
          "2018-09-10",
          "2018-09-17",
          "2018-09-24",
          "2018-10-01",
          "2018-10-08",
          "2018-10-15",
          "2018-10-22",
          "2018-10-29",
          "2018-11-05",
          "2018-11-12",
          "2018-11-19",
          "2018-11-26",
          "2018-12-03",
          "2018-12-10",
          "2018-12-17",
          "2018-12-24",
          "2018-12-31",
          "2019-01-07",
          "2019-01-14",
          "2019-01-21",
          "2019-01-28",
          "2019-02-04",
          "2019-02-11",
          "2019-02-18",
          "2019-02-25",
          "2019-03-04",
          "2019-03-11",
          "2019-03-18",
          "2019-03-25",
          "2019-04-01",
          "2019-04-08",
          "2019-04-15",
          "2019-04-22",
          "2019-04-29",
          "2019-05-06",
          "2019-05-13",
          "2019-05-20",
          "2019-05-27",
          "2019-06-03",
          "2019-06-10",
          "2019-06-17",
          "2019-06-24",
          "2019-07-01",
          "2019-07-08",
          "2019-07-15",
          "2019-07-22",
          "2019-07-29",
          "2019-08-05",
          "2019-08-12",
          "2019-08-19",
          "2019-08-26",
          "2019-09-02",
          "2019-09-09",
          "2019-09-16",
          "2019-09-23",
          "2019-09-30",
          "2019-10-07",
          "2019-10-14",
          "2019-10-21",
          "2019-10-28",
          "2019-11-04",
          "2019-11-11",
          "2019-11-18",
          "2019-11-25",
          "2019-12-02",
          "2019-12-09",
          "2019-12-16",
          "2019-12-23",
          "2019-12-30"
         ],
         "xaxis": "x",
         "y": [
          0,
          0.05352631426433829,
          0.04985952545693784,
          0.30768131559404477,
          0.2735367714287169,
          0.18800892928213409,
          0.3263487897912096,
          0.3616362026373592,
          0.4336396058469547,
          0.5783608462698024,
          0.5165008067883996,
          0.4331158380609592,
          0.406495542490225,
          0.375541688281783,
          0.48411822743658695,
          0.5608837620628662,
          0.4846421380865249,
          0.5243106261176576,
          0.5546453794312736,
          0.5437877293254985,
          0.6728891882258874,
          0.7140339274719294,
          0.7170817582484463,
          0.8666603250949969,
          0.9576645850358447,
          0.8640410670974561,
          0.9441401508609899,
          0.884851557577705,
          0.7193674908479577,
          0.6915566576609209,
          0.6338396487013751,
          0.6470783692776241,
          0.50854798541483,
          0.7087480282692504,
          0.7509404459512254,
          0.6604599490342411,
          0.7360826197418304,
          0.720034255916133,
          0.7816562507344105,
          0.6731749018244944,
          0.6170293343247459,
          0.5842183202957685,
          0.4278298007564696,
          0.4719748494696214,
          0.4451640257830367,
          0.3629695899097676,
          0.23253488660091248,
          0.3625886860662726,
          0.2626315952514029,
          0.2707271281792676,
          0.17334155499448678,
          0.2194865512765718,
          0.4170674789973934,
          0.6076479259096166,
          0.6148387919701228,
          0.6098384682642397,
          0.6184103905326357,
          0.6551740498315624,
          0.6994618148611409,
          0.7287488945009553,
          0.7016048311442251,
          0.6648411718452985,
          0.7213199790151921,
          0.7191771103581814,
          0.6979855684083631,
          0.7405113638622944,
          0.6721748970861734,
          0.7160340845746449,
          0.7850849901165535,
          0.8335634546034707,
          0.7193199695385504,
          0.6879375377890014,
          0.6876518241903944,
          0.6347444679569396,
          0.7185103405278743,
          0.6178389585732904,
          0.7582264974944879,
          0.7492261453110591,
          0.8122290534732837,
          0.7774655512770718,
          0.5005476379697218,
          0.5990284823318142,
          0.5183102976734539,
          0.47116522522107696,
          0.4419733358261506,
          0.38787558960246726,
          0.3988761036507431,
          0.38182773508672496,
          0.4007809276446279,
          0.2893470810670251,
          0.2528214711933554,
          0.2990618720162419,
          0.347349808387309,
          0.31101472186735757,
          0.31825325210121314,
          0.3658269020946976,
          0.388494690497293,
          0.4049716271019663,
          0.4785466146353017,
          0.4984522906221185,
          0.4636411194904255,
          0.42149622787998897,
          0.6043620457078422,
          0.5671698088678081,
          0.5408828958311611
         ],
         "yaxis": "y"
        },
        {
         "fillpattern": {
          "shape": ""
         },
         "hovertemplate": "company=MSFT<br>date=%{x}<br>value=%{y}<extra></extra>",
         "legendgroup": "MSFT",
         "line": {
          "color": "#19d3f3"
         },
         "marker": {
          "symbol": "circle"
         },
         "mode": "lines",
         "name": "MSFT",
         "orientation": "v",
         "showlegend": true,
         "stackgroup": "1",
         "type": "scatter",
         "x": [
          "2018-01-01",
          "2018-01-08",
          "2018-01-15",
          "2018-01-22",
          "2018-01-29",
          "2018-02-05",
          "2018-02-12",
          "2018-02-19",
          "2018-02-26",
          "2018-03-05",
          "2018-03-12",
          "2018-03-19",
          "2018-03-26",
          "2018-04-02",
          "2018-04-09",
          "2018-04-16",
          "2018-04-23",
          "2018-04-30",
          "2018-05-07",
          "2018-05-14",
          "2018-05-21",
          "2018-05-28",
          "2018-06-04",
          "2018-06-11",
          "2018-06-18",
          "2018-06-25",
          "2018-07-02",
          "2018-07-09",
          "2018-07-16",
          "2018-07-23",
          "2018-07-30",
          "2018-08-06",
          "2018-08-13",
          "2018-08-20",
          "2018-08-27",
          "2018-09-03",
          "2018-09-10",
          "2018-09-17",
          "2018-09-24",
          "2018-10-01",
          "2018-10-08",
          "2018-10-15",
          "2018-10-22",
          "2018-10-29",
          "2018-11-05",
          "2018-11-12",
          "2018-11-19",
          "2018-11-26",
          "2018-12-03",
          "2018-12-10",
          "2018-12-17",
          "2018-12-24",
          "2018-12-31",
          "2019-01-07",
          "2019-01-14",
          "2019-01-21",
          "2019-01-28",
          "2019-02-04",
          "2019-02-11",
          "2019-02-18",
          "2019-02-25",
          "2019-03-04",
          "2019-03-11",
          "2019-03-18",
          "2019-03-25",
          "2019-04-01",
          "2019-04-08",
          "2019-04-15",
          "2019-04-22",
          "2019-04-29",
          "2019-05-06",
          "2019-05-13",
          "2019-05-20",
          "2019-05-27",
          "2019-06-03",
          "2019-06-10",
          "2019-06-17",
          "2019-06-24",
          "2019-07-01",
          "2019-07-08",
          "2019-07-15",
          "2019-07-22",
          "2019-07-29",
          "2019-08-05",
          "2019-08-12",
          "2019-08-19",
          "2019-08-26",
          "2019-09-02",
          "2019-09-09",
          "2019-09-16",
          "2019-09-23",
          "2019-09-30",
          "2019-10-07",
          "2019-10-14",
          "2019-10-21",
          "2019-10-28",
          "2019-11-04",
          "2019-11-11",
          "2019-11-18",
          "2019-11-25",
          "2019-12-02",
          "2019-12-09",
          "2019-12-16",
          "2019-12-23",
          "2019-12-30"
         ],
         "xaxis": "x2",
         "y": [
          0,
          0.01598816156053595,
          0.020523845775624494,
          0.06656078769563911,
          0.0407075282751439,
          -0.00011341421672717011,
          0.04320215345952705,
          0.06656078769563911,
          0.05510829901103742,
          0.09468192324114022,
          0.07268393077029289,
          -0.011452568058678558,
          0.034924537137440925,
          0.02313188517673459,
          0.05544846228714251,
          0.07721961498538121,
          0.08651772113578127,
          0.07903392495670869,
          0.10783529634118838,
          0.09264087554958889,
          0.11531918323349166,
          0.14287332706943356,
          0.15239817094005725,
          0.1353894401771305,
          0.13856448262695342,
          0.11815397169397968,
          0.14706884800841702,
          0.19548698955693422,
          0.20501184476671153,
          0.2210000857013248,
          0.22508219242358107,
          0.23596776877270043,
          0.2198661929954373,
          0.22916429914583736,
          0.27372717374470623,
          0.22700982589840502,
          0.28551990507948943,
          0.29561174065967233,
          0.2968590589214408,
          0.2714592862805467,
          0.2424310864626129,
          0.23211250182305232,
          0.21283588359596584,
          0.20376461721817396,
          0.2424310864626129,
          0.22791698088406886,
          0.16872658648992878,
          0.2573987581948347,
          0.18857010571334354,
          0.20229047052295113,
          0.1138451159123457,
          0.13833764285434524,
          0.15579995111010447,
          0.1656650489700635,
          0.2213402489774292,
          0.2152170945636216,
          0.16543822053660917,
          0.19820836380069462,
          0.22712324011513219,
          0.25830591318049856,
          0.27599497049563504,
          0.2530899137523548,
          0.31432136717719983,
          0.32724799121787074,
          0.33733982679805363,
          0.3594511427723972,
          0.3714706231665581,
          0.3989114434990031,
          0.47284268119191086,
          0.4616168621926098,
          0.44154659390981754,
          0.4522055119127899,
          0.43145475832963465,
          0.4024265471725468,
          0.4899647467974879,
          0.5018708923489987,
          0.5531239130712344,
          0.518993128041884,
          0.5541444028995486,
          0.5750084006121237,
          0.5491551411916282,
          0.6026759586647925,
          0.5523300929282209,
          0.5615149549492018,
          0.5435990692006107,
          0.5125297196387406,
          0.5632157599905712,
          0.5772763674503605,
          0.5570926849508404,
          0.5811316344000079,
          0.5617416132953483,
          0.5661638719545554,
          0.5838529292696919,
          0.5581131747791548,
          0.5957590748212025,
          0.6296632015044059,
          0.6550629741453009,
          0.7005329130166025,
          0.6962239778608914,
          0.7165211652903694,
          0.7207165955161221,
          0.7522394318575931,
          0.7848962516181823,
          0.8024719740906685,
          0.7881845268582712
         ],
         "yaxis": "y2"
        }
       ],
       "layout": {
        "annotations": [
         {
          "font": {},
          "showarrow": false,
          "text": "company=NFLX",
          "x": 0.245,
          "xanchor": "center",
          "xref": "paper",
          "y": 0.2866666666666666,
          "yanchor": "bottom",
          "yref": "paper"
         },
         {
          "font": {},
          "showarrow": false,
          "text": "company=MSFT",
          "x": 0.755,
          "xanchor": "center",
          "xref": "paper",
          "y": 0.2866666666666666,
          "yanchor": "bottom",
          "yref": "paper"
         },
         {
          "font": {},
          "showarrow": false,
          "text": "company=AMZN",
          "x": 0.245,
          "xanchor": "center",
          "xref": "paper",
          "y": 0.6433333333333333,
          "yanchor": "bottom",
          "yref": "paper"
         },
         {
          "font": {},
          "showarrow": false,
          "text": "company=FB",
          "x": 0.755,
          "xanchor": "center",
          "xref": "paper",
          "y": 0.6433333333333333,
          "yanchor": "bottom",
          "yref": "paper"
         },
         {
          "font": {},
          "showarrow": false,
          "text": "company=GOOG",
          "x": 0.245,
          "xanchor": "center",
          "xref": "paper",
          "y": 0.9999999999999999,
          "yanchor": "bottom",
          "yref": "paper"
         },
         {
          "font": {},
          "showarrow": false,
          "text": "company=AAPL",
          "x": 0.755,
          "xanchor": "center",
          "xref": "paper",
          "y": 0.9999999999999999,
          "yanchor": "bottom",
          "yref": "paper"
         }
        ],
        "legend": {
         "title": {
          "text": "company"
         },
         "tracegroupgap": 0
        },
        "margin": {
         "t": 60
        },
        "template": {
         "data": {
          "bar": [
           {
            "error_x": {
             "color": "#2a3f5f"
            },
            "error_y": {
             "color": "#2a3f5f"
            },
            "marker": {
             "line": {
              "color": "#E5ECF6",
              "width": 0.5
             },
             "pattern": {
              "fillmode": "overlay",
              "size": 10,
              "solidity": 0.2
             }
            },
            "type": "bar"
           }
          ],
          "barpolar": [
           {
            "marker": {
             "line": {
              "color": "#E5ECF6",
              "width": 0.5
             },
             "pattern": {
              "fillmode": "overlay",
              "size": 10,
              "solidity": 0.2
             }
            },
            "type": "barpolar"
           }
          ],
          "carpet": [
           {
            "aaxis": {
             "endlinecolor": "#2a3f5f",
             "gridcolor": "white",
             "linecolor": "white",
             "minorgridcolor": "white",
             "startlinecolor": "#2a3f5f"
            },
            "baxis": {
             "endlinecolor": "#2a3f5f",
             "gridcolor": "white",
             "linecolor": "white",
             "minorgridcolor": "white",
             "startlinecolor": "#2a3f5f"
            },
            "type": "carpet"
           }
          ],
          "choropleth": [
           {
            "colorbar": {
             "outlinewidth": 0,
             "ticks": ""
            },
            "type": "choropleth"
           }
          ],
          "contour": [
           {
            "colorbar": {
             "outlinewidth": 0,
             "ticks": ""
            },
            "colorscale": [
             [
              0,
              "#0d0887"
             ],
             [
              0.1111111111111111,
              "#46039f"
             ],
             [
              0.2222222222222222,
              "#7201a8"
             ],
             [
              0.3333333333333333,
              "#9c179e"
             ],
             [
              0.4444444444444444,
              "#bd3786"
             ],
             [
              0.5555555555555556,
              "#d8576b"
             ],
             [
              0.6666666666666666,
              "#ed7953"
             ],
             [
              0.7777777777777778,
              "#fb9f3a"
             ],
             [
              0.8888888888888888,
              "#fdca26"
             ],
             [
              1,
              "#f0f921"
             ]
            ],
            "type": "contour"
           }
          ],
          "contourcarpet": [
           {
            "colorbar": {
             "outlinewidth": 0,
             "ticks": ""
            },
            "type": "contourcarpet"
           }
          ],
          "heatmap": [
           {
            "colorbar": {
             "outlinewidth": 0,
             "ticks": ""
            },
            "colorscale": [
             [
              0,
              "#0d0887"
             ],
             [
              0.1111111111111111,
              "#46039f"
             ],
             [
              0.2222222222222222,
              "#7201a8"
             ],
             [
              0.3333333333333333,
              "#9c179e"
             ],
             [
              0.4444444444444444,
              "#bd3786"
             ],
             [
              0.5555555555555556,
              "#d8576b"
             ],
             [
              0.6666666666666666,
              "#ed7953"
             ],
             [
              0.7777777777777778,
              "#fb9f3a"
             ],
             [
              0.8888888888888888,
              "#fdca26"
             ],
             [
              1,
              "#f0f921"
             ]
            ],
            "type": "heatmap"
           }
          ],
          "heatmapgl": [
           {
            "colorbar": {
             "outlinewidth": 0,
             "ticks": ""
            },
            "colorscale": [
             [
              0,
              "#0d0887"
             ],
             [
              0.1111111111111111,
              "#46039f"
             ],
             [
              0.2222222222222222,
              "#7201a8"
             ],
             [
              0.3333333333333333,
              "#9c179e"
             ],
             [
              0.4444444444444444,
              "#bd3786"
             ],
             [
              0.5555555555555556,
              "#d8576b"
             ],
             [
              0.6666666666666666,
              "#ed7953"
             ],
             [
              0.7777777777777778,
              "#fb9f3a"
             ],
             [
              0.8888888888888888,
              "#fdca26"
             ],
             [
              1,
              "#f0f921"
             ]
            ],
            "type": "heatmapgl"
           }
          ],
          "histogram": [
           {
            "marker": {
             "pattern": {
              "fillmode": "overlay",
              "size": 10,
              "solidity": 0.2
             }
            },
            "type": "histogram"
           }
          ],
          "histogram2d": [
           {
            "colorbar": {
             "outlinewidth": 0,
             "ticks": ""
            },
            "colorscale": [
             [
              0,
              "#0d0887"
             ],
             [
              0.1111111111111111,
              "#46039f"
             ],
             [
              0.2222222222222222,
              "#7201a8"
             ],
             [
              0.3333333333333333,
              "#9c179e"
             ],
             [
              0.4444444444444444,
              "#bd3786"
             ],
             [
              0.5555555555555556,
              "#d8576b"
             ],
             [
              0.6666666666666666,
              "#ed7953"
             ],
             [
              0.7777777777777778,
              "#fb9f3a"
             ],
             [
              0.8888888888888888,
              "#fdca26"
             ],
             [
              1,
              "#f0f921"
             ]
            ],
            "type": "histogram2d"
           }
          ],
          "histogram2dcontour": [
           {
            "colorbar": {
             "outlinewidth": 0,
             "ticks": ""
            },
            "colorscale": [
             [
              0,
              "#0d0887"
             ],
             [
              0.1111111111111111,
              "#46039f"
             ],
             [
              0.2222222222222222,
              "#7201a8"
             ],
             [
              0.3333333333333333,
              "#9c179e"
             ],
             [
              0.4444444444444444,
              "#bd3786"
             ],
             [
              0.5555555555555556,
              "#d8576b"
             ],
             [
              0.6666666666666666,
              "#ed7953"
             ],
             [
              0.7777777777777778,
              "#fb9f3a"
             ],
             [
              0.8888888888888888,
              "#fdca26"
             ],
             [
              1,
              "#f0f921"
             ]
            ],
            "type": "histogram2dcontour"
           }
          ],
          "mesh3d": [
           {
            "colorbar": {
             "outlinewidth": 0,
             "ticks": ""
            },
            "type": "mesh3d"
           }
          ],
          "parcoords": [
           {
            "line": {
             "colorbar": {
              "outlinewidth": 0,
              "ticks": ""
             }
            },
            "type": "parcoords"
           }
          ],
          "pie": [
           {
            "automargin": true,
            "type": "pie"
           }
          ],
          "scatter": [
           {
            "fillpattern": {
             "fillmode": "overlay",
             "size": 10,
             "solidity": 0.2
            },
            "type": "scatter"
           }
          ],
          "scatter3d": [
           {
            "line": {
             "colorbar": {
              "outlinewidth": 0,
              "ticks": ""
             }
            },
            "marker": {
             "colorbar": {
              "outlinewidth": 0,
              "ticks": ""
             }
            },
            "type": "scatter3d"
           }
          ],
          "scattercarpet": [
           {
            "marker": {
             "colorbar": {
              "outlinewidth": 0,
              "ticks": ""
             }
            },
            "type": "scattercarpet"
           }
          ],
          "scattergeo": [
           {
            "marker": {
             "colorbar": {
              "outlinewidth": 0,
              "ticks": ""
             }
            },
            "type": "scattergeo"
           }
          ],
          "scattergl": [
           {
            "marker": {
             "colorbar": {
              "outlinewidth": 0,
              "ticks": ""
             }
            },
            "type": "scattergl"
           }
          ],
          "scattermapbox": [
           {
            "marker": {
             "colorbar": {
              "outlinewidth": 0,
              "ticks": ""
             }
            },
            "type": "scattermapbox"
           }
          ],
          "scatterpolar": [
           {
            "marker": {
             "colorbar": {
              "outlinewidth": 0,
              "ticks": ""
             }
            },
            "type": "scatterpolar"
           }
          ],
          "scatterpolargl": [
           {
            "marker": {
             "colorbar": {
              "outlinewidth": 0,
              "ticks": ""
             }
            },
            "type": "scatterpolargl"
           }
          ],
          "scatterternary": [
           {
            "marker": {
             "colorbar": {
              "outlinewidth": 0,
              "ticks": ""
             }
            },
            "type": "scatterternary"
           }
          ],
          "surface": [
           {
            "colorbar": {
             "outlinewidth": 0,
             "ticks": ""
            },
            "colorscale": [
             [
              0,
              "#0d0887"
             ],
             [
              0.1111111111111111,
              "#46039f"
             ],
             [
              0.2222222222222222,
              "#7201a8"
             ],
             [
              0.3333333333333333,
              "#9c179e"
             ],
             [
              0.4444444444444444,
              "#bd3786"
             ],
             [
              0.5555555555555556,
              "#d8576b"
             ],
             [
              0.6666666666666666,
              "#ed7953"
             ],
             [
              0.7777777777777778,
              "#fb9f3a"
             ],
             [
              0.8888888888888888,
              "#fdca26"
             ],
             [
              1,
              "#f0f921"
             ]
            ],
            "type": "surface"
           }
          ],
          "table": [
           {
            "cells": {
             "fill": {
              "color": "#EBF0F8"
             },
             "line": {
              "color": "white"
             }
            },
            "header": {
             "fill": {
              "color": "#C8D4E3"
             },
             "line": {
              "color": "white"
             }
            },
            "type": "table"
           }
          ]
         },
         "layout": {
          "annotationdefaults": {
           "arrowcolor": "#2a3f5f",
           "arrowhead": 0,
           "arrowwidth": 1
          },
          "autotypenumbers": "strict",
          "coloraxis": {
           "colorbar": {
            "outlinewidth": 0,
            "ticks": ""
           }
          },
          "colorscale": {
           "diverging": [
            [
             0,
             "#8e0152"
            ],
            [
             0.1,
             "#c51b7d"
            ],
            [
             0.2,
             "#de77ae"
            ],
            [
             0.3,
             "#f1b6da"
            ],
            [
             0.4,
             "#fde0ef"
            ],
            [
             0.5,
             "#f7f7f7"
            ],
            [
             0.6,
             "#e6f5d0"
            ],
            [
             0.7,
             "#b8e186"
            ],
            [
             0.8,
             "#7fbc41"
            ],
            [
             0.9,
             "#4d9221"
            ],
            [
             1,
             "#276419"
            ]
           ],
           "sequential": [
            [
             0,
             "#0d0887"
            ],
            [
             0.1111111111111111,
             "#46039f"
            ],
            [
             0.2222222222222222,
             "#7201a8"
            ],
            [
             0.3333333333333333,
             "#9c179e"
            ],
            [
             0.4444444444444444,
             "#bd3786"
            ],
            [
             0.5555555555555556,
             "#d8576b"
            ],
            [
             0.6666666666666666,
             "#ed7953"
            ],
            [
             0.7777777777777778,
             "#fb9f3a"
            ],
            [
             0.8888888888888888,
             "#fdca26"
            ],
            [
             1,
             "#f0f921"
            ]
           ],
           "sequentialminus": [
            [
             0,
             "#0d0887"
            ],
            [
             0.1111111111111111,
             "#46039f"
            ],
            [
             0.2222222222222222,
             "#7201a8"
            ],
            [
             0.3333333333333333,
             "#9c179e"
            ],
            [
             0.4444444444444444,
             "#bd3786"
            ],
            [
             0.5555555555555556,
             "#d8576b"
            ],
            [
             0.6666666666666666,
             "#ed7953"
            ],
            [
             0.7777777777777778,
             "#fb9f3a"
            ],
            [
             0.8888888888888888,
             "#fdca26"
            ],
            [
             1,
             "#f0f921"
            ]
           ]
          },
          "colorway": [
           "#636efa",
           "#EF553B",
           "#00cc96",
           "#ab63fa",
           "#FFA15A",
           "#19d3f3",
           "#FF6692",
           "#B6E880",
           "#FF97FF",
           "#FECB52"
          ],
          "font": {
           "color": "#2a3f5f"
          },
          "geo": {
           "bgcolor": "white",
           "lakecolor": "white",
           "landcolor": "#E5ECF6",
           "showlakes": true,
           "showland": true,
           "subunitcolor": "white"
          },
          "hoverlabel": {
           "align": "left"
          },
          "hovermode": "closest",
          "mapbox": {
           "style": "light"
          },
          "paper_bgcolor": "white",
          "plot_bgcolor": "#E5ECF6",
          "polar": {
           "angularaxis": {
            "gridcolor": "white",
            "linecolor": "white",
            "ticks": ""
           },
           "bgcolor": "#E5ECF6",
           "radialaxis": {
            "gridcolor": "white",
            "linecolor": "white",
            "ticks": ""
           }
          },
          "scene": {
           "xaxis": {
            "backgroundcolor": "#E5ECF6",
            "gridcolor": "white",
            "gridwidth": 2,
            "linecolor": "white",
            "showbackground": true,
            "ticks": "",
            "zerolinecolor": "white"
           },
           "yaxis": {
            "backgroundcolor": "#E5ECF6",
            "gridcolor": "white",
            "gridwidth": 2,
            "linecolor": "white",
            "showbackground": true,
            "ticks": "",
            "zerolinecolor": "white"
           },
           "zaxis": {
            "backgroundcolor": "#E5ECF6",
            "gridcolor": "white",
            "gridwidth": 2,
            "linecolor": "white",
            "showbackground": true,
            "ticks": "",
            "zerolinecolor": "white"
           }
          },
          "shapedefaults": {
           "line": {
            "color": "#2a3f5f"
           }
          },
          "ternary": {
           "aaxis": {
            "gridcolor": "white",
            "linecolor": "white",
            "ticks": ""
           },
           "baxis": {
            "gridcolor": "white",
            "linecolor": "white",
            "ticks": ""
           },
           "bgcolor": "#E5ECF6",
           "caxis": {
            "gridcolor": "white",
            "linecolor": "white",
            "ticks": ""
           }
          },
          "title": {
           "x": 0.05
          },
          "xaxis": {
           "automargin": true,
           "gridcolor": "white",
           "linecolor": "white",
           "ticks": "",
           "title": {
            "standoff": 15
           },
           "zerolinecolor": "white",
           "zerolinewidth": 2
          },
          "yaxis": {
           "automargin": true,
           "gridcolor": "white",
           "linecolor": "white",
           "ticks": "",
           "title": {
            "standoff": 15
           },
           "zerolinecolor": "white",
           "zerolinewidth": 2
          }
         }
        },
        "xaxis": {
         "anchor": "y",
         "domain": [
          0,
          0.49
         ],
         "title": {
          "text": "date"
         }
        },
        "xaxis2": {
         "anchor": "y2",
         "domain": [
          0.51,
          1
         ],
         "matches": "x",
         "title": {
          "text": "date"
         }
        },
        "xaxis3": {
         "anchor": "y3",
         "domain": [
          0,
          0.49
         ],
         "matches": "x",
         "showticklabels": false
        },
        "xaxis4": {
         "anchor": "y4",
         "domain": [
          0.51,
          1
         ],
         "matches": "x",
         "showticklabels": false
        },
        "xaxis5": {
         "anchor": "y5",
         "domain": [
          0,
          0.49
         ],
         "matches": "x",
         "showticklabels": false
        },
        "xaxis6": {
         "anchor": "y6",
         "domain": [
          0.51,
          1
         ],
         "matches": "x",
         "showticklabels": false
        },
        "yaxis": {
         "anchor": "x",
         "domain": [
          0,
          0.2866666666666666
         ],
         "title": {
          "text": "value"
         }
        },
        "yaxis2": {
         "anchor": "x2",
         "domain": [
          0,
          0.2866666666666666
         ],
         "matches": "y",
         "showticklabels": false
        },
        "yaxis3": {
         "anchor": "x3",
         "domain": [
          0.35666666666666663,
          0.6433333333333333
         ],
         "matches": "y",
         "title": {
          "text": "value"
         }
        },
        "yaxis4": {
         "anchor": "x4",
         "domain": [
          0.35666666666666663,
          0.6433333333333333
         ],
         "matches": "y",
         "showticklabels": false
        },
        "yaxis5": {
         "anchor": "x5",
         "domain": [
          0.7133333333333333,
          0.9999999999999999
         ],
         "matches": "y",
         "title": {
          "text": "value"
         }
        },
        "yaxis6": {
         "anchor": "x6",
         "domain": [
          0.7133333333333333,
          0.9999999999999999
         ],
         "matches": "y",
         "showticklabels": false
        }
       }
      }
     },
     "metadata": {},
     "output_type": "display_data"
    }
   ],
   "source": [
    "df = px.data.stocks(indexed=True)-1\n",
    "fig = px.area(df, facet_col=\"company\", facet_col_wrap=2)\n",
    "fig.show()"
   ]
  },
  {
   "cell_type": "markdown",
   "metadata": {},
   "source": [
    "# Gráfico de barras apilado\n"
   ]
  },
  {
   "cell_type": "code",
   "execution_count": 32,
   "metadata": {},
   "outputs": [
    {
     "data": {
      "application/vnd.plotly.v1+json": {
       "config": {
        "plotlyServerURL": "https://plot.ly"
       },
       "data": [
        {
         "alignmentgroup": "True",
         "hovertemplate": "Mes=Enero<br>Compania=%{x}<br>Consumo de Energía=%{y}<extra></extra>",
         "legendgroup": "Enero",
         "marker": {
          "color": "blue",
          "pattern": {
           "shape": ""
          }
         },
         "name": "Enero",
         "offsetgroup": "Enero",
         "orientation": "v",
         "showlegend": true,
         "textposition": "auto",
         "type": "bar",
         "x": [
          "Compania1",
          "Compania2",
          "Compania3",
          "Compania4",
          "Actual"
         ],
         "xaxis": "x",
         "y": [
          100,
          120,
          90,
          110,
          105
         ],
         "yaxis": "y"
        },
        {
         "alignmentgroup": "True",
         "hovertemplate": "Mes=Febrero<br>Compania=%{x}<br>Consumo de Energía=%{y}<extra></extra>",
         "legendgroup": "Febrero",
         "marker": {
          "color": "green",
          "pattern": {
           "shape": ""
          }
         },
         "name": "Febrero",
         "offsetgroup": "Febrero",
         "orientation": "v",
         "showlegend": true,
         "textposition": "auto",
         "type": "bar",
         "x": [
          "Compania1",
          "Compania2",
          "Compania3",
          "Compania4",
          "Actual"
         ],
         "xaxis": "x",
         "y": [
          110,
          130,
          95,
          120,
          125
         ],
         "yaxis": "y"
        },
        {
         "alignmentgroup": "True",
         "hovertemplate": "Mes=Marzo<br>Compania=%{x}<br>Consumo de Energía=%{y}<extra></extra>",
         "legendgroup": "Marzo",
         "marker": {
          "color": "orange",
          "pattern": {
           "shape": ""
          }
         },
         "name": "Marzo",
         "offsetgroup": "Marzo",
         "orientation": "v",
         "showlegend": true,
         "textposition": "auto",
         "type": "bar",
         "x": [
          "Compania1",
          "Compania2",
          "Compania3",
          "Compania4",
          "Actual"
         ],
         "xaxis": "x",
         "y": [
          95,
          110,
          85,
          100,
          92
         ],
         "yaxis": "y"
        }
       ],
       "layout": {
        "barmode": "stack",
        "legend": {
         "title": {
          "text": "Meses"
         },
         "tracegroupgap": 0
        },
        "template": {
         "data": {
          "bar": [
           {
            "error_x": {
             "color": "#2a3f5f"
            },
            "error_y": {
             "color": "#2a3f5f"
            },
            "marker": {
             "line": {
              "color": "#E5ECF6",
              "width": 0.5
             },
             "pattern": {
              "fillmode": "overlay",
              "size": 10,
              "solidity": 0.2
             }
            },
            "type": "bar"
           }
          ],
          "barpolar": [
           {
            "marker": {
             "line": {
              "color": "#E5ECF6",
              "width": 0.5
             },
             "pattern": {
              "fillmode": "overlay",
              "size": 10,
              "solidity": 0.2
             }
            },
            "type": "barpolar"
           }
          ],
          "carpet": [
           {
            "aaxis": {
             "endlinecolor": "#2a3f5f",
             "gridcolor": "white",
             "linecolor": "white",
             "minorgridcolor": "white",
             "startlinecolor": "#2a3f5f"
            },
            "baxis": {
             "endlinecolor": "#2a3f5f",
             "gridcolor": "white",
             "linecolor": "white",
             "minorgridcolor": "white",
             "startlinecolor": "#2a3f5f"
            },
            "type": "carpet"
           }
          ],
          "choropleth": [
           {
            "colorbar": {
             "outlinewidth": 0,
             "ticks": ""
            },
            "type": "choropleth"
           }
          ],
          "contour": [
           {
            "colorbar": {
             "outlinewidth": 0,
             "ticks": ""
            },
            "colorscale": [
             [
              0,
              "#0d0887"
             ],
             [
              0.1111111111111111,
              "#46039f"
             ],
             [
              0.2222222222222222,
              "#7201a8"
             ],
             [
              0.3333333333333333,
              "#9c179e"
             ],
             [
              0.4444444444444444,
              "#bd3786"
             ],
             [
              0.5555555555555556,
              "#d8576b"
             ],
             [
              0.6666666666666666,
              "#ed7953"
             ],
             [
              0.7777777777777778,
              "#fb9f3a"
             ],
             [
              0.8888888888888888,
              "#fdca26"
             ],
             [
              1,
              "#f0f921"
             ]
            ],
            "type": "contour"
           }
          ],
          "contourcarpet": [
           {
            "colorbar": {
             "outlinewidth": 0,
             "ticks": ""
            },
            "type": "contourcarpet"
           }
          ],
          "heatmap": [
           {
            "colorbar": {
             "outlinewidth": 0,
             "ticks": ""
            },
            "colorscale": [
             [
              0,
              "#0d0887"
             ],
             [
              0.1111111111111111,
              "#46039f"
             ],
             [
              0.2222222222222222,
              "#7201a8"
             ],
             [
              0.3333333333333333,
              "#9c179e"
             ],
             [
              0.4444444444444444,
              "#bd3786"
             ],
             [
              0.5555555555555556,
              "#d8576b"
             ],
             [
              0.6666666666666666,
              "#ed7953"
             ],
             [
              0.7777777777777778,
              "#fb9f3a"
             ],
             [
              0.8888888888888888,
              "#fdca26"
             ],
             [
              1,
              "#f0f921"
             ]
            ],
            "type": "heatmap"
           }
          ],
          "heatmapgl": [
           {
            "colorbar": {
             "outlinewidth": 0,
             "ticks": ""
            },
            "colorscale": [
             [
              0,
              "#0d0887"
             ],
             [
              0.1111111111111111,
              "#46039f"
             ],
             [
              0.2222222222222222,
              "#7201a8"
             ],
             [
              0.3333333333333333,
              "#9c179e"
             ],
             [
              0.4444444444444444,
              "#bd3786"
             ],
             [
              0.5555555555555556,
              "#d8576b"
             ],
             [
              0.6666666666666666,
              "#ed7953"
             ],
             [
              0.7777777777777778,
              "#fb9f3a"
             ],
             [
              0.8888888888888888,
              "#fdca26"
             ],
             [
              1,
              "#f0f921"
             ]
            ],
            "type": "heatmapgl"
           }
          ],
          "histogram": [
           {
            "marker": {
             "pattern": {
              "fillmode": "overlay",
              "size": 10,
              "solidity": 0.2
             }
            },
            "type": "histogram"
           }
          ],
          "histogram2d": [
           {
            "colorbar": {
             "outlinewidth": 0,
             "ticks": ""
            },
            "colorscale": [
             [
              0,
              "#0d0887"
             ],
             [
              0.1111111111111111,
              "#46039f"
             ],
             [
              0.2222222222222222,
              "#7201a8"
             ],
             [
              0.3333333333333333,
              "#9c179e"
             ],
             [
              0.4444444444444444,
              "#bd3786"
             ],
             [
              0.5555555555555556,
              "#d8576b"
             ],
             [
              0.6666666666666666,
              "#ed7953"
             ],
             [
              0.7777777777777778,
              "#fb9f3a"
             ],
             [
              0.8888888888888888,
              "#fdca26"
             ],
             [
              1,
              "#f0f921"
             ]
            ],
            "type": "histogram2d"
           }
          ],
          "histogram2dcontour": [
           {
            "colorbar": {
             "outlinewidth": 0,
             "ticks": ""
            },
            "colorscale": [
             [
              0,
              "#0d0887"
             ],
             [
              0.1111111111111111,
              "#46039f"
             ],
             [
              0.2222222222222222,
              "#7201a8"
             ],
             [
              0.3333333333333333,
              "#9c179e"
             ],
             [
              0.4444444444444444,
              "#bd3786"
             ],
             [
              0.5555555555555556,
              "#d8576b"
             ],
             [
              0.6666666666666666,
              "#ed7953"
             ],
             [
              0.7777777777777778,
              "#fb9f3a"
             ],
             [
              0.8888888888888888,
              "#fdca26"
             ],
             [
              1,
              "#f0f921"
             ]
            ],
            "type": "histogram2dcontour"
           }
          ],
          "mesh3d": [
           {
            "colorbar": {
             "outlinewidth": 0,
             "ticks": ""
            },
            "type": "mesh3d"
           }
          ],
          "parcoords": [
           {
            "line": {
             "colorbar": {
              "outlinewidth": 0,
              "ticks": ""
             }
            },
            "type": "parcoords"
           }
          ],
          "pie": [
           {
            "automargin": true,
            "type": "pie"
           }
          ],
          "scatter": [
           {
            "fillpattern": {
             "fillmode": "overlay",
             "size": 10,
             "solidity": 0.2
            },
            "type": "scatter"
           }
          ],
          "scatter3d": [
           {
            "line": {
             "colorbar": {
              "outlinewidth": 0,
              "ticks": ""
             }
            },
            "marker": {
             "colorbar": {
              "outlinewidth": 0,
              "ticks": ""
             }
            },
            "type": "scatter3d"
           }
          ],
          "scattercarpet": [
           {
            "marker": {
             "colorbar": {
              "outlinewidth": 0,
              "ticks": ""
             }
            },
            "type": "scattercarpet"
           }
          ],
          "scattergeo": [
           {
            "marker": {
             "colorbar": {
              "outlinewidth": 0,
              "ticks": ""
             }
            },
            "type": "scattergeo"
           }
          ],
          "scattergl": [
           {
            "marker": {
             "colorbar": {
              "outlinewidth": 0,
              "ticks": ""
             }
            },
            "type": "scattergl"
           }
          ],
          "scattermapbox": [
           {
            "marker": {
             "colorbar": {
              "outlinewidth": 0,
              "ticks": ""
             }
            },
            "type": "scattermapbox"
           }
          ],
          "scatterpolar": [
           {
            "marker": {
             "colorbar": {
              "outlinewidth": 0,
              "ticks": ""
             }
            },
            "type": "scatterpolar"
           }
          ],
          "scatterpolargl": [
           {
            "marker": {
             "colorbar": {
              "outlinewidth": 0,
              "ticks": ""
             }
            },
            "type": "scatterpolargl"
           }
          ],
          "scatterternary": [
           {
            "marker": {
             "colorbar": {
              "outlinewidth": 0,
              "ticks": ""
             }
            },
            "type": "scatterternary"
           }
          ],
          "surface": [
           {
            "colorbar": {
             "outlinewidth": 0,
             "ticks": ""
            },
            "colorscale": [
             [
              0,
              "#0d0887"
             ],
             [
              0.1111111111111111,
              "#46039f"
             ],
             [
              0.2222222222222222,
              "#7201a8"
             ],
             [
              0.3333333333333333,
              "#9c179e"
             ],
             [
              0.4444444444444444,
              "#bd3786"
             ],
             [
              0.5555555555555556,
              "#d8576b"
             ],
             [
              0.6666666666666666,
              "#ed7953"
             ],
             [
              0.7777777777777778,
              "#fb9f3a"
             ],
             [
              0.8888888888888888,
              "#fdca26"
             ],
             [
              1,
              "#f0f921"
             ]
            ],
            "type": "surface"
           }
          ],
          "table": [
           {
            "cells": {
             "fill": {
              "color": "#EBF0F8"
             },
             "line": {
              "color": "white"
             }
            },
            "header": {
             "fill": {
              "color": "#C8D4E3"
             },
             "line": {
              "color": "white"
             }
            },
            "type": "table"
           }
          ]
         },
         "layout": {
          "annotationdefaults": {
           "arrowcolor": "#2a3f5f",
           "arrowhead": 0,
           "arrowwidth": 1
          },
          "autotypenumbers": "strict",
          "coloraxis": {
           "colorbar": {
            "outlinewidth": 0,
            "ticks": ""
           }
          },
          "colorscale": {
           "diverging": [
            [
             0,
             "#8e0152"
            ],
            [
             0.1,
             "#c51b7d"
            ],
            [
             0.2,
             "#de77ae"
            ],
            [
             0.3,
             "#f1b6da"
            ],
            [
             0.4,
             "#fde0ef"
            ],
            [
             0.5,
             "#f7f7f7"
            ],
            [
             0.6,
             "#e6f5d0"
            ],
            [
             0.7,
             "#b8e186"
            ],
            [
             0.8,
             "#7fbc41"
            ],
            [
             0.9,
             "#4d9221"
            ],
            [
             1,
             "#276419"
            ]
           ],
           "sequential": [
            [
             0,
             "#0d0887"
            ],
            [
             0.1111111111111111,
             "#46039f"
            ],
            [
             0.2222222222222222,
             "#7201a8"
            ],
            [
             0.3333333333333333,
             "#9c179e"
            ],
            [
             0.4444444444444444,
             "#bd3786"
            ],
            [
             0.5555555555555556,
             "#d8576b"
            ],
            [
             0.6666666666666666,
             "#ed7953"
            ],
            [
             0.7777777777777778,
             "#fb9f3a"
            ],
            [
             0.8888888888888888,
             "#fdca26"
            ],
            [
             1,
             "#f0f921"
            ]
           ],
           "sequentialminus": [
            [
             0,
             "#0d0887"
            ],
            [
             0.1111111111111111,
             "#46039f"
            ],
            [
             0.2222222222222222,
             "#7201a8"
            ],
            [
             0.3333333333333333,
             "#9c179e"
            ],
            [
             0.4444444444444444,
             "#bd3786"
            ],
            [
             0.5555555555555556,
             "#d8576b"
            ],
            [
             0.6666666666666666,
             "#ed7953"
            ],
            [
             0.7777777777777778,
             "#fb9f3a"
            ],
            [
             0.8888888888888888,
             "#fdca26"
            ],
            [
             1,
             "#f0f921"
            ]
           ]
          },
          "colorway": [
           "#636efa",
           "#EF553B",
           "#00cc96",
           "#ab63fa",
           "#FFA15A",
           "#19d3f3",
           "#FF6692",
           "#B6E880",
           "#FF97FF",
           "#FECB52"
          ],
          "font": {
           "color": "#2a3f5f"
          },
          "geo": {
           "bgcolor": "white",
           "lakecolor": "white",
           "landcolor": "#E5ECF6",
           "showlakes": true,
           "showland": true,
           "subunitcolor": "white"
          },
          "hoverlabel": {
           "align": "left"
          },
          "hovermode": "closest",
          "mapbox": {
           "style": "light"
          },
          "paper_bgcolor": "white",
          "plot_bgcolor": "#E5ECF6",
          "polar": {
           "angularaxis": {
            "gridcolor": "white",
            "linecolor": "white",
            "ticks": ""
           },
           "bgcolor": "#E5ECF6",
           "radialaxis": {
            "gridcolor": "white",
            "linecolor": "white",
            "ticks": ""
           }
          },
          "scene": {
           "xaxis": {
            "backgroundcolor": "#E5ECF6",
            "gridcolor": "white",
            "gridwidth": 2,
            "linecolor": "white",
            "showbackground": true,
            "ticks": "",
            "zerolinecolor": "white"
           },
           "yaxis": {
            "backgroundcolor": "#E5ECF6",
            "gridcolor": "white",
            "gridwidth": 2,
            "linecolor": "white",
            "showbackground": true,
            "ticks": "",
            "zerolinecolor": "white"
           },
           "zaxis": {
            "backgroundcolor": "#E5ECF6",
            "gridcolor": "white",
            "gridwidth": 2,
            "linecolor": "white",
            "showbackground": true,
            "ticks": "",
            "zerolinecolor": "white"
           }
          },
          "shapedefaults": {
           "line": {
            "color": "#2a3f5f"
           }
          },
          "ternary": {
           "aaxis": {
            "gridcolor": "white",
            "linecolor": "white",
            "ticks": ""
           },
           "baxis": {
            "gridcolor": "white",
            "linecolor": "white",
            "ticks": ""
           },
           "bgcolor": "#E5ECF6",
           "caxis": {
            "gridcolor": "white",
            "linecolor": "white",
            "ticks": ""
           }
          },
          "title": {
           "x": 0.05
          },
          "xaxis": {
           "automargin": true,
           "gridcolor": "white",
           "linecolor": "white",
           "ticks": "",
           "title": {
            "standoff": 15
           },
           "zerolinecolor": "white",
           "zerolinewidth": 2
          },
          "yaxis": {
           "automargin": true,
           "gridcolor": "white",
           "linecolor": "white",
           "ticks": "",
           "title": {
            "standoff": 15
           },
           "zerolinecolor": "white",
           "zerolinewidth": 2
          }
         }
        },
        "title": {
         "text": "Consumo Mensual de Energía por Compañía"
        },
        "xaxis": {
         "anchor": "y",
         "domain": [
          0,
          1
         ],
         "title": {
          "text": "Compañía"
         }
        },
        "yaxis": {
         "anchor": "x",
         "domain": [
          0,
          1
         ],
         "title": {
          "text": "Consumo de Energía"
         }
        }
       }
      }
     },
     "metadata": {},
     "output_type": "display_data"
    }
   ],
   "source": [
    "data = {\n",
    "    'Compania': ['Compania1', 'Compania2', 'Compania3', 'Compania4'],\n",
    "    'Enero': [100, 120, 90, 110],\n",
    "    'Febrero': [110, 130, 95, 120],\n",
    "    'Marzo': [95, 110, 85, 100],\n",
    "}\n",
    "\n",
    "df = pd.DataFrame(data)\n",
    "\n",
    "compania_actual = 'Actual' \n",
    "consumos_compania_actual = [105, 125, 92]\n",
    "\n",
    "nueva_fila = pd.DataFrame({\n",
    "    'Compania': [compania_actual],\n",
    "    'Enero': [consumos_compania_actual[0]],\n",
    "    'Febrero': [consumos_compania_actual[1]],\n",
    "    'Marzo': [consumos_compania_actual[2]],\n",
    "})\n",
    "\n",
    "df = pd.concat([df, nueva_fila], ignore_index=True)\n",
    "fig = px.bar(df, x='Compania', y=['Enero', 'Febrero', 'Marzo'],\n",
    "             title='Consumo Mensual de Energía por Compañía',\n",
    "             labels={'value': 'Consumo de Energía', 'variable': 'Mes'},\n",
    "             color_discrete_map={'Enero': 'blue', 'Febrero': 'green', 'Marzo': 'orange'},\n",
    "             )\n",
    "fig.update_layout(barmode='stack', legend_title_text='Meses', xaxis_title='Compañía', yaxis_title='Consumo de Energía')\n",
    "fig.update_traces(marker=dict(color='red'), selector=dict(name=compania_actual))\n",
    "fig.show()"
   ]
  },
  {
   "cell_type": "code",
   "execution_count": 33,
   "metadata": {},
   "outputs": [
    {
     "name": "stderr",
     "output_type": "stream",
     "text": [
      "c:\\Users\\adria\\AppData\\Local\\Programs\\Python\\Python311\\Lib\\site-packages\\_plotly_utils\\basevalidators.py:105: FutureWarning:\n",
      "\n",
      "The behavior of DatetimeProperties.to_pydatetime is deprecated, in a future version this will return a Series containing python datetime objects instead of an ndarray. To retain the old behavior, call `np.array` on the result\n",
      "\n"
     ]
    },
    {
     "data": {
      "application/vnd.plotly.v1+json": {
       "config": {
        "plotlyServerURL": "https://plot.ly"
       },
       "data": [
        {
         "hovertemplate": "Compania=CompaniaX<br>Fecha=%{x}<br>Consumo de Energía=%{y}<extra></extra>",
         "legendgroup": "CompaniaX",
         "line": {
          "color": "red",
          "dash": "solid"
         },
         "marker": {
          "symbol": "circle"
         },
         "mode": "lines",
         "name": "CompaniaX",
         "orientation": "v",
         "showlegend": true,
         "type": "scatter",
         "x": [
          "2022-01-31T00:00:00",
          "2022-02-28T00:00:00",
          "2022-03-31T00:00:00",
          "2022-04-30T00:00:00",
          "2022-05-31T00:00:00",
          "2022-06-30T00:00:00",
          "2022-07-31T00:00:00",
          "2022-08-31T00:00:00",
          "2022-09-30T00:00:00",
          "2022-10-31T00:00:00",
          "2022-11-30T00:00:00",
          "2022-12-31T00:00:00",
          "2023-01-31T00:00:00",
          "2023-02-28T00:00:00",
          "2023-03-31T00:00:00",
          "2023-04-30T00:00:00",
          "2023-05-31T00:00:00",
          "2023-06-30T00:00:00",
          "2023-07-31T00:00:00",
          "2023-08-31T00:00:00",
          "2023-09-30T00:00:00",
          "2023-10-31T00:00:00",
          "2023-11-30T00:00:00",
          "2023-12-31T00:00:00"
         ],
         "xaxis": "x",
         "y": [
          105,
          125,
          92,
          115,
          130,
          100,
          110,
          120,
          95,
          105,
          110,
          90,
          100,
          115,
          120,
          85,
          95,
          100,
          105,
          110,
          90,
          100,
          105,
          110
         ],
         "yaxis": "y"
        }
       ],
       "layout": {
        "legend": {
         "title": {
          "text": "Compañías"
         },
         "tracegroupgap": 0
        },
        "template": {
         "data": {
          "bar": [
           {
            "error_x": {
             "color": "#2a3f5f"
            },
            "error_y": {
             "color": "#2a3f5f"
            },
            "marker": {
             "line": {
              "color": "#E5ECF6",
              "width": 0.5
             },
             "pattern": {
              "fillmode": "overlay",
              "size": 10,
              "solidity": 0.2
             }
            },
            "type": "bar"
           }
          ],
          "barpolar": [
           {
            "marker": {
             "line": {
              "color": "#E5ECF6",
              "width": 0.5
             },
             "pattern": {
              "fillmode": "overlay",
              "size": 10,
              "solidity": 0.2
             }
            },
            "type": "barpolar"
           }
          ],
          "carpet": [
           {
            "aaxis": {
             "endlinecolor": "#2a3f5f",
             "gridcolor": "white",
             "linecolor": "white",
             "minorgridcolor": "white",
             "startlinecolor": "#2a3f5f"
            },
            "baxis": {
             "endlinecolor": "#2a3f5f",
             "gridcolor": "white",
             "linecolor": "white",
             "minorgridcolor": "white",
             "startlinecolor": "#2a3f5f"
            },
            "type": "carpet"
           }
          ],
          "choropleth": [
           {
            "colorbar": {
             "outlinewidth": 0,
             "ticks": ""
            },
            "type": "choropleth"
           }
          ],
          "contour": [
           {
            "colorbar": {
             "outlinewidth": 0,
             "ticks": ""
            },
            "colorscale": [
             [
              0,
              "#0d0887"
             ],
             [
              0.1111111111111111,
              "#46039f"
             ],
             [
              0.2222222222222222,
              "#7201a8"
             ],
             [
              0.3333333333333333,
              "#9c179e"
             ],
             [
              0.4444444444444444,
              "#bd3786"
             ],
             [
              0.5555555555555556,
              "#d8576b"
             ],
             [
              0.6666666666666666,
              "#ed7953"
             ],
             [
              0.7777777777777778,
              "#fb9f3a"
             ],
             [
              0.8888888888888888,
              "#fdca26"
             ],
             [
              1,
              "#f0f921"
             ]
            ],
            "type": "contour"
           }
          ],
          "contourcarpet": [
           {
            "colorbar": {
             "outlinewidth": 0,
             "ticks": ""
            },
            "type": "contourcarpet"
           }
          ],
          "heatmap": [
           {
            "colorbar": {
             "outlinewidth": 0,
             "ticks": ""
            },
            "colorscale": [
             [
              0,
              "#0d0887"
             ],
             [
              0.1111111111111111,
              "#46039f"
             ],
             [
              0.2222222222222222,
              "#7201a8"
             ],
             [
              0.3333333333333333,
              "#9c179e"
             ],
             [
              0.4444444444444444,
              "#bd3786"
             ],
             [
              0.5555555555555556,
              "#d8576b"
             ],
             [
              0.6666666666666666,
              "#ed7953"
             ],
             [
              0.7777777777777778,
              "#fb9f3a"
             ],
             [
              0.8888888888888888,
              "#fdca26"
             ],
             [
              1,
              "#f0f921"
             ]
            ],
            "type": "heatmap"
           }
          ],
          "heatmapgl": [
           {
            "colorbar": {
             "outlinewidth": 0,
             "ticks": ""
            },
            "colorscale": [
             [
              0,
              "#0d0887"
             ],
             [
              0.1111111111111111,
              "#46039f"
             ],
             [
              0.2222222222222222,
              "#7201a8"
             ],
             [
              0.3333333333333333,
              "#9c179e"
             ],
             [
              0.4444444444444444,
              "#bd3786"
             ],
             [
              0.5555555555555556,
              "#d8576b"
             ],
             [
              0.6666666666666666,
              "#ed7953"
             ],
             [
              0.7777777777777778,
              "#fb9f3a"
             ],
             [
              0.8888888888888888,
              "#fdca26"
             ],
             [
              1,
              "#f0f921"
             ]
            ],
            "type": "heatmapgl"
           }
          ],
          "histogram": [
           {
            "marker": {
             "pattern": {
              "fillmode": "overlay",
              "size": 10,
              "solidity": 0.2
             }
            },
            "type": "histogram"
           }
          ],
          "histogram2d": [
           {
            "colorbar": {
             "outlinewidth": 0,
             "ticks": ""
            },
            "colorscale": [
             [
              0,
              "#0d0887"
             ],
             [
              0.1111111111111111,
              "#46039f"
             ],
             [
              0.2222222222222222,
              "#7201a8"
             ],
             [
              0.3333333333333333,
              "#9c179e"
             ],
             [
              0.4444444444444444,
              "#bd3786"
             ],
             [
              0.5555555555555556,
              "#d8576b"
             ],
             [
              0.6666666666666666,
              "#ed7953"
             ],
             [
              0.7777777777777778,
              "#fb9f3a"
             ],
             [
              0.8888888888888888,
              "#fdca26"
             ],
             [
              1,
              "#f0f921"
             ]
            ],
            "type": "histogram2d"
           }
          ],
          "histogram2dcontour": [
           {
            "colorbar": {
             "outlinewidth": 0,
             "ticks": ""
            },
            "colorscale": [
             [
              0,
              "#0d0887"
             ],
             [
              0.1111111111111111,
              "#46039f"
             ],
             [
              0.2222222222222222,
              "#7201a8"
             ],
             [
              0.3333333333333333,
              "#9c179e"
             ],
             [
              0.4444444444444444,
              "#bd3786"
             ],
             [
              0.5555555555555556,
              "#d8576b"
             ],
             [
              0.6666666666666666,
              "#ed7953"
             ],
             [
              0.7777777777777778,
              "#fb9f3a"
             ],
             [
              0.8888888888888888,
              "#fdca26"
             ],
             [
              1,
              "#f0f921"
             ]
            ],
            "type": "histogram2dcontour"
           }
          ],
          "mesh3d": [
           {
            "colorbar": {
             "outlinewidth": 0,
             "ticks": ""
            },
            "type": "mesh3d"
           }
          ],
          "parcoords": [
           {
            "line": {
             "colorbar": {
              "outlinewidth": 0,
              "ticks": ""
             }
            },
            "type": "parcoords"
           }
          ],
          "pie": [
           {
            "automargin": true,
            "type": "pie"
           }
          ],
          "scatter": [
           {
            "fillpattern": {
             "fillmode": "overlay",
             "size": 10,
             "solidity": 0.2
            },
            "type": "scatter"
           }
          ],
          "scatter3d": [
           {
            "line": {
             "colorbar": {
              "outlinewidth": 0,
              "ticks": ""
             }
            },
            "marker": {
             "colorbar": {
              "outlinewidth": 0,
              "ticks": ""
             }
            },
            "type": "scatter3d"
           }
          ],
          "scattercarpet": [
           {
            "marker": {
             "colorbar": {
              "outlinewidth": 0,
              "ticks": ""
             }
            },
            "type": "scattercarpet"
           }
          ],
          "scattergeo": [
           {
            "marker": {
             "colorbar": {
              "outlinewidth": 0,
              "ticks": ""
             }
            },
            "type": "scattergeo"
           }
          ],
          "scattergl": [
           {
            "marker": {
             "colorbar": {
              "outlinewidth": 0,
              "ticks": ""
             }
            },
            "type": "scattergl"
           }
          ],
          "scattermapbox": [
           {
            "marker": {
             "colorbar": {
              "outlinewidth": 0,
              "ticks": ""
             }
            },
            "type": "scattermapbox"
           }
          ],
          "scatterpolar": [
           {
            "marker": {
             "colorbar": {
              "outlinewidth": 0,
              "ticks": ""
             }
            },
            "type": "scatterpolar"
           }
          ],
          "scatterpolargl": [
           {
            "marker": {
             "colorbar": {
              "outlinewidth": 0,
              "ticks": ""
             }
            },
            "type": "scatterpolargl"
           }
          ],
          "scatterternary": [
           {
            "marker": {
             "colorbar": {
              "outlinewidth": 0,
              "ticks": ""
             }
            },
            "type": "scatterternary"
           }
          ],
          "surface": [
           {
            "colorbar": {
             "outlinewidth": 0,
             "ticks": ""
            },
            "colorscale": [
             [
              0,
              "#0d0887"
             ],
             [
              0.1111111111111111,
              "#46039f"
             ],
             [
              0.2222222222222222,
              "#7201a8"
             ],
             [
              0.3333333333333333,
              "#9c179e"
             ],
             [
              0.4444444444444444,
              "#bd3786"
             ],
             [
              0.5555555555555556,
              "#d8576b"
             ],
             [
              0.6666666666666666,
              "#ed7953"
             ],
             [
              0.7777777777777778,
              "#fb9f3a"
             ],
             [
              0.8888888888888888,
              "#fdca26"
             ],
             [
              1,
              "#f0f921"
             ]
            ],
            "type": "surface"
           }
          ],
          "table": [
           {
            "cells": {
             "fill": {
              "color": "#EBF0F8"
             },
             "line": {
              "color": "white"
             }
            },
            "header": {
             "fill": {
              "color": "#C8D4E3"
             },
             "line": {
              "color": "white"
             }
            },
            "type": "table"
           }
          ]
         },
         "layout": {
          "annotationdefaults": {
           "arrowcolor": "#2a3f5f",
           "arrowhead": 0,
           "arrowwidth": 1
          },
          "autotypenumbers": "strict",
          "coloraxis": {
           "colorbar": {
            "outlinewidth": 0,
            "ticks": ""
           }
          },
          "colorscale": {
           "diverging": [
            [
             0,
             "#8e0152"
            ],
            [
             0.1,
             "#c51b7d"
            ],
            [
             0.2,
             "#de77ae"
            ],
            [
             0.3,
             "#f1b6da"
            ],
            [
             0.4,
             "#fde0ef"
            ],
            [
             0.5,
             "#f7f7f7"
            ],
            [
             0.6,
             "#e6f5d0"
            ],
            [
             0.7,
             "#b8e186"
            ],
            [
             0.8,
             "#7fbc41"
            ],
            [
             0.9,
             "#4d9221"
            ],
            [
             1,
             "#276419"
            ]
           ],
           "sequential": [
            [
             0,
             "#0d0887"
            ],
            [
             0.1111111111111111,
             "#46039f"
            ],
            [
             0.2222222222222222,
             "#7201a8"
            ],
            [
             0.3333333333333333,
             "#9c179e"
            ],
            [
             0.4444444444444444,
             "#bd3786"
            ],
            [
             0.5555555555555556,
             "#d8576b"
            ],
            [
             0.6666666666666666,
             "#ed7953"
            ],
            [
             0.7777777777777778,
             "#fb9f3a"
            ],
            [
             0.8888888888888888,
             "#fdca26"
            ],
            [
             1,
             "#f0f921"
            ]
           ],
           "sequentialminus": [
            [
             0,
             "#0d0887"
            ],
            [
             0.1111111111111111,
             "#46039f"
            ],
            [
             0.2222222222222222,
             "#7201a8"
            ],
            [
             0.3333333333333333,
             "#9c179e"
            ],
            [
             0.4444444444444444,
             "#bd3786"
            ],
            [
             0.5555555555555556,
             "#d8576b"
            ],
            [
             0.6666666666666666,
             "#ed7953"
            ],
            [
             0.7777777777777778,
             "#fb9f3a"
            ],
            [
             0.8888888888888888,
             "#fdca26"
            ],
            [
             1,
             "#f0f921"
            ]
           ]
          },
          "colorway": [
           "#636efa",
           "#EF553B",
           "#00cc96",
           "#ab63fa",
           "#FFA15A",
           "#19d3f3",
           "#FF6692",
           "#B6E880",
           "#FF97FF",
           "#FECB52"
          ],
          "font": {
           "color": "#2a3f5f"
          },
          "geo": {
           "bgcolor": "white",
           "lakecolor": "white",
           "landcolor": "#E5ECF6",
           "showlakes": true,
           "showland": true,
           "subunitcolor": "white"
          },
          "hoverlabel": {
           "align": "left"
          },
          "hovermode": "closest",
          "mapbox": {
           "style": "light"
          },
          "paper_bgcolor": "white",
          "plot_bgcolor": "#E5ECF6",
          "polar": {
           "angularaxis": {
            "gridcolor": "white",
            "linecolor": "white",
            "ticks": ""
           },
           "bgcolor": "#E5ECF6",
           "radialaxis": {
            "gridcolor": "white",
            "linecolor": "white",
            "ticks": ""
           }
          },
          "scene": {
           "xaxis": {
            "backgroundcolor": "#E5ECF6",
            "gridcolor": "white",
            "gridwidth": 2,
            "linecolor": "white",
            "showbackground": true,
            "ticks": "",
            "zerolinecolor": "white"
           },
           "yaxis": {
            "backgroundcolor": "#E5ECF6",
            "gridcolor": "white",
            "gridwidth": 2,
            "linecolor": "white",
            "showbackground": true,
            "ticks": "",
            "zerolinecolor": "white"
           },
           "zaxis": {
            "backgroundcolor": "#E5ECF6",
            "gridcolor": "white",
            "gridwidth": 2,
            "linecolor": "white",
            "showbackground": true,
            "ticks": "",
            "zerolinecolor": "white"
           }
          },
          "shapedefaults": {
           "line": {
            "color": "#2a3f5f"
           }
          },
          "ternary": {
           "aaxis": {
            "gridcolor": "white",
            "linecolor": "white",
            "ticks": ""
           },
           "baxis": {
            "gridcolor": "white",
            "linecolor": "white",
            "ticks": ""
           },
           "bgcolor": "#E5ECF6",
           "caxis": {
            "gridcolor": "white",
            "linecolor": "white",
            "ticks": ""
           }
          },
          "title": {
           "x": 0.05
          },
          "xaxis": {
           "automargin": true,
           "gridcolor": "white",
           "linecolor": "white",
           "ticks": "",
           "title": {
            "standoff": 15
           },
           "zerolinecolor": "white",
           "zerolinewidth": 2
          },
          "yaxis": {
           "automargin": true,
           "gridcolor": "white",
           "linecolor": "white",
           "ticks": "",
           "title": {
            "standoff": 15
           },
           "zerolinecolor": "white",
           "zerolinewidth": 2
          }
         }
        },
        "title": {
         "text": "Consumo Mensual de Energía a lo largo de 24 Meses"
        },
        "xaxis": {
         "anchor": "y",
         "domain": [
          0,
          1
         ],
         "title": {
          "text": "Fecha"
         }
        },
        "yaxis": {
         "anchor": "x",
         "domain": [
          0,
          1
         ],
         "title": {
          "text": "Consumo de Energía"
         }
        }
       }
      }
     },
     "metadata": {},
     "output_type": "display_data"
    }
   ],
   "source": [
    "\n",
    "data = {\n",
    "    'Fecha': pd.date_range(start='2022-01-01', periods=24, freq='M'),\n",
    "    'Compania1': [100, 120, 90, 110, 105, 125, 92, 115, 130, 100, 110, 120, 95, 105, 110, 90, 100, 115, 120, 85, 95, 100, 105, 110],\n",
    "    'Compania2': [90, 110, 85, 100, 95, 115, 82, 105, 120, 90, 100, 110, 85, 95, 100, 80, 90, 105, 110, 75, 85, 90, 95, 100],\n",
    "    'Compania3': [120, 140, 110, 130, 125, 145, 112, 135, 150, 120, 130, 140, 115, 125, 130, 110, 120, 135, 140, 105, 115, 120, 125, 130],\n",
    "}\n",
    "\n",
    "df = pd.DataFrame(data)\n",
    "compania_actual = 'CompaniaX' \n",
    "consumos_compania_actual = [105, 125, 92, 115, 130, 100, 110, 120, 95, 105, 110, 90, 100, 115, 120, 85, 95, 100, 105, 110, 90, 100, 105, 110]\n",
    "\n",
    "nueva_fila = pd.DataFrame({\n",
    "    'Fecha': pd.date_range(start='2022-01-01', periods=24, freq='M'),\n",
    "    'Compania': [compania_actual] * 24,\n",
    "    'Consumo': consumos_compania_actual,\n",
    "})\n",
    "\n",
    "df = pd.concat([df, nueva_fila], ignore_index=True)\n",
    "\n",
    "fig = px.line(df, x='Fecha', y='Consumo', color='Compania',\n",
    "              title='Consumo Mensual de Energía a lo largo de 24 Meses',\n",
    "              labels={'Consumo': 'Consumo de Energía', 'Fecha': 'Fecha'},\n",
    "              )\n",
    "fig.update_layout(legend_title_text='Compañías', xaxis_title='Fecha', yaxis_title='Consumo de Energía')\n",
    "fig.update_traces(line=dict(color='red'), selector=dict(name=compania_actual))\n",
    "fig.show()"
   ]
  },
  {
   "cell_type": "code",
   "execution_count": 34,
   "metadata": {},
   "outputs": [
    {
     "data": {
      "application/vnd.plotly.v1+json": {
       "config": {
        "plotlyServerURL": "https://plot.ly"
       },
       "data": [
        {
         "alignmentgroup": "True",
         "hovertemplate": "variable=Mensual<br>Empresa=%{x}<br>Consumo de Energía=%{y}<extra></extra>",
         "legendgroup": "Mensual",
         "marker": {
          "color": "#636efa",
          "pattern": {
           "shape": ""
          }
         },
         "name": "Mensual",
         "offsetgroup": "Mensual",
         "orientation": "v",
         "showlegend": true,
         "textposition": "auto",
         "type": "bar",
         "x": [
          "Compania1",
          "Compania2",
          "Compania3",
          "Compania4",
          "Compania5",
          "CompaniaActual"
         ],
         "xaxis": "x",
         "y": [
          10,
          12,
          9,
          11,
          10,
          12.5
         ],
         "yaxis": "y"
        },
        {
         "alignmentgroup": "True",
         "hovertemplate": "variable=Anual<br>Empresa=%{x}<br>Consumo de Energía=%{y}<extra></extra>",
         "legendgroup": "Anual",
         "marker": {
          "color": "#EF553B",
          "pattern": {
           "shape": ""
          }
         },
         "name": "Anual",
         "offsetgroup": "Anual",
         "orientation": "v",
         "showlegend": true,
         "textposition": "auto",
         "type": "bar",
         "x": [
          "Compania1",
          "Compania2",
          "Compania3",
          "Compania4",
          "Compania5",
          "CompaniaActual"
         ],
         "xaxis": "x",
         "y": [
          950,
          1100,
          1050,
          1000,
          1150,
          1200
         ],
         "yaxis": "y"
        }
       ],
       "layout": {
        "barmode": "group",
        "legend": {
         "title": {
          "text": "variable"
         },
         "tracegroupgap": 0
        },
        "template": {
         "data": {
          "bar": [
           {
            "error_x": {
             "color": "#2a3f5f"
            },
            "error_y": {
             "color": "#2a3f5f"
            },
            "marker": {
             "line": {
              "color": "#E5ECF6",
              "width": 0.5
             },
             "pattern": {
              "fillmode": "overlay",
              "size": 10,
              "solidity": 0.2
             }
            },
            "type": "bar"
           }
          ],
          "barpolar": [
           {
            "marker": {
             "line": {
              "color": "#E5ECF6",
              "width": 0.5
             },
             "pattern": {
              "fillmode": "overlay",
              "size": 10,
              "solidity": 0.2
             }
            },
            "type": "barpolar"
           }
          ],
          "carpet": [
           {
            "aaxis": {
             "endlinecolor": "#2a3f5f",
             "gridcolor": "white",
             "linecolor": "white",
             "minorgridcolor": "white",
             "startlinecolor": "#2a3f5f"
            },
            "baxis": {
             "endlinecolor": "#2a3f5f",
             "gridcolor": "white",
             "linecolor": "white",
             "minorgridcolor": "white",
             "startlinecolor": "#2a3f5f"
            },
            "type": "carpet"
           }
          ],
          "choropleth": [
           {
            "colorbar": {
             "outlinewidth": 0,
             "ticks": ""
            },
            "type": "choropleth"
           }
          ],
          "contour": [
           {
            "colorbar": {
             "outlinewidth": 0,
             "ticks": ""
            },
            "colorscale": [
             [
              0,
              "#0d0887"
             ],
             [
              0.1111111111111111,
              "#46039f"
             ],
             [
              0.2222222222222222,
              "#7201a8"
             ],
             [
              0.3333333333333333,
              "#9c179e"
             ],
             [
              0.4444444444444444,
              "#bd3786"
             ],
             [
              0.5555555555555556,
              "#d8576b"
             ],
             [
              0.6666666666666666,
              "#ed7953"
             ],
             [
              0.7777777777777778,
              "#fb9f3a"
             ],
             [
              0.8888888888888888,
              "#fdca26"
             ],
             [
              1,
              "#f0f921"
             ]
            ],
            "type": "contour"
           }
          ],
          "contourcarpet": [
           {
            "colorbar": {
             "outlinewidth": 0,
             "ticks": ""
            },
            "type": "contourcarpet"
           }
          ],
          "heatmap": [
           {
            "colorbar": {
             "outlinewidth": 0,
             "ticks": ""
            },
            "colorscale": [
             [
              0,
              "#0d0887"
             ],
             [
              0.1111111111111111,
              "#46039f"
             ],
             [
              0.2222222222222222,
              "#7201a8"
             ],
             [
              0.3333333333333333,
              "#9c179e"
             ],
             [
              0.4444444444444444,
              "#bd3786"
             ],
             [
              0.5555555555555556,
              "#d8576b"
             ],
             [
              0.6666666666666666,
              "#ed7953"
             ],
             [
              0.7777777777777778,
              "#fb9f3a"
             ],
             [
              0.8888888888888888,
              "#fdca26"
             ],
             [
              1,
              "#f0f921"
             ]
            ],
            "type": "heatmap"
           }
          ],
          "heatmapgl": [
           {
            "colorbar": {
             "outlinewidth": 0,
             "ticks": ""
            },
            "colorscale": [
             [
              0,
              "#0d0887"
             ],
             [
              0.1111111111111111,
              "#46039f"
             ],
             [
              0.2222222222222222,
              "#7201a8"
             ],
             [
              0.3333333333333333,
              "#9c179e"
             ],
             [
              0.4444444444444444,
              "#bd3786"
             ],
             [
              0.5555555555555556,
              "#d8576b"
             ],
             [
              0.6666666666666666,
              "#ed7953"
             ],
             [
              0.7777777777777778,
              "#fb9f3a"
             ],
             [
              0.8888888888888888,
              "#fdca26"
             ],
             [
              1,
              "#f0f921"
             ]
            ],
            "type": "heatmapgl"
           }
          ],
          "histogram": [
           {
            "marker": {
             "pattern": {
              "fillmode": "overlay",
              "size": 10,
              "solidity": 0.2
             }
            },
            "type": "histogram"
           }
          ],
          "histogram2d": [
           {
            "colorbar": {
             "outlinewidth": 0,
             "ticks": ""
            },
            "colorscale": [
             [
              0,
              "#0d0887"
             ],
             [
              0.1111111111111111,
              "#46039f"
             ],
             [
              0.2222222222222222,
              "#7201a8"
             ],
             [
              0.3333333333333333,
              "#9c179e"
             ],
             [
              0.4444444444444444,
              "#bd3786"
             ],
             [
              0.5555555555555556,
              "#d8576b"
             ],
             [
              0.6666666666666666,
              "#ed7953"
             ],
             [
              0.7777777777777778,
              "#fb9f3a"
             ],
             [
              0.8888888888888888,
              "#fdca26"
             ],
             [
              1,
              "#f0f921"
             ]
            ],
            "type": "histogram2d"
           }
          ],
          "histogram2dcontour": [
           {
            "colorbar": {
             "outlinewidth": 0,
             "ticks": ""
            },
            "colorscale": [
             [
              0,
              "#0d0887"
             ],
             [
              0.1111111111111111,
              "#46039f"
             ],
             [
              0.2222222222222222,
              "#7201a8"
             ],
             [
              0.3333333333333333,
              "#9c179e"
             ],
             [
              0.4444444444444444,
              "#bd3786"
             ],
             [
              0.5555555555555556,
              "#d8576b"
             ],
             [
              0.6666666666666666,
              "#ed7953"
             ],
             [
              0.7777777777777778,
              "#fb9f3a"
             ],
             [
              0.8888888888888888,
              "#fdca26"
             ],
             [
              1,
              "#f0f921"
             ]
            ],
            "type": "histogram2dcontour"
           }
          ],
          "mesh3d": [
           {
            "colorbar": {
             "outlinewidth": 0,
             "ticks": ""
            },
            "type": "mesh3d"
           }
          ],
          "parcoords": [
           {
            "line": {
             "colorbar": {
              "outlinewidth": 0,
              "ticks": ""
             }
            },
            "type": "parcoords"
           }
          ],
          "pie": [
           {
            "automargin": true,
            "type": "pie"
           }
          ],
          "scatter": [
           {
            "fillpattern": {
             "fillmode": "overlay",
             "size": 10,
             "solidity": 0.2
            },
            "type": "scatter"
           }
          ],
          "scatter3d": [
           {
            "line": {
             "colorbar": {
              "outlinewidth": 0,
              "ticks": ""
             }
            },
            "marker": {
             "colorbar": {
              "outlinewidth": 0,
              "ticks": ""
             }
            },
            "type": "scatter3d"
           }
          ],
          "scattercarpet": [
           {
            "marker": {
             "colorbar": {
              "outlinewidth": 0,
              "ticks": ""
             }
            },
            "type": "scattercarpet"
           }
          ],
          "scattergeo": [
           {
            "marker": {
             "colorbar": {
              "outlinewidth": 0,
              "ticks": ""
             }
            },
            "type": "scattergeo"
           }
          ],
          "scattergl": [
           {
            "marker": {
             "colorbar": {
              "outlinewidth": 0,
              "ticks": ""
             }
            },
            "type": "scattergl"
           }
          ],
          "scattermapbox": [
           {
            "marker": {
             "colorbar": {
              "outlinewidth": 0,
              "ticks": ""
             }
            },
            "type": "scattermapbox"
           }
          ],
          "scatterpolar": [
           {
            "marker": {
             "colorbar": {
              "outlinewidth": 0,
              "ticks": ""
             }
            },
            "type": "scatterpolar"
           }
          ],
          "scatterpolargl": [
           {
            "marker": {
             "colorbar": {
              "outlinewidth": 0,
              "ticks": ""
             }
            },
            "type": "scatterpolargl"
           }
          ],
          "scatterternary": [
           {
            "marker": {
             "colorbar": {
              "outlinewidth": 0,
              "ticks": ""
             }
            },
            "type": "scatterternary"
           }
          ],
          "surface": [
           {
            "colorbar": {
             "outlinewidth": 0,
             "ticks": ""
            },
            "colorscale": [
             [
              0,
              "#0d0887"
             ],
             [
              0.1111111111111111,
              "#46039f"
             ],
             [
              0.2222222222222222,
              "#7201a8"
             ],
             [
              0.3333333333333333,
              "#9c179e"
             ],
             [
              0.4444444444444444,
              "#bd3786"
             ],
             [
              0.5555555555555556,
              "#d8576b"
             ],
             [
              0.6666666666666666,
              "#ed7953"
             ],
             [
              0.7777777777777778,
              "#fb9f3a"
             ],
             [
              0.8888888888888888,
              "#fdca26"
             ],
             [
              1,
              "#f0f921"
             ]
            ],
            "type": "surface"
           }
          ],
          "table": [
           {
            "cells": {
             "fill": {
              "color": "#EBF0F8"
             },
             "line": {
              "color": "white"
             }
            },
            "header": {
             "fill": {
              "color": "#C8D4E3"
             },
             "line": {
              "color": "white"
             }
            },
            "type": "table"
           }
          ]
         },
         "layout": {
          "annotationdefaults": {
           "arrowcolor": "#2a3f5f",
           "arrowhead": 0,
           "arrowwidth": 1
          },
          "autotypenumbers": "strict",
          "coloraxis": {
           "colorbar": {
            "outlinewidth": 0,
            "ticks": ""
           }
          },
          "colorscale": {
           "diverging": [
            [
             0,
             "#8e0152"
            ],
            [
             0.1,
             "#c51b7d"
            ],
            [
             0.2,
             "#de77ae"
            ],
            [
             0.3,
             "#f1b6da"
            ],
            [
             0.4,
             "#fde0ef"
            ],
            [
             0.5,
             "#f7f7f7"
            ],
            [
             0.6,
             "#e6f5d0"
            ],
            [
             0.7,
             "#b8e186"
            ],
            [
             0.8,
             "#7fbc41"
            ],
            [
             0.9,
             "#4d9221"
            ],
            [
             1,
             "#276419"
            ]
           ],
           "sequential": [
            [
             0,
             "#0d0887"
            ],
            [
             0.1111111111111111,
             "#46039f"
            ],
            [
             0.2222222222222222,
             "#7201a8"
            ],
            [
             0.3333333333333333,
             "#9c179e"
            ],
            [
             0.4444444444444444,
             "#bd3786"
            ],
            [
             0.5555555555555556,
             "#d8576b"
            ],
            [
             0.6666666666666666,
             "#ed7953"
            ],
            [
             0.7777777777777778,
             "#fb9f3a"
            ],
            [
             0.8888888888888888,
             "#fdca26"
            ],
            [
             1,
             "#f0f921"
            ]
           ],
           "sequentialminus": [
            [
             0,
             "#0d0887"
            ],
            [
             0.1111111111111111,
             "#46039f"
            ],
            [
             0.2222222222222222,
             "#7201a8"
            ],
            [
             0.3333333333333333,
             "#9c179e"
            ],
            [
             0.4444444444444444,
             "#bd3786"
            ],
            [
             0.5555555555555556,
             "#d8576b"
            ],
            [
             0.6666666666666666,
             "#ed7953"
            ],
            [
             0.7777777777777778,
             "#fb9f3a"
            ],
            [
             0.8888888888888888,
             "#fdca26"
            ],
            [
             1,
             "#f0f921"
            ]
           ]
          },
          "colorway": [
           "#636efa",
           "#EF553B",
           "#00cc96",
           "#ab63fa",
           "#FFA15A",
           "#19d3f3",
           "#FF6692",
           "#B6E880",
           "#FF97FF",
           "#FECB52"
          ],
          "font": {
           "color": "#2a3f5f"
          },
          "geo": {
           "bgcolor": "white",
           "lakecolor": "white",
           "landcolor": "#E5ECF6",
           "showlakes": true,
           "showland": true,
           "subunitcolor": "white"
          },
          "hoverlabel": {
           "align": "left"
          },
          "hovermode": "closest",
          "mapbox": {
           "style": "light"
          },
          "paper_bgcolor": "white",
          "plot_bgcolor": "#E5ECF6",
          "polar": {
           "angularaxis": {
            "gridcolor": "white",
            "linecolor": "white",
            "ticks": ""
           },
           "bgcolor": "#E5ECF6",
           "radialaxis": {
            "gridcolor": "white",
            "linecolor": "white",
            "ticks": ""
           }
          },
          "scene": {
           "xaxis": {
            "backgroundcolor": "#E5ECF6",
            "gridcolor": "white",
            "gridwidth": 2,
            "linecolor": "white",
            "showbackground": true,
            "ticks": "",
            "zerolinecolor": "white"
           },
           "yaxis": {
            "backgroundcolor": "#E5ECF6",
            "gridcolor": "white",
            "gridwidth": 2,
            "linecolor": "white",
            "showbackground": true,
            "ticks": "",
            "zerolinecolor": "white"
           },
           "zaxis": {
            "backgroundcolor": "#E5ECF6",
            "gridcolor": "white",
            "gridwidth": 2,
            "linecolor": "white",
            "showbackground": true,
            "ticks": "",
            "zerolinecolor": "white"
           }
          },
          "shapedefaults": {
           "line": {
            "color": "#2a3f5f"
           }
          },
          "ternary": {
           "aaxis": {
            "gridcolor": "white",
            "linecolor": "white",
            "ticks": ""
           },
           "baxis": {
            "gridcolor": "white",
            "linecolor": "white",
            "ticks": ""
           },
           "bgcolor": "#E5ECF6",
           "caxis": {
            "gridcolor": "white",
            "linecolor": "white",
            "ticks": ""
           }
          },
          "title": {
           "x": 0.05
          },
          "xaxis": {
           "automargin": true,
           "gridcolor": "white",
           "linecolor": "white",
           "ticks": "",
           "title": {
            "standoff": 15
           },
           "zerolinecolor": "white",
           "zerolinewidth": 2
          },
          "yaxis": {
           "automargin": true,
           "gridcolor": "white",
           "linecolor": "white",
           "ticks": "",
           "title": {
            "standoff": 15
           },
           "zerolinecolor": "white",
           "zerolinewidth": 2
          }
         }
        },
        "title": {
         "text": "Valores Mensuales y Anuales por Empresa"
        },
        "xaxis": {
         "anchor": "y",
         "domain": [
          0,
          1
         ],
         "title": {
          "text": "Empresa"
         }
        },
        "yaxis": {
         "anchor": "x",
         "domain": [
          0,
          1
         ],
         "title": {
          "text": "Consumo de Energía"
         }
        }
       }
      }
     },
     "metadata": {},
     "output_type": "display_data"
    }
   ],
   "source": [
    "data = {\n",
    "    'Empresa': ['Compania1', 'Compania2', 'Compania3', 'Compania4', 'Compania5', 'CompaniaActual'],\n",
    "    'Mensual': [10, 12, 9, 11, 10, 12.5],\n",
    "    'Anual': [950, 1100, 1050, 1000, 1150, 1200],\n",
    "}\n",
    "\n",
    "df = pd.DataFrame(data)\n",
    "\n",
    "fig = px.bar(df, x='Empresa', y=['Mensual', 'Anual'], barmode='group',\n",
    "             title='Valores Mensuales y Anuales por Empresa',\n",
    "             labels={'value': 'Consumo de Energía', 'Empresa': 'Empresa'},\n",
    "             )\n",
    "fig.show()"
   ]
  },
  {
   "cell_type": "code",
   "execution_count": 35,
   "metadata": {},
   "outputs": [
    {
     "data": {
      "application/vnd.plotly.v1+json": {
       "config": {
        "plotlyServerURL": "https://plot.ly"
       },
       "data": [
        {
         "connectgaps": true,
         "hovertemplate": "Empresa=%{x}<br>Porcentaje de Ahorro=%{y}<extra></extra>",
         "legendgroup": "",
         "marker": {
          "color": "#636efa",
          "symbol": "circle"
         },
         "mode": "lines+markers",
         "name": "",
         "orientation": "v",
         "showlegend": false,
         "type": "scatter",
         "x": [
          "Compania1",
          "Compania2",
          "Compania3",
          "Compania4",
          "Compania5",
          "CompaniaActual"
         ],
         "xaxis": "x",
         "y": [
          10,
          12,
          8,
          11,
          10.5,
          12.5
         ],
         "yaxis": "y"
        }
       ],
       "layout": {
        "legend": {
         "tracegroupgap": 0
        },
        "template": {
         "data": {
          "bar": [
           {
            "error_x": {
             "color": "#2a3f5f"
            },
            "error_y": {
             "color": "#2a3f5f"
            },
            "marker": {
             "line": {
              "color": "#E5ECF6",
              "width": 0.5
             },
             "pattern": {
              "fillmode": "overlay",
              "size": 10,
              "solidity": 0.2
             }
            },
            "type": "bar"
           }
          ],
          "barpolar": [
           {
            "marker": {
             "line": {
              "color": "#E5ECF6",
              "width": 0.5
             },
             "pattern": {
              "fillmode": "overlay",
              "size": 10,
              "solidity": 0.2
             }
            },
            "type": "barpolar"
           }
          ],
          "carpet": [
           {
            "aaxis": {
             "endlinecolor": "#2a3f5f",
             "gridcolor": "white",
             "linecolor": "white",
             "minorgridcolor": "white",
             "startlinecolor": "#2a3f5f"
            },
            "baxis": {
             "endlinecolor": "#2a3f5f",
             "gridcolor": "white",
             "linecolor": "white",
             "minorgridcolor": "white",
             "startlinecolor": "#2a3f5f"
            },
            "type": "carpet"
           }
          ],
          "choropleth": [
           {
            "colorbar": {
             "outlinewidth": 0,
             "ticks": ""
            },
            "type": "choropleth"
           }
          ],
          "contour": [
           {
            "colorbar": {
             "outlinewidth": 0,
             "ticks": ""
            },
            "colorscale": [
             [
              0,
              "#0d0887"
             ],
             [
              0.1111111111111111,
              "#46039f"
             ],
             [
              0.2222222222222222,
              "#7201a8"
             ],
             [
              0.3333333333333333,
              "#9c179e"
             ],
             [
              0.4444444444444444,
              "#bd3786"
             ],
             [
              0.5555555555555556,
              "#d8576b"
             ],
             [
              0.6666666666666666,
              "#ed7953"
             ],
             [
              0.7777777777777778,
              "#fb9f3a"
             ],
             [
              0.8888888888888888,
              "#fdca26"
             ],
             [
              1,
              "#f0f921"
             ]
            ],
            "type": "contour"
           }
          ],
          "contourcarpet": [
           {
            "colorbar": {
             "outlinewidth": 0,
             "ticks": ""
            },
            "type": "contourcarpet"
           }
          ],
          "heatmap": [
           {
            "colorbar": {
             "outlinewidth": 0,
             "ticks": ""
            },
            "colorscale": [
             [
              0,
              "#0d0887"
             ],
             [
              0.1111111111111111,
              "#46039f"
             ],
             [
              0.2222222222222222,
              "#7201a8"
             ],
             [
              0.3333333333333333,
              "#9c179e"
             ],
             [
              0.4444444444444444,
              "#bd3786"
             ],
             [
              0.5555555555555556,
              "#d8576b"
             ],
             [
              0.6666666666666666,
              "#ed7953"
             ],
             [
              0.7777777777777778,
              "#fb9f3a"
             ],
             [
              0.8888888888888888,
              "#fdca26"
             ],
             [
              1,
              "#f0f921"
             ]
            ],
            "type": "heatmap"
           }
          ],
          "heatmapgl": [
           {
            "colorbar": {
             "outlinewidth": 0,
             "ticks": ""
            },
            "colorscale": [
             [
              0,
              "#0d0887"
             ],
             [
              0.1111111111111111,
              "#46039f"
             ],
             [
              0.2222222222222222,
              "#7201a8"
             ],
             [
              0.3333333333333333,
              "#9c179e"
             ],
             [
              0.4444444444444444,
              "#bd3786"
             ],
             [
              0.5555555555555556,
              "#d8576b"
             ],
             [
              0.6666666666666666,
              "#ed7953"
             ],
             [
              0.7777777777777778,
              "#fb9f3a"
             ],
             [
              0.8888888888888888,
              "#fdca26"
             ],
             [
              1,
              "#f0f921"
             ]
            ],
            "type": "heatmapgl"
           }
          ],
          "histogram": [
           {
            "marker": {
             "pattern": {
              "fillmode": "overlay",
              "size": 10,
              "solidity": 0.2
             }
            },
            "type": "histogram"
           }
          ],
          "histogram2d": [
           {
            "colorbar": {
             "outlinewidth": 0,
             "ticks": ""
            },
            "colorscale": [
             [
              0,
              "#0d0887"
             ],
             [
              0.1111111111111111,
              "#46039f"
             ],
             [
              0.2222222222222222,
              "#7201a8"
             ],
             [
              0.3333333333333333,
              "#9c179e"
             ],
             [
              0.4444444444444444,
              "#bd3786"
             ],
             [
              0.5555555555555556,
              "#d8576b"
             ],
             [
              0.6666666666666666,
              "#ed7953"
             ],
             [
              0.7777777777777778,
              "#fb9f3a"
             ],
             [
              0.8888888888888888,
              "#fdca26"
             ],
             [
              1,
              "#f0f921"
             ]
            ],
            "type": "histogram2d"
           }
          ],
          "histogram2dcontour": [
           {
            "colorbar": {
             "outlinewidth": 0,
             "ticks": ""
            },
            "colorscale": [
             [
              0,
              "#0d0887"
             ],
             [
              0.1111111111111111,
              "#46039f"
             ],
             [
              0.2222222222222222,
              "#7201a8"
             ],
             [
              0.3333333333333333,
              "#9c179e"
             ],
             [
              0.4444444444444444,
              "#bd3786"
             ],
             [
              0.5555555555555556,
              "#d8576b"
             ],
             [
              0.6666666666666666,
              "#ed7953"
             ],
             [
              0.7777777777777778,
              "#fb9f3a"
             ],
             [
              0.8888888888888888,
              "#fdca26"
             ],
             [
              1,
              "#f0f921"
             ]
            ],
            "type": "histogram2dcontour"
           }
          ],
          "mesh3d": [
           {
            "colorbar": {
             "outlinewidth": 0,
             "ticks": ""
            },
            "type": "mesh3d"
           }
          ],
          "parcoords": [
           {
            "line": {
             "colorbar": {
              "outlinewidth": 0,
              "ticks": ""
             }
            },
            "type": "parcoords"
           }
          ],
          "pie": [
           {
            "automargin": true,
            "type": "pie"
           }
          ],
          "scatter": [
           {
            "fillpattern": {
             "fillmode": "overlay",
             "size": 10,
             "solidity": 0.2
            },
            "type": "scatter"
           }
          ],
          "scatter3d": [
           {
            "line": {
             "colorbar": {
              "outlinewidth": 0,
              "ticks": ""
             }
            },
            "marker": {
             "colorbar": {
              "outlinewidth": 0,
              "ticks": ""
             }
            },
            "type": "scatter3d"
           }
          ],
          "scattercarpet": [
           {
            "marker": {
             "colorbar": {
              "outlinewidth": 0,
              "ticks": ""
             }
            },
            "type": "scattercarpet"
           }
          ],
          "scattergeo": [
           {
            "marker": {
             "colorbar": {
              "outlinewidth": 0,
              "ticks": ""
             }
            },
            "type": "scattergeo"
           }
          ],
          "scattergl": [
           {
            "marker": {
             "colorbar": {
              "outlinewidth": 0,
              "ticks": ""
             }
            },
            "type": "scattergl"
           }
          ],
          "scattermapbox": [
           {
            "marker": {
             "colorbar": {
              "outlinewidth": 0,
              "ticks": ""
             }
            },
            "type": "scattermapbox"
           }
          ],
          "scatterpolar": [
           {
            "marker": {
             "colorbar": {
              "outlinewidth": 0,
              "ticks": ""
             }
            },
            "type": "scatterpolar"
           }
          ],
          "scatterpolargl": [
           {
            "marker": {
             "colorbar": {
              "outlinewidth": 0,
              "ticks": ""
             }
            },
            "type": "scatterpolargl"
           }
          ],
          "scatterternary": [
           {
            "marker": {
             "colorbar": {
              "outlinewidth": 0,
              "ticks": ""
             }
            },
            "type": "scatterternary"
           }
          ],
          "surface": [
           {
            "colorbar": {
             "outlinewidth": 0,
             "ticks": ""
            },
            "colorscale": [
             [
              0,
              "#0d0887"
             ],
             [
              0.1111111111111111,
              "#46039f"
             ],
             [
              0.2222222222222222,
              "#7201a8"
             ],
             [
              0.3333333333333333,
              "#9c179e"
             ],
             [
              0.4444444444444444,
              "#bd3786"
             ],
             [
              0.5555555555555556,
              "#d8576b"
             ],
             [
              0.6666666666666666,
              "#ed7953"
             ],
             [
              0.7777777777777778,
              "#fb9f3a"
             ],
             [
              0.8888888888888888,
              "#fdca26"
             ],
             [
              1,
              "#f0f921"
             ]
            ],
            "type": "surface"
           }
          ],
          "table": [
           {
            "cells": {
             "fill": {
              "color": "#EBF0F8"
             },
             "line": {
              "color": "white"
             }
            },
            "header": {
             "fill": {
              "color": "#C8D4E3"
             },
             "line": {
              "color": "white"
             }
            },
            "type": "table"
           }
          ]
         },
         "layout": {
          "annotationdefaults": {
           "arrowcolor": "#2a3f5f",
           "arrowhead": 0,
           "arrowwidth": 1
          },
          "autotypenumbers": "strict",
          "coloraxis": {
           "colorbar": {
            "outlinewidth": 0,
            "ticks": ""
           }
          },
          "colorscale": {
           "diverging": [
            [
             0,
             "#8e0152"
            ],
            [
             0.1,
             "#c51b7d"
            ],
            [
             0.2,
             "#de77ae"
            ],
            [
             0.3,
             "#f1b6da"
            ],
            [
             0.4,
             "#fde0ef"
            ],
            [
             0.5,
             "#f7f7f7"
            ],
            [
             0.6,
             "#e6f5d0"
            ],
            [
             0.7,
             "#b8e186"
            ],
            [
             0.8,
             "#7fbc41"
            ],
            [
             0.9,
             "#4d9221"
            ],
            [
             1,
             "#276419"
            ]
           ],
           "sequential": [
            [
             0,
             "#0d0887"
            ],
            [
             0.1111111111111111,
             "#46039f"
            ],
            [
             0.2222222222222222,
             "#7201a8"
            ],
            [
             0.3333333333333333,
             "#9c179e"
            ],
            [
             0.4444444444444444,
             "#bd3786"
            ],
            [
             0.5555555555555556,
             "#d8576b"
            ],
            [
             0.6666666666666666,
             "#ed7953"
            ],
            [
             0.7777777777777778,
             "#fb9f3a"
            ],
            [
             0.8888888888888888,
             "#fdca26"
            ],
            [
             1,
             "#f0f921"
            ]
           ],
           "sequentialminus": [
            [
             0,
             "#0d0887"
            ],
            [
             0.1111111111111111,
             "#46039f"
            ],
            [
             0.2222222222222222,
             "#7201a8"
            ],
            [
             0.3333333333333333,
             "#9c179e"
            ],
            [
             0.4444444444444444,
             "#bd3786"
            ],
            [
             0.5555555555555556,
             "#d8576b"
            ],
            [
             0.6666666666666666,
             "#ed7953"
            ],
            [
             0.7777777777777778,
             "#fb9f3a"
            ],
            [
             0.8888888888888888,
             "#fdca26"
            ],
            [
             1,
             "#f0f921"
            ]
           ]
          },
          "colorway": [
           "#636efa",
           "#EF553B",
           "#00cc96",
           "#ab63fa",
           "#FFA15A",
           "#19d3f3",
           "#FF6692",
           "#B6E880",
           "#FF97FF",
           "#FECB52"
          ],
          "font": {
           "color": "#2a3f5f"
          },
          "geo": {
           "bgcolor": "white",
           "lakecolor": "white",
           "landcolor": "#E5ECF6",
           "showlakes": true,
           "showland": true,
           "subunitcolor": "white"
          },
          "hoverlabel": {
           "align": "left"
          },
          "hovermode": "closest",
          "mapbox": {
           "style": "light"
          },
          "paper_bgcolor": "white",
          "plot_bgcolor": "#E5ECF6",
          "polar": {
           "angularaxis": {
            "gridcolor": "white",
            "linecolor": "white",
            "ticks": ""
           },
           "bgcolor": "#E5ECF6",
           "radialaxis": {
            "gridcolor": "white",
            "linecolor": "white",
            "ticks": ""
           }
          },
          "scene": {
           "xaxis": {
            "backgroundcolor": "#E5ECF6",
            "gridcolor": "white",
            "gridwidth": 2,
            "linecolor": "white",
            "showbackground": true,
            "ticks": "",
            "zerolinecolor": "white"
           },
           "yaxis": {
            "backgroundcolor": "#E5ECF6",
            "gridcolor": "white",
            "gridwidth": 2,
            "linecolor": "white",
            "showbackground": true,
            "ticks": "",
            "zerolinecolor": "white"
           },
           "zaxis": {
            "backgroundcolor": "#E5ECF6",
            "gridcolor": "white",
            "gridwidth": 2,
            "linecolor": "white",
            "showbackground": true,
            "ticks": "",
            "zerolinecolor": "white"
           }
          },
          "shapedefaults": {
           "line": {
            "color": "#2a3f5f"
           }
          },
          "ternary": {
           "aaxis": {
            "gridcolor": "white",
            "linecolor": "white",
            "ticks": ""
           },
           "baxis": {
            "gridcolor": "white",
            "linecolor": "white",
            "ticks": ""
           },
           "bgcolor": "#E5ECF6",
           "caxis": {
            "gridcolor": "white",
            "linecolor": "white",
            "ticks": ""
           }
          },
          "title": {
           "x": 0.05
          },
          "xaxis": {
           "automargin": true,
           "gridcolor": "white",
           "linecolor": "white",
           "ticks": "",
           "title": {
            "standoff": 15
           },
           "zerolinecolor": "white",
           "zerolinewidth": 2
          },
          "yaxis": {
           "automargin": true,
           "gridcolor": "white",
           "linecolor": "white",
           "ticks": "",
           "title": {
            "standoff": 15
           },
           "zerolinecolor": "white",
           "zerolinewidth": 2
          }
         }
        },
        "title": {
         "text": "Porcentajes de Ahorro por Empresa"
        },
        "xaxis": {
         "anchor": "y",
         "domain": [
          0,
          1
         ],
         "title": {
          "text": "Empresa"
         }
        },
        "yaxis": {
         "anchor": "x",
         "domain": [
          0,
          1
         ],
         "title": {
          "text": "Porcentaje de Ahorro"
         }
        }
       }
      }
     },
     "metadata": {},
     "output_type": "display_data"
    }
   ],
   "source": [
    "import pandas as pd\n",
    "import plotly.express as px\n",
    "data = {\n",
    "    'Empresa': ['Compania1', 'Compania2', 'Compania3', 'Compania4', 'Compania5', 'CompaniaActual'],\n",
    "    'Ahorro': [10, 12, 8, 11, 10.5, 12.5], \n",
    "}\n",
    "df = pd.DataFrame(data)\n",
    "\n",
    "fig = px.scatter(df, x='Empresa', y='Ahorro', \n",
    "                 title='Porcentajes de Ahorro por Empresa',\n",
    "                 labels={'Ahorro': 'Porcentaje de Ahorro', 'Empresa': 'Empresa'},\n",
    "                 )\n",
    "\n",
    "fig.update_traces(mode='lines+markers', connectgaps=True)\n",
    "fig.show()"
   ]
  },
  {
   "cell_type": "code",
   "execution_count": 36,
   "metadata": {},
   "outputs": [
    {
     "data": {
      "application/vnd.plotly.v1+json": {
       "config": {
        "plotlyServerURL": "https://plot.ly"
       },
       "data": [
        {
         "hovertemplate": "Periodo=Ahorro_Mensual<br>Empresa=%{x}<br>Porcentaje de Ahorro=%{y}<extra></extra>",
         "legendgroup": "Ahorro_Mensual",
         "marker": {
          "color": "black",
          "symbol": "circle"
         },
         "mode": "markers",
         "name": "Ahorro_Mensual",
         "orientation": "v",
         "showlegend": true,
         "type": "scatter",
         "x": [
          "Compania1",
          "Compania2",
          "Compania3",
          "Compania4",
          "Compania5",
          "CompaniaActual"
         ],
         "xaxis": "x",
         "y": [
          10,
          12,
          8,
          11,
          10.5,
          12.5
         ],
         "yaxis": "y"
        },
        {
         "hovertemplate": "Periodo=Ahorro_Anual<br>Empresa=%{x}<br>Porcentaje de Ahorro=%{y}<extra></extra>",
         "legendgroup": "Ahorro_Anual",
         "marker": {
          "color": "orange",
          "symbol": "circle"
         },
         "mode": "markers",
         "name": "Ahorro_Anual",
         "orientation": "v",
         "showlegend": true,
         "type": "scatter",
         "x": [
          "Compania1",
          "Compania2",
          "Compania3",
          "Compania4",
          "Compania5",
          "CompaniaActual"
         ],
         "xaxis": "x",
         "y": [
          15,
          18,
          12,
          16,
          14.5,
          17.5
         ],
         "yaxis": "y"
        }
       ],
       "layout": {
        "legend": {
         "title": {
          "text": "Periodo"
         },
         "tracegroupgap": 0
        },
        "shapes": [
         {
          "line": {
           "color": "orange"
          },
          "type": "line",
          "x0": "Compania1",
          "x1": "Compania1",
          "y0": 10,
          "y1": 15
         },
         {
          "line": {
           "color": "orange"
          },
          "type": "line",
          "x0": "Compania2",
          "x1": "Compania2",
          "y0": 12,
          "y1": 18
         },
         {
          "line": {
           "color": "orange"
          },
          "type": "line",
          "x0": "Compania3",
          "x1": "Compania3",
          "y0": 8,
          "y1": 12
         },
         {
          "line": {
           "color": "orange"
          },
          "type": "line",
          "x0": "Compania4",
          "x1": "Compania4",
          "y0": 11,
          "y1": 16
         },
         {
          "line": {
           "color": "orange"
          },
          "type": "line",
          "x0": "Compania5",
          "x1": "Compania5",
          "y0": 10.5,
          "y1": 14.5
         },
         {
          "line": {
           "color": "orange"
          },
          "type": "line",
          "x0": "CompaniaActual",
          "x1": "CompaniaActual",
          "y0": 12.5,
          "y1": 17.5
         }
        ],
        "template": {
         "data": {
          "bar": [
           {
            "error_x": {
             "color": "#2a3f5f"
            },
            "error_y": {
             "color": "#2a3f5f"
            },
            "marker": {
             "line": {
              "color": "#E5ECF6",
              "width": 0.5
             },
             "pattern": {
              "fillmode": "overlay",
              "size": 10,
              "solidity": 0.2
             }
            },
            "type": "bar"
           }
          ],
          "barpolar": [
           {
            "marker": {
             "line": {
              "color": "#E5ECF6",
              "width": 0.5
             },
             "pattern": {
              "fillmode": "overlay",
              "size": 10,
              "solidity": 0.2
             }
            },
            "type": "barpolar"
           }
          ],
          "carpet": [
           {
            "aaxis": {
             "endlinecolor": "#2a3f5f",
             "gridcolor": "white",
             "linecolor": "white",
             "minorgridcolor": "white",
             "startlinecolor": "#2a3f5f"
            },
            "baxis": {
             "endlinecolor": "#2a3f5f",
             "gridcolor": "white",
             "linecolor": "white",
             "minorgridcolor": "white",
             "startlinecolor": "#2a3f5f"
            },
            "type": "carpet"
           }
          ],
          "choropleth": [
           {
            "colorbar": {
             "outlinewidth": 0,
             "ticks": ""
            },
            "type": "choropleth"
           }
          ],
          "contour": [
           {
            "colorbar": {
             "outlinewidth": 0,
             "ticks": ""
            },
            "colorscale": [
             [
              0,
              "#0d0887"
             ],
             [
              0.1111111111111111,
              "#46039f"
             ],
             [
              0.2222222222222222,
              "#7201a8"
             ],
             [
              0.3333333333333333,
              "#9c179e"
             ],
             [
              0.4444444444444444,
              "#bd3786"
             ],
             [
              0.5555555555555556,
              "#d8576b"
             ],
             [
              0.6666666666666666,
              "#ed7953"
             ],
             [
              0.7777777777777778,
              "#fb9f3a"
             ],
             [
              0.8888888888888888,
              "#fdca26"
             ],
             [
              1,
              "#f0f921"
             ]
            ],
            "type": "contour"
           }
          ],
          "contourcarpet": [
           {
            "colorbar": {
             "outlinewidth": 0,
             "ticks": ""
            },
            "type": "contourcarpet"
           }
          ],
          "heatmap": [
           {
            "colorbar": {
             "outlinewidth": 0,
             "ticks": ""
            },
            "colorscale": [
             [
              0,
              "#0d0887"
             ],
             [
              0.1111111111111111,
              "#46039f"
             ],
             [
              0.2222222222222222,
              "#7201a8"
             ],
             [
              0.3333333333333333,
              "#9c179e"
             ],
             [
              0.4444444444444444,
              "#bd3786"
             ],
             [
              0.5555555555555556,
              "#d8576b"
             ],
             [
              0.6666666666666666,
              "#ed7953"
             ],
             [
              0.7777777777777778,
              "#fb9f3a"
             ],
             [
              0.8888888888888888,
              "#fdca26"
             ],
             [
              1,
              "#f0f921"
             ]
            ],
            "type": "heatmap"
           }
          ],
          "heatmapgl": [
           {
            "colorbar": {
             "outlinewidth": 0,
             "ticks": ""
            },
            "colorscale": [
             [
              0,
              "#0d0887"
             ],
             [
              0.1111111111111111,
              "#46039f"
             ],
             [
              0.2222222222222222,
              "#7201a8"
             ],
             [
              0.3333333333333333,
              "#9c179e"
             ],
             [
              0.4444444444444444,
              "#bd3786"
             ],
             [
              0.5555555555555556,
              "#d8576b"
             ],
             [
              0.6666666666666666,
              "#ed7953"
             ],
             [
              0.7777777777777778,
              "#fb9f3a"
             ],
             [
              0.8888888888888888,
              "#fdca26"
             ],
             [
              1,
              "#f0f921"
             ]
            ],
            "type": "heatmapgl"
           }
          ],
          "histogram": [
           {
            "marker": {
             "pattern": {
              "fillmode": "overlay",
              "size": 10,
              "solidity": 0.2
             }
            },
            "type": "histogram"
           }
          ],
          "histogram2d": [
           {
            "colorbar": {
             "outlinewidth": 0,
             "ticks": ""
            },
            "colorscale": [
             [
              0,
              "#0d0887"
             ],
             [
              0.1111111111111111,
              "#46039f"
             ],
             [
              0.2222222222222222,
              "#7201a8"
             ],
             [
              0.3333333333333333,
              "#9c179e"
             ],
             [
              0.4444444444444444,
              "#bd3786"
             ],
             [
              0.5555555555555556,
              "#d8576b"
             ],
             [
              0.6666666666666666,
              "#ed7953"
             ],
             [
              0.7777777777777778,
              "#fb9f3a"
             ],
             [
              0.8888888888888888,
              "#fdca26"
             ],
             [
              1,
              "#f0f921"
             ]
            ],
            "type": "histogram2d"
           }
          ],
          "histogram2dcontour": [
           {
            "colorbar": {
             "outlinewidth": 0,
             "ticks": ""
            },
            "colorscale": [
             [
              0,
              "#0d0887"
             ],
             [
              0.1111111111111111,
              "#46039f"
             ],
             [
              0.2222222222222222,
              "#7201a8"
             ],
             [
              0.3333333333333333,
              "#9c179e"
             ],
             [
              0.4444444444444444,
              "#bd3786"
             ],
             [
              0.5555555555555556,
              "#d8576b"
             ],
             [
              0.6666666666666666,
              "#ed7953"
             ],
             [
              0.7777777777777778,
              "#fb9f3a"
             ],
             [
              0.8888888888888888,
              "#fdca26"
             ],
             [
              1,
              "#f0f921"
             ]
            ],
            "type": "histogram2dcontour"
           }
          ],
          "mesh3d": [
           {
            "colorbar": {
             "outlinewidth": 0,
             "ticks": ""
            },
            "type": "mesh3d"
           }
          ],
          "parcoords": [
           {
            "line": {
             "colorbar": {
              "outlinewidth": 0,
              "ticks": ""
             }
            },
            "type": "parcoords"
           }
          ],
          "pie": [
           {
            "automargin": true,
            "type": "pie"
           }
          ],
          "scatter": [
           {
            "fillpattern": {
             "fillmode": "overlay",
             "size": 10,
             "solidity": 0.2
            },
            "type": "scatter"
           }
          ],
          "scatter3d": [
           {
            "line": {
             "colorbar": {
              "outlinewidth": 0,
              "ticks": ""
             }
            },
            "marker": {
             "colorbar": {
              "outlinewidth": 0,
              "ticks": ""
             }
            },
            "type": "scatter3d"
           }
          ],
          "scattercarpet": [
           {
            "marker": {
             "colorbar": {
              "outlinewidth": 0,
              "ticks": ""
             }
            },
            "type": "scattercarpet"
           }
          ],
          "scattergeo": [
           {
            "marker": {
             "colorbar": {
              "outlinewidth": 0,
              "ticks": ""
             }
            },
            "type": "scattergeo"
           }
          ],
          "scattergl": [
           {
            "marker": {
             "colorbar": {
              "outlinewidth": 0,
              "ticks": ""
             }
            },
            "type": "scattergl"
           }
          ],
          "scattermapbox": [
           {
            "marker": {
             "colorbar": {
              "outlinewidth": 0,
              "ticks": ""
             }
            },
            "type": "scattermapbox"
           }
          ],
          "scatterpolar": [
           {
            "marker": {
             "colorbar": {
              "outlinewidth": 0,
              "ticks": ""
             }
            },
            "type": "scatterpolar"
           }
          ],
          "scatterpolargl": [
           {
            "marker": {
             "colorbar": {
              "outlinewidth": 0,
              "ticks": ""
             }
            },
            "type": "scatterpolargl"
           }
          ],
          "scatterternary": [
           {
            "marker": {
             "colorbar": {
              "outlinewidth": 0,
              "ticks": ""
             }
            },
            "type": "scatterternary"
           }
          ],
          "surface": [
           {
            "colorbar": {
             "outlinewidth": 0,
             "ticks": ""
            },
            "colorscale": [
             [
              0,
              "#0d0887"
             ],
             [
              0.1111111111111111,
              "#46039f"
             ],
             [
              0.2222222222222222,
              "#7201a8"
             ],
             [
              0.3333333333333333,
              "#9c179e"
             ],
             [
              0.4444444444444444,
              "#bd3786"
             ],
             [
              0.5555555555555556,
              "#d8576b"
             ],
             [
              0.6666666666666666,
              "#ed7953"
             ],
             [
              0.7777777777777778,
              "#fb9f3a"
             ],
             [
              0.8888888888888888,
              "#fdca26"
             ],
             [
              1,
              "#f0f921"
             ]
            ],
            "type": "surface"
           }
          ],
          "table": [
           {
            "cells": {
             "fill": {
              "color": "#EBF0F8"
             },
             "line": {
              "color": "white"
             }
            },
            "header": {
             "fill": {
              "color": "#C8D4E3"
             },
             "line": {
              "color": "white"
             }
            },
            "type": "table"
           }
          ]
         },
         "layout": {
          "annotationdefaults": {
           "arrowcolor": "#2a3f5f",
           "arrowhead": 0,
           "arrowwidth": 1
          },
          "autotypenumbers": "strict",
          "coloraxis": {
           "colorbar": {
            "outlinewidth": 0,
            "ticks": ""
           }
          },
          "colorscale": {
           "diverging": [
            [
             0,
             "#8e0152"
            ],
            [
             0.1,
             "#c51b7d"
            ],
            [
             0.2,
             "#de77ae"
            ],
            [
             0.3,
             "#f1b6da"
            ],
            [
             0.4,
             "#fde0ef"
            ],
            [
             0.5,
             "#f7f7f7"
            ],
            [
             0.6,
             "#e6f5d0"
            ],
            [
             0.7,
             "#b8e186"
            ],
            [
             0.8,
             "#7fbc41"
            ],
            [
             0.9,
             "#4d9221"
            ],
            [
             1,
             "#276419"
            ]
           ],
           "sequential": [
            [
             0,
             "#0d0887"
            ],
            [
             0.1111111111111111,
             "#46039f"
            ],
            [
             0.2222222222222222,
             "#7201a8"
            ],
            [
             0.3333333333333333,
             "#9c179e"
            ],
            [
             0.4444444444444444,
             "#bd3786"
            ],
            [
             0.5555555555555556,
             "#d8576b"
            ],
            [
             0.6666666666666666,
             "#ed7953"
            ],
            [
             0.7777777777777778,
             "#fb9f3a"
            ],
            [
             0.8888888888888888,
             "#fdca26"
            ],
            [
             1,
             "#f0f921"
            ]
           ],
           "sequentialminus": [
            [
             0,
             "#0d0887"
            ],
            [
             0.1111111111111111,
             "#46039f"
            ],
            [
             0.2222222222222222,
             "#7201a8"
            ],
            [
             0.3333333333333333,
             "#9c179e"
            ],
            [
             0.4444444444444444,
             "#bd3786"
            ],
            [
             0.5555555555555556,
             "#d8576b"
            ],
            [
             0.6666666666666666,
             "#ed7953"
            ],
            [
             0.7777777777777778,
             "#fb9f3a"
            ],
            [
             0.8888888888888888,
             "#fdca26"
            ],
            [
             1,
             "#f0f921"
            ]
           ]
          },
          "colorway": [
           "#636efa",
           "#EF553B",
           "#00cc96",
           "#ab63fa",
           "#FFA15A",
           "#19d3f3",
           "#FF6692",
           "#B6E880",
           "#FF97FF",
           "#FECB52"
          ],
          "font": {
           "color": "#2a3f5f"
          },
          "geo": {
           "bgcolor": "white",
           "lakecolor": "white",
           "landcolor": "#E5ECF6",
           "showlakes": true,
           "showland": true,
           "subunitcolor": "white"
          },
          "hoverlabel": {
           "align": "left"
          },
          "hovermode": "closest",
          "mapbox": {
           "style": "light"
          },
          "paper_bgcolor": "white",
          "plot_bgcolor": "#E5ECF6",
          "polar": {
           "angularaxis": {
            "gridcolor": "white",
            "linecolor": "white",
            "ticks": ""
           },
           "bgcolor": "#E5ECF6",
           "radialaxis": {
            "gridcolor": "white",
            "linecolor": "white",
            "ticks": ""
           }
          },
          "scene": {
           "xaxis": {
            "backgroundcolor": "#E5ECF6",
            "gridcolor": "white",
            "gridwidth": 2,
            "linecolor": "white",
            "showbackground": true,
            "ticks": "",
            "zerolinecolor": "white"
           },
           "yaxis": {
            "backgroundcolor": "#E5ECF6",
            "gridcolor": "white",
            "gridwidth": 2,
            "linecolor": "white",
            "showbackground": true,
            "ticks": "",
            "zerolinecolor": "white"
           },
           "zaxis": {
            "backgroundcolor": "#E5ECF6",
            "gridcolor": "white",
            "gridwidth": 2,
            "linecolor": "white",
            "showbackground": true,
            "ticks": "",
            "zerolinecolor": "white"
           }
          },
          "shapedefaults": {
           "line": {
            "color": "#2a3f5f"
           }
          },
          "ternary": {
           "aaxis": {
            "gridcolor": "white",
            "linecolor": "white",
            "ticks": ""
           },
           "baxis": {
            "gridcolor": "white",
            "linecolor": "white",
            "ticks": ""
           },
           "bgcolor": "#E5ECF6",
           "caxis": {
            "gridcolor": "white",
            "linecolor": "white",
            "ticks": ""
           }
          },
          "title": {
           "x": 0.05
          },
          "xaxis": {
           "automargin": true,
           "gridcolor": "white",
           "linecolor": "white",
           "ticks": "",
           "title": {
            "standoff": 15
           },
           "zerolinecolor": "white",
           "zerolinewidth": 2
          },
          "yaxis": {
           "automargin": true,
           "gridcolor": "white",
           "linecolor": "white",
           "ticks": "",
           "title": {
            "standoff": 15
           },
           "zerolinecolor": "white",
           "zerolinewidth": 2
          }
         }
        },
        "title": {
         "text": "Porcentajes de Ahorro Mensual y Anual por Empresa"
        },
        "xaxis": {
         "anchor": "y",
         "domain": [
          0,
          1
         ],
         "title": {
          "text": "Empresa"
         }
        },
        "yaxis": {
         "anchor": "x",
         "domain": [
          0,
          1
         ],
         "title": {
          "text": "Porcentaje de Ahorro"
         }
        }
       }
      }
     },
     "metadata": {},
     "output_type": "display_data"
    }
   ],
   "source": [
    "import pandas as pd\n",
    "\n",
    "data = {\n",
    "    'Empresa': ['Compania1', 'Compania2', 'Compania3', 'Compania4', 'Compania5', 'CompaniaActual'],\n",
    "    'Ahorro_Mensual': [10, 12, 8, 11, 10.5, 12.5],\n",
    "    'Ahorro_Anual': [15, 18, 12, 16, 14.5, 17.5],  \n",
    "}\n",
    "\n",
    "df = pd.DataFrame(data)\n",
    "\n",
    "fig = px.scatter(df.melt(id_vars='Empresa', var_name='Periodo', value_name='Ahorro'),\n",
    "                 x='Empresa', y='Ahorro', color='Periodo',\n",
    "                 title='Porcentajes de Ahorro Mensual y Anual por Empresa',\n",
    "                 labels={'Ahorro': 'Porcentaje de Ahorro', 'Empresa': 'Empresa'},\n",
    "                 color_discrete_map={'Ahorro_Mensual': 'black', 'Ahorro_Anual': 'orange'},\n",
    "                 size_max=15,  # Tamaño máximo de los puntos\n",
    "                 )\n",
    "\n",
    "for i in range(len(df)):\n",
    "    fig.add_shape(type='line',\n",
    "                  x0=df['Empresa'][i], y0=df['Ahorro_Mensual'][i],\n",
    "                  x1=df['Empresa'][i], y1=df['Ahorro_Anual'][i],\n",
    "                  line=dict(color='orange'), \n",
    "                  )\n",
    "\n",
    "fig.show()"
   ]
  },
  {
   "cell_type": "code",
   "execution_count": 37,
   "metadata": {},
   "outputs": [
    {
     "data": {
      "application/vnd.plotly.v1+json": {
       "config": {
        "plotlyServerURL": "https://plot.ly"
       },
       "data": [
        {
         "alignmentgroup": "True",
         "hovertemplate": "variable=Ahorro_Mensual_Porcentaje<br>Compañía=%{x}<br>Porcentaje de Ahorro=%{y}<extra></extra>",
         "legendgroup": "Ahorro_Mensual_Porcentaje",
         "marker": {
          "color": "#1F1D1C",
          "pattern": {
           "shape": ""
          }
         },
         "name": "Ahorro_Mensual_Porcentaje",
         "offsetgroup": "Ahorro_Mensual_Porcentaje",
         "orientation": "v",
         "showlegend": true,
         "textposition": "auto",
         "type": "bar",
         "x": [
          "Iberdrola",
          "Endesa",
          "Acciona",
          "Naturgy",
          "Candela",
          "Compañía Actual"
         ],
         "xaxis": "x",
         "y": [
          15.503875968992247,
          18.6046511627907,
          13.953488372093023,
          17.05426356589147,
          15.503875968992247,
          19.379844961240313
         ],
         "yaxis": "y"
        },
        {
         "alignmentgroup": "True",
         "hovertemplate": "variable=Ahorro_Anual_Porcentaje<br>Compañía=%{x}<br>Porcentaje de Ahorro=%{y}<extra></extra>",
         "legendgroup": "Ahorro_Anual_Porcentaje",
         "marker": {
          "color": "#FF8523",
          "pattern": {
           "shape": ""
          }
         },
         "name": "Ahorro_Anual_Porcentaje",
         "offsetgroup": "Ahorro_Anual_Porcentaje",
         "orientation": "v",
         "showlegend": true,
         "textposition": "auto",
         "type": "bar",
         "x": [
          "Iberdrola",
          "Endesa",
          "Acciona",
          "Naturgy",
          "Candela",
          "Compañía Actual"
         ],
         "xaxis": "x",
         "y": [
          14.728682170542637,
          17.05426356589147,
          16.27906976744186,
          15.503875968992247,
          17.829457364341085,
          18.6046511627907
         ],
         "yaxis": "y"
        }
       ],
       "layout": {
        "barmode": "group",
        "legend": {
         "title": {
          "text": "variable"
         },
         "tracegroupgap": 0
        },
        "template": {
         "data": {
          "bar": [
           {
            "error_x": {
             "color": "#2a3f5f"
            },
            "error_y": {
             "color": "#2a3f5f"
            },
            "marker": {
             "line": {
              "color": "#E5ECF6",
              "width": 0.5
             },
             "pattern": {
              "fillmode": "overlay",
              "size": 10,
              "solidity": 0.2
             }
            },
            "type": "bar"
           }
          ],
          "barpolar": [
           {
            "marker": {
             "line": {
              "color": "#E5ECF6",
              "width": 0.5
             },
             "pattern": {
              "fillmode": "overlay",
              "size": 10,
              "solidity": 0.2
             }
            },
            "type": "barpolar"
           }
          ],
          "carpet": [
           {
            "aaxis": {
             "endlinecolor": "#2a3f5f",
             "gridcolor": "white",
             "linecolor": "white",
             "minorgridcolor": "white",
             "startlinecolor": "#2a3f5f"
            },
            "baxis": {
             "endlinecolor": "#2a3f5f",
             "gridcolor": "white",
             "linecolor": "white",
             "minorgridcolor": "white",
             "startlinecolor": "#2a3f5f"
            },
            "type": "carpet"
           }
          ],
          "choropleth": [
           {
            "colorbar": {
             "outlinewidth": 0,
             "ticks": ""
            },
            "type": "choropleth"
           }
          ],
          "contour": [
           {
            "colorbar": {
             "outlinewidth": 0,
             "ticks": ""
            },
            "colorscale": [
             [
              0,
              "#0d0887"
             ],
             [
              0.1111111111111111,
              "#46039f"
             ],
             [
              0.2222222222222222,
              "#7201a8"
             ],
             [
              0.3333333333333333,
              "#9c179e"
             ],
             [
              0.4444444444444444,
              "#bd3786"
             ],
             [
              0.5555555555555556,
              "#d8576b"
             ],
             [
              0.6666666666666666,
              "#ed7953"
             ],
             [
              0.7777777777777778,
              "#fb9f3a"
             ],
             [
              0.8888888888888888,
              "#fdca26"
             ],
             [
              1,
              "#f0f921"
             ]
            ],
            "type": "contour"
           }
          ],
          "contourcarpet": [
           {
            "colorbar": {
             "outlinewidth": 0,
             "ticks": ""
            },
            "type": "contourcarpet"
           }
          ],
          "heatmap": [
           {
            "colorbar": {
             "outlinewidth": 0,
             "ticks": ""
            },
            "colorscale": [
             [
              0,
              "#0d0887"
             ],
             [
              0.1111111111111111,
              "#46039f"
             ],
             [
              0.2222222222222222,
              "#7201a8"
             ],
             [
              0.3333333333333333,
              "#9c179e"
             ],
             [
              0.4444444444444444,
              "#bd3786"
             ],
             [
              0.5555555555555556,
              "#d8576b"
             ],
             [
              0.6666666666666666,
              "#ed7953"
             ],
             [
              0.7777777777777778,
              "#fb9f3a"
             ],
             [
              0.8888888888888888,
              "#fdca26"
             ],
             [
              1,
              "#f0f921"
             ]
            ],
            "type": "heatmap"
           }
          ],
          "heatmapgl": [
           {
            "colorbar": {
             "outlinewidth": 0,
             "ticks": ""
            },
            "colorscale": [
             [
              0,
              "#0d0887"
             ],
             [
              0.1111111111111111,
              "#46039f"
             ],
             [
              0.2222222222222222,
              "#7201a8"
             ],
             [
              0.3333333333333333,
              "#9c179e"
             ],
             [
              0.4444444444444444,
              "#bd3786"
             ],
             [
              0.5555555555555556,
              "#d8576b"
             ],
             [
              0.6666666666666666,
              "#ed7953"
             ],
             [
              0.7777777777777778,
              "#fb9f3a"
             ],
             [
              0.8888888888888888,
              "#fdca26"
             ],
             [
              1,
              "#f0f921"
             ]
            ],
            "type": "heatmapgl"
           }
          ],
          "histogram": [
           {
            "marker": {
             "pattern": {
              "fillmode": "overlay",
              "size": 10,
              "solidity": 0.2
             }
            },
            "type": "histogram"
           }
          ],
          "histogram2d": [
           {
            "colorbar": {
             "outlinewidth": 0,
             "ticks": ""
            },
            "colorscale": [
             [
              0,
              "#0d0887"
             ],
             [
              0.1111111111111111,
              "#46039f"
             ],
             [
              0.2222222222222222,
              "#7201a8"
             ],
             [
              0.3333333333333333,
              "#9c179e"
             ],
             [
              0.4444444444444444,
              "#bd3786"
             ],
             [
              0.5555555555555556,
              "#d8576b"
             ],
             [
              0.6666666666666666,
              "#ed7953"
             ],
             [
              0.7777777777777778,
              "#fb9f3a"
             ],
             [
              0.8888888888888888,
              "#fdca26"
             ],
             [
              1,
              "#f0f921"
             ]
            ],
            "type": "histogram2d"
           }
          ],
          "histogram2dcontour": [
           {
            "colorbar": {
             "outlinewidth": 0,
             "ticks": ""
            },
            "colorscale": [
             [
              0,
              "#0d0887"
             ],
             [
              0.1111111111111111,
              "#46039f"
             ],
             [
              0.2222222222222222,
              "#7201a8"
             ],
             [
              0.3333333333333333,
              "#9c179e"
             ],
             [
              0.4444444444444444,
              "#bd3786"
             ],
             [
              0.5555555555555556,
              "#d8576b"
             ],
             [
              0.6666666666666666,
              "#ed7953"
             ],
             [
              0.7777777777777778,
              "#fb9f3a"
             ],
             [
              0.8888888888888888,
              "#fdca26"
             ],
             [
              1,
              "#f0f921"
             ]
            ],
            "type": "histogram2dcontour"
           }
          ],
          "mesh3d": [
           {
            "colorbar": {
             "outlinewidth": 0,
             "ticks": ""
            },
            "type": "mesh3d"
           }
          ],
          "parcoords": [
           {
            "line": {
             "colorbar": {
              "outlinewidth": 0,
              "ticks": ""
             }
            },
            "type": "parcoords"
           }
          ],
          "pie": [
           {
            "automargin": true,
            "type": "pie"
           }
          ],
          "scatter": [
           {
            "fillpattern": {
             "fillmode": "overlay",
             "size": 10,
             "solidity": 0.2
            },
            "type": "scatter"
           }
          ],
          "scatter3d": [
           {
            "line": {
             "colorbar": {
              "outlinewidth": 0,
              "ticks": ""
             }
            },
            "marker": {
             "colorbar": {
              "outlinewidth": 0,
              "ticks": ""
             }
            },
            "type": "scatter3d"
           }
          ],
          "scattercarpet": [
           {
            "marker": {
             "colorbar": {
              "outlinewidth": 0,
              "ticks": ""
             }
            },
            "type": "scattercarpet"
           }
          ],
          "scattergeo": [
           {
            "marker": {
             "colorbar": {
              "outlinewidth": 0,
              "ticks": ""
             }
            },
            "type": "scattergeo"
           }
          ],
          "scattergl": [
           {
            "marker": {
             "colorbar": {
              "outlinewidth": 0,
              "ticks": ""
             }
            },
            "type": "scattergl"
           }
          ],
          "scattermapbox": [
           {
            "marker": {
             "colorbar": {
              "outlinewidth": 0,
              "ticks": ""
             }
            },
            "type": "scattermapbox"
           }
          ],
          "scatterpolar": [
           {
            "marker": {
             "colorbar": {
              "outlinewidth": 0,
              "ticks": ""
             }
            },
            "type": "scatterpolar"
           }
          ],
          "scatterpolargl": [
           {
            "marker": {
             "colorbar": {
              "outlinewidth": 0,
              "ticks": ""
             }
            },
            "type": "scatterpolargl"
           }
          ],
          "scatterternary": [
           {
            "marker": {
             "colorbar": {
              "outlinewidth": 0,
              "ticks": ""
             }
            },
            "type": "scatterternary"
           }
          ],
          "surface": [
           {
            "colorbar": {
             "outlinewidth": 0,
             "ticks": ""
            },
            "colorscale": [
             [
              0,
              "#0d0887"
             ],
             [
              0.1111111111111111,
              "#46039f"
             ],
             [
              0.2222222222222222,
              "#7201a8"
             ],
             [
              0.3333333333333333,
              "#9c179e"
             ],
             [
              0.4444444444444444,
              "#bd3786"
             ],
             [
              0.5555555555555556,
              "#d8576b"
             ],
             [
              0.6666666666666666,
              "#ed7953"
             ],
             [
              0.7777777777777778,
              "#fb9f3a"
             ],
             [
              0.8888888888888888,
              "#fdca26"
             ],
             [
              1,
              "#f0f921"
             ]
            ],
            "type": "surface"
           }
          ],
          "table": [
           {
            "cells": {
             "fill": {
              "color": "#EBF0F8"
             },
             "line": {
              "color": "white"
             }
            },
            "header": {
             "fill": {
              "color": "#C8D4E3"
             },
             "line": {
              "color": "white"
             }
            },
            "type": "table"
           }
          ]
         },
         "layout": {
          "annotationdefaults": {
           "arrowcolor": "#2a3f5f",
           "arrowhead": 0,
           "arrowwidth": 1
          },
          "autotypenumbers": "strict",
          "coloraxis": {
           "colorbar": {
            "outlinewidth": 0,
            "ticks": ""
           }
          },
          "colorscale": {
           "diverging": [
            [
             0,
             "#8e0152"
            ],
            [
             0.1,
             "#c51b7d"
            ],
            [
             0.2,
             "#de77ae"
            ],
            [
             0.3,
             "#f1b6da"
            ],
            [
             0.4,
             "#fde0ef"
            ],
            [
             0.5,
             "#f7f7f7"
            ],
            [
             0.6,
             "#e6f5d0"
            ],
            [
             0.7,
             "#b8e186"
            ],
            [
             0.8,
             "#7fbc41"
            ],
            [
             0.9,
             "#4d9221"
            ],
            [
             1,
             "#276419"
            ]
           ],
           "sequential": [
            [
             0,
             "#0d0887"
            ],
            [
             0.1111111111111111,
             "#46039f"
            ],
            [
             0.2222222222222222,
             "#7201a8"
            ],
            [
             0.3333333333333333,
             "#9c179e"
            ],
            [
             0.4444444444444444,
             "#bd3786"
            ],
            [
             0.5555555555555556,
             "#d8576b"
            ],
            [
             0.6666666666666666,
             "#ed7953"
            ],
            [
             0.7777777777777778,
             "#fb9f3a"
            ],
            [
             0.8888888888888888,
             "#fdca26"
            ],
            [
             1,
             "#f0f921"
            ]
           ],
           "sequentialminus": [
            [
             0,
             "#0d0887"
            ],
            [
             0.1111111111111111,
             "#46039f"
            ],
            [
             0.2222222222222222,
             "#7201a8"
            ],
            [
             0.3333333333333333,
             "#9c179e"
            ],
            [
             0.4444444444444444,
             "#bd3786"
            ],
            [
             0.5555555555555556,
             "#d8576b"
            ],
            [
             0.6666666666666666,
             "#ed7953"
            ],
            [
             0.7777777777777778,
             "#fb9f3a"
            ],
            [
             0.8888888888888888,
             "#fdca26"
            ],
            [
             1,
             "#f0f921"
            ]
           ]
          },
          "colorway": [
           "#636efa",
           "#EF553B",
           "#00cc96",
           "#ab63fa",
           "#FFA15A",
           "#19d3f3",
           "#FF6692",
           "#B6E880",
           "#FF97FF",
           "#FECB52"
          ],
          "font": {
           "color": "#2a3f5f"
          },
          "geo": {
           "bgcolor": "white",
           "lakecolor": "white",
           "landcolor": "#E5ECF6",
           "showlakes": true,
           "showland": true,
           "subunitcolor": "white"
          },
          "hoverlabel": {
           "align": "left"
          },
          "hovermode": "closest",
          "mapbox": {
           "style": "light"
          },
          "paper_bgcolor": "white",
          "plot_bgcolor": "#E5ECF6",
          "polar": {
           "angularaxis": {
            "gridcolor": "white",
            "linecolor": "white",
            "ticks": ""
           },
           "bgcolor": "#E5ECF6",
           "radialaxis": {
            "gridcolor": "white",
            "linecolor": "white",
            "ticks": ""
           }
          },
          "scene": {
           "xaxis": {
            "backgroundcolor": "#E5ECF6",
            "gridcolor": "white",
            "gridwidth": 2,
            "linecolor": "white",
            "showbackground": true,
            "ticks": "",
            "zerolinecolor": "white"
           },
           "yaxis": {
            "backgroundcolor": "#E5ECF6",
            "gridcolor": "white",
            "gridwidth": 2,
            "linecolor": "white",
            "showbackground": true,
            "ticks": "",
            "zerolinecolor": "white"
           },
           "zaxis": {
            "backgroundcolor": "#E5ECF6",
            "gridcolor": "white",
            "gridwidth": 2,
            "linecolor": "white",
            "showbackground": true,
            "ticks": "",
            "zerolinecolor": "white"
           }
          },
          "shapedefaults": {
           "line": {
            "color": "#2a3f5f"
           }
          },
          "ternary": {
           "aaxis": {
            "gridcolor": "white",
            "linecolor": "white",
            "ticks": ""
           },
           "baxis": {
            "gridcolor": "white",
            "linecolor": "white",
            "ticks": ""
           },
           "bgcolor": "#E5ECF6",
           "caxis": {
            "gridcolor": "white",
            "linecolor": "white",
            "ticks": ""
           }
          },
          "title": {
           "x": 0.05
          },
          "xaxis": {
           "automargin": true,
           "gridcolor": "white",
           "linecolor": "white",
           "ticks": "",
           "title": {
            "standoff": 15
           },
           "zerolinecolor": "white",
           "zerolinewidth": 2
          },
          "yaxis": {
           "automargin": true,
           "gridcolor": "white",
           "linecolor": "white",
           "ticks": "",
           "title": {
            "standoff": 15
           },
           "zerolinecolor": "white",
           "zerolinewidth": 2
          }
         }
        },
        "title": {
         "text": "Gráfica de ahorro Mensual y Anual por Compañía"
        },
        "xaxis": {
         "anchor": "y",
         "domain": [
          0,
          1
         ],
         "title": {
          "text": "Compañía"
         }
        },
        "yaxis": {
         "anchor": "x",
         "domain": [
          0,
          1
         ],
         "title": {
          "text": "Porcentaje de Ahorro"
         }
        }
       }
      }
     },
     "metadata": {},
     "output_type": "display_data"
    }
   ],
   "source": [
    "data = {\n",
    "    'CIA': ['Iberdrola', 'Endesa', 'Acciona', 'Naturgy', 'Candela', 'Compañía Actual'],\n",
    "    'Ahorro_Mensual': [10, 12, 9, 11, 10, 12.5], \n",
    "    'Ahorro_Anual': [950, 1100, 1050, 1000, 1150, 1200], \n",
    "}\n",
    "\n",
    "df = pd.DataFrame(data)\n",
    "\n",
    "df['Ahorro_Anual_Porcentaje'] = (df['Ahorro_Anual'] / df['Ahorro_Anual'].sum()) * 100\n",
    "df['Ahorro_Mensual_Porcentaje'] = (df['Ahorro_Mensual'] / df['Ahorro_Mensual'].sum()) * 100\n",
    "\n",
    "fig = px.bar(df, x='CIA', y=['Ahorro_Mensual_Porcentaje', 'Ahorro_Anual_Porcentaje'], barmode='group',\n",
    "             title='Gráfica de ahorro Mensual y Anual por Compañía',\n",
    "             labels={'value': 'Porcentaje de Ahorro', 'CIA': 'Compañía'},\n",
    "             color_discrete_map={'Ahorro_Mensual_Porcentaje': '#1F1D1C', 'Ahorro_Anual_Porcentaje': '#FF8523'},\n",
    "             )\n",
    "fig.show()"
   ]
  },
  {
   "cell_type": "code",
   "execution_count": 38,
   "metadata": {},
   "outputs": [
    {
     "data": {
      "application/vnd.plotly.v1+json": {
       "config": {
        "plotlyServerURL": "https://plot.ly"
       },
       "data": [
        {
         "alignmentgroup": "True",
         "hovertemplate": "variable=Ahorro_Mensual_Porcentaje<br>CIA=%{x}<br>Porcentaje de Ahorro=%{y}<extra></extra>",
         "legendgroup": "Ahorro_Mensual_Porcentaje",
         "marker": {
          "color": "#1F1D1C",
          "pattern": {
           "shape": ""
          }
         },
         "name": "Ahorro_Mensual_Porcentaje",
         "offsetgroup": "Ahorro_Mensual_Porcentaje",
         "orientation": "v",
         "showlegend": true,
         "textposition": "auto",
         "type": "bar",
         "x": [
          "Iberdrola",
          "Endesa",
          "Acciona",
          "Naturgy",
          "Candela",
          "Actual"
         ],
         "xaxis": "x",
         "y": [
          15.503875968992247,
          18.6046511627907,
          13.953488372093023,
          17.05426356589147,
          15.503875968992247,
          19.379844961240313
         ],
         "yaxis": "y"
        },
        {
         "alignmentgroup": "True",
         "hovertemplate": "variable=Ahorro_Anual_Porcentaje<br>CIA=%{x}<br>Porcentaje de Ahorro=%{y}<extra></extra>",
         "legendgroup": "Ahorro_Anual_Porcentaje",
         "marker": {
          "color": "#FF8523",
          "pattern": {
           "shape": ""
          }
         },
         "name": "Ahorro_Anual_Porcentaje",
         "offsetgroup": "Ahorro_Anual_Porcentaje",
         "orientation": "v",
         "showlegend": true,
         "textposition": "auto",
         "type": "bar",
         "x": [
          "Iberdrola",
          "Endesa",
          "Acciona",
          "Naturgy",
          "Candela",
          "Actual"
         ],
         "xaxis": "x",
         "y": [
          14.728682170542637,
          17.05426356589147,
          16.27906976744186,
          15.503875968992247,
          17.829457364341085,
          18.6046511627907
         ],
         "yaxis": "y"
        }
       ],
       "layout": {
        "barmode": "group",
        "legend": {
         "orientation": "v",
         "title": {
          "text": ""
         },
         "tracegroupgap": 0,
         "traceorder": "grouped",
         "x": 0,
         "y": -0.23
        },
        "template": {
         "data": {
          "bar": [
           {
            "error_x": {
             "color": "#2a3f5f"
            },
            "error_y": {
             "color": "#2a3f5f"
            },
            "marker": {
             "line": {
              "color": "#E5ECF6",
              "width": 0.5
             },
             "pattern": {
              "fillmode": "overlay",
              "size": 10,
              "solidity": 0.2
             }
            },
            "type": "bar"
           }
          ],
          "barpolar": [
           {
            "marker": {
             "line": {
              "color": "#E5ECF6",
              "width": 0.5
             },
             "pattern": {
              "fillmode": "overlay",
              "size": 10,
              "solidity": 0.2
             }
            },
            "type": "barpolar"
           }
          ],
          "carpet": [
           {
            "aaxis": {
             "endlinecolor": "#2a3f5f",
             "gridcolor": "white",
             "linecolor": "white",
             "minorgridcolor": "white",
             "startlinecolor": "#2a3f5f"
            },
            "baxis": {
             "endlinecolor": "#2a3f5f",
             "gridcolor": "white",
             "linecolor": "white",
             "minorgridcolor": "white",
             "startlinecolor": "#2a3f5f"
            },
            "type": "carpet"
           }
          ],
          "choropleth": [
           {
            "colorbar": {
             "outlinewidth": 0,
             "ticks": ""
            },
            "type": "choropleth"
           }
          ],
          "contour": [
           {
            "colorbar": {
             "outlinewidth": 0,
             "ticks": ""
            },
            "colorscale": [
             [
              0,
              "#0d0887"
             ],
             [
              0.1111111111111111,
              "#46039f"
             ],
             [
              0.2222222222222222,
              "#7201a8"
             ],
             [
              0.3333333333333333,
              "#9c179e"
             ],
             [
              0.4444444444444444,
              "#bd3786"
             ],
             [
              0.5555555555555556,
              "#d8576b"
             ],
             [
              0.6666666666666666,
              "#ed7953"
             ],
             [
              0.7777777777777778,
              "#fb9f3a"
             ],
             [
              0.8888888888888888,
              "#fdca26"
             ],
             [
              1,
              "#f0f921"
             ]
            ],
            "type": "contour"
           }
          ],
          "contourcarpet": [
           {
            "colorbar": {
             "outlinewidth": 0,
             "ticks": ""
            },
            "type": "contourcarpet"
           }
          ],
          "heatmap": [
           {
            "colorbar": {
             "outlinewidth": 0,
             "ticks": ""
            },
            "colorscale": [
             [
              0,
              "#0d0887"
             ],
             [
              0.1111111111111111,
              "#46039f"
             ],
             [
              0.2222222222222222,
              "#7201a8"
             ],
             [
              0.3333333333333333,
              "#9c179e"
             ],
             [
              0.4444444444444444,
              "#bd3786"
             ],
             [
              0.5555555555555556,
              "#d8576b"
             ],
             [
              0.6666666666666666,
              "#ed7953"
             ],
             [
              0.7777777777777778,
              "#fb9f3a"
             ],
             [
              0.8888888888888888,
              "#fdca26"
             ],
             [
              1,
              "#f0f921"
             ]
            ],
            "type": "heatmap"
           }
          ],
          "heatmapgl": [
           {
            "colorbar": {
             "outlinewidth": 0,
             "ticks": ""
            },
            "colorscale": [
             [
              0,
              "#0d0887"
             ],
             [
              0.1111111111111111,
              "#46039f"
             ],
             [
              0.2222222222222222,
              "#7201a8"
             ],
             [
              0.3333333333333333,
              "#9c179e"
             ],
             [
              0.4444444444444444,
              "#bd3786"
             ],
             [
              0.5555555555555556,
              "#d8576b"
             ],
             [
              0.6666666666666666,
              "#ed7953"
             ],
             [
              0.7777777777777778,
              "#fb9f3a"
             ],
             [
              0.8888888888888888,
              "#fdca26"
             ],
             [
              1,
              "#f0f921"
             ]
            ],
            "type": "heatmapgl"
           }
          ],
          "histogram": [
           {
            "marker": {
             "pattern": {
              "fillmode": "overlay",
              "size": 10,
              "solidity": 0.2
             }
            },
            "type": "histogram"
           }
          ],
          "histogram2d": [
           {
            "colorbar": {
             "outlinewidth": 0,
             "ticks": ""
            },
            "colorscale": [
             [
              0,
              "#0d0887"
             ],
             [
              0.1111111111111111,
              "#46039f"
             ],
             [
              0.2222222222222222,
              "#7201a8"
             ],
             [
              0.3333333333333333,
              "#9c179e"
             ],
             [
              0.4444444444444444,
              "#bd3786"
             ],
             [
              0.5555555555555556,
              "#d8576b"
             ],
             [
              0.6666666666666666,
              "#ed7953"
             ],
             [
              0.7777777777777778,
              "#fb9f3a"
             ],
             [
              0.8888888888888888,
              "#fdca26"
             ],
             [
              1,
              "#f0f921"
             ]
            ],
            "type": "histogram2d"
           }
          ],
          "histogram2dcontour": [
           {
            "colorbar": {
             "outlinewidth": 0,
             "ticks": ""
            },
            "colorscale": [
             [
              0,
              "#0d0887"
             ],
             [
              0.1111111111111111,
              "#46039f"
             ],
             [
              0.2222222222222222,
              "#7201a8"
             ],
             [
              0.3333333333333333,
              "#9c179e"
             ],
             [
              0.4444444444444444,
              "#bd3786"
             ],
             [
              0.5555555555555556,
              "#d8576b"
             ],
             [
              0.6666666666666666,
              "#ed7953"
             ],
             [
              0.7777777777777778,
              "#fb9f3a"
             ],
             [
              0.8888888888888888,
              "#fdca26"
             ],
             [
              1,
              "#f0f921"
             ]
            ],
            "type": "histogram2dcontour"
           }
          ],
          "mesh3d": [
           {
            "colorbar": {
             "outlinewidth": 0,
             "ticks": ""
            },
            "type": "mesh3d"
           }
          ],
          "parcoords": [
           {
            "line": {
             "colorbar": {
              "outlinewidth": 0,
              "ticks": ""
             }
            },
            "type": "parcoords"
           }
          ],
          "pie": [
           {
            "automargin": true,
            "type": "pie"
           }
          ],
          "scatter": [
           {
            "fillpattern": {
             "fillmode": "overlay",
             "size": 10,
             "solidity": 0.2
            },
            "type": "scatter"
           }
          ],
          "scatter3d": [
           {
            "line": {
             "colorbar": {
              "outlinewidth": 0,
              "ticks": ""
             }
            },
            "marker": {
             "colorbar": {
              "outlinewidth": 0,
              "ticks": ""
             }
            },
            "type": "scatter3d"
           }
          ],
          "scattercarpet": [
           {
            "marker": {
             "colorbar": {
              "outlinewidth": 0,
              "ticks": ""
             }
            },
            "type": "scattercarpet"
           }
          ],
          "scattergeo": [
           {
            "marker": {
             "colorbar": {
              "outlinewidth": 0,
              "ticks": ""
             }
            },
            "type": "scattergeo"
           }
          ],
          "scattergl": [
           {
            "marker": {
             "colorbar": {
              "outlinewidth": 0,
              "ticks": ""
             }
            },
            "type": "scattergl"
           }
          ],
          "scattermapbox": [
           {
            "marker": {
             "colorbar": {
              "outlinewidth": 0,
              "ticks": ""
             }
            },
            "type": "scattermapbox"
           }
          ],
          "scatterpolar": [
           {
            "marker": {
             "colorbar": {
              "outlinewidth": 0,
              "ticks": ""
             }
            },
            "type": "scatterpolar"
           }
          ],
          "scatterpolargl": [
           {
            "marker": {
             "colorbar": {
              "outlinewidth": 0,
              "ticks": ""
             }
            },
            "type": "scatterpolargl"
           }
          ],
          "scatterternary": [
           {
            "marker": {
             "colorbar": {
              "outlinewidth": 0,
              "ticks": ""
             }
            },
            "type": "scatterternary"
           }
          ],
          "surface": [
           {
            "colorbar": {
             "outlinewidth": 0,
             "ticks": ""
            },
            "colorscale": [
             [
              0,
              "#0d0887"
             ],
             [
              0.1111111111111111,
              "#46039f"
             ],
             [
              0.2222222222222222,
              "#7201a8"
             ],
             [
              0.3333333333333333,
              "#9c179e"
             ],
             [
              0.4444444444444444,
              "#bd3786"
             ],
             [
              0.5555555555555556,
              "#d8576b"
             ],
             [
              0.6666666666666666,
              "#ed7953"
             ],
             [
              0.7777777777777778,
              "#fb9f3a"
             ],
             [
              0.8888888888888888,
              "#fdca26"
             ],
             [
              1,
              "#f0f921"
             ]
            ],
            "type": "surface"
           }
          ],
          "table": [
           {
            "cells": {
             "fill": {
              "color": "#EBF0F8"
             },
             "line": {
              "color": "white"
             }
            },
            "header": {
             "fill": {
              "color": "#C8D4E3"
             },
             "line": {
              "color": "white"
             }
            },
            "type": "table"
           }
          ]
         },
         "layout": {
          "annotationdefaults": {
           "arrowcolor": "#2a3f5f",
           "arrowhead": 0,
           "arrowwidth": 1
          },
          "autotypenumbers": "strict",
          "coloraxis": {
           "colorbar": {
            "outlinewidth": 0,
            "ticks": ""
           }
          },
          "colorscale": {
           "diverging": [
            [
             0,
             "#8e0152"
            ],
            [
             0.1,
             "#c51b7d"
            ],
            [
             0.2,
             "#de77ae"
            ],
            [
             0.3,
             "#f1b6da"
            ],
            [
             0.4,
             "#fde0ef"
            ],
            [
             0.5,
             "#f7f7f7"
            ],
            [
             0.6,
             "#e6f5d0"
            ],
            [
             0.7,
             "#b8e186"
            ],
            [
             0.8,
             "#7fbc41"
            ],
            [
             0.9,
             "#4d9221"
            ],
            [
             1,
             "#276419"
            ]
           ],
           "sequential": [
            [
             0,
             "#0d0887"
            ],
            [
             0.1111111111111111,
             "#46039f"
            ],
            [
             0.2222222222222222,
             "#7201a8"
            ],
            [
             0.3333333333333333,
             "#9c179e"
            ],
            [
             0.4444444444444444,
             "#bd3786"
            ],
            [
             0.5555555555555556,
             "#d8576b"
            ],
            [
             0.6666666666666666,
             "#ed7953"
            ],
            [
             0.7777777777777778,
             "#fb9f3a"
            ],
            [
             0.8888888888888888,
             "#fdca26"
            ],
            [
             1,
             "#f0f921"
            ]
           ],
           "sequentialminus": [
            [
             0,
             "#0d0887"
            ],
            [
             0.1111111111111111,
             "#46039f"
            ],
            [
             0.2222222222222222,
             "#7201a8"
            ],
            [
             0.3333333333333333,
             "#9c179e"
            ],
            [
             0.4444444444444444,
             "#bd3786"
            ],
            [
             0.5555555555555556,
             "#d8576b"
            ],
            [
             0.6666666666666666,
             "#ed7953"
            ],
            [
             0.7777777777777778,
             "#fb9f3a"
            ],
            [
             0.8888888888888888,
             "#fdca26"
            ],
            [
             1,
             "#f0f921"
            ]
           ]
          },
          "colorway": [
           "#636efa",
           "#EF553B",
           "#00cc96",
           "#ab63fa",
           "#FFA15A",
           "#19d3f3",
           "#FF6692",
           "#B6E880",
           "#FF97FF",
           "#FECB52"
          ],
          "font": {
           "color": "#2a3f5f"
          },
          "geo": {
           "bgcolor": "white",
           "lakecolor": "white",
           "landcolor": "#E5ECF6",
           "showlakes": true,
           "showland": true,
           "subunitcolor": "white"
          },
          "hoverlabel": {
           "align": "left"
          },
          "hovermode": "closest",
          "mapbox": {
           "style": "light"
          },
          "paper_bgcolor": "white",
          "plot_bgcolor": "#E5ECF6",
          "polar": {
           "angularaxis": {
            "gridcolor": "white",
            "linecolor": "white",
            "ticks": ""
           },
           "bgcolor": "#E5ECF6",
           "radialaxis": {
            "gridcolor": "white",
            "linecolor": "white",
            "ticks": ""
           }
          },
          "scene": {
           "xaxis": {
            "backgroundcolor": "#E5ECF6",
            "gridcolor": "white",
            "gridwidth": 2,
            "linecolor": "white",
            "showbackground": true,
            "ticks": "",
            "zerolinecolor": "white"
           },
           "yaxis": {
            "backgroundcolor": "#E5ECF6",
            "gridcolor": "white",
            "gridwidth": 2,
            "linecolor": "white",
            "showbackground": true,
            "ticks": "",
            "zerolinecolor": "white"
           },
           "zaxis": {
            "backgroundcolor": "#E5ECF6",
            "gridcolor": "white",
            "gridwidth": 2,
            "linecolor": "white",
            "showbackground": true,
            "ticks": "",
            "zerolinecolor": "white"
           }
          },
          "shapedefaults": {
           "line": {
            "color": "#2a3f5f"
           }
          },
          "ternary": {
           "aaxis": {
            "gridcolor": "white",
            "linecolor": "white",
            "ticks": ""
           },
           "baxis": {
            "gridcolor": "white",
            "linecolor": "white",
            "ticks": ""
           },
           "bgcolor": "#E5ECF6",
           "caxis": {
            "gridcolor": "white",
            "linecolor": "white",
            "ticks": ""
           }
          },
          "title": {
           "x": 0.05
          },
          "xaxis": {
           "automargin": true,
           "gridcolor": "white",
           "linecolor": "white",
           "ticks": "",
           "title": {
            "standoff": 15
           },
           "zerolinecolor": "white",
           "zerolinewidth": 2
          },
          "yaxis": {
           "automargin": true,
           "gridcolor": "white",
           "linecolor": "white",
           "ticks": "",
           "title": {
            "standoff": 15
           },
           "zerolinecolor": "white",
           "zerolinewidth": 2
          }
         }
        },
        "title": {
         "text": "Porcentajes de Ahorro Mensual y Anual por Empresa"
        },
        "xaxis": {
         "anchor": "y",
         "domain": [
          0,
          1
         ],
         "title": {
          "text": "CIA"
         }
        },
        "yaxis": {
         "anchor": "x",
         "domain": [
          0,
          1
         ],
         "title": {
          "text": "Porcentaje de Ahorro"
         }
        }
       }
      }
     },
     "metadata": {},
     "output_type": "display_data"
    }
   ],
   "source": [
    "data = {\n",
    "    'CIA': ['Iberdrola', 'Endesa', 'Acciona', 'Naturgy', 'Candela', 'Actual'],\n",
    "    'Ahorro_Mensual': [10, 12, 9, 11, 10, 12.5],  # Valores de ahorro mensual\n",
    "    'Ahorro_Anual': [950, 1100, 1050, 1000, 1150, 1200],  # Valores de ahorro anual\n",
    "}\n",
    "\n",
    "df = pd.DataFrame(data)\n",
    "\n",
    "df['Ahorro_Anual_Porcentaje'] = (df['Ahorro_Anual'] / df['Ahorro_Anual'].sum()) * 100\n",
    "df['Ahorro_Mensual_Porcentaje'] = (df['Ahorro_Mensual'] / df['Ahorro_Mensual'].sum()) * 100\n",
    "\n",
    "fig = px.bar(df, x='CIA', y=['Ahorro_Mensual_Porcentaje', 'Ahorro_Anual_Porcentaje'], barmode='group',\n",
    "             title='Porcentajes de Ahorro Mensual y Anual por Empresa',\n",
    "             labels={'value': 'Porcentaje de Ahorro'},\n",
    "             color_discrete_map={'Ahorro_Mensual_Porcentaje': '#1F1D1C', 'Ahorro_Anual_Porcentaje': '#FF8523'},\n",
    "             )\n",
    "\n",
    "fig.update_layout(legend=dict(title='', orientation='v', y=-0.23, x=0, traceorder='grouped'))\n",
    "\n",
    "fig.show()"
   ]
  },
  {
   "cell_type": "code",
   "execution_count": 39,
   "metadata": {},
   "outputs": [
    {
     "data": {
      "application/vnd.plotly.v1+json": {
       "config": {
        "plotlyServerURL": "https://plot.ly"
       },
       "data": [
        {
         "alignmentgroup": "True",
         "hovertemplate": "variable=Mensual<br>Compañía=%{x}<br>Porcentaje de Ahorro=%{y}<extra></extra>",
         "legendgroup": "Mensual",
         "marker": {
          "color": "#1F1D1C",
          "pattern": {
           "shape": ""
          }
         },
         "name": "Mensual",
         "offsetgroup": "Mensual",
         "orientation": "v",
         "showlegend": true,
         "textposition": "auto",
         "type": "bar",
         "x": [
          "Iberdrola",
          "Endesa",
          "Acciona",
          "Naturgy",
          "Candela",
          "Compañía Actual"
         ],
         "xaxis": "x",
         "y": [
          16.129032258064516,
          19.35483870967742,
          14.516129032258066,
          17.741935483870968,
          16.129032258064516,
          16.129032258064516
         ],
         "yaxis": "y"
        },
        {
         "alignmentgroup": "True",
         "hovertemplate": "variable=Anual<br>Compañía=%{x}<br>Porcentaje de Ahorro=%{y}<extra></extra>",
         "legendgroup": "Anual",
         "marker": {
          "color": "#FF8523",
          "pattern": {
           "shape": ""
          }
         },
         "name": "Anual",
         "offsetgroup": "Anual",
         "orientation": "v",
         "showlegend": true,
         "textposition": "auto",
         "type": "bar",
         "x": [
          "Iberdrola",
          "Endesa",
          "Acciona",
          "Naturgy",
          "Candela",
          "Compañía Actual"
         ],
         "xaxis": "x",
         "y": [
          17.75700934579439,
          20.5607476635514,
          19.626168224299064,
          18.69158878504673,
          21.49532710280374,
          1.8691588785046727
         ],
         "yaxis": "y"
        }
       ],
       "layout": {
        "barmode": "group",
        "legend": {
         "orientation": "v",
         "title": {
          "text": ""
         },
         "tracegroupgap": 0,
         "traceorder": "grouped",
         "x": 0,
         "y": -0.23
        },
        "template": {
         "data": {
          "bar": [
           {
            "error_x": {
             "color": "#2a3f5f"
            },
            "error_y": {
             "color": "#2a3f5f"
            },
            "marker": {
             "line": {
              "color": "#E5ECF6",
              "width": 0.5
             },
             "pattern": {
              "fillmode": "overlay",
              "size": 10,
              "solidity": 0.2
             }
            },
            "type": "bar"
           }
          ],
          "barpolar": [
           {
            "marker": {
             "line": {
              "color": "#E5ECF6",
              "width": 0.5
             },
             "pattern": {
              "fillmode": "overlay",
              "size": 10,
              "solidity": 0.2
             }
            },
            "type": "barpolar"
           }
          ],
          "carpet": [
           {
            "aaxis": {
             "endlinecolor": "#2a3f5f",
             "gridcolor": "white",
             "linecolor": "white",
             "minorgridcolor": "white",
             "startlinecolor": "#2a3f5f"
            },
            "baxis": {
             "endlinecolor": "#2a3f5f",
             "gridcolor": "white",
             "linecolor": "white",
             "minorgridcolor": "white",
             "startlinecolor": "#2a3f5f"
            },
            "type": "carpet"
           }
          ],
          "choropleth": [
           {
            "colorbar": {
             "outlinewidth": 0,
             "ticks": ""
            },
            "type": "choropleth"
           }
          ],
          "contour": [
           {
            "colorbar": {
             "outlinewidth": 0,
             "ticks": ""
            },
            "colorscale": [
             [
              0,
              "#0d0887"
             ],
             [
              0.1111111111111111,
              "#46039f"
             ],
             [
              0.2222222222222222,
              "#7201a8"
             ],
             [
              0.3333333333333333,
              "#9c179e"
             ],
             [
              0.4444444444444444,
              "#bd3786"
             ],
             [
              0.5555555555555556,
              "#d8576b"
             ],
             [
              0.6666666666666666,
              "#ed7953"
             ],
             [
              0.7777777777777778,
              "#fb9f3a"
             ],
             [
              0.8888888888888888,
              "#fdca26"
             ],
             [
              1,
              "#f0f921"
             ]
            ],
            "type": "contour"
           }
          ],
          "contourcarpet": [
           {
            "colorbar": {
             "outlinewidth": 0,
             "ticks": ""
            },
            "type": "contourcarpet"
           }
          ],
          "heatmap": [
           {
            "colorbar": {
             "outlinewidth": 0,
             "ticks": ""
            },
            "colorscale": [
             [
              0,
              "#0d0887"
             ],
             [
              0.1111111111111111,
              "#46039f"
             ],
             [
              0.2222222222222222,
              "#7201a8"
             ],
             [
              0.3333333333333333,
              "#9c179e"
             ],
             [
              0.4444444444444444,
              "#bd3786"
             ],
             [
              0.5555555555555556,
              "#d8576b"
             ],
             [
              0.6666666666666666,
              "#ed7953"
             ],
             [
              0.7777777777777778,
              "#fb9f3a"
             ],
             [
              0.8888888888888888,
              "#fdca26"
             ],
             [
              1,
              "#f0f921"
             ]
            ],
            "type": "heatmap"
           }
          ],
          "heatmapgl": [
           {
            "colorbar": {
             "outlinewidth": 0,
             "ticks": ""
            },
            "colorscale": [
             [
              0,
              "#0d0887"
             ],
             [
              0.1111111111111111,
              "#46039f"
             ],
             [
              0.2222222222222222,
              "#7201a8"
             ],
             [
              0.3333333333333333,
              "#9c179e"
             ],
             [
              0.4444444444444444,
              "#bd3786"
             ],
             [
              0.5555555555555556,
              "#d8576b"
             ],
             [
              0.6666666666666666,
              "#ed7953"
             ],
             [
              0.7777777777777778,
              "#fb9f3a"
             ],
             [
              0.8888888888888888,
              "#fdca26"
             ],
             [
              1,
              "#f0f921"
             ]
            ],
            "type": "heatmapgl"
           }
          ],
          "histogram": [
           {
            "marker": {
             "pattern": {
              "fillmode": "overlay",
              "size": 10,
              "solidity": 0.2
             }
            },
            "type": "histogram"
           }
          ],
          "histogram2d": [
           {
            "colorbar": {
             "outlinewidth": 0,
             "ticks": ""
            },
            "colorscale": [
             [
              0,
              "#0d0887"
             ],
             [
              0.1111111111111111,
              "#46039f"
             ],
             [
              0.2222222222222222,
              "#7201a8"
             ],
             [
              0.3333333333333333,
              "#9c179e"
             ],
             [
              0.4444444444444444,
              "#bd3786"
             ],
             [
              0.5555555555555556,
              "#d8576b"
             ],
             [
              0.6666666666666666,
              "#ed7953"
             ],
             [
              0.7777777777777778,
              "#fb9f3a"
             ],
             [
              0.8888888888888888,
              "#fdca26"
             ],
             [
              1,
              "#f0f921"
             ]
            ],
            "type": "histogram2d"
           }
          ],
          "histogram2dcontour": [
           {
            "colorbar": {
             "outlinewidth": 0,
             "ticks": ""
            },
            "colorscale": [
             [
              0,
              "#0d0887"
             ],
             [
              0.1111111111111111,
              "#46039f"
             ],
             [
              0.2222222222222222,
              "#7201a8"
             ],
             [
              0.3333333333333333,
              "#9c179e"
             ],
             [
              0.4444444444444444,
              "#bd3786"
             ],
             [
              0.5555555555555556,
              "#d8576b"
             ],
             [
              0.6666666666666666,
              "#ed7953"
             ],
             [
              0.7777777777777778,
              "#fb9f3a"
             ],
             [
              0.8888888888888888,
              "#fdca26"
             ],
             [
              1,
              "#f0f921"
             ]
            ],
            "type": "histogram2dcontour"
           }
          ],
          "mesh3d": [
           {
            "colorbar": {
             "outlinewidth": 0,
             "ticks": ""
            },
            "type": "mesh3d"
           }
          ],
          "parcoords": [
           {
            "line": {
             "colorbar": {
              "outlinewidth": 0,
              "ticks": ""
             }
            },
            "type": "parcoords"
           }
          ],
          "pie": [
           {
            "automargin": true,
            "type": "pie"
           }
          ],
          "scatter": [
           {
            "fillpattern": {
             "fillmode": "overlay",
             "size": 10,
             "solidity": 0.2
            },
            "type": "scatter"
           }
          ],
          "scatter3d": [
           {
            "line": {
             "colorbar": {
              "outlinewidth": 0,
              "ticks": ""
             }
            },
            "marker": {
             "colorbar": {
              "outlinewidth": 0,
              "ticks": ""
             }
            },
            "type": "scatter3d"
           }
          ],
          "scattercarpet": [
           {
            "marker": {
             "colorbar": {
              "outlinewidth": 0,
              "ticks": ""
             }
            },
            "type": "scattercarpet"
           }
          ],
          "scattergeo": [
           {
            "marker": {
             "colorbar": {
              "outlinewidth": 0,
              "ticks": ""
             }
            },
            "type": "scattergeo"
           }
          ],
          "scattergl": [
           {
            "marker": {
             "colorbar": {
              "outlinewidth": 0,
              "ticks": ""
             }
            },
            "type": "scattergl"
           }
          ],
          "scattermapbox": [
           {
            "marker": {
             "colorbar": {
              "outlinewidth": 0,
              "ticks": ""
             }
            },
            "type": "scattermapbox"
           }
          ],
          "scatterpolar": [
           {
            "marker": {
             "colorbar": {
              "outlinewidth": 0,
              "ticks": ""
             }
            },
            "type": "scatterpolar"
           }
          ],
          "scatterpolargl": [
           {
            "marker": {
             "colorbar": {
              "outlinewidth": 0,
              "ticks": ""
             }
            },
            "type": "scatterpolargl"
           }
          ],
          "scatterternary": [
           {
            "marker": {
             "colorbar": {
              "outlinewidth": 0,
              "ticks": ""
             }
            },
            "type": "scatterternary"
           }
          ],
          "surface": [
           {
            "colorbar": {
             "outlinewidth": 0,
             "ticks": ""
            },
            "colorscale": [
             [
              0,
              "#0d0887"
             ],
             [
              0.1111111111111111,
              "#46039f"
             ],
             [
              0.2222222222222222,
              "#7201a8"
             ],
             [
              0.3333333333333333,
              "#9c179e"
             ],
             [
              0.4444444444444444,
              "#bd3786"
             ],
             [
              0.5555555555555556,
              "#d8576b"
             ],
             [
              0.6666666666666666,
              "#ed7953"
             ],
             [
              0.7777777777777778,
              "#fb9f3a"
             ],
             [
              0.8888888888888888,
              "#fdca26"
             ],
             [
              1,
              "#f0f921"
             ]
            ],
            "type": "surface"
           }
          ],
          "table": [
           {
            "cells": {
             "fill": {
              "color": "#EBF0F8"
             },
             "line": {
              "color": "white"
             }
            },
            "header": {
             "fill": {
              "color": "#C8D4E3"
             },
             "line": {
              "color": "white"
             }
            },
            "type": "table"
           }
          ]
         },
         "layout": {
          "annotationdefaults": {
           "arrowcolor": "#2a3f5f",
           "arrowhead": 0,
           "arrowwidth": 1
          },
          "autotypenumbers": "strict",
          "coloraxis": {
           "colorbar": {
            "outlinewidth": 0,
            "ticks": ""
           }
          },
          "colorscale": {
           "diverging": [
            [
             0,
             "#8e0152"
            ],
            [
             0.1,
             "#c51b7d"
            ],
            [
             0.2,
             "#de77ae"
            ],
            [
             0.3,
             "#f1b6da"
            ],
            [
             0.4,
             "#fde0ef"
            ],
            [
             0.5,
             "#f7f7f7"
            ],
            [
             0.6,
             "#e6f5d0"
            ],
            [
             0.7,
             "#b8e186"
            ],
            [
             0.8,
             "#7fbc41"
            ],
            [
             0.9,
             "#4d9221"
            ],
            [
             1,
             "#276419"
            ]
           ],
           "sequential": [
            [
             0,
             "#0d0887"
            ],
            [
             0.1111111111111111,
             "#46039f"
            ],
            [
             0.2222222222222222,
             "#7201a8"
            ],
            [
             0.3333333333333333,
             "#9c179e"
            ],
            [
             0.4444444444444444,
             "#bd3786"
            ],
            [
             0.5555555555555556,
             "#d8576b"
            ],
            [
             0.6666666666666666,
             "#ed7953"
            ],
            [
             0.7777777777777778,
             "#fb9f3a"
            ],
            [
             0.8888888888888888,
             "#fdca26"
            ],
            [
             1,
             "#f0f921"
            ]
           ],
           "sequentialminus": [
            [
             0,
             "#0d0887"
            ],
            [
             0.1111111111111111,
             "#46039f"
            ],
            [
             0.2222222222222222,
             "#7201a8"
            ],
            [
             0.3333333333333333,
             "#9c179e"
            ],
            [
             0.4444444444444444,
             "#bd3786"
            ],
            [
             0.5555555555555556,
             "#d8576b"
            ],
            [
             0.6666666666666666,
             "#ed7953"
            ],
            [
             0.7777777777777778,
             "#fb9f3a"
            ],
            [
             0.8888888888888888,
             "#fdca26"
            ],
            [
             1,
             "#f0f921"
            ]
           ]
          },
          "colorway": [
           "#636efa",
           "#EF553B",
           "#00cc96",
           "#ab63fa",
           "#FFA15A",
           "#19d3f3",
           "#FF6692",
           "#B6E880",
           "#FF97FF",
           "#FECB52"
          ],
          "font": {
           "color": "#2a3f5f"
          },
          "geo": {
           "bgcolor": "white",
           "lakecolor": "white",
           "landcolor": "#E5ECF6",
           "showlakes": true,
           "showland": true,
           "subunitcolor": "white"
          },
          "hoverlabel": {
           "align": "left"
          },
          "hovermode": "closest",
          "mapbox": {
           "style": "light"
          },
          "paper_bgcolor": "white",
          "plot_bgcolor": "#E5ECF6",
          "polar": {
           "angularaxis": {
            "gridcolor": "white",
            "linecolor": "white",
            "ticks": ""
           },
           "bgcolor": "#E5ECF6",
           "radialaxis": {
            "gridcolor": "white",
            "linecolor": "white",
            "ticks": ""
           }
          },
          "scene": {
           "xaxis": {
            "backgroundcolor": "#E5ECF6",
            "gridcolor": "white",
            "gridwidth": 2,
            "linecolor": "white",
            "showbackground": true,
            "ticks": "",
            "zerolinecolor": "white"
           },
           "yaxis": {
            "backgroundcolor": "#E5ECF6",
            "gridcolor": "white",
            "gridwidth": 2,
            "linecolor": "white",
            "showbackground": true,
            "ticks": "",
            "zerolinecolor": "white"
           },
           "zaxis": {
            "backgroundcolor": "#E5ECF6",
            "gridcolor": "white",
            "gridwidth": 2,
            "linecolor": "white",
            "showbackground": true,
            "ticks": "",
            "zerolinecolor": "white"
           }
          },
          "shapedefaults": {
           "line": {
            "color": "#2a3f5f"
           }
          },
          "ternary": {
           "aaxis": {
            "gridcolor": "white",
            "linecolor": "white",
            "ticks": ""
           },
           "baxis": {
            "gridcolor": "white",
            "linecolor": "white",
            "ticks": ""
           },
           "bgcolor": "#E5ECF6",
           "caxis": {
            "gridcolor": "white",
            "linecolor": "white",
            "ticks": ""
           }
          },
          "title": {
           "x": 0.05
          },
          "xaxis": {
           "automargin": true,
           "gridcolor": "white",
           "linecolor": "white",
           "ticks": "",
           "title": {
            "standoff": 15
           },
           "zerolinecolor": "white",
           "zerolinewidth": 2
          },
          "yaxis": {
           "automargin": true,
           "gridcolor": "white",
           "linecolor": "white",
           "ticks": "",
           "title": {
            "standoff": 15
           },
           "zerolinecolor": "white",
           "zerolinewidth": 2
          }
         }
        },
        "title": {
         "text": "Porcentajes de ahorro Mensual y Anual por Empresa"
        },
        "xaxis": {
         "anchor": "y",
         "domain": [
          0,
          1
         ],
         "title": {
          "text": "Compañía"
         }
        },
        "yaxis": {
         "anchor": "x",
         "domain": [
          0,
          1
         ],
         "title": {
          "text": "Porcentaje de Ahorro"
         }
        }
       }
      }
     },
     "metadata": {},
     "output_type": "display_data"
    }
   ],
   "source": [
    "# Suponemos que df son los datos sacados de la calculadora\n",
    "data = {\n",
    "    'CIA': ['Iberdrola', 'Endesa', 'Acciona', 'Naturgy', 'Candela', 'Compañía Actual'],\n",
    "    'Ahorro_Mensual': [10, 12, 9, 11, 10, 10],  # Valores de ahorro mensual\n",
    "    'Ahorro_Anual': [950, 1100, 1050, 1000, 1150, 100],  # Valores de ahorro anual\n",
    "}\n",
    "\n",
    "df = pd.DataFrame(data)\n",
    "\n",
    "# Normalizamos porcentajes\n",
    "df['Anual'] = (df['Ahorro_Anual'] / df['Ahorro_Anual'].sum()) * 100\n",
    "df['Mensual'] = (df['Ahorro_Mensual'] / df['Ahorro_Mensual'].sum()) * 100\n",
    "\n",
    "# Creamos gráfico\n",
    "fig = px.bar(df, x='CIA', y=['Mensual', 'Anual'], barmode='group',\n",
    "             title='Porcentajes de ahorro Mensual y Anual por Empresa',\n",
    "             labels={'value': 'Porcentaje de Ahorro', 'CIA':'Compañía'},\n",
    "             color_discrete_map={'Mensual': '#1F1D1C', 'Anual': '#FF8523'},\n",
    "             )\n",
    "\n",
    "# Personalizamos la posición y apariencia de la leyenda\n",
    "fig.update_layout(legend=dict(title='', orientation='v', y=-0.23, x=0, traceorder='grouped'))\n",
    "fig.show()"
   ]
  },
  {
   "cell_type": "code",
   "execution_count": 40,
   "metadata": {},
   "outputs": [
    {
     "data": {
      "text/plain": [
       "'\\nFEE \\nPorcentaje de ahorro \\nCIA_Product\\nAhorro en euros'"
      ]
     },
     "execution_count": 40,
     "metadata": {},
     "output_type": "execute_result"
    }
   ],
   "source": [
    "\"\"\"\n",
    "FEE \n",
    "Porcentaje de ahorro \n",
    "CIA_Product\n",
    "Ahorro en euros\"\"\""
   ]
  },
  {
   "cell_type": "code",
   "execution_count": 41,
   "metadata": {},
   "outputs": [
    {
     "data": {
      "text/plain": [
       "\" 'Ahorro:',\\n 2.39,\\n 'Porcentaje de ahorro:',\\n '3.9%',\\n 'Opciones más baratas:',\\n           CIA FEE                   PRODUCTO_CIA  CostoTotal\\n 89    NATURGY   -          RESIDENCIAL NOCHE LUZ       59.15\\n 88    NATURGY   -  RESIDENCIAL POR USO LUZ LOYAL       59.98\\n 90    NATURGY   -        RESIDENCIAL POR USO LUZ       60.67\\n 52     ENDESA   -                    TEMPO LIBRE       61.56\\n 82  IBERDROLA   -  PEH/API 2.0<10kW PLAN ESTABLE       64.05)\""
      ]
     },
     "execution_count": 41,
     "metadata": {},
     "output_type": "execute_result"
    }
   ],
   "source": [
    "\"\"\" 'Ahorro:',\n",
    " 2.39,\n",
    " 'Porcentaje de ahorro:',\n",
    " '3.9%',\n",
    " 'Opciones más baratas:',\n",
    "           CIA FEE                   PRODUCTO_CIA  CostoTotal\n",
    " 89    NATURGY   -          RESIDENCIAL NOCHE LUZ       59.15\n",
    " 88    NATURGY   -  RESIDENCIAL POR USO LUZ LOYAL       59.98\n",
    " 90    NATURGY   -        RESIDENCIAL POR USO LUZ       60.67\n",
    " 52     ENDESA   -                    TEMPO LIBRE       61.56\n",
    " 82  IBERDROLA   -  PEH/API 2.0<10kW PLAN ESTABLE       64.05)\"\"\""
   ]
  },
  {
   "cell_type": "code",
   "execution_count": 42,
   "metadata": {},
   "outputs": [],
   "source": [
    "#fig.write_html(\"plotly.html\")"
   ]
  },
  {
   "cell_type": "code",
   "execution_count": 43,
   "metadata": {},
   "outputs": [
    {
     "data": {
      "application/vnd.plotly.v1+json": {
       "config": {
        "plotlyServerURL": "https://plot.ly"
       },
       "data": [
        {
         "alignmentgroup": "True",
         "customdata": [
          [
           "RESIDENCIAL NOCHE LUZ",
           "-",
           "13%",
           10
          ],
          [
           "RESIDENCIAL POR USO LUZ LOYAL",
           "-",
           "14%",
           12
          ],
          [
           "RESIDENCIAL POR USO LUZ",
           "-",
           "5%",
           9
          ],
          [
           "TEMPO LIBRE",
           "-",
           "3%",
           11
          ],
          [
           "PEH/API 2.0<10kW PLAN ESTABLE",
           "-",
           "4%",
           10
          ],
          [
           "Producto_cia_actual",
           "FEE_actual",
           "-",
           10
          ]
         ],
         "hovertemplate": "variable=Mensual<br>Compañía=%{x}<br>Porcentaje de Ahorro=%{y}<br>PRODUCTO_CIA=%{customdata[0]}<br>FEE=%{customdata[1]:.2f}<br>Porcentaje de ahorro=%{customdata[2]:.2f}<br>Ahorro en euros=%{customdata[3]:.2f}<extra></extra>",
         "legendgroup": "Mensual",
         "marker": {
          "color": "#1F1D1C",
          "pattern": {
           "shape": ""
          }
         },
         "name": "Mensual",
         "offsetgroup": "Mensual",
         "orientation": "v",
         "showlegend": true,
         "textposition": "auto",
         "type": "bar",
         "x": [
          "Iberdrola",
          "Endesa",
          "Acciona",
          "Naturgy",
          "Candela",
          "Compañía Actual"
         ],
         "xaxis": "x",
         "y": [
          16.129032258064516,
          19.35483870967742,
          14.516129032258066,
          17.741935483870968,
          16.129032258064516,
          16.129032258064516
         ],
         "yaxis": "y"
        },
        {
         "alignmentgroup": "True",
         "customdata": [
          [
           "RESIDENCIAL NOCHE LUZ",
           "-",
           "13%",
           10
          ],
          [
           "RESIDENCIAL POR USO LUZ LOYAL",
           "-",
           "14%",
           12
          ],
          [
           "RESIDENCIAL POR USO LUZ",
           "-",
           "5%",
           9
          ],
          [
           "TEMPO LIBRE",
           "-",
           "3%",
           11
          ],
          [
           "PEH/API 2.0<10kW PLAN ESTABLE",
           "-",
           "4%",
           10
          ],
          [
           "Producto_cia_actual",
           "FEE_actual",
           "-",
           10
          ]
         ],
         "hovertemplate": "variable=Anual<br>Compañía=%{x}<br>Porcentaje de Ahorro=%{y}<br>PRODUCTO_CIA=%{customdata[0]}<br>FEE=%{customdata[1]:.2f}<br>Porcentaje de ahorro=%{customdata[2]:.2f}<br>Ahorro en euros=%{customdata[3]:.2f}<extra></extra>",
         "legendgroup": "Anual",
         "marker": {
          "color": "#FF8523",
          "pattern": {
           "shape": ""
          }
         },
         "name": "Anual",
         "offsetgroup": "Anual",
         "orientation": "v",
         "showlegend": true,
         "textposition": "auto",
         "type": "bar",
         "x": [
          "Iberdrola",
          "Endesa",
          "Acciona",
          "Naturgy",
          "Candela",
          "Compañía Actual"
         ],
         "xaxis": "x",
         "y": [
          17.75700934579439,
          20.5607476635514,
          19.626168224299064,
          18.69158878504673,
          21.49532710280374,
          1.8691588785046727
         ],
         "yaxis": "y"
        }
       ],
       "layout": {
        "barmode": "group",
        "legend": {
         "orientation": "v",
         "title": {
          "text": ""
         },
         "tracegroupgap": 0,
         "traceorder": "grouped",
         "x": 0,
         "y": -0.23
        },
        "template": {
         "data": {
          "bar": [
           {
            "error_x": {
             "color": "#2a3f5f"
            },
            "error_y": {
             "color": "#2a3f5f"
            },
            "marker": {
             "line": {
              "color": "#E5ECF6",
              "width": 0.5
             },
             "pattern": {
              "fillmode": "overlay",
              "size": 10,
              "solidity": 0.2
             }
            },
            "type": "bar"
           }
          ],
          "barpolar": [
           {
            "marker": {
             "line": {
              "color": "#E5ECF6",
              "width": 0.5
             },
             "pattern": {
              "fillmode": "overlay",
              "size": 10,
              "solidity": 0.2
             }
            },
            "type": "barpolar"
           }
          ],
          "carpet": [
           {
            "aaxis": {
             "endlinecolor": "#2a3f5f",
             "gridcolor": "white",
             "linecolor": "white",
             "minorgridcolor": "white",
             "startlinecolor": "#2a3f5f"
            },
            "baxis": {
             "endlinecolor": "#2a3f5f",
             "gridcolor": "white",
             "linecolor": "white",
             "minorgridcolor": "white",
             "startlinecolor": "#2a3f5f"
            },
            "type": "carpet"
           }
          ],
          "choropleth": [
           {
            "colorbar": {
             "outlinewidth": 0,
             "ticks": ""
            },
            "type": "choropleth"
           }
          ],
          "contour": [
           {
            "colorbar": {
             "outlinewidth": 0,
             "ticks": ""
            },
            "colorscale": [
             [
              0,
              "#0d0887"
             ],
             [
              0.1111111111111111,
              "#46039f"
             ],
             [
              0.2222222222222222,
              "#7201a8"
             ],
             [
              0.3333333333333333,
              "#9c179e"
             ],
             [
              0.4444444444444444,
              "#bd3786"
             ],
             [
              0.5555555555555556,
              "#d8576b"
             ],
             [
              0.6666666666666666,
              "#ed7953"
             ],
             [
              0.7777777777777778,
              "#fb9f3a"
             ],
             [
              0.8888888888888888,
              "#fdca26"
             ],
             [
              1,
              "#f0f921"
             ]
            ],
            "type": "contour"
           }
          ],
          "contourcarpet": [
           {
            "colorbar": {
             "outlinewidth": 0,
             "ticks": ""
            },
            "type": "contourcarpet"
           }
          ],
          "heatmap": [
           {
            "colorbar": {
             "outlinewidth": 0,
             "ticks": ""
            },
            "colorscale": [
             [
              0,
              "#0d0887"
             ],
             [
              0.1111111111111111,
              "#46039f"
             ],
             [
              0.2222222222222222,
              "#7201a8"
             ],
             [
              0.3333333333333333,
              "#9c179e"
             ],
             [
              0.4444444444444444,
              "#bd3786"
             ],
             [
              0.5555555555555556,
              "#d8576b"
             ],
             [
              0.6666666666666666,
              "#ed7953"
             ],
             [
              0.7777777777777778,
              "#fb9f3a"
             ],
             [
              0.8888888888888888,
              "#fdca26"
             ],
             [
              1,
              "#f0f921"
             ]
            ],
            "type": "heatmap"
           }
          ],
          "heatmapgl": [
           {
            "colorbar": {
             "outlinewidth": 0,
             "ticks": ""
            },
            "colorscale": [
             [
              0,
              "#0d0887"
             ],
             [
              0.1111111111111111,
              "#46039f"
             ],
             [
              0.2222222222222222,
              "#7201a8"
             ],
             [
              0.3333333333333333,
              "#9c179e"
             ],
             [
              0.4444444444444444,
              "#bd3786"
             ],
             [
              0.5555555555555556,
              "#d8576b"
             ],
             [
              0.6666666666666666,
              "#ed7953"
             ],
             [
              0.7777777777777778,
              "#fb9f3a"
             ],
             [
              0.8888888888888888,
              "#fdca26"
             ],
             [
              1,
              "#f0f921"
             ]
            ],
            "type": "heatmapgl"
           }
          ],
          "histogram": [
           {
            "marker": {
             "pattern": {
              "fillmode": "overlay",
              "size": 10,
              "solidity": 0.2
             }
            },
            "type": "histogram"
           }
          ],
          "histogram2d": [
           {
            "colorbar": {
             "outlinewidth": 0,
             "ticks": ""
            },
            "colorscale": [
             [
              0,
              "#0d0887"
             ],
             [
              0.1111111111111111,
              "#46039f"
             ],
             [
              0.2222222222222222,
              "#7201a8"
             ],
             [
              0.3333333333333333,
              "#9c179e"
             ],
             [
              0.4444444444444444,
              "#bd3786"
             ],
             [
              0.5555555555555556,
              "#d8576b"
             ],
             [
              0.6666666666666666,
              "#ed7953"
             ],
             [
              0.7777777777777778,
              "#fb9f3a"
             ],
             [
              0.8888888888888888,
              "#fdca26"
             ],
             [
              1,
              "#f0f921"
             ]
            ],
            "type": "histogram2d"
           }
          ],
          "histogram2dcontour": [
           {
            "colorbar": {
             "outlinewidth": 0,
             "ticks": ""
            },
            "colorscale": [
             [
              0,
              "#0d0887"
             ],
             [
              0.1111111111111111,
              "#46039f"
             ],
             [
              0.2222222222222222,
              "#7201a8"
             ],
             [
              0.3333333333333333,
              "#9c179e"
             ],
             [
              0.4444444444444444,
              "#bd3786"
             ],
             [
              0.5555555555555556,
              "#d8576b"
             ],
             [
              0.6666666666666666,
              "#ed7953"
             ],
             [
              0.7777777777777778,
              "#fb9f3a"
             ],
             [
              0.8888888888888888,
              "#fdca26"
             ],
             [
              1,
              "#f0f921"
             ]
            ],
            "type": "histogram2dcontour"
           }
          ],
          "mesh3d": [
           {
            "colorbar": {
             "outlinewidth": 0,
             "ticks": ""
            },
            "type": "mesh3d"
           }
          ],
          "parcoords": [
           {
            "line": {
             "colorbar": {
              "outlinewidth": 0,
              "ticks": ""
             }
            },
            "type": "parcoords"
           }
          ],
          "pie": [
           {
            "automargin": true,
            "type": "pie"
           }
          ],
          "scatter": [
           {
            "fillpattern": {
             "fillmode": "overlay",
             "size": 10,
             "solidity": 0.2
            },
            "type": "scatter"
           }
          ],
          "scatter3d": [
           {
            "line": {
             "colorbar": {
              "outlinewidth": 0,
              "ticks": ""
             }
            },
            "marker": {
             "colorbar": {
              "outlinewidth": 0,
              "ticks": ""
             }
            },
            "type": "scatter3d"
           }
          ],
          "scattercarpet": [
           {
            "marker": {
             "colorbar": {
              "outlinewidth": 0,
              "ticks": ""
             }
            },
            "type": "scattercarpet"
           }
          ],
          "scattergeo": [
           {
            "marker": {
             "colorbar": {
              "outlinewidth": 0,
              "ticks": ""
             }
            },
            "type": "scattergeo"
           }
          ],
          "scattergl": [
           {
            "marker": {
             "colorbar": {
              "outlinewidth": 0,
              "ticks": ""
             }
            },
            "type": "scattergl"
           }
          ],
          "scattermapbox": [
           {
            "marker": {
             "colorbar": {
              "outlinewidth": 0,
              "ticks": ""
             }
            },
            "type": "scattermapbox"
           }
          ],
          "scatterpolar": [
           {
            "marker": {
             "colorbar": {
              "outlinewidth": 0,
              "ticks": ""
             }
            },
            "type": "scatterpolar"
           }
          ],
          "scatterpolargl": [
           {
            "marker": {
             "colorbar": {
              "outlinewidth": 0,
              "ticks": ""
             }
            },
            "type": "scatterpolargl"
           }
          ],
          "scatterternary": [
           {
            "marker": {
             "colorbar": {
              "outlinewidth": 0,
              "ticks": ""
             }
            },
            "type": "scatterternary"
           }
          ],
          "surface": [
           {
            "colorbar": {
             "outlinewidth": 0,
             "ticks": ""
            },
            "colorscale": [
             [
              0,
              "#0d0887"
             ],
             [
              0.1111111111111111,
              "#46039f"
             ],
             [
              0.2222222222222222,
              "#7201a8"
             ],
             [
              0.3333333333333333,
              "#9c179e"
             ],
             [
              0.4444444444444444,
              "#bd3786"
             ],
             [
              0.5555555555555556,
              "#d8576b"
             ],
             [
              0.6666666666666666,
              "#ed7953"
             ],
             [
              0.7777777777777778,
              "#fb9f3a"
             ],
             [
              0.8888888888888888,
              "#fdca26"
             ],
             [
              1,
              "#f0f921"
             ]
            ],
            "type": "surface"
           }
          ],
          "table": [
           {
            "cells": {
             "fill": {
              "color": "#EBF0F8"
             },
             "line": {
              "color": "white"
             }
            },
            "header": {
             "fill": {
              "color": "#C8D4E3"
             },
             "line": {
              "color": "white"
             }
            },
            "type": "table"
           }
          ]
         },
         "layout": {
          "annotationdefaults": {
           "arrowcolor": "#2a3f5f",
           "arrowhead": 0,
           "arrowwidth": 1
          },
          "autotypenumbers": "strict",
          "coloraxis": {
           "colorbar": {
            "outlinewidth": 0,
            "ticks": ""
           }
          },
          "colorscale": {
           "diverging": [
            [
             0,
             "#8e0152"
            ],
            [
             0.1,
             "#c51b7d"
            ],
            [
             0.2,
             "#de77ae"
            ],
            [
             0.3,
             "#f1b6da"
            ],
            [
             0.4,
             "#fde0ef"
            ],
            [
             0.5,
             "#f7f7f7"
            ],
            [
             0.6,
             "#e6f5d0"
            ],
            [
             0.7,
             "#b8e186"
            ],
            [
             0.8,
             "#7fbc41"
            ],
            [
             0.9,
             "#4d9221"
            ],
            [
             1,
             "#276419"
            ]
           ],
           "sequential": [
            [
             0,
             "#0d0887"
            ],
            [
             0.1111111111111111,
             "#46039f"
            ],
            [
             0.2222222222222222,
             "#7201a8"
            ],
            [
             0.3333333333333333,
             "#9c179e"
            ],
            [
             0.4444444444444444,
             "#bd3786"
            ],
            [
             0.5555555555555556,
             "#d8576b"
            ],
            [
             0.6666666666666666,
             "#ed7953"
            ],
            [
             0.7777777777777778,
             "#fb9f3a"
            ],
            [
             0.8888888888888888,
             "#fdca26"
            ],
            [
             1,
             "#f0f921"
            ]
           ],
           "sequentialminus": [
            [
             0,
             "#0d0887"
            ],
            [
             0.1111111111111111,
             "#46039f"
            ],
            [
             0.2222222222222222,
             "#7201a8"
            ],
            [
             0.3333333333333333,
             "#9c179e"
            ],
            [
             0.4444444444444444,
             "#bd3786"
            ],
            [
             0.5555555555555556,
             "#d8576b"
            ],
            [
             0.6666666666666666,
             "#ed7953"
            ],
            [
             0.7777777777777778,
             "#fb9f3a"
            ],
            [
             0.8888888888888888,
             "#fdca26"
            ],
            [
             1,
             "#f0f921"
            ]
           ]
          },
          "colorway": [
           "#636efa",
           "#EF553B",
           "#00cc96",
           "#ab63fa",
           "#FFA15A",
           "#19d3f3",
           "#FF6692",
           "#B6E880",
           "#FF97FF",
           "#FECB52"
          ],
          "font": {
           "color": "#2a3f5f"
          },
          "geo": {
           "bgcolor": "white",
           "lakecolor": "white",
           "landcolor": "#E5ECF6",
           "showlakes": true,
           "showland": true,
           "subunitcolor": "white"
          },
          "hoverlabel": {
           "align": "left"
          },
          "hovermode": "closest",
          "mapbox": {
           "style": "light"
          },
          "paper_bgcolor": "white",
          "plot_bgcolor": "#E5ECF6",
          "polar": {
           "angularaxis": {
            "gridcolor": "white",
            "linecolor": "white",
            "ticks": ""
           },
           "bgcolor": "#E5ECF6",
           "radialaxis": {
            "gridcolor": "white",
            "linecolor": "white",
            "ticks": ""
           }
          },
          "scene": {
           "xaxis": {
            "backgroundcolor": "#E5ECF6",
            "gridcolor": "white",
            "gridwidth": 2,
            "linecolor": "white",
            "showbackground": true,
            "ticks": "",
            "zerolinecolor": "white"
           },
           "yaxis": {
            "backgroundcolor": "#E5ECF6",
            "gridcolor": "white",
            "gridwidth": 2,
            "linecolor": "white",
            "showbackground": true,
            "ticks": "",
            "zerolinecolor": "white"
           },
           "zaxis": {
            "backgroundcolor": "#E5ECF6",
            "gridcolor": "white",
            "gridwidth": 2,
            "linecolor": "white",
            "showbackground": true,
            "ticks": "",
            "zerolinecolor": "white"
           }
          },
          "shapedefaults": {
           "line": {
            "color": "#2a3f5f"
           }
          },
          "ternary": {
           "aaxis": {
            "gridcolor": "white",
            "linecolor": "white",
            "ticks": ""
           },
           "baxis": {
            "gridcolor": "white",
            "linecolor": "white",
            "ticks": ""
           },
           "bgcolor": "#E5ECF6",
           "caxis": {
            "gridcolor": "white",
            "linecolor": "white",
            "ticks": ""
           }
          },
          "title": {
           "x": 0.05
          },
          "xaxis": {
           "automargin": true,
           "gridcolor": "white",
           "linecolor": "white",
           "ticks": "",
           "title": {
            "standoff": 15
           },
           "zerolinecolor": "white",
           "zerolinewidth": 2
          },
          "yaxis": {
           "automargin": true,
           "gridcolor": "white",
           "linecolor": "white",
           "ticks": "",
           "title": {
            "standoff": 15
           },
           "zerolinecolor": "white",
           "zerolinewidth": 2
          }
         }
        },
        "title": {
         "text": "Porcentajes de ahorro Mensual y Anual por Empresa"
        },
        "xaxis": {
         "anchor": "y",
         "domain": [
          0,
          1
         ],
         "title": {
          "text": "Compañía"
         }
        },
        "yaxis": {
         "anchor": "x",
         "domain": [
          0,
          1
         ],
         "title": {
          "text": "Porcentaje de Ahorro"
         }
        }
       }
      }
     },
     "metadata": {},
     "output_type": "display_data"
    }
   ],
   "source": [
    "data = {\n",
    "    'CIA': ['Iberdrola', 'Endesa', 'Acciona', 'Naturgy', 'Candela', 'Compañía Actual'],\n",
    "    'Ahorro_Mensual': [10, 12, 9, 11, 10, 10],\n",
    "    'Ahorro_Anual': [950, 1100, 1050, 1000, 1150, 100],\n",
    "    'PRODUCTO_CIA': [\"RESIDENCIAL NOCHE LUZ\",\"RESIDENCIAL POR USO LUZ LOYAL\",\"RESIDENCIAL POR USO LUZ\",\"TEMPO LIBRE\",\"PEH/API 2.0<10kW PLAN ESTABLE\",\"Producto_cia_actual\"],\n",
    "    'FEE':[\"-\",\"-\",\"-\",\"-\",\"-\",\"FEE_actual\"],\n",
    "    'Porcentaje de ahorro': [\"13%\",\"14%\",\"5%\",\"3%\",\"4%\",\"-\"],\n",
    "    'Ahorro en euros': [10, 12, 9, 11, 10, 10]\n",
    "}\n",
    "\n",
    "df = pd.DataFrame(data)\n",
    "\n",
    "df['Anual'] = (df['Ahorro_Anual'] / df['Ahorro_Anual'].sum()) * 100\n",
    "df['Mensual'] = (df['Ahorro_Mensual'] / df['Ahorro_Mensual'].sum()) * 100\n",
    "\n",
    "fig = px.bar(\n",
    "    df, \n",
    "    x='CIA', \n",
    "    y=['Mensual', 'Anual'], \n",
    "    barmode='group',\n",
    "    title='Porcentajes de ahorro Mensual y Anual por Empresa',\n",
    "    labels={'value': 'Porcentaje de Ahorro', 'CIA':'Compañía'},\n",
    "    color_discrete_map={'Mensual': '#1F1D1C', 'Anual': '#FF8523'},\n",
    "    hover_data={'PRODUCTO_CIA': True, 'FEE': ':.2f', 'Porcentaje de ahorro': ':.2f', 'Ahorro en euros': ':.2f'},  # Información adicional al pasar el ratón\n",
    ")\n",
    "\n",
    "fig.update_layout(legend=dict(title='', orientation='v', y=-0.23, x=0, traceorder='grouped'))\n",
    "\n",
    "fig.show()"
   ]
  },
  {
   "cell_type": "code",
   "execution_count": 44,
   "metadata": {},
   "outputs": [
    {
     "data": {
      "text/html": [
       "<div>\n",
       "<style scoped>\n",
       "    .dataframe tbody tr th:only-of-type {\n",
       "        vertical-align: middle;\n",
       "    }\n",
       "\n",
       "    .dataframe tbody tr th {\n",
       "        vertical-align: top;\n",
       "    }\n",
       "\n",
       "    .dataframe thead th {\n",
       "        text-align: right;\n",
       "    }\n",
       "</style>\n",
       "<table border=\"1\" class=\"dataframe\">\n",
       "  <thead>\n",
       "    <tr style=\"text-align: right;\">\n",
       "      <th></th>\n",
       "      <th>CIA</th>\n",
       "      <th>Ahorro_Mensual</th>\n",
       "      <th>Ahorro_Anual</th>\n",
       "      <th>PRODUCTO_CIA</th>\n",
       "      <th>FEE</th>\n",
       "      <th>Porcentaje de ahorro</th>\n",
       "      <th>Ahorro en euros</th>\n",
       "      <th>Anual</th>\n",
       "      <th>Mensual</th>\n",
       "    </tr>\n",
       "  </thead>\n",
       "  <tbody>\n",
       "    <tr>\n",
       "      <th>0</th>\n",
       "      <td>Iberdrola</td>\n",
       "      <td>10</td>\n",
       "      <td>950</td>\n",
       "      <td>RESIDENCIAL NOCHE LUZ</td>\n",
       "      <td>-</td>\n",
       "      <td>13%</td>\n",
       "      <td>10</td>\n",
       "      <td>17.757009</td>\n",
       "      <td>16.129032</td>\n",
       "    </tr>\n",
       "    <tr>\n",
       "      <th>1</th>\n",
       "      <td>Endesa</td>\n",
       "      <td>12</td>\n",
       "      <td>1100</td>\n",
       "      <td>RESIDENCIAL POR USO LUZ LOYAL</td>\n",
       "      <td>-</td>\n",
       "      <td>14%</td>\n",
       "      <td>12</td>\n",
       "      <td>20.560748</td>\n",
       "      <td>19.354839</td>\n",
       "    </tr>\n",
       "    <tr>\n",
       "      <th>2</th>\n",
       "      <td>Acciona</td>\n",
       "      <td>9</td>\n",
       "      <td>1050</td>\n",
       "      <td>RESIDENCIAL POR USO LUZ</td>\n",
       "      <td>-</td>\n",
       "      <td>5%</td>\n",
       "      <td>9</td>\n",
       "      <td>19.626168</td>\n",
       "      <td>14.516129</td>\n",
       "    </tr>\n",
       "    <tr>\n",
       "      <th>3</th>\n",
       "      <td>Naturgy</td>\n",
       "      <td>11</td>\n",
       "      <td>1000</td>\n",
       "      <td>TEMPO LIBRE</td>\n",
       "      <td>-</td>\n",
       "      <td>3%</td>\n",
       "      <td>11</td>\n",
       "      <td>18.691589</td>\n",
       "      <td>17.741935</td>\n",
       "    </tr>\n",
       "    <tr>\n",
       "      <th>4</th>\n",
       "      <td>Candela</td>\n",
       "      <td>10</td>\n",
       "      <td>1150</td>\n",
       "      <td>PEH/API 2.0&lt;10kW PLAN ESTABLE</td>\n",
       "      <td>-</td>\n",
       "      <td>4%</td>\n",
       "      <td>10</td>\n",
       "      <td>21.495327</td>\n",
       "      <td>16.129032</td>\n",
       "    </tr>\n",
       "    <tr>\n",
       "      <th>5</th>\n",
       "      <td>Compañía Actual</td>\n",
       "      <td>10</td>\n",
       "      <td>100</td>\n",
       "      <td>Producto_cia_actual</td>\n",
       "      <td>FEE_actual</td>\n",
       "      <td>-</td>\n",
       "      <td>10</td>\n",
       "      <td>1.869159</td>\n",
       "      <td>16.129032</td>\n",
       "    </tr>\n",
       "  </tbody>\n",
       "</table>\n",
       "</div>"
      ],
      "text/plain": [
       "               CIA  Ahorro_Mensual  Ahorro_Anual  \\\n",
       "0        Iberdrola              10           950   \n",
       "1           Endesa              12          1100   \n",
       "2          Acciona               9          1050   \n",
       "3          Naturgy              11          1000   \n",
       "4          Candela              10          1150   \n",
       "5  Compañía Actual              10           100   \n",
       "\n",
       "                    PRODUCTO_CIA         FEE Porcentaje de ahorro  \\\n",
       "0          RESIDENCIAL NOCHE LUZ           -                  13%   \n",
       "1  RESIDENCIAL POR USO LUZ LOYAL           -                  14%   \n",
       "2        RESIDENCIAL POR USO LUZ           -                   5%   \n",
       "3                    TEMPO LIBRE           -                   3%   \n",
       "4  PEH/API 2.0<10kW PLAN ESTABLE           -                   4%   \n",
       "5            Producto_cia_actual  FEE_actual                    -   \n",
       "\n",
       "   Ahorro en euros      Anual    Mensual  \n",
       "0               10  17.757009  16.129032  \n",
       "1               12  20.560748  19.354839  \n",
       "2                9  19.626168  14.516129  \n",
       "3               11  18.691589  17.741935  \n",
       "4               10  21.495327  16.129032  \n",
       "5               10   1.869159  16.129032  "
      ]
     },
     "execution_count": 44,
     "metadata": {},
     "output_type": "execute_result"
    }
   ],
   "source": [
    "df"
   ]
  },
  {
   "cell_type": "code",
   "execution_count": 45,
   "metadata": {},
   "outputs": [
    {
     "data": {
      "application/vnd.plotly.v1+json": {
       "config": {
        "plotlyServerURL": "https://plot.ly"
       },
       "data": [
        {
         "alignmentgroup": "True",
         "customdata": [
          [
           "RESIDENCIAL NOCHE LUZ",
           "-",
           "13%",
           10
          ],
          [
           "RESIDENCIAL POR USO LUZ LOYAL",
           "-",
           "14%",
           12
          ],
          [
           "RESIDENCIAL POR USO LUZ",
           "-",
           "5%",
           9
          ],
          [
           "TEMPO LIBRE",
           "-",
           "3%",
           11
          ],
          [
           "PEH/API 2.0<10kW PLAN ESTABLE",
           "-",
           "4%",
           10
          ],
          [
           "Producto_cia_actual",
           "FEE_actual",
           "-",
           10
          ]
         ],
         "hovertemplate": "<b style=\"color:blue; font-family:\">%{text}</b><br>Width: %{x}<br>Ahorro: %{y}",
         "legendgroup": "Mensual",
         "marker": {
          "color": "#1F1D1C",
          "pattern": {
           "shape": ""
          }
         },
         "name": "Mensual",
         "offsetgroup": "Mensual",
         "orientation": "v",
         "showlegend": true,
         "text": [
          "RESIDENCIAL NOCHE LUZ",
          "RESIDENCIAL POR USO LUZ LOYAL",
          "RESIDENCIAL POR USO LUZ",
          "TEMPO LIBRE",
          "PEH/API 2.0<10kW PLAN ESTABLE",
          "Producto_cia_actual"
         ],
         "textposition": "auto",
         "type": "bar",
         "x": [
          "Iberdrola",
          "Endesa",
          "Acciona",
          "Naturgy",
          "Candela",
          "Compañía Actual"
         ],
         "xaxis": "x",
         "y": [
          16.129032258064516,
          19.35483870967742,
          14.516129032258066,
          17.741935483870968,
          16.129032258064516,
          16.129032258064516
         ],
         "yaxis": "y"
        },
        {
         "alignmentgroup": "True",
         "customdata": [
          [
           "RESIDENCIAL NOCHE LUZ",
           "-",
           "13%",
           10
          ],
          [
           "RESIDENCIAL POR USO LUZ LOYAL",
           "-",
           "14%",
           12
          ],
          [
           "RESIDENCIAL POR USO LUZ",
           "-",
           "5%",
           9
          ],
          [
           "TEMPO LIBRE",
           "-",
           "3%",
           11
          ],
          [
           "PEH/API 2.0<10kW PLAN ESTABLE",
           "-",
           "4%",
           10
          ],
          [
           "Producto_cia_actual",
           "FEE_actual",
           "-",
           10
          ]
         ],
         "hovertemplate": "<b style=\"color:blue; font-family:\">%{text}</b><br>Width: %{x}<br>Ahorro: %{y}",
         "legendgroup": "Anual",
         "marker": {
          "color": "#FF8523",
          "pattern": {
           "shape": ""
          }
         },
         "name": "Anual",
         "offsetgroup": "Anual",
         "orientation": "v",
         "showlegend": true,
         "text": [
          "RESIDENCIAL NOCHE LUZ",
          "RESIDENCIAL POR USO LUZ LOYAL",
          "RESIDENCIAL POR USO LUZ",
          "TEMPO LIBRE",
          "PEH/API 2.0<10kW PLAN ESTABLE",
          "Producto_cia_actual"
         ],
         "textposition": "auto",
         "type": "bar",
         "x": [
          "Iberdrola",
          "Endesa",
          "Acciona",
          "Naturgy",
          "Candela",
          "Compañía Actual"
         ],
         "xaxis": "x",
         "y": [
          17.75700934579439,
          20.5607476635514,
          19.626168224299064,
          18.69158878504673,
          21.49532710280374,
          1.8691588785046727
         ],
         "yaxis": "y"
        }
       ],
       "layout": {
        "barmode": "group",
        "legend": {
         "orientation": "v",
         "title": {
          "text": ""
         },
         "tracegroupgap": 0,
         "traceorder": "grouped",
         "x": 0,
         "y": -0.23
        },
        "template": {
         "data": {
          "bar": [
           {
            "error_x": {
             "color": "#2a3f5f"
            },
            "error_y": {
             "color": "#2a3f5f"
            },
            "marker": {
             "line": {
              "color": "#E5ECF6",
              "width": 0.5
             },
             "pattern": {
              "fillmode": "overlay",
              "size": 10,
              "solidity": 0.2
             }
            },
            "type": "bar"
           }
          ],
          "barpolar": [
           {
            "marker": {
             "line": {
              "color": "#E5ECF6",
              "width": 0.5
             },
             "pattern": {
              "fillmode": "overlay",
              "size": 10,
              "solidity": 0.2
             }
            },
            "type": "barpolar"
           }
          ],
          "carpet": [
           {
            "aaxis": {
             "endlinecolor": "#2a3f5f",
             "gridcolor": "white",
             "linecolor": "white",
             "minorgridcolor": "white",
             "startlinecolor": "#2a3f5f"
            },
            "baxis": {
             "endlinecolor": "#2a3f5f",
             "gridcolor": "white",
             "linecolor": "white",
             "minorgridcolor": "white",
             "startlinecolor": "#2a3f5f"
            },
            "type": "carpet"
           }
          ],
          "choropleth": [
           {
            "colorbar": {
             "outlinewidth": 0,
             "ticks": ""
            },
            "type": "choropleth"
           }
          ],
          "contour": [
           {
            "colorbar": {
             "outlinewidth": 0,
             "ticks": ""
            },
            "colorscale": [
             [
              0,
              "#0d0887"
             ],
             [
              0.1111111111111111,
              "#46039f"
             ],
             [
              0.2222222222222222,
              "#7201a8"
             ],
             [
              0.3333333333333333,
              "#9c179e"
             ],
             [
              0.4444444444444444,
              "#bd3786"
             ],
             [
              0.5555555555555556,
              "#d8576b"
             ],
             [
              0.6666666666666666,
              "#ed7953"
             ],
             [
              0.7777777777777778,
              "#fb9f3a"
             ],
             [
              0.8888888888888888,
              "#fdca26"
             ],
             [
              1,
              "#f0f921"
             ]
            ],
            "type": "contour"
           }
          ],
          "contourcarpet": [
           {
            "colorbar": {
             "outlinewidth": 0,
             "ticks": ""
            },
            "type": "contourcarpet"
           }
          ],
          "heatmap": [
           {
            "colorbar": {
             "outlinewidth": 0,
             "ticks": ""
            },
            "colorscale": [
             [
              0,
              "#0d0887"
             ],
             [
              0.1111111111111111,
              "#46039f"
             ],
             [
              0.2222222222222222,
              "#7201a8"
             ],
             [
              0.3333333333333333,
              "#9c179e"
             ],
             [
              0.4444444444444444,
              "#bd3786"
             ],
             [
              0.5555555555555556,
              "#d8576b"
             ],
             [
              0.6666666666666666,
              "#ed7953"
             ],
             [
              0.7777777777777778,
              "#fb9f3a"
             ],
             [
              0.8888888888888888,
              "#fdca26"
             ],
             [
              1,
              "#f0f921"
             ]
            ],
            "type": "heatmap"
           }
          ],
          "heatmapgl": [
           {
            "colorbar": {
             "outlinewidth": 0,
             "ticks": ""
            },
            "colorscale": [
             [
              0,
              "#0d0887"
             ],
             [
              0.1111111111111111,
              "#46039f"
             ],
             [
              0.2222222222222222,
              "#7201a8"
             ],
             [
              0.3333333333333333,
              "#9c179e"
             ],
             [
              0.4444444444444444,
              "#bd3786"
             ],
             [
              0.5555555555555556,
              "#d8576b"
             ],
             [
              0.6666666666666666,
              "#ed7953"
             ],
             [
              0.7777777777777778,
              "#fb9f3a"
             ],
             [
              0.8888888888888888,
              "#fdca26"
             ],
             [
              1,
              "#f0f921"
             ]
            ],
            "type": "heatmapgl"
           }
          ],
          "histogram": [
           {
            "marker": {
             "pattern": {
              "fillmode": "overlay",
              "size": 10,
              "solidity": 0.2
             }
            },
            "type": "histogram"
           }
          ],
          "histogram2d": [
           {
            "colorbar": {
             "outlinewidth": 0,
             "ticks": ""
            },
            "colorscale": [
             [
              0,
              "#0d0887"
             ],
             [
              0.1111111111111111,
              "#46039f"
             ],
             [
              0.2222222222222222,
              "#7201a8"
             ],
             [
              0.3333333333333333,
              "#9c179e"
             ],
             [
              0.4444444444444444,
              "#bd3786"
             ],
             [
              0.5555555555555556,
              "#d8576b"
             ],
             [
              0.6666666666666666,
              "#ed7953"
             ],
             [
              0.7777777777777778,
              "#fb9f3a"
             ],
             [
              0.8888888888888888,
              "#fdca26"
             ],
             [
              1,
              "#f0f921"
             ]
            ],
            "type": "histogram2d"
           }
          ],
          "histogram2dcontour": [
           {
            "colorbar": {
             "outlinewidth": 0,
             "ticks": ""
            },
            "colorscale": [
             [
              0,
              "#0d0887"
             ],
             [
              0.1111111111111111,
              "#46039f"
             ],
             [
              0.2222222222222222,
              "#7201a8"
             ],
             [
              0.3333333333333333,
              "#9c179e"
             ],
             [
              0.4444444444444444,
              "#bd3786"
             ],
             [
              0.5555555555555556,
              "#d8576b"
             ],
             [
              0.6666666666666666,
              "#ed7953"
             ],
             [
              0.7777777777777778,
              "#fb9f3a"
             ],
             [
              0.8888888888888888,
              "#fdca26"
             ],
             [
              1,
              "#f0f921"
             ]
            ],
            "type": "histogram2dcontour"
           }
          ],
          "mesh3d": [
           {
            "colorbar": {
             "outlinewidth": 0,
             "ticks": ""
            },
            "type": "mesh3d"
           }
          ],
          "parcoords": [
           {
            "line": {
             "colorbar": {
              "outlinewidth": 0,
              "ticks": ""
             }
            },
            "type": "parcoords"
           }
          ],
          "pie": [
           {
            "automargin": true,
            "type": "pie"
           }
          ],
          "scatter": [
           {
            "fillpattern": {
             "fillmode": "overlay",
             "size": 10,
             "solidity": 0.2
            },
            "type": "scatter"
           }
          ],
          "scatter3d": [
           {
            "line": {
             "colorbar": {
              "outlinewidth": 0,
              "ticks": ""
             }
            },
            "marker": {
             "colorbar": {
              "outlinewidth": 0,
              "ticks": ""
             }
            },
            "type": "scatter3d"
           }
          ],
          "scattercarpet": [
           {
            "marker": {
             "colorbar": {
              "outlinewidth": 0,
              "ticks": ""
             }
            },
            "type": "scattercarpet"
           }
          ],
          "scattergeo": [
           {
            "marker": {
             "colorbar": {
              "outlinewidth": 0,
              "ticks": ""
             }
            },
            "type": "scattergeo"
           }
          ],
          "scattergl": [
           {
            "marker": {
             "colorbar": {
              "outlinewidth": 0,
              "ticks": ""
             }
            },
            "type": "scattergl"
           }
          ],
          "scattermapbox": [
           {
            "marker": {
             "colorbar": {
              "outlinewidth": 0,
              "ticks": ""
             }
            },
            "type": "scattermapbox"
           }
          ],
          "scatterpolar": [
           {
            "marker": {
             "colorbar": {
              "outlinewidth": 0,
              "ticks": ""
             }
            },
            "type": "scatterpolar"
           }
          ],
          "scatterpolargl": [
           {
            "marker": {
             "colorbar": {
              "outlinewidth": 0,
              "ticks": ""
             }
            },
            "type": "scatterpolargl"
           }
          ],
          "scatterternary": [
           {
            "marker": {
             "colorbar": {
              "outlinewidth": 0,
              "ticks": ""
             }
            },
            "type": "scatterternary"
           }
          ],
          "surface": [
           {
            "colorbar": {
             "outlinewidth": 0,
             "ticks": ""
            },
            "colorscale": [
             [
              0,
              "#0d0887"
             ],
             [
              0.1111111111111111,
              "#46039f"
             ],
             [
              0.2222222222222222,
              "#7201a8"
             ],
             [
              0.3333333333333333,
              "#9c179e"
             ],
             [
              0.4444444444444444,
              "#bd3786"
             ],
             [
              0.5555555555555556,
              "#d8576b"
             ],
             [
              0.6666666666666666,
              "#ed7953"
             ],
             [
              0.7777777777777778,
              "#fb9f3a"
             ],
             [
              0.8888888888888888,
              "#fdca26"
             ],
             [
              1,
              "#f0f921"
             ]
            ],
            "type": "surface"
           }
          ],
          "table": [
           {
            "cells": {
             "fill": {
              "color": "#EBF0F8"
             },
             "line": {
              "color": "white"
             }
            },
            "header": {
             "fill": {
              "color": "#C8D4E3"
             },
             "line": {
              "color": "white"
             }
            },
            "type": "table"
           }
          ]
         },
         "layout": {
          "annotationdefaults": {
           "arrowcolor": "#2a3f5f",
           "arrowhead": 0,
           "arrowwidth": 1
          },
          "autotypenumbers": "strict",
          "coloraxis": {
           "colorbar": {
            "outlinewidth": 0,
            "ticks": ""
           }
          },
          "colorscale": {
           "diverging": [
            [
             0,
             "#8e0152"
            ],
            [
             0.1,
             "#c51b7d"
            ],
            [
             0.2,
             "#de77ae"
            ],
            [
             0.3,
             "#f1b6da"
            ],
            [
             0.4,
             "#fde0ef"
            ],
            [
             0.5,
             "#f7f7f7"
            ],
            [
             0.6,
             "#e6f5d0"
            ],
            [
             0.7,
             "#b8e186"
            ],
            [
             0.8,
             "#7fbc41"
            ],
            [
             0.9,
             "#4d9221"
            ],
            [
             1,
             "#276419"
            ]
           ],
           "sequential": [
            [
             0,
             "#0d0887"
            ],
            [
             0.1111111111111111,
             "#46039f"
            ],
            [
             0.2222222222222222,
             "#7201a8"
            ],
            [
             0.3333333333333333,
             "#9c179e"
            ],
            [
             0.4444444444444444,
             "#bd3786"
            ],
            [
             0.5555555555555556,
             "#d8576b"
            ],
            [
             0.6666666666666666,
             "#ed7953"
            ],
            [
             0.7777777777777778,
             "#fb9f3a"
            ],
            [
             0.8888888888888888,
             "#fdca26"
            ],
            [
             1,
             "#f0f921"
            ]
           ],
           "sequentialminus": [
            [
             0,
             "#0d0887"
            ],
            [
             0.1111111111111111,
             "#46039f"
            ],
            [
             0.2222222222222222,
             "#7201a8"
            ],
            [
             0.3333333333333333,
             "#9c179e"
            ],
            [
             0.4444444444444444,
             "#bd3786"
            ],
            [
             0.5555555555555556,
             "#d8576b"
            ],
            [
             0.6666666666666666,
             "#ed7953"
            ],
            [
             0.7777777777777778,
             "#fb9f3a"
            ],
            [
             0.8888888888888888,
             "#fdca26"
            ],
            [
             1,
             "#f0f921"
            ]
           ]
          },
          "colorway": [
           "#636efa",
           "#EF553B",
           "#00cc96",
           "#ab63fa",
           "#FFA15A",
           "#19d3f3",
           "#FF6692",
           "#B6E880",
           "#FF97FF",
           "#FECB52"
          ],
          "font": {
           "color": "#2a3f5f"
          },
          "geo": {
           "bgcolor": "white",
           "lakecolor": "white",
           "landcolor": "#E5ECF6",
           "showlakes": true,
           "showland": true,
           "subunitcolor": "white"
          },
          "hoverlabel": {
           "align": "left"
          },
          "hovermode": "closest",
          "mapbox": {
           "style": "light"
          },
          "paper_bgcolor": "white",
          "plot_bgcolor": "#E5ECF6",
          "polar": {
           "angularaxis": {
            "gridcolor": "white",
            "linecolor": "white",
            "ticks": ""
           },
           "bgcolor": "#E5ECF6",
           "radialaxis": {
            "gridcolor": "white",
            "linecolor": "white",
            "ticks": ""
           }
          },
          "scene": {
           "xaxis": {
            "backgroundcolor": "#E5ECF6",
            "gridcolor": "white",
            "gridwidth": 2,
            "linecolor": "white",
            "showbackground": true,
            "ticks": "",
            "zerolinecolor": "white"
           },
           "yaxis": {
            "backgroundcolor": "#E5ECF6",
            "gridcolor": "white",
            "gridwidth": 2,
            "linecolor": "white",
            "showbackground": true,
            "ticks": "",
            "zerolinecolor": "white"
           },
           "zaxis": {
            "backgroundcolor": "#E5ECF6",
            "gridcolor": "white",
            "gridwidth": 2,
            "linecolor": "white",
            "showbackground": true,
            "ticks": "",
            "zerolinecolor": "white"
           }
          },
          "shapedefaults": {
           "line": {
            "color": "#2a3f5f"
           }
          },
          "ternary": {
           "aaxis": {
            "gridcolor": "white",
            "linecolor": "white",
            "ticks": ""
           },
           "baxis": {
            "gridcolor": "white",
            "linecolor": "white",
            "ticks": ""
           },
           "bgcolor": "#E5ECF6",
           "caxis": {
            "gridcolor": "white",
            "linecolor": "white",
            "ticks": ""
           }
          },
          "title": {
           "x": 0.05
          },
          "xaxis": {
           "automargin": true,
           "gridcolor": "white",
           "linecolor": "white",
           "ticks": "",
           "title": {
            "standoff": 15
           },
           "zerolinecolor": "white",
           "zerolinewidth": 2
          },
          "yaxis": {
           "automargin": true,
           "gridcolor": "white",
           "linecolor": "white",
           "ticks": "",
           "title": {
            "standoff": 15
           },
           "zerolinecolor": "white",
           "zerolinewidth": 2
          }
         }
        },
        "title": {
         "text": "Porcentajes de ahorro Mensual y Anual por Empresa"
        },
        "xaxis": {
         "anchor": "y",
         "domain": [
          0,
          1
         ],
         "title": {
          "text": "Compañía"
         }
        },
        "yaxis": {
         "anchor": "x",
         "domain": [
          0,
          1
         ],
         "title": {
          "text": "Porcentaje de Ahorro"
         }
        }
       }
      }
     },
     "metadata": {},
     "output_type": "display_data"
    }
   ],
   "source": [
    "fig.update_traces(\n",
    "    hovertemplate='<b style=\"color:blue; font-family:\">%{text}</b><br>Width: %{x}<br>Ahorro: %{y}', \n",
    "    text=df[\"PRODUCTO_CIA\"]\n",
    ")"
   ]
  },
  {
   "cell_type": "code",
   "execution_count": 46,
   "metadata": {},
   "outputs": [
    {
     "data": {
      "application/vnd.plotly.v1+json": {
       "config": {
        "plotlyServerURL": "https://plot.ly"
       },
       "data": [
        {
         "alignmentgroup": "True",
         "customdata": [
          [
           "RESIDENCIAL NOCHE LUZ",
           "-",
           "13%",
           10
          ],
          [
           "RESIDENCIAL POR USO LUZ LOYAL",
           "-",
           "14%",
           12
          ],
          [
           "RESIDENCIAL POR USO LUZ",
           "-",
           "5%",
           9
          ],
          [
           "TEMPO LIBRE",
           "-",
           "3%",
           11
          ],
          [
           "PEH/API 2.0<10kW PLAN ESTABLE",
           "-",
           "4%",
           10
          ],
          [
           "Producto_cia_actual",
           "FEE_actual",
           "-",
           10
          ]
         ],
         "hoverlabel": {
          "bgcolor": "#FAFAFA"
         },
         "hovertemplate": "<b style=\"color:#1F1D1C; font-size:16px\">%{text}</b><br><br><b style=\"color:#1F1D1C;\">Anual:</b> %{x}<br><b style=\"color:#FF8523;\">Ahorro:</b> %{y}",
         "legendgroup": "Mensual",
         "marker": {
          "color": "#1F1D1C",
          "pattern": {
           "shape": ""
          }
         },
         "name": "Mensual",
         "offsetgroup": "Mensual",
         "orientation": "v",
         "showlegend": true,
         "text": [
          "RESIDENCIAL NOCHE LUZ",
          "RESIDENCIAL POR USO LUZ LOYAL",
          "RESIDENCIAL POR USO LUZ",
          "TEMPO LIBRE",
          "PEH/API 2.0<10kW PLAN ESTABLE",
          "Producto_cia_actual"
         ],
         "textposition": "auto",
         "type": "bar",
         "x": [
          "Iberdrola",
          "Endesa",
          "Acciona",
          "Naturgy",
          "Candela",
          "Compañía Actual"
         ],
         "xaxis": "x",
         "y": [
          16.129032258064516,
          19.35483870967742,
          14.516129032258066,
          17.741935483870968,
          16.129032258064516,
          16.129032258064516
         ],
         "yaxis": "y"
        },
        {
         "alignmentgroup": "True",
         "customdata": [
          [
           "RESIDENCIAL NOCHE LUZ",
           "-",
           "13%",
           10
          ],
          [
           "RESIDENCIAL POR USO LUZ LOYAL",
           "-",
           "14%",
           12
          ],
          [
           "RESIDENCIAL POR USO LUZ",
           "-",
           "5%",
           9
          ],
          [
           "TEMPO LIBRE",
           "-",
           "3%",
           11
          ],
          [
           "PEH/API 2.0<10kW PLAN ESTABLE",
           "-",
           "4%",
           10
          ],
          [
           "Producto_cia_actual",
           "FEE_actual",
           "-",
           10
          ]
         ],
         "hoverlabel": {
          "bgcolor": "#FAFAFA"
         },
         "hovertemplate": "<b style=\"color:#1F1D1C; font-size:16px\">%{text}</b><br><br><b style=\"color:#1F1D1C;\">Anual:</b> %{x}<br><b style=\"color:#FF8523;\">Ahorro:</b> %{y}",
         "legendgroup": "Anual",
         "marker": {
          "color": "#FF8523",
          "pattern": {
           "shape": ""
          }
         },
         "name": "Anual",
         "offsetgroup": "Anual",
         "orientation": "v",
         "showlegend": true,
         "text": [
          "RESIDENCIAL NOCHE LUZ",
          "RESIDENCIAL POR USO LUZ LOYAL",
          "RESIDENCIAL POR USO LUZ",
          "TEMPO LIBRE",
          "PEH/API 2.0<10kW PLAN ESTABLE",
          "Producto_cia_actual"
         ],
         "textposition": "auto",
         "type": "bar",
         "x": [
          "Iberdrola",
          "Endesa",
          "Acciona",
          "Naturgy",
          "Candela",
          "Compañía Actual"
         ],
         "xaxis": "x",
         "y": [
          17.75700934579439,
          20.5607476635514,
          19.626168224299064,
          18.69158878504673,
          21.49532710280374,
          1.8691588785046727
         ],
         "yaxis": "y"
        }
       ],
       "layout": {
        "barmode": "group",
        "legend": {
         "orientation": "v",
         "title": {
          "text": ""
         },
         "tracegroupgap": 0,
         "traceorder": "grouped",
         "x": 0,
         "y": -0.23
        },
        "template": {
         "data": {
          "bar": [
           {
            "error_x": {
             "color": "#2a3f5f"
            },
            "error_y": {
             "color": "#2a3f5f"
            },
            "marker": {
             "line": {
              "color": "#E5ECF6",
              "width": 0.5
             },
             "pattern": {
              "fillmode": "overlay",
              "size": 10,
              "solidity": 0.2
             }
            },
            "type": "bar"
           }
          ],
          "barpolar": [
           {
            "marker": {
             "line": {
              "color": "#E5ECF6",
              "width": 0.5
             },
             "pattern": {
              "fillmode": "overlay",
              "size": 10,
              "solidity": 0.2
             }
            },
            "type": "barpolar"
           }
          ],
          "carpet": [
           {
            "aaxis": {
             "endlinecolor": "#2a3f5f",
             "gridcolor": "white",
             "linecolor": "white",
             "minorgridcolor": "white",
             "startlinecolor": "#2a3f5f"
            },
            "baxis": {
             "endlinecolor": "#2a3f5f",
             "gridcolor": "white",
             "linecolor": "white",
             "minorgridcolor": "white",
             "startlinecolor": "#2a3f5f"
            },
            "type": "carpet"
           }
          ],
          "choropleth": [
           {
            "colorbar": {
             "outlinewidth": 0,
             "ticks": ""
            },
            "type": "choropleth"
           }
          ],
          "contour": [
           {
            "colorbar": {
             "outlinewidth": 0,
             "ticks": ""
            },
            "colorscale": [
             [
              0,
              "#0d0887"
             ],
             [
              0.1111111111111111,
              "#46039f"
             ],
             [
              0.2222222222222222,
              "#7201a8"
             ],
             [
              0.3333333333333333,
              "#9c179e"
             ],
             [
              0.4444444444444444,
              "#bd3786"
             ],
             [
              0.5555555555555556,
              "#d8576b"
             ],
             [
              0.6666666666666666,
              "#ed7953"
             ],
             [
              0.7777777777777778,
              "#fb9f3a"
             ],
             [
              0.8888888888888888,
              "#fdca26"
             ],
             [
              1,
              "#f0f921"
             ]
            ],
            "type": "contour"
           }
          ],
          "contourcarpet": [
           {
            "colorbar": {
             "outlinewidth": 0,
             "ticks": ""
            },
            "type": "contourcarpet"
           }
          ],
          "heatmap": [
           {
            "colorbar": {
             "outlinewidth": 0,
             "ticks": ""
            },
            "colorscale": [
             [
              0,
              "#0d0887"
             ],
             [
              0.1111111111111111,
              "#46039f"
             ],
             [
              0.2222222222222222,
              "#7201a8"
             ],
             [
              0.3333333333333333,
              "#9c179e"
             ],
             [
              0.4444444444444444,
              "#bd3786"
             ],
             [
              0.5555555555555556,
              "#d8576b"
             ],
             [
              0.6666666666666666,
              "#ed7953"
             ],
             [
              0.7777777777777778,
              "#fb9f3a"
             ],
             [
              0.8888888888888888,
              "#fdca26"
             ],
             [
              1,
              "#f0f921"
             ]
            ],
            "type": "heatmap"
           }
          ],
          "heatmapgl": [
           {
            "colorbar": {
             "outlinewidth": 0,
             "ticks": ""
            },
            "colorscale": [
             [
              0,
              "#0d0887"
             ],
             [
              0.1111111111111111,
              "#46039f"
             ],
             [
              0.2222222222222222,
              "#7201a8"
             ],
             [
              0.3333333333333333,
              "#9c179e"
             ],
             [
              0.4444444444444444,
              "#bd3786"
             ],
             [
              0.5555555555555556,
              "#d8576b"
             ],
             [
              0.6666666666666666,
              "#ed7953"
             ],
             [
              0.7777777777777778,
              "#fb9f3a"
             ],
             [
              0.8888888888888888,
              "#fdca26"
             ],
             [
              1,
              "#f0f921"
             ]
            ],
            "type": "heatmapgl"
           }
          ],
          "histogram": [
           {
            "marker": {
             "pattern": {
              "fillmode": "overlay",
              "size": 10,
              "solidity": 0.2
             }
            },
            "type": "histogram"
           }
          ],
          "histogram2d": [
           {
            "colorbar": {
             "outlinewidth": 0,
             "ticks": ""
            },
            "colorscale": [
             [
              0,
              "#0d0887"
             ],
             [
              0.1111111111111111,
              "#46039f"
             ],
             [
              0.2222222222222222,
              "#7201a8"
             ],
             [
              0.3333333333333333,
              "#9c179e"
             ],
             [
              0.4444444444444444,
              "#bd3786"
             ],
             [
              0.5555555555555556,
              "#d8576b"
             ],
             [
              0.6666666666666666,
              "#ed7953"
             ],
             [
              0.7777777777777778,
              "#fb9f3a"
             ],
             [
              0.8888888888888888,
              "#fdca26"
             ],
             [
              1,
              "#f0f921"
             ]
            ],
            "type": "histogram2d"
           }
          ],
          "histogram2dcontour": [
           {
            "colorbar": {
             "outlinewidth": 0,
             "ticks": ""
            },
            "colorscale": [
             [
              0,
              "#0d0887"
             ],
             [
              0.1111111111111111,
              "#46039f"
             ],
             [
              0.2222222222222222,
              "#7201a8"
             ],
             [
              0.3333333333333333,
              "#9c179e"
             ],
             [
              0.4444444444444444,
              "#bd3786"
             ],
             [
              0.5555555555555556,
              "#d8576b"
             ],
             [
              0.6666666666666666,
              "#ed7953"
             ],
             [
              0.7777777777777778,
              "#fb9f3a"
             ],
             [
              0.8888888888888888,
              "#fdca26"
             ],
             [
              1,
              "#f0f921"
             ]
            ],
            "type": "histogram2dcontour"
           }
          ],
          "mesh3d": [
           {
            "colorbar": {
             "outlinewidth": 0,
             "ticks": ""
            },
            "type": "mesh3d"
           }
          ],
          "parcoords": [
           {
            "line": {
             "colorbar": {
              "outlinewidth": 0,
              "ticks": ""
             }
            },
            "type": "parcoords"
           }
          ],
          "pie": [
           {
            "automargin": true,
            "type": "pie"
           }
          ],
          "scatter": [
           {
            "fillpattern": {
             "fillmode": "overlay",
             "size": 10,
             "solidity": 0.2
            },
            "type": "scatter"
           }
          ],
          "scatter3d": [
           {
            "line": {
             "colorbar": {
              "outlinewidth": 0,
              "ticks": ""
             }
            },
            "marker": {
             "colorbar": {
              "outlinewidth": 0,
              "ticks": ""
             }
            },
            "type": "scatter3d"
           }
          ],
          "scattercarpet": [
           {
            "marker": {
             "colorbar": {
              "outlinewidth": 0,
              "ticks": ""
             }
            },
            "type": "scattercarpet"
           }
          ],
          "scattergeo": [
           {
            "marker": {
             "colorbar": {
              "outlinewidth": 0,
              "ticks": ""
             }
            },
            "type": "scattergeo"
           }
          ],
          "scattergl": [
           {
            "marker": {
             "colorbar": {
              "outlinewidth": 0,
              "ticks": ""
             }
            },
            "type": "scattergl"
           }
          ],
          "scattermapbox": [
           {
            "marker": {
             "colorbar": {
              "outlinewidth": 0,
              "ticks": ""
             }
            },
            "type": "scattermapbox"
           }
          ],
          "scatterpolar": [
           {
            "marker": {
             "colorbar": {
              "outlinewidth": 0,
              "ticks": ""
             }
            },
            "type": "scatterpolar"
           }
          ],
          "scatterpolargl": [
           {
            "marker": {
             "colorbar": {
              "outlinewidth": 0,
              "ticks": ""
             }
            },
            "type": "scatterpolargl"
           }
          ],
          "scatterternary": [
           {
            "marker": {
             "colorbar": {
              "outlinewidth": 0,
              "ticks": ""
             }
            },
            "type": "scatterternary"
           }
          ],
          "surface": [
           {
            "colorbar": {
             "outlinewidth": 0,
             "ticks": ""
            },
            "colorscale": [
             [
              0,
              "#0d0887"
             ],
             [
              0.1111111111111111,
              "#46039f"
             ],
             [
              0.2222222222222222,
              "#7201a8"
             ],
             [
              0.3333333333333333,
              "#9c179e"
             ],
             [
              0.4444444444444444,
              "#bd3786"
             ],
             [
              0.5555555555555556,
              "#d8576b"
             ],
             [
              0.6666666666666666,
              "#ed7953"
             ],
             [
              0.7777777777777778,
              "#fb9f3a"
             ],
             [
              0.8888888888888888,
              "#fdca26"
             ],
             [
              1,
              "#f0f921"
             ]
            ],
            "type": "surface"
           }
          ],
          "table": [
           {
            "cells": {
             "fill": {
              "color": "#EBF0F8"
             },
             "line": {
              "color": "white"
             }
            },
            "header": {
             "fill": {
              "color": "#C8D4E3"
             },
             "line": {
              "color": "white"
             }
            },
            "type": "table"
           }
          ]
         },
         "layout": {
          "annotationdefaults": {
           "arrowcolor": "#2a3f5f",
           "arrowhead": 0,
           "arrowwidth": 1
          },
          "autotypenumbers": "strict",
          "coloraxis": {
           "colorbar": {
            "outlinewidth": 0,
            "ticks": ""
           }
          },
          "colorscale": {
           "diverging": [
            [
             0,
             "#8e0152"
            ],
            [
             0.1,
             "#c51b7d"
            ],
            [
             0.2,
             "#de77ae"
            ],
            [
             0.3,
             "#f1b6da"
            ],
            [
             0.4,
             "#fde0ef"
            ],
            [
             0.5,
             "#f7f7f7"
            ],
            [
             0.6,
             "#e6f5d0"
            ],
            [
             0.7,
             "#b8e186"
            ],
            [
             0.8,
             "#7fbc41"
            ],
            [
             0.9,
             "#4d9221"
            ],
            [
             1,
             "#276419"
            ]
           ],
           "sequential": [
            [
             0,
             "#0d0887"
            ],
            [
             0.1111111111111111,
             "#46039f"
            ],
            [
             0.2222222222222222,
             "#7201a8"
            ],
            [
             0.3333333333333333,
             "#9c179e"
            ],
            [
             0.4444444444444444,
             "#bd3786"
            ],
            [
             0.5555555555555556,
             "#d8576b"
            ],
            [
             0.6666666666666666,
             "#ed7953"
            ],
            [
             0.7777777777777778,
             "#fb9f3a"
            ],
            [
             0.8888888888888888,
             "#fdca26"
            ],
            [
             1,
             "#f0f921"
            ]
           ],
           "sequentialminus": [
            [
             0,
             "#0d0887"
            ],
            [
             0.1111111111111111,
             "#46039f"
            ],
            [
             0.2222222222222222,
             "#7201a8"
            ],
            [
             0.3333333333333333,
             "#9c179e"
            ],
            [
             0.4444444444444444,
             "#bd3786"
            ],
            [
             0.5555555555555556,
             "#d8576b"
            ],
            [
             0.6666666666666666,
             "#ed7953"
            ],
            [
             0.7777777777777778,
             "#fb9f3a"
            ],
            [
             0.8888888888888888,
             "#fdca26"
            ],
            [
             1,
             "#f0f921"
            ]
           ]
          },
          "colorway": [
           "#636efa",
           "#EF553B",
           "#00cc96",
           "#ab63fa",
           "#FFA15A",
           "#19d3f3",
           "#FF6692",
           "#B6E880",
           "#FF97FF",
           "#FECB52"
          ],
          "font": {
           "color": "#2a3f5f"
          },
          "geo": {
           "bgcolor": "white",
           "lakecolor": "white",
           "landcolor": "#E5ECF6",
           "showlakes": true,
           "showland": true,
           "subunitcolor": "white"
          },
          "hoverlabel": {
           "align": "left"
          },
          "hovermode": "closest",
          "mapbox": {
           "style": "light"
          },
          "paper_bgcolor": "white",
          "plot_bgcolor": "#E5ECF6",
          "polar": {
           "angularaxis": {
            "gridcolor": "white",
            "linecolor": "white",
            "ticks": ""
           },
           "bgcolor": "#E5ECF6",
           "radialaxis": {
            "gridcolor": "white",
            "linecolor": "white",
            "ticks": ""
           }
          },
          "scene": {
           "xaxis": {
            "backgroundcolor": "#E5ECF6",
            "gridcolor": "white",
            "gridwidth": 2,
            "linecolor": "white",
            "showbackground": true,
            "ticks": "",
            "zerolinecolor": "white"
           },
           "yaxis": {
            "backgroundcolor": "#E5ECF6",
            "gridcolor": "white",
            "gridwidth": 2,
            "linecolor": "white",
            "showbackground": true,
            "ticks": "",
            "zerolinecolor": "white"
           },
           "zaxis": {
            "backgroundcolor": "#E5ECF6",
            "gridcolor": "white",
            "gridwidth": 2,
            "linecolor": "white",
            "showbackground": true,
            "ticks": "",
            "zerolinecolor": "white"
           }
          },
          "shapedefaults": {
           "line": {
            "color": "#2a3f5f"
           }
          },
          "ternary": {
           "aaxis": {
            "gridcolor": "white",
            "linecolor": "white",
            "ticks": ""
           },
           "baxis": {
            "gridcolor": "white",
            "linecolor": "white",
            "ticks": ""
           },
           "bgcolor": "#E5ECF6",
           "caxis": {
            "gridcolor": "white",
            "linecolor": "white",
            "ticks": ""
           }
          },
          "title": {
           "x": 0.05
          },
          "xaxis": {
           "automargin": true,
           "gridcolor": "white",
           "linecolor": "white",
           "ticks": "",
           "title": {
            "standoff": 15
           },
           "zerolinecolor": "white",
           "zerolinewidth": 2
          },
          "yaxis": {
           "automargin": true,
           "gridcolor": "white",
           "linecolor": "white",
           "ticks": "",
           "title": {
            "standoff": 15
           },
           "zerolinecolor": "white",
           "zerolinewidth": 2
          }
         }
        },
        "title": {
         "text": "Porcentajes de ahorro Mensual y Anual por Empresa"
        },
        "xaxis": {
         "anchor": "y",
         "domain": [
          0,
          1
         ],
         "title": {
          "text": "Compañía"
         }
        },
        "yaxis": {
         "anchor": "x",
         "domain": [
          0,
          1
         ],
         "title": {
          "text": "Porcentaje de Ahorro"
         }
        }
       }
      }
     },
     "metadata": {},
     "output_type": "display_data"
    }
   ],
   "source": [
    "fig.update_traces(\n",
    "    hovertemplate='<b style=\"color:#1F1D1C; font-size:16px\">%{text}</b><br><br><b style=\"color:#1F1D1C;\">Anual:</b> %{x}<br><b style=\"color:#FF8523;\">Ahorro:</b> %{y}', \n",
    "    text=df[\"PRODUCTO_CIA\"],\n",
    "    hoverlabel=dict(bgcolor='#FAFAFA')\n",
    ")"
   ]
  },
  {
   "cell_type": "code",
   "execution_count": 47,
   "metadata": {},
   "outputs": [
    {
     "data": {
      "application/vnd.plotly.v1+json": {
       "config": {
        "plotlyServerURL": "https://plot.ly"
       },
       "data": [
        {
         "alignmentgroup": "True",
         "customdata": [
          [
           10,
           950
          ],
          [
           12,
           1100
          ],
          [
           9,
           1050
          ],
          [
           11,
           1000
          ],
          [
           10,
           1150
          ],
          [
           10,
           100
          ]
         ],
         "hovertemplate": "variable=Mensual<br>Compañía=%{x}<br>Porcentaje de Ahorro=%{y}<br>Ahorro_Mensual=%{customdata[0]:.2f}<br>Ahorro_Anual=%{customdata[1]:.2f}<extra></extra>",
         "legendgroup": "Mensual",
         "marker": {
          "color": "#1F1D1C",
          "pattern": {
           "shape": ""
          }
         },
         "name": "Mensual",
         "offsetgroup": "Mensual",
         "orientation": "v",
         "showlegend": true,
         "textposition": "auto",
         "type": "bar",
         "x": [
          "Iberdrola",
          "Endesa",
          "Acciona",
          "Naturgy",
          "Candela",
          "Compañía Actual"
         ],
         "xaxis": "x",
         "y": [
          16.129032258064516,
          19.35483870967742,
          14.516129032258066,
          17.741935483870968,
          16.129032258064516,
          16.129032258064516
         ],
         "yaxis": "y"
        },
        {
         "alignmentgroup": "True",
         "customdata": [
          [
           10,
           950
          ],
          [
           12,
           1100
          ],
          [
           9,
           1050
          ],
          [
           11,
           1000
          ],
          [
           10,
           1150
          ],
          [
           10,
           100
          ]
         ],
         "hovertemplate": "variable=Anual<br>Compañía=%{x}<br>Porcentaje de Ahorro=%{y}<br>Ahorro_Mensual=%{customdata[0]:.2f}<br>Ahorro_Anual=%{customdata[1]:.2f}<extra></extra>",
         "legendgroup": "Anual",
         "marker": {
          "color": "#FF8523",
          "pattern": {
           "shape": ""
          }
         },
         "name": "Anual",
         "offsetgroup": "Anual",
         "orientation": "v",
         "showlegend": true,
         "textposition": "auto",
         "type": "bar",
         "x": [
          "Iberdrola",
          "Endesa",
          "Acciona",
          "Naturgy",
          "Candela",
          "Compañía Actual"
         ],
         "xaxis": "x",
         "y": [
          17.75700934579439,
          20.5607476635514,
          19.626168224299064,
          18.69158878504673,
          21.49532710280374,
          1.8691588785046727
         ],
         "yaxis": "y"
        }
       ],
       "layout": {
        "barmode": "group",
        "legend": {
         "orientation": "v",
         "title": {
          "text": ""
         },
         "tracegroupgap": 0,
         "traceorder": "grouped",
         "x": 0,
         "y": -0.23
        },
        "template": {
         "data": {
          "bar": [
           {
            "error_x": {
             "color": "#2a3f5f"
            },
            "error_y": {
             "color": "#2a3f5f"
            },
            "marker": {
             "line": {
              "color": "#E5ECF6",
              "width": 0.5
             },
             "pattern": {
              "fillmode": "overlay",
              "size": 10,
              "solidity": 0.2
             }
            },
            "type": "bar"
           }
          ],
          "barpolar": [
           {
            "marker": {
             "line": {
              "color": "#E5ECF6",
              "width": 0.5
             },
             "pattern": {
              "fillmode": "overlay",
              "size": 10,
              "solidity": 0.2
             }
            },
            "type": "barpolar"
           }
          ],
          "carpet": [
           {
            "aaxis": {
             "endlinecolor": "#2a3f5f",
             "gridcolor": "white",
             "linecolor": "white",
             "minorgridcolor": "white",
             "startlinecolor": "#2a3f5f"
            },
            "baxis": {
             "endlinecolor": "#2a3f5f",
             "gridcolor": "white",
             "linecolor": "white",
             "minorgridcolor": "white",
             "startlinecolor": "#2a3f5f"
            },
            "type": "carpet"
           }
          ],
          "choropleth": [
           {
            "colorbar": {
             "outlinewidth": 0,
             "ticks": ""
            },
            "type": "choropleth"
           }
          ],
          "contour": [
           {
            "colorbar": {
             "outlinewidth": 0,
             "ticks": ""
            },
            "colorscale": [
             [
              0,
              "#0d0887"
             ],
             [
              0.1111111111111111,
              "#46039f"
             ],
             [
              0.2222222222222222,
              "#7201a8"
             ],
             [
              0.3333333333333333,
              "#9c179e"
             ],
             [
              0.4444444444444444,
              "#bd3786"
             ],
             [
              0.5555555555555556,
              "#d8576b"
             ],
             [
              0.6666666666666666,
              "#ed7953"
             ],
             [
              0.7777777777777778,
              "#fb9f3a"
             ],
             [
              0.8888888888888888,
              "#fdca26"
             ],
             [
              1,
              "#f0f921"
             ]
            ],
            "type": "contour"
           }
          ],
          "contourcarpet": [
           {
            "colorbar": {
             "outlinewidth": 0,
             "ticks": ""
            },
            "type": "contourcarpet"
           }
          ],
          "heatmap": [
           {
            "colorbar": {
             "outlinewidth": 0,
             "ticks": ""
            },
            "colorscale": [
             [
              0,
              "#0d0887"
             ],
             [
              0.1111111111111111,
              "#46039f"
             ],
             [
              0.2222222222222222,
              "#7201a8"
             ],
             [
              0.3333333333333333,
              "#9c179e"
             ],
             [
              0.4444444444444444,
              "#bd3786"
             ],
             [
              0.5555555555555556,
              "#d8576b"
             ],
             [
              0.6666666666666666,
              "#ed7953"
             ],
             [
              0.7777777777777778,
              "#fb9f3a"
             ],
             [
              0.8888888888888888,
              "#fdca26"
             ],
             [
              1,
              "#f0f921"
             ]
            ],
            "type": "heatmap"
           }
          ],
          "heatmapgl": [
           {
            "colorbar": {
             "outlinewidth": 0,
             "ticks": ""
            },
            "colorscale": [
             [
              0,
              "#0d0887"
             ],
             [
              0.1111111111111111,
              "#46039f"
             ],
             [
              0.2222222222222222,
              "#7201a8"
             ],
             [
              0.3333333333333333,
              "#9c179e"
             ],
             [
              0.4444444444444444,
              "#bd3786"
             ],
             [
              0.5555555555555556,
              "#d8576b"
             ],
             [
              0.6666666666666666,
              "#ed7953"
             ],
             [
              0.7777777777777778,
              "#fb9f3a"
             ],
             [
              0.8888888888888888,
              "#fdca26"
             ],
             [
              1,
              "#f0f921"
             ]
            ],
            "type": "heatmapgl"
           }
          ],
          "histogram": [
           {
            "marker": {
             "pattern": {
              "fillmode": "overlay",
              "size": 10,
              "solidity": 0.2
             }
            },
            "type": "histogram"
           }
          ],
          "histogram2d": [
           {
            "colorbar": {
             "outlinewidth": 0,
             "ticks": ""
            },
            "colorscale": [
             [
              0,
              "#0d0887"
             ],
             [
              0.1111111111111111,
              "#46039f"
             ],
             [
              0.2222222222222222,
              "#7201a8"
             ],
             [
              0.3333333333333333,
              "#9c179e"
             ],
             [
              0.4444444444444444,
              "#bd3786"
             ],
             [
              0.5555555555555556,
              "#d8576b"
             ],
             [
              0.6666666666666666,
              "#ed7953"
             ],
             [
              0.7777777777777778,
              "#fb9f3a"
             ],
             [
              0.8888888888888888,
              "#fdca26"
             ],
             [
              1,
              "#f0f921"
             ]
            ],
            "type": "histogram2d"
           }
          ],
          "histogram2dcontour": [
           {
            "colorbar": {
             "outlinewidth": 0,
             "ticks": ""
            },
            "colorscale": [
             [
              0,
              "#0d0887"
             ],
             [
              0.1111111111111111,
              "#46039f"
             ],
             [
              0.2222222222222222,
              "#7201a8"
             ],
             [
              0.3333333333333333,
              "#9c179e"
             ],
             [
              0.4444444444444444,
              "#bd3786"
             ],
             [
              0.5555555555555556,
              "#d8576b"
             ],
             [
              0.6666666666666666,
              "#ed7953"
             ],
             [
              0.7777777777777778,
              "#fb9f3a"
             ],
             [
              0.8888888888888888,
              "#fdca26"
             ],
             [
              1,
              "#f0f921"
             ]
            ],
            "type": "histogram2dcontour"
           }
          ],
          "mesh3d": [
           {
            "colorbar": {
             "outlinewidth": 0,
             "ticks": ""
            },
            "type": "mesh3d"
           }
          ],
          "parcoords": [
           {
            "line": {
             "colorbar": {
              "outlinewidth": 0,
              "ticks": ""
             }
            },
            "type": "parcoords"
           }
          ],
          "pie": [
           {
            "automargin": true,
            "type": "pie"
           }
          ],
          "scatter": [
           {
            "fillpattern": {
             "fillmode": "overlay",
             "size": 10,
             "solidity": 0.2
            },
            "type": "scatter"
           }
          ],
          "scatter3d": [
           {
            "line": {
             "colorbar": {
              "outlinewidth": 0,
              "ticks": ""
             }
            },
            "marker": {
             "colorbar": {
              "outlinewidth": 0,
              "ticks": ""
             }
            },
            "type": "scatter3d"
           }
          ],
          "scattercarpet": [
           {
            "marker": {
             "colorbar": {
              "outlinewidth": 0,
              "ticks": ""
             }
            },
            "type": "scattercarpet"
           }
          ],
          "scattergeo": [
           {
            "marker": {
             "colorbar": {
              "outlinewidth": 0,
              "ticks": ""
             }
            },
            "type": "scattergeo"
           }
          ],
          "scattergl": [
           {
            "marker": {
             "colorbar": {
              "outlinewidth": 0,
              "ticks": ""
             }
            },
            "type": "scattergl"
           }
          ],
          "scattermapbox": [
           {
            "marker": {
             "colorbar": {
              "outlinewidth": 0,
              "ticks": ""
             }
            },
            "type": "scattermapbox"
           }
          ],
          "scatterpolar": [
           {
            "marker": {
             "colorbar": {
              "outlinewidth": 0,
              "ticks": ""
             }
            },
            "type": "scatterpolar"
           }
          ],
          "scatterpolargl": [
           {
            "marker": {
             "colorbar": {
              "outlinewidth": 0,
              "ticks": ""
             }
            },
            "type": "scatterpolargl"
           }
          ],
          "scatterternary": [
           {
            "marker": {
             "colorbar": {
              "outlinewidth": 0,
              "ticks": ""
             }
            },
            "type": "scatterternary"
           }
          ],
          "surface": [
           {
            "colorbar": {
             "outlinewidth": 0,
             "ticks": ""
            },
            "colorscale": [
             [
              0,
              "#0d0887"
             ],
             [
              0.1111111111111111,
              "#46039f"
             ],
             [
              0.2222222222222222,
              "#7201a8"
             ],
             [
              0.3333333333333333,
              "#9c179e"
             ],
             [
              0.4444444444444444,
              "#bd3786"
             ],
             [
              0.5555555555555556,
              "#d8576b"
             ],
             [
              0.6666666666666666,
              "#ed7953"
             ],
             [
              0.7777777777777778,
              "#fb9f3a"
             ],
             [
              0.8888888888888888,
              "#fdca26"
             ],
             [
              1,
              "#f0f921"
             ]
            ],
            "type": "surface"
           }
          ],
          "table": [
           {
            "cells": {
             "fill": {
              "color": "#EBF0F8"
             },
             "line": {
              "color": "white"
             }
            },
            "header": {
             "fill": {
              "color": "#C8D4E3"
             },
             "line": {
              "color": "white"
             }
            },
            "type": "table"
           }
          ]
         },
         "layout": {
          "annotationdefaults": {
           "arrowcolor": "#2a3f5f",
           "arrowhead": 0,
           "arrowwidth": 1
          },
          "autotypenumbers": "strict",
          "coloraxis": {
           "colorbar": {
            "outlinewidth": 0,
            "ticks": ""
           }
          },
          "colorscale": {
           "diverging": [
            [
             0,
             "#8e0152"
            ],
            [
             0.1,
             "#c51b7d"
            ],
            [
             0.2,
             "#de77ae"
            ],
            [
             0.3,
             "#f1b6da"
            ],
            [
             0.4,
             "#fde0ef"
            ],
            [
             0.5,
             "#f7f7f7"
            ],
            [
             0.6,
             "#e6f5d0"
            ],
            [
             0.7,
             "#b8e186"
            ],
            [
             0.8,
             "#7fbc41"
            ],
            [
             0.9,
             "#4d9221"
            ],
            [
             1,
             "#276419"
            ]
           ],
           "sequential": [
            [
             0,
             "#0d0887"
            ],
            [
             0.1111111111111111,
             "#46039f"
            ],
            [
             0.2222222222222222,
             "#7201a8"
            ],
            [
             0.3333333333333333,
             "#9c179e"
            ],
            [
             0.4444444444444444,
             "#bd3786"
            ],
            [
             0.5555555555555556,
             "#d8576b"
            ],
            [
             0.6666666666666666,
             "#ed7953"
            ],
            [
             0.7777777777777778,
             "#fb9f3a"
            ],
            [
             0.8888888888888888,
             "#fdca26"
            ],
            [
             1,
             "#f0f921"
            ]
           ],
           "sequentialminus": [
            [
             0,
             "#0d0887"
            ],
            [
             0.1111111111111111,
             "#46039f"
            ],
            [
             0.2222222222222222,
             "#7201a8"
            ],
            [
             0.3333333333333333,
             "#9c179e"
            ],
            [
             0.4444444444444444,
             "#bd3786"
            ],
            [
             0.5555555555555556,
             "#d8576b"
            ],
            [
             0.6666666666666666,
             "#ed7953"
            ],
            [
             0.7777777777777778,
             "#fb9f3a"
            ],
            [
             0.8888888888888888,
             "#fdca26"
            ],
            [
             1,
             "#f0f921"
            ]
           ]
          },
          "colorway": [
           "#636efa",
           "#EF553B",
           "#00cc96",
           "#ab63fa",
           "#FFA15A",
           "#19d3f3",
           "#FF6692",
           "#B6E880",
           "#FF97FF",
           "#FECB52"
          ],
          "font": {
           "color": "#2a3f5f"
          },
          "geo": {
           "bgcolor": "white",
           "lakecolor": "white",
           "landcolor": "#E5ECF6",
           "showlakes": true,
           "showland": true,
           "subunitcolor": "white"
          },
          "hoverlabel": {
           "align": "left"
          },
          "hovermode": "closest",
          "mapbox": {
           "style": "light"
          },
          "paper_bgcolor": "white",
          "plot_bgcolor": "#E5ECF6",
          "polar": {
           "angularaxis": {
            "gridcolor": "white",
            "linecolor": "white",
            "ticks": ""
           },
           "bgcolor": "#E5ECF6",
           "radialaxis": {
            "gridcolor": "white",
            "linecolor": "white",
            "ticks": ""
           }
          },
          "scene": {
           "xaxis": {
            "backgroundcolor": "#E5ECF6",
            "gridcolor": "white",
            "gridwidth": 2,
            "linecolor": "white",
            "showbackground": true,
            "ticks": "",
            "zerolinecolor": "white"
           },
           "yaxis": {
            "backgroundcolor": "#E5ECF6",
            "gridcolor": "white",
            "gridwidth": 2,
            "linecolor": "white",
            "showbackground": true,
            "ticks": "",
            "zerolinecolor": "white"
           },
           "zaxis": {
            "backgroundcolor": "#E5ECF6",
            "gridcolor": "white",
            "gridwidth": 2,
            "linecolor": "white",
            "showbackground": true,
            "ticks": "",
            "zerolinecolor": "white"
           }
          },
          "shapedefaults": {
           "line": {
            "color": "#2a3f5f"
           }
          },
          "ternary": {
           "aaxis": {
            "gridcolor": "white",
            "linecolor": "white",
            "ticks": ""
           },
           "baxis": {
            "gridcolor": "white",
            "linecolor": "white",
            "ticks": ""
           },
           "bgcolor": "#E5ECF6",
           "caxis": {
            "gridcolor": "white",
            "linecolor": "white",
            "ticks": ""
           }
          },
          "title": {
           "x": 0.05
          },
          "xaxis": {
           "automargin": true,
           "gridcolor": "white",
           "linecolor": "white",
           "ticks": "",
           "title": {
            "standoff": 15
           },
           "zerolinecolor": "white",
           "zerolinewidth": 2
          },
          "yaxis": {
           "automargin": true,
           "gridcolor": "white",
           "linecolor": "white",
           "ticks": "",
           "title": {
            "standoff": 15
           },
           "zerolinecolor": "white",
           "zerolinewidth": 2
          }
         }
        },
        "title": {
         "text": "Porcentajes de ahorro Mensual y Anual por Empresa"
        },
        "xaxis": {
         "anchor": "y",
         "domain": [
          0,
          1
         ],
         "title": {
          "text": "Compañía"
         }
        },
        "yaxis": {
         "anchor": "x",
         "domain": [
          0,
          1
         ],
         "title": {
          "text": "Porcentaje de Ahorro"
         }
        }
       }
      }
     },
     "metadata": {},
     "output_type": "display_data"
    }
   ],
   "source": [
    "fig = px.bar(\n",
    "    df, \n",
    "    x='CIA', \n",
    "    y=['Mensual', 'Anual'], \n",
    "    barmode='group',\n",
    "    title='Porcentajes de ahorro Mensual y Anual por Empresa',\n",
    "    labels={'value': 'Porcentaje de Ahorro', 'CIA':'Compañía'},\n",
    "    color_discrete_map={'Mensual': '#1F1D1C', 'Anual': '#FF8523'},\n",
    "    hover_data={'CIA': True, 'Ahorro_Mensual': ':.2f', 'Ahorro_Anual': ':.2f'},  # Información adicional al pasar el ratón\n",
    ")\n",
    "\n",
    "fig.update_layout(legend=dict(title='', orientation='v', y=-0.23, x=0, traceorder='grouped'))\n",
    "\n",
    "fig.show()"
   ]
  },
  {
   "cell_type": "code",
   "execution_count": 48,
   "metadata": {},
   "outputs": [
    {
     "ename": "ValueError",
     "evalue": "Value of 'hover_data_3' is not the name of a column in 'data_frame'. Expected one of ['CIA', 'Ahorro_Mensual', 'Ahorro_Anual', 'PRODUCTO_CIA', 'FEE', 'Porcentaje de ahorro', 'Ahorro en euros', 'Anual', 'Mensual'] but received: Porcentaje_Mensual_Comparacion",
     "output_type": "error",
     "traceback": [
      "\u001b[1;31m---------------------------------------------------------------------------\u001b[0m",
      "\u001b[1;31mValueError\u001b[0m                                Traceback (most recent call last)",
      "\u001b[1;32mc:\\Users\\adria\\Desktop\\desafio tripu\\mi rama\\plots_DM.ipynb Cell 51\u001b[0m line \u001b[0;36m1\n\u001b[1;32m----> <a href='vscode-notebook-cell:/c%3A/Users/adria/Desktop/desafio%20tripu/mi%20rama/plots_DM.ipynb#Y104sZmlsZQ%3D%3D?line=0'>1</a>\u001b[0m fig \u001b[39m=\u001b[39m px\u001b[39m.\u001b[39;49mbar(\n\u001b[0;32m      <a href='vscode-notebook-cell:/c%3A/Users/adria/Desktop/desafio%20tripu/mi%20rama/plots_DM.ipynb#Y104sZmlsZQ%3D%3D?line=1'>2</a>\u001b[0m     df, \n\u001b[0;32m      <a href='vscode-notebook-cell:/c%3A/Users/adria/Desktop/desafio%20tripu/mi%20rama/plots_DM.ipynb#Y104sZmlsZQ%3D%3D?line=2'>3</a>\u001b[0m     x\u001b[39m=\u001b[39;49m\u001b[39m'\u001b[39;49m\u001b[39mCIA\u001b[39;49m\u001b[39m'\u001b[39;49m, \n\u001b[0;32m      <a href='vscode-notebook-cell:/c%3A/Users/adria/Desktop/desafio%20tripu/mi%20rama/plots_DM.ipynb#Y104sZmlsZQ%3D%3D?line=3'>4</a>\u001b[0m     y\u001b[39m=\u001b[39;49m[\u001b[39m'\u001b[39;49m\u001b[39mMensual\u001b[39;49m\u001b[39m'\u001b[39;49m, \u001b[39m'\u001b[39;49m\u001b[39mAnual\u001b[39;49m\u001b[39m'\u001b[39;49m], \n\u001b[0;32m      <a href='vscode-notebook-cell:/c%3A/Users/adria/Desktop/desafio%20tripu/mi%20rama/plots_DM.ipynb#Y104sZmlsZQ%3D%3D?line=4'>5</a>\u001b[0m     barmode\u001b[39m=\u001b[39;49m\u001b[39m'\u001b[39;49m\u001b[39mgroup\u001b[39;49m\u001b[39m'\u001b[39;49m,\n\u001b[0;32m      <a href='vscode-notebook-cell:/c%3A/Users/adria/Desktop/desafio%20tripu/mi%20rama/plots_DM.ipynb#Y104sZmlsZQ%3D%3D?line=5'>6</a>\u001b[0m     title\u001b[39m=\u001b[39;49m\u001b[39m'\u001b[39;49m\u001b[39mPorcentajes de ahorro Mensual y Anual por Empresa\u001b[39;49m\u001b[39m'\u001b[39;49m,\n\u001b[0;32m      <a href='vscode-notebook-cell:/c%3A/Users/adria/Desktop/desafio%20tripu/mi%20rama/plots_DM.ipynb#Y104sZmlsZQ%3D%3D?line=6'>7</a>\u001b[0m     labels\u001b[39m=\u001b[39;49m{\u001b[39m'\u001b[39;49m\u001b[39mvalue\u001b[39;49m\u001b[39m'\u001b[39;49m: \u001b[39m'\u001b[39;49m\u001b[39mPorcentaje de Ahorro\u001b[39;49m\u001b[39m'\u001b[39;49m, \u001b[39m'\u001b[39;49m\u001b[39mCIA\u001b[39;49m\u001b[39m'\u001b[39;49m:\u001b[39m'\u001b[39;49m\u001b[39mCompañía\u001b[39;49m\u001b[39m'\u001b[39;49m},\n\u001b[0;32m      <a href='vscode-notebook-cell:/c%3A/Users/adria/Desktop/desafio%20tripu/mi%20rama/plots_DM.ipynb#Y104sZmlsZQ%3D%3D?line=7'>8</a>\u001b[0m     color_discrete_map\u001b[39m=\u001b[39;49m{\u001b[39m'\u001b[39;49m\u001b[39mMensual\u001b[39;49m\u001b[39m'\u001b[39;49m: \u001b[39m'\u001b[39;49m\u001b[39m#1F1D1C\u001b[39;49m\u001b[39m'\u001b[39;49m, \u001b[39m'\u001b[39;49m\u001b[39mAnual\u001b[39;49m\u001b[39m'\u001b[39;49m: \u001b[39m'\u001b[39;49m\u001b[39m#FF8523\u001b[39;49m\u001b[39m'\u001b[39;49m},\n\u001b[0;32m      <a href='vscode-notebook-cell:/c%3A/Users/adria/Desktop/desafio%20tripu/mi%20rama/plots_DM.ipynb#Y104sZmlsZQ%3D%3D?line=8'>9</a>\u001b[0m     hover_data\u001b[39m=\u001b[39;49m{\u001b[39m'\u001b[39;49m\u001b[39mCIA\u001b[39;49m\u001b[39m'\u001b[39;49m: \u001b[39mTrue\u001b[39;49;00m, \u001b[39m'\u001b[39;49m\u001b[39mAhorro_Mensual\u001b[39;49m\u001b[39m'\u001b[39;49m: \u001b[39m'\u001b[39;49m\u001b[39m:.2f\u001b[39;49m\u001b[39m'\u001b[39;49m, \u001b[39m'\u001b[39;49m\u001b[39mAhorro_Anual\u001b[39;49m\u001b[39m'\u001b[39;49m: \u001b[39m'\u001b[39;49m\u001b[39m:.2f\u001b[39;49m\u001b[39m'\u001b[39;49m,\n\u001b[0;32m     <a href='vscode-notebook-cell:/c%3A/Users/adria/Desktop/desafio%20tripu/mi%20rama/plots_DM.ipynb#Y104sZmlsZQ%3D%3D?line=9'>10</a>\u001b[0m                 \u001b[39m'\u001b[39;49m\u001b[39mPorcentaje_Mensual_Comparacion\u001b[39;49m\u001b[39m'\u001b[39;49m: \u001b[39m'\u001b[39;49m\u001b[39m:.2f\u001b[39;49m\u001b[39m'\u001b[39;49m, \u001b[39m'\u001b[39;49m\u001b[39mPorcentaje_Anual_Comparacion\u001b[39;49m\u001b[39m'\u001b[39;49m: \u001b[39m'\u001b[39;49m\u001b[39m:.2f\u001b[39;49m\u001b[39m'\u001b[39;49m},\n\u001b[0;32m     <a href='vscode-notebook-cell:/c%3A/Users/adria/Desktop/desafio%20tripu/mi%20rama/plots_DM.ipynb#Y104sZmlsZQ%3D%3D?line=10'>11</a>\u001b[0m     height\u001b[39m=\u001b[39;49m\u001b[39m400\u001b[39;49m  \u001b[39m# Ajustar la altura del gráfico\u001b[39;49;00m\n\u001b[0;32m     <a href='vscode-notebook-cell:/c%3A/Users/adria/Desktop/desafio%20tripu/mi%20rama/plots_DM.ipynb#Y104sZmlsZQ%3D%3D?line=11'>12</a>\u001b[0m )\n\u001b[0;32m     <a href='vscode-notebook-cell:/c%3A/Users/adria/Desktop/desafio%20tripu/mi%20rama/plots_DM.ipynb#Y104sZmlsZQ%3D%3D?line=12'>13</a>\u001b[0m fig\u001b[39m.\u001b[39mupdate_layout(legend\u001b[39m=\u001b[39m\u001b[39mdict\u001b[39m(title\u001b[39m=\u001b[39m\u001b[39m'\u001b[39m\u001b[39m'\u001b[39m, orientation\u001b[39m=\u001b[39m\u001b[39m'\u001b[39m\u001b[39mv\u001b[39m\u001b[39m'\u001b[39m, y\u001b[39m=\u001b[39m\u001b[39m-\u001b[39m\u001b[39m0.23\u001b[39m, x\u001b[39m=\u001b[39m\u001b[39m0\u001b[39m, traceorder\u001b[39m=\u001b[39m\u001b[39m'\u001b[39m\u001b[39mgrouped\u001b[39m\u001b[39m'\u001b[39m))\n\u001b[0;32m     <a href='vscode-notebook-cell:/c%3A/Users/adria/Desktop/desafio%20tripu/mi%20rama/plots_DM.ipynb#Y104sZmlsZQ%3D%3D?line=13'>14</a>\u001b[0m fig\u001b[39m.\u001b[39mshow()\n",
      "File \u001b[1;32mc:\\Users\\adria\\AppData\\Local\\Programs\\Python\\Python311\\Lib\\site-packages\\plotly\\express\\_chart_types.py:373\u001b[0m, in \u001b[0;36mbar\u001b[1;34m(data_frame, x, y, color, pattern_shape, facet_row, facet_col, facet_col_wrap, facet_row_spacing, facet_col_spacing, hover_name, hover_data, custom_data, text, base, error_x, error_x_minus, error_y, error_y_minus, animation_frame, animation_group, category_orders, labels, color_discrete_sequence, color_discrete_map, color_continuous_scale, pattern_shape_sequence, pattern_shape_map, range_color, color_continuous_midpoint, opacity, orientation, barmode, log_x, log_y, range_x, range_y, text_auto, title, template, width, height)\u001b[0m\n\u001b[0;32m    325\u001b[0m \u001b[39mdef\u001b[39;00m \u001b[39mbar\u001b[39m(\n\u001b[0;32m    326\u001b[0m     data_frame\u001b[39m=\u001b[39m\u001b[39mNone\u001b[39;00m,\n\u001b[0;32m    327\u001b[0m     x\u001b[39m=\u001b[39m\u001b[39mNone\u001b[39;00m,\n\u001b[1;32m   (...)\u001b[0m\n\u001b[0;32m    367\u001b[0m     height\u001b[39m=\u001b[39m\u001b[39mNone\u001b[39;00m,\n\u001b[0;32m    368\u001b[0m ) \u001b[39m-\u001b[39m\u001b[39m>\u001b[39m go\u001b[39m.\u001b[39mFigure:\n\u001b[0;32m    369\u001b[0m \u001b[39m    \u001b[39m\u001b[39m\"\"\"\u001b[39;00m\n\u001b[0;32m    370\u001b[0m \u001b[39m    In a bar plot, each row of `data_frame` is represented as a rectangular\u001b[39;00m\n\u001b[0;32m    371\u001b[0m \u001b[39m    mark.\u001b[39;00m\n\u001b[0;32m    372\u001b[0m \u001b[39m    \"\"\"\u001b[39;00m\n\u001b[1;32m--> 373\u001b[0m     \u001b[39mreturn\u001b[39;00m make_figure(\n\u001b[0;32m    374\u001b[0m         args\u001b[39m=\u001b[39;49m\u001b[39mlocals\u001b[39;49m(),\n\u001b[0;32m    375\u001b[0m         constructor\u001b[39m=\u001b[39;49mgo\u001b[39m.\u001b[39;49mBar,\n\u001b[0;32m    376\u001b[0m         trace_patch\u001b[39m=\u001b[39;49m\u001b[39mdict\u001b[39;49m(textposition\u001b[39m=\u001b[39;49m\u001b[39m\"\u001b[39;49m\u001b[39mauto\u001b[39;49m\u001b[39m\"\u001b[39;49m),\n\u001b[0;32m    377\u001b[0m         layout_patch\u001b[39m=\u001b[39;49m\u001b[39mdict\u001b[39;49m(barmode\u001b[39m=\u001b[39;49mbarmode),\n\u001b[0;32m    378\u001b[0m     )\n",
      "File \u001b[1;32mc:\\Users\\adria\\AppData\\Local\\Programs\\Python\\Python311\\Lib\\site-packages\\plotly\\express\\_core.py:2076\u001b[0m, in \u001b[0;36mmake_figure\u001b[1;34m(args, constructor, trace_patch, layout_patch)\u001b[0m\n\u001b[0;32m   2073\u001b[0m layout_patch \u001b[39m=\u001b[39m layout_patch \u001b[39mor\u001b[39;00m {}\n\u001b[0;32m   2074\u001b[0m apply_default_cascade(args)\n\u001b[1;32m-> 2076\u001b[0m args \u001b[39m=\u001b[39m build_dataframe(args, constructor)\n\u001b[0;32m   2077\u001b[0m \u001b[39mif\u001b[39;00m constructor \u001b[39min\u001b[39;00m [go\u001b[39m.\u001b[39mTreemap, go\u001b[39m.\u001b[39mSunburst, go\u001b[39m.\u001b[39mIcicle] \u001b[39mand\u001b[39;00m args[\u001b[39m\"\u001b[39m\u001b[39mpath\u001b[39m\u001b[39m\"\u001b[39m] \u001b[39mis\u001b[39;00m \u001b[39mnot\u001b[39;00m \u001b[39mNone\u001b[39;00m:\n\u001b[0;32m   2078\u001b[0m     args \u001b[39m=\u001b[39m process_dataframe_hierarchy(args)\n",
      "File \u001b[1;32mc:\\Users\\adria\\AppData\\Local\\Programs\\Python\\Python311\\Lib\\site-packages\\plotly\\express\\_core.py:1485\u001b[0m, in \u001b[0;36mbuild_dataframe\u001b[1;34m(args, constructor)\u001b[0m\n\u001b[0;32m   1482\u001b[0m     args[\u001b[39m\"\u001b[39m\u001b[39mcolor\u001b[39m\u001b[39m\"\u001b[39m] \u001b[39m=\u001b[39m \u001b[39mNone\u001b[39;00m\n\u001b[0;32m   1483\u001b[0m \u001b[39m# now that things have been prepped, we do the systematic rewriting of `args`\u001b[39;00m\n\u001b[1;32m-> 1485\u001b[0m df_output, wide_id_vars \u001b[39m=\u001b[39m process_args_into_dataframe(\n\u001b[0;32m   1486\u001b[0m     args, wide_mode, var_name, value_name\n\u001b[0;32m   1487\u001b[0m )\n\u001b[0;32m   1489\u001b[0m \u001b[39m# now that `df_output` exists and `args` contains only references, we complete\u001b[39;00m\n\u001b[0;32m   1490\u001b[0m \u001b[39m# the special-case and wide-mode handling by further rewriting args and/or mutating\u001b[39;00m\n\u001b[0;32m   1491\u001b[0m \u001b[39m# df_output\u001b[39;00m\n\u001b[0;32m   1493\u001b[0m count_name \u001b[39m=\u001b[39m _escape_col_name(df_output, \u001b[39m\"\u001b[39m\u001b[39mcount\u001b[39m\u001b[39m\"\u001b[39m, [var_name, value_name])\n",
      "File \u001b[1;32mc:\\Users\\adria\\AppData\\Local\\Programs\\Python\\Python311\\Lib\\site-packages\\plotly\\express\\_core.py:1210\u001b[0m, in \u001b[0;36mprocess_args_into_dataframe\u001b[1;34m(args, wide_mode, var_name, value_name)\u001b[0m\n\u001b[0;32m   1208\u001b[0m         \u001b[39mif\u001b[39;00m argument \u001b[39m==\u001b[39m \u001b[39m\"\u001b[39m\u001b[39mindex\u001b[39m\u001b[39m\"\u001b[39m:\n\u001b[0;32m   1209\u001b[0m             err_msg \u001b[39m+\u001b[39m\u001b[39m=\u001b[39m \u001b[39m\"\u001b[39m\u001b[39m\\n\u001b[39;00m\u001b[39m To use the index, pass it in directly as `df.index`.\u001b[39m\u001b[39m\"\u001b[39m\n\u001b[1;32m-> 1210\u001b[0m         \u001b[39mraise\u001b[39;00m \u001b[39mValueError\u001b[39;00m(err_msg)\n\u001b[0;32m   1211\u001b[0m \u001b[39melif\u001b[39;00m length \u001b[39mand\u001b[39;00m \u001b[39mlen\u001b[39m(df_input[argument]) \u001b[39m!=\u001b[39m length:\n\u001b[0;32m   1212\u001b[0m     \u001b[39mraise\u001b[39;00m \u001b[39mValueError\u001b[39;00m(\n\u001b[0;32m   1213\u001b[0m         \u001b[39m\"\u001b[39m\u001b[39mAll arguments should have the same length. \u001b[39m\u001b[39m\"\u001b[39m\n\u001b[0;32m   1214\u001b[0m         \u001b[39m\"\u001b[39m\u001b[39mThe length of column argument `df[\u001b[39m\u001b[39m%s\u001b[39;00m\u001b[39m]` is \u001b[39m\u001b[39m%d\u001b[39;00m\u001b[39m, whereas the \u001b[39m\u001b[39m\"\u001b[39m\n\u001b[1;32m   (...)\u001b[0m\n\u001b[0;32m   1221\u001b[0m         )\n\u001b[0;32m   1222\u001b[0m     )\n",
      "\u001b[1;31mValueError\u001b[0m: Value of 'hover_data_3' is not the name of a column in 'data_frame'. Expected one of ['CIA', 'Ahorro_Mensual', 'Ahorro_Anual', 'PRODUCTO_CIA', 'FEE', 'Porcentaje de ahorro', 'Ahorro en euros', 'Anual', 'Mensual'] but received: Porcentaje_Mensual_Comparacion"
     ]
    }
   ],
   "source": [
    "fig = px.bar(\n",
    "    df, \n",
    "    x='CIA', \n",
    "    y=['Mensual', 'Anual'], \n",
    "    barmode='group',\n",
    "    title='Porcentajes de ahorro Mensual y Anual por Empresa',\n",
    "    labels={'value': 'Porcentaje de Ahorro', 'CIA':'Compañía'},\n",
    "    color_discrete_map={'Mensual': '#1F1D1C', 'Anual': '#FF8523'},\n",
    "    hover_data={'CIA': True, 'Ahorro_Mensual': ':.2f', 'Ahorro_Anual': ':.2f',\n",
    "                'Porcentaje_Mensual_Comparacion': ':.2f', 'Porcentaje_Anual_Comparacion': ':.2f'},\n",
    "    height=400  # Ajustar la altura del gráfico\n",
    ")\n",
    "fig.update_layout(legend=dict(title='', orientation='v', y=-0.23, x=0, traceorder='grouped'))\n",
    "fig.show()"
   ]
  },
  {
   "cell_type": "code",
   "execution_count": 49,
   "metadata": {},
   "outputs": [
    {
     "ename": "ValueError",
     "evalue": "Value of 'hover_data_2' is not the name of a column in 'data_frame'. Expected one of ['CIA', 'Ahorro_Mensual', 'Ahorro_Anual', 'PRODUCTO_CIA', 'FEE', 'Porcentaje de ahorro', 'Ahorro en euros', 'Anual', 'Mensual'] but received: Porcentaje_Mensual_Comparacion",
     "output_type": "error",
     "traceback": [
      "\u001b[1;31m---------------------------------------------------------------------------\u001b[0m",
      "\u001b[1;31mValueError\u001b[0m                                Traceback (most recent call last)",
      "\u001b[1;32mc:\\Users\\adria\\Desktop\\desafio tripu\\mi rama\\plots_DM.ipynb Cell 52\u001b[0m line \u001b[0;36m1\n\u001b[1;32m----> <a href='vscode-notebook-cell:/c%3A/Users/adria/Desktop/desafio%20tripu/mi%20rama/plots_DM.ipynb#Y105sZmlsZQ%3D%3D?line=0'>1</a>\u001b[0m fig \u001b[39m=\u001b[39m px\u001b[39m.\u001b[39;49mbar(\n\u001b[0;32m      <a href='vscode-notebook-cell:/c%3A/Users/adria/Desktop/desafio%20tripu/mi%20rama/plots_DM.ipynb#Y105sZmlsZQ%3D%3D?line=1'>2</a>\u001b[0m     df, \n\u001b[0;32m      <a href='vscode-notebook-cell:/c%3A/Users/adria/Desktop/desafio%20tripu/mi%20rama/plots_DM.ipynb#Y105sZmlsZQ%3D%3D?line=2'>3</a>\u001b[0m     x\u001b[39m=\u001b[39;49m\u001b[39m'\u001b[39;49m\u001b[39mCIA\u001b[39;49m\u001b[39m'\u001b[39;49m, \n\u001b[0;32m      <a href='vscode-notebook-cell:/c%3A/Users/adria/Desktop/desafio%20tripu/mi%20rama/plots_DM.ipynb#Y105sZmlsZQ%3D%3D?line=3'>4</a>\u001b[0m     y\u001b[39m=\u001b[39;49m[\u001b[39m'\u001b[39;49m\u001b[39mMensual\u001b[39;49m\u001b[39m'\u001b[39;49m, \u001b[39m'\u001b[39;49m\u001b[39mAnual\u001b[39;49m\u001b[39m'\u001b[39;49m], \n\u001b[0;32m      <a href='vscode-notebook-cell:/c%3A/Users/adria/Desktop/desafio%20tripu/mi%20rama/plots_DM.ipynb#Y105sZmlsZQ%3D%3D?line=4'>5</a>\u001b[0m     barmode\u001b[39m=\u001b[39;49m\u001b[39m'\u001b[39;49m\u001b[39mgroup\u001b[39;49m\u001b[39m'\u001b[39;49m,\n\u001b[0;32m      <a href='vscode-notebook-cell:/c%3A/Users/adria/Desktop/desafio%20tripu/mi%20rama/plots_DM.ipynb#Y105sZmlsZQ%3D%3D?line=5'>6</a>\u001b[0m     title\u001b[39m=\u001b[39;49m\u001b[39m'\u001b[39;49m\u001b[39mPorcentajes de ahorro Mensual y Anual por Empresa\u001b[39;49m\u001b[39m'\u001b[39;49m,\n\u001b[0;32m      <a href='vscode-notebook-cell:/c%3A/Users/adria/Desktop/desafio%20tripu/mi%20rama/plots_DM.ipynb#Y105sZmlsZQ%3D%3D?line=6'>7</a>\u001b[0m     labels\u001b[39m=\u001b[39;49m{\u001b[39m'\u001b[39;49m\u001b[39mvalue\u001b[39;49m\u001b[39m'\u001b[39;49m: \u001b[39m'\u001b[39;49m\u001b[39mPorcentaje de Ahorro\u001b[39;49m\u001b[39m'\u001b[39;49m, \u001b[39m'\u001b[39;49m\u001b[39mCIA\u001b[39;49m\u001b[39m'\u001b[39;49m:\u001b[39m'\u001b[39;49m\u001b[39mCompañía\u001b[39;49m\u001b[39m'\u001b[39;49m},\n\u001b[0;32m      <a href='vscode-notebook-cell:/c%3A/Users/adria/Desktop/desafio%20tripu/mi%20rama/plots_DM.ipynb#Y105sZmlsZQ%3D%3D?line=7'>8</a>\u001b[0m     color_discrete_map\u001b[39m=\u001b[39;49m{\u001b[39m'\u001b[39;49m\u001b[39mMensual\u001b[39;49m\u001b[39m'\u001b[39;49m: \u001b[39m'\u001b[39;49m\u001b[39m#1F1D1C\u001b[39;49m\u001b[39m'\u001b[39;49m, \u001b[39m'\u001b[39;49m\u001b[39mAnual\u001b[39;49m\u001b[39m'\u001b[39;49m: \u001b[39m'\u001b[39;49m\u001b[39m#FF8523\u001b[39;49m\u001b[39m'\u001b[39;49m},\n\u001b[0;32m      <a href='vscode-notebook-cell:/c%3A/Users/adria/Desktop/desafio%20tripu/mi%20rama/plots_DM.ipynb#Y105sZmlsZQ%3D%3D?line=8'>9</a>\u001b[0m     hover_data\u001b[39m=\u001b[39;49m{\n\u001b[0;32m     <a href='vscode-notebook-cell:/c%3A/Users/adria/Desktop/desafio%20tripu/mi%20rama/plots_DM.ipynb#Y105sZmlsZQ%3D%3D?line=9'>10</a>\u001b[0m         \u001b[39m'\u001b[39;49m\u001b[39mCIA\u001b[39;49m\u001b[39m'\u001b[39;49m: \u001b[39mTrue\u001b[39;49;00m, \n\u001b[0;32m     <a href='vscode-notebook-cell:/c%3A/Users/adria/Desktop/desafio%20tripu/mi%20rama/plots_DM.ipynb#Y105sZmlsZQ%3D%3D?line=10'>11</a>\u001b[0m         \u001b[39m'\u001b[39;49m\u001b[39mAhorro_Mensual\u001b[39;49m\u001b[39m'\u001b[39;49m: \u001b[39m'\u001b[39;49m\u001b[39m:.2f\u001b[39;49m\u001b[39m'\u001b[39;49m, \n\u001b[0;32m     <a href='vscode-notebook-cell:/c%3A/Users/adria/Desktop/desafio%20tripu/mi%20rama/plots_DM.ipynb#Y105sZmlsZQ%3D%3D?line=11'>12</a>\u001b[0m         \u001b[39m'\u001b[39;49m\u001b[39mPorcentaje_Mensual_Comparacion\u001b[39;49m\u001b[39m'\u001b[39;49m: \u001b[39m'\u001b[39;49m\u001b[39m:.2f\u001b[39;49m\u001b[39m%\u001b[39;49m\u001b[39m'\u001b[39;49m, \n\u001b[0;32m     <a href='vscode-notebook-cell:/c%3A/Users/adria/Desktop/desafio%20tripu/mi%20rama/plots_DM.ipynb#Y105sZmlsZQ%3D%3D?line=12'>13</a>\u001b[0m         \u001b[39m'\u001b[39;49m\u001b[39mAhorro_Anual\u001b[39;49m\u001b[39m'\u001b[39;49m: \u001b[39m'\u001b[39;49m\u001b[39m:.2f\u001b[39;49m\u001b[39m'\u001b[39;49m, \n\u001b[0;32m     <a href='vscode-notebook-cell:/c%3A/Users/adria/Desktop/desafio%20tripu/mi%20rama/plots_DM.ipynb#Y105sZmlsZQ%3D%3D?line=13'>14</a>\u001b[0m         \u001b[39m'\u001b[39;49m\u001b[39mPorcentaje_Anual_Comparacion\u001b[39;49m\u001b[39m'\u001b[39;49m: \u001b[39m'\u001b[39;49m\u001b[39m:.2f\u001b[39;49m\u001b[39m%\u001b[39;49m\u001b[39m'\u001b[39;49m\n\u001b[0;32m     <a href='vscode-notebook-cell:/c%3A/Users/adria/Desktop/desafio%20tripu/mi%20rama/plots_DM.ipynb#Y105sZmlsZQ%3D%3D?line=14'>15</a>\u001b[0m     },\n\u001b[0;32m     <a href='vscode-notebook-cell:/c%3A/Users/adria/Desktop/desafio%20tripu/mi%20rama/plots_DM.ipynb#Y105sZmlsZQ%3D%3D?line=15'>16</a>\u001b[0m     height\u001b[39m=\u001b[39;49m\u001b[39m400\u001b[39;49m \n\u001b[0;32m     <a href='vscode-notebook-cell:/c%3A/Users/adria/Desktop/desafio%20tripu/mi%20rama/plots_DM.ipynb#Y105sZmlsZQ%3D%3D?line=16'>17</a>\u001b[0m )\n\u001b[0;32m     <a href='vscode-notebook-cell:/c%3A/Users/adria/Desktop/desafio%20tripu/mi%20rama/plots_DM.ipynb#Y105sZmlsZQ%3D%3D?line=18'>19</a>\u001b[0m fig\u001b[39m.\u001b[39mupdate_layout(legend\u001b[39m=\u001b[39m\u001b[39mdict\u001b[39m(title\u001b[39m=\u001b[39m\u001b[39m'\u001b[39m\u001b[39m'\u001b[39m, orientation\u001b[39m=\u001b[39m\u001b[39m'\u001b[39m\u001b[39mv\u001b[39m\u001b[39m'\u001b[39m, y\u001b[39m=\u001b[39m\u001b[39m-\u001b[39m\u001b[39m0.23\u001b[39m, x\u001b[39m=\u001b[39m\u001b[39m0\u001b[39m, traceorder\u001b[39m=\u001b[39m\u001b[39m'\u001b[39m\u001b[39mgrouped\u001b[39m\u001b[39m'\u001b[39m))\n\u001b[0;32m     <a href='vscode-notebook-cell:/c%3A/Users/adria/Desktop/desafio%20tripu/mi%20rama/plots_DM.ipynb#Y105sZmlsZQ%3D%3D?line=19'>20</a>\u001b[0m fig\u001b[39m.\u001b[39mshow()\n",
      "File \u001b[1;32mc:\\Users\\adria\\AppData\\Local\\Programs\\Python\\Python311\\Lib\\site-packages\\plotly\\express\\_chart_types.py:373\u001b[0m, in \u001b[0;36mbar\u001b[1;34m(data_frame, x, y, color, pattern_shape, facet_row, facet_col, facet_col_wrap, facet_row_spacing, facet_col_spacing, hover_name, hover_data, custom_data, text, base, error_x, error_x_minus, error_y, error_y_minus, animation_frame, animation_group, category_orders, labels, color_discrete_sequence, color_discrete_map, color_continuous_scale, pattern_shape_sequence, pattern_shape_map, range_color, color_continuous_midpoint, opacity, orientation, barmode, log_x, log_y, range_x, range_y, text_auto, title, template, width, height)\u001b[0m\n\u001b[0;32m    325\u001b[0m \u001b[39mdef\u001b[39;00m \u001b[39mbar\u001b[39m(\n\u001b[0;32m    326\u001b[0m     data_frame\u001b[39m=\u001b[39m\u001b[39mNone\u001b[39;00m,\n\u001b[0;32m    327\u001b[0m     x\u001b[39m=\u001b[39m\u001b[39mNone\u001b[39;00m,\n\u001b[1;32m   (...)\u001b[0m\n\u001b[0;32m    367\u001b[0m     height\u001b[39m=\u001b[39m\u001b[39mNone\u001b[39;00m,\n\u001b[0;32m    368\u001b[0m ) \u001b[39m-\u001b[39m\u001b[39m>\u001b[39m go\u001b[39m.\u001b[39mFigure:\n\u001b[0;32m    369\u001b[0m \u001b[39m    \u001b[39m\u001b[39m\"\"\"\u001b[39;00m\n\u001b[0;32m    370\u001b[0m \u001b[39m    In a bar plot, each row of `data_frame` is represented as a rectangular\u001b[39;00m\n\u001b[0;32m    371\u001b[0m \u001b[39m    mark.\u001b[39;00m\n\u001b[0;32m    372\u001b[0m \u001b[39m    \"\"\"\u001b[39;00m\n\u001b[1;32m--> 373\u001b[0m     \u001b[39mreturn\u001b[39;00m make_figure(\n\u001b[0;32m    374\u001b[0m         args\u001b[39m=\u001b[39;49m\u001b[39mlocals\u001b[39;49m(),\n\u001b[0;32m    375\u001b[0m         constructor\u001b[39m=\u001b[39;49mgo\u001b[39m.\u001b[39;49mBar,\n\u001b[0;32m    376\u001b[0m         trace_patch\u001b[39m=\u001b[39;49m\u001b[39mdict\u001b[39;49m(textposition\u001b[39m=\u001b[39;49m\u001b[39m\"\u001b[39;49m\u001b[39mauto\u001b[39;49m\u001b[39m\"\u001b[39;49m),\n\u001b[0;32m    377\u001b[0m         layout_patch\u001b[39m=\u001b[39;49m\u001b[39mdict\u001b[39;49m(barmode\u001b[39m=\u001b[39;49mbarmode),\n\u001b[0;32m    378\u001b[0m     )\n",
      "File \u001b[1;32mc:\\Users\\adria\\AppData\\Local\\Programs\\Python\\Python311\\Lib\\site-packages\\plotly\\express\\_core.py:2076\u001b[0m, in \u001b[0;36mmake_figure\u001b[1;34m(args, constructor, trace_patch, layout_patch)\u001b[0m\n\u001b[0;32m   2073\u001b[0m layout_patch \u001b[39m=\u001b[39m layout_patch \u001b[39mor\u001b[39;00m {}\n\u001b[0;32m   2074\u001b[0m apply_default_cascade(args)\n\u001b[1;32m-> 2076\u001b[0m args \u001b[39m=\u001b[39m build_dataframe(args, constructor)\n\u001b[0;32m   2077\u001b[0m \u001b[39mif\u001b[39;00m constructor \u001b[39min\u001b[39;00m [go\u001b[39m.\u001b[39mTreemap, go\u001b[39m.\u001b[39mSunburst, go\u001b[39m.\u001b[39mIcicle] \u001b[39mand\u001b[39;00m args[\u001b[39m\"\u001b[39m\u001b[39mpath\u001b[39m\u001b[39m\"\u001b[39m] \u001b[39mis\u001b[39;00m \u001b[39mnot\u001b[39;00m \u001b[39mNone\u001b[39;00m:\n\u001b[0;32m   2078\u001b[0m     args \u001b[39m=\u001b[39m process_dataframe_hierarchy(args)\n",
      "File \u001b[1;32mc:\\Users\\adria\\AppData\\Local\\Programs\\Python\\Python311\\Lib\\site-packages\\plotly\\express\\_core.py:1485\u001b[0m, in \u001b[0;36mbuild_dataframe\u001b[1;34m(args, constructor)\u001b[0m\n\u001b[0;32m   1482\u001b[0m     args[\u001b[39m\"\u001b[39m\u001b[39mcolor\u001b[39m\u001b[39m\"\u001b[39m] \u001b[39m=\u001b[39m \u001b[39mNone\u001b[39;00m\n\u001b[0;32m   1483\u001b[0m \u001b[39m# now that things have been prepped, we do the systematic rewriting of `args`\u001b[39;00m\n\u001b[1;32m-> 1485\u001b[0m df_output, wide_id_vars \u001b[39m=\u001b[39m process_args_into_dataframe(\n\u001b[0;32m   1486\u001b[0m     args, wide_mode, var_name, value_name\n\u001b[0;32m   1487\u001b[0m )\n\u001b[0;32m   1489\u001b[0m \u001b[39m# now that `df_output` exists and `args` contains only references, we complete\u001b[39;00m\n\u001b[0;32m   1490\u001b[0m \u001b[39m# the special-case and wide-mode handling by further rewriting args and/or mutating\u001b[39;00m\n\u001b[0;32m   1491\u001b[0m \u001b[39m# df_output\u001b[39;00m\n\u001b[0;32m   1493\u001b[0m count_name \u001b[39m=\u001b[39m _escape_col_name(df_output, \u001b[39m\"\u001b[39m\u001b[39mcount\u001b[39m\u001b[39m\"\u001b[39m, [var_name, value_name])\n",
      "File \u001b[1;32mc:\\Users\\adria\\AppData\\Local\\Programs\\Python\\Python311\\Lib\\site-packages\\plotly\\express\\_core.py:1210\u001b[0m, in \u001b[0;36mprocess_args_into_dataframe\u001b[1;34m(args, wide_mode, var_name, value_name)\u001b[0m\n\u001b[0;32m   1208\u001b[0m         \u001b[39mif\u001b[39;00m argument \u001b[39m==\u001b[39m \u001b[39m\"\u001b[39m\u001b[39mindex\u001b[39m\u001b[39m\"\u001b[39m:\n\u001b[0;32m   1209\u001b[0m             err_msg \u001b[39m+\u001b[39m\u001b[39m=\u001b[39m \u001b[39m\"\u001b[39m\u001b[39m\\n\u001b[39;00m\u001b[39m To use the index, pass it in directly as `df.index`.\u001b[39m\u001b[39m\"\u001b[39m\n\u001b[1;32m-> 1210\u001b[0m         \u001b[39mraise\u001b[39;00m \u001b[39mValueError\u001b[39;00m(err_msg)\n\u001b[0;32m   1211\u001b[0m \u001b[39melif\u001b[39;00m length \u001b[39mand\u001b[39;00m \u001b[39mlen\u001b[39m(df_input[argument]) \u001b[39m!=\u001b[39m length:\n\u001b[0;32m   1212\u001b[0m     \u001b[39mraise\u001b[39;00m \u001b[39mValueError\u001b[39;00m(\n\u001b[0;32m   1213\u001b[0m         \u001b[39m\"\u001b[39m\u001b[39mAll arguments should have the same length. \u001b[39m\u001b[39m\"\u001b[39m\n\u001b[0;32m   1214\u001b[0m         \u001b[39m\"\u001b[39m\u001b[39mThe length of column argument `df[\u001b[39m\u001b[39m%s\u001b[39;00m\u001b[39m]` is \u001b[39m\u001b[39m%d\u001b[39;00m\u001b[39m, whereas the \u001b[39m\u001b[39m\"\u001b[39m\n\u001b[1;32m   (...)\u001b[0m\n\u001b[0;32m   1221\u001b[0m         )\n\u001b[0;32m   1222\u001b[0m     )\n",
      "\u001b[1;31mValueError\u001b[0m: Value of 'hover_data_2' is not the name of a column in 'data_frame'. Expected one of ['CIA', 'Ahorro_Mensual', 'Ahorro_Anual', 'PRODUCTO_CIA', 'FEE', 'Porcentaje de ahorro', 'Ahorro en euros', 'Anual', 'Mensual'] but received: Porcentaje_Mensual_Comparacion"
     ]
    }
   ],
   "source": [
    "fig = px.bar(\n",
    "    df, \n",
    "    x='CIA', \n",
    "    y=['Mensual', 'Anual'], \n",
    "    barmode='group',\n",
    "    title='Porcentajes de ahorro Mensual y Anual por Empresa',\n",
    "    labels={'value': 'Porcentaje de Ahorro', 'CIA':'Compañía'},\n",
    "    color_discrete_map={'Mensual': '#1F1D1C', 'Anual': '#FF8523'},\n",
    "    hover_data={\n",
    "        'CIA': True, \n",
    "        'Ahorro_Mensual': ':.2f', \n",
    "        'Porcentaje_Mensual_Comparacion': ':.2f%', \n",
    "        'Ahorro_Anual': ':.2f', \n",
    "        'Porcentaje_Anual_Comparacion': ':.2f%'\n",
    "    },\n",
    "    height=400 \n",
    ")\n",
    "\n",
    "fig.update_layout(legend=dict(title='', orientation='v', y=-0.23, x=0, traceorder='grouped'))\n",
    "fig.show()"
   ]
  },
  {
   "cell_type": "code",
   "execution_count": 50,
   "metadata": {},
   "outputs": [
    {
     "ename": "ValueError",
     "evalue": "Value of 'hover_data_2' is not the name of a column in 'data_frame'. Expected one of ['CIA', 'Ahorro_Mensual', 'Ahorro_Anual', 'PRODUCTO_CIA', 'FEE', 'Porcentaje de ahorro', 'Ahorro en euros', 'Anual', 'Mensual'] but received: Porcentaje_Mensual_Comparacion",
     "output_type": "error",
     "traceback": [
      "\u001b[1;31m---------------------------------------------------------------------------\u001b[0m",
      "\u001b[1;31mValueError\u001b[0m                                Traceback (most recent call last)",
      "\u001b[1;32mc:\\Users\\adria\\Desktop\\desafio tripu\\mi rama\\plots_DM.ipynb Cell 53\u001b[0m line \u001b[0;36m1\n\u001b[1;32m----> <a href='vscode-notebook-cell:/c%3A/Users/adria/Desktop/desafio%20tripu/mi%20rama/plots_DM.ipynb#Y106sZmlsZQ%3D%3D?line=0'>1</a>\u001b[0m fig \u001b[39m=\u001b[39m px\u001b[39m.\u001b[39;49mbar(\n\u001b[0;32m      <a href='vscode-notebook-cell:/c%3A/Users/adria/Desktop/desafio%20tripu/mi%20rama/plots_DM.ipynb#Y106sZmlsZQ%3D%3D?line=1'>2</a>\u001b[0m     df, \n\u001b[0;32m      <a href='vscode-notebook-cell:/c%3A/Users/adria/Desktop/desafio%20tripu/mi%20rama/plots_DM.ipynb#Y106sZmlsZQ%3D%3D?line=2'>3</a>\u001b[0m     x\u001b[39m=\u001b[39;49m\u001b[39m'\u001b[39;49m\u001b[39mCIA\u001b[39;49m\u001b[39m'\u001b[39;49m, \n\u001b[0;32m      <a href='vscode-notebook-cell:/c%3A/Users/adria/Desktop/desafio%20tripu/mi%20rama/plots_DM.ipynb#Y106sZmlsZQ%3D%3D?line=3'>4</a>\u001b[0m     y\u001b[39m=\u001b[39;49m[\u001b[39m'\u001b[39;49m\u001b[39mMensual\u001b[39;49m\u001b[39m'\u001b[39;49m, \u001b[39m'\u001b[39;49m\u001b[39mAnual\u001b[39;49m\u001b[39m'\u001b[39;49m], \n\u001b[0;32m      <a href='vscode-notebook-cell:/c%3A/Users/adria/Desktop/desafio%20tripu/mi%20rama/plots_DM.ipynb#Y106sZmlsZQ%3D%3D?line=4'>5</a>\u001b[0m     barmode\u001b[39m=\u001b[39;49m\u001b[39m'\u001b[39;49m\u001b[39mgroup\u001b[39;49m\u001b[39m'\u001b[39;49m,\n\u001b[0;32m      <a href='vscode-notebook-cell:/c%3A/Users/adria/Desktop/desafio%20tripu/mi%20rama/plots_DM.ipynb#Y106sZmlsZQ%3D%3D?line=5'>6</a>\u001b[0m     title\u001b[39m=\u001b[39;49m\u001b[39m'\u001b[39;49m\u001b[39mPorcentajes de ahorro Mensual y Anual por Empresa\u001b[39;49m\u001b[39m'\u001b[39;49m,\n\u001b[0;32m      <a href='vscode-notebook-cell:/c%3A/Users/adria/Desktop/desafio%20tripu/mi%20rama/plots_DM.ipynb#Y106sZmlsZQ%3D%3D?line=6'>7</a>\u001b[0m     labels\u001b[39m=\u001b[39;49m{\u001b[39m'\u001b[39;49m\u001b[39mvalue\u001b[39;49m\u001b[39m'\u001b[39;49m: \u001b[39m'\u001b[39;49m\u001b[39mPorcentaje de Ahorro\u001b[39;49m\u001b[39m'\u001b[39;49m, \u001b[39m'\u001b[39;49m\u001b[39mCIA\u001b[39;49m\u001b[39m'\u001b[39;49m:\u001b[39m'\u001b[39;49m\u001b[39mCompañía\u001b[39;49m\u001b[39m'\u001b[39;49m},\n\u001b[0;32m      <a href='vscode-notebook-cell:/c%3A/Users/adria/Desktop/desafio%20tripu/mi%20rama/plots_DM.ipynb#Y106sZmlsZQ%3D%3D?line=7'>8</a>\u001b[0m     color_discrete_map\u001b[39m=\u001b[39;49m{\u001b[39m'\u001b[39;49m\u001b[39mMensual\u001b[39;49m\u001b[39m'\u001b[39;49m: \u001b[39m'\u001b[39;49m\u001b[39m#1F1D1C\u001b[39;49m\u001b[39m'\u001b[39;49m, \u001b[39m'\u001b[39;49m\u001b[39mAnual\u001b[39;49m\u001b[39m'\u001b[39;49m: \u001b[39m'\u001b[39;49m\u001b[39m#FF8523\u001b[39;49m\u001b[39m'\u001b[39;49m},\n\u001b[0;32m      <a href='vscode-notebook-cell:/c%3A/Users/adria/Desktop/desafio%20tripu/mi%20rama/plots_DM.ipynb#Y106sZmlsZQ%3D%3D?line=8'>9</a>\u001b[0m     hover_data\u001b[39m=\u001b[39;49m{\n\u001b[0;32m     <a href='vscode-notebook-cell:/c%3A/Users/adria/Desktop/desafio%20tripu/mi%20rama/plots_DM.ipynb#Y106sZmlsZQ%3D%3D?line=9'>10</a>\u001b[0m         \u001b[39m'\u001b[39;49m\u001b[39mCIA\u001b[39;49m\u001b[39m'\u001b[39;49m: \u001b[39mTrue\u001b[39;49;00m, \n\u001b[0;32m     <a href='vscode-notebook-cell:/c%3A/Users/adria/Desktop/desafio%20tripu/mi%20rama/plots_DM.ipynb#Y106sZmlsZQ%3D%3D?line=10'>11</a>\u001b[0m         \u001b[39m'\u001b[39;49m\u001b[39mAhorro_Mensual\u001b[39;49m\u001b[39m'\u001b[39;49m: \u001b[39m'\u001b[39;49m\u001b[39m:.2f\u001b[39;49m\u001b[39m'\u001b[39;49m, \n\u001b[0;32m     <a href='vscode-notebook-cell:/c%3A/Users/adria/Desktop/desafio%20tripu/mi%20rama/plots_DM.ipynb#Y106sZmlsZQ%3D%3D?line=11'>12</a>\u001b[0m         \u001b[39m'\u001b[39;49m\u001b[39mPorcentaje_Mensual_Comparacion\u001b[39;49m\u001b[39m'\u001b[39;49m: \u001b[39m'\u001b[39;49m\u001b[39m:.2f\u001b[39;49m\u001b[39m%\u001b[39;49m\u001b[39m'\u001b[39;49m, \n\u001b[0;32m     <a href='vscode-notebook-cell:/c%3A/Users/adria/Desktop/desafio%20tripu/mi%20rama/plots_DM.ipynb#Y106sZmlsZQ%3D%3D?line=12'>13</a>\u001b[0m         \u001b[39m'\u001b[39;49m\u001b[39mAhorro_Anual\u001b[39;49m\u001b[39m'\u001b[39;49m: \u001b[39m'\u001b[39;49m\u001b[39m:.2f\u001b[39;49m\u001b[39m'\u001b[39;49m, \n\u001b[0;32m     <a href='vscode-notebook-cell:/c%3A/Users/adria/Desktop/desafio%20tripu/mi%20rama/plots_DM.ipynb#Y106sZmlsZQ%3D%3D?line=13'>14</a>\u001b[0m         \u001b[39m'\u001b[39;49m\u001b[39mPorcentaje_Anual_Comparacion\u001b[39;49m\u001b[39m'\u001b[39;49m: \u001b[39m'\u001b[39;49m\u001b[39m:.2f\u001b[39;49m\u001b[39m%\u001b[39;49m\u001b[39m'\u001b[39;49m\n\u001b[0;32m     <a href='vscode-notebook-cell:/c%3A/Users/adria/Desktop/desafio%20tripu/mi%20rama/plots_DM.ipynb#Y106sZmlsZQ%3D%3D?line=14'>15</a>\u001b[0m     },\n\u001b[0;32m     <a href='vscode-notebook-cell:/c%3A/Users/adria/Desktop/desafio%20tripu/mi%20rama/plots_DM.ipynb#Y106sZmlsZQ%3D%3D?line=15'>16</a>\u001b[0m     height\u001b[39m=\u001b[39;49m\u001b[39m400\u001b[39;49m  \u001b[39m# Ajustar la altura del gráfico\u001b[39;49;00m\n\u001b[0;32m     <a href='vscode-notebook-cell:/c%3A/Users/adria/Desktop/desafio%20tripu/mi%20rama/plots_DM.ipynb#Y106sZmlsZQ%3D%3D?line=16'>17</a>\u001b[0m )\n\u001b[0;32m     <a href='vscode-notebook-cell:/c%3A/Users/adria/Desktop/desafio%20tripu/mi%20rama/plots_DM.ipynb#Y106sZmlsZQ%3D%3D?line=18'>19</a>\u001b[0m fig\u001b[39m.\u001b[39mupdate_layout(legend\u001b[39m=\u001b[39m\u001b[39mdict\u001b[39m(title\u001b[39m=\u001b[39m\u001b[39m'\u001b[39m\u001b[39m'\u001b[39m, orientation\u001b[39m=\u001b[39m\u001b[39m'\u001b[39m\u001b[39mh\u001b[39m\u001b[39m'\u001b[39m, y\u001b[39m=\u001b[39m\u001b[39m-\u001b[39m\u001b[39m0.12\u001b[39m, x\u001b[39m=\u001b[39m\u001b[39m0\u001b[39m, traceorder\u001b[39m=\u001b[39m\u001b[39m'\u001b[39m\u001b[39mgrouped\u001b[39m\u001b[39m'\u001b[39m))\n\u001b[0;32m     <a href='vscode-notebook-cell:/c%3A/Users/adria/Desktop/desafio%20tripu/mi%20rama/plots_DM.ipynb#Y106sZmlsZQ%3D%3D?line=19'>20</a>\u001b[0m fig\u001b[39m.\u001b[39mshow()\n",
      "File \u001b[1;32mc:\\Users\\adria\\AppData\\Local\\Programs\\Python\\Python311\\Lib\\site-packages\\plotly\\express\\_chart_types.py:373\u001b[0m, in \u001b[0;36mbar\u001b[1;34m(data_frame, x, y, color, pattern_shape, facet_row, facet_col, facet_col_wrap, facet_row_spacing, facet_col_spacing, hover_name, hover_data, custom_data, text, base, error_x, error_x_minus, error_y, error_y_minus, animation_frame, animation_group, category_orders, labels, color_discrete_sequence, color_discrete_map, color_continuous_scale, pattern_shape_sequence, pattern_shape_map, range_color, color_continuous_midpoint, opacity, orientation, barmode, log_x, log_y, range_x, range_y, text_auto, title, template, width, height)\u001b[0m\n\u001b[0;32m    325\u001b[0m \u001b[39mdef\u001b[39;00m \u001b[39mbar\u001b[39m(\n\u001b[0;32m    326\u001b[0m     data_frame\u001b[39m=\u001b[39m\u001b[39mNone\u001b[39;00m,\n\u001b[0;32m    327\u001b[0m     x\u001b[39m=\u001b[39m\u001b[39mNone\u001b[39;00m,\n\u001b[1;32m   (...)\u001b[0m\n\u001b[0;32m    367\u001b[0m     height\u001b[39m=\u001b[39m\u001b[39mNone\u001b[39;00m,\n\u001b[0;32m    368\u001b[0m ) \u001b[39m-\u001b[39m\u001b[39m>\u001b[39m go\u001b[39m.\u001b[39mFigure:\n\u001b[0;32m    369\u001b[0m \u001b[39m    \u001b[39m\u001b[39m\"\"\"\u001b[39;00m\n\u001b[0;32m    370\u001b[0m \u001b[39m    In a bar plot, each row of `data_frame` is represented as a rectangular\u001b[39;00m\n\u001b[0;32m    371\u001b[0m \u001b[39m    mark.\u001b[39;00m\n\u001b[0;32m    372\u001b[0m \u001b[39m    \"\"\"\u001b[39;00m\n\u001b[1;32m--> 373\u001b[0m     \u001b[39mreturn\u001b[39;00m make_figure(\n\u001b[0;32m    374\u001b[0m         args\u001b[39m=\u001b[39;49m\u001b[39mlocals\u001b[39;49m(),\n\u001b[0;32m    375\u001b[0m         constructor\u001b[39m=\u001b[39;49mgo\u001b[39m.\u001b[39;49mBar,\n\u001b[0;32m    376\u001b[0m         trace_patch\u001b[39m=\u001b[39;49m\u001b[39mdict\u001b[39;49m(textposition\u001b[39m=\u001b[39;49m\u001b[39m\"\u001b[39;49m\u001b[39mauto\u001b[39;49m\u001b[39m\"\u001b[39;49m),\n\u001b[0;32m    377\u001b[0m         layout_patch\u001b[39m=\u001b[39;49m\u001b[39mdict\u001b[39;49m(barmode\u001b[39m=\u001b[39;49mbarmode),\n\u001b[0;32m    378\u001b[0m     )\n",
      "File \u001b[1;32mc:\\Users\\adria\\AppData\\Local\\Programs\\Python\\Python311\\Lib\\site-packages\\plotly\\express\\_core.py:2076\u001b[0m, in \u001b[0;36mmake_figure\u001b[1;34m(args, constructor, trace_patch, layout_patch)\u001b[0m\n\u001b[0;32m   2073\u001b[0m layout_patch \u001b[39m=\u001b[39m layout_patch \u001b[39mor\u001b[39;00m {}\n\u001b[0;32m   2074\u001b[0m apply_default_cascade(args)\n\u001b[1;32m-> 2076\u001b[0m args \u001b[39m=\u001b[39m build_dataframe(args, constructor)\n\u001b[0;32m   2077\u001b[0m \u001b[39mif\u001b[39;00m constructor \u001b[39min\u001b[39;00m [go\u001b[39m.\u001b[39mTreemap, go\u001b[39m.\u001b[39mSunburst, go\u001b[39m.\u001b[39mIcicle] \u001b[39mand\u001b[39;00m args[\u001b[39m\"\u001b[39m\u001b[39mpath\u001b[39m\u001b[39m\"\u001b[39m] \u001b[39mis\u001b[39;00m \u001b[39mnot\u001b[39;00m \u001b[39mNone\u001b[39;00m:\n\u001b[0;32m   2078\u001b[0m     args \u001b[39m=\u001b[39m process_dataframe_hierarchy(args)\n",
      "File \u001b[1;32mc:\\Users\\adria\\AppData\\Local\\Programs\\Python\\Python311\\Lib\\site-packages\\plotly\\express\\_core.py:1485\u001b[0m, in \u001b[0;36mbuild_dataframe\u001b[1;34m(args, constructor)\u001b[0m\n\u001b[0;32m   1482\u001b[0m     args[\u001b[39m\"\u001b[39m\u001b[39mcolor\u001b[39m\u001b[39m\"\u001b[39m] \u001b[39m=\u001b[39m \u001b[39mNone\u001b[39;00m\n\u001b[0;32m   1483\u001b[0m \u001b[39m# now that things have been prepped, we do the systematic rewriting of `args`\u001b[39;00m\n\u001b[1;32m-> 1485\u001b[0m df_output, wide_id_vars \u001b[39m=\u001b[39m process_args_into_dataframe(\n\u001b[0;32m   1486\u001b[0m     args, wide_mode, var_name, value_name\n\u001b[0;32m   1487\u001b[0m )\n\u001b[0;32m   1489\u001b[0m \u001b[39m# now that `df_output` exists and `args` contains only references, we complete\u001b[39;00m\n\u001b[0;32m   1490\u001b[0m \u001b[39m# the special-case and wide-mode handling by further rewriting args and/or mutating\u001b[39;00m\n\u001b[0;32m   1491\u001b[0m \u001b[39m# df_output\u001b[39;00m\n\u001b[0;32m   1493\u001b[0m count_name \u001b[39m=\u001b[39m _escape_col_name(df_output, \u001b[39m\"\u001b[39m\u001b[39mcount\u001b[39m\u001b[39m\"\u001b[39m, [var_name, value_name])\n",
      "File \u001b[1;32mc:\\Users\\adria\\AppData\\Local\\Programs\\Python\\Python311\\Lib\\site-packages\\plotly\\express\\_core.py:1210\u001b[0m, in \u001b[0;36mprocess_args_into_dataframe\u001b[1;34m(args, wide_mode, var_name, value_name)\u001b[0m\n\u001b[0;32m   1208\u001b[0m         \u001b[39mif\u001b[39;00m argument \u001b[39m==\u001b[39m \u001b[39m\"\u001b[39m\u001b[39mindex\u001b[39m\u001b[39m\"\u001b[39m:\n\u001b[0;32m   1209\u001b[0m             err_msg \u001b[39m+\u001b[39m\u001b[39m=\u001b[39m \u001b[39m\"\u001b[39m\u001b[39m\\n\u001b[39;00m\u001b[39m To use the index, pass it in directly as `df.index`.\u001b[39m\u001b[39m\"\u001b[39m\n\u001b[1;32m-> 1210\u001b[0m         \u001b[39mraise\u001b[39;00m \u001b[39mValueError\u001b[39;00m(err_msg)\n\u001b[0;32m   1211\u001b[0m \u001b[39melif\u001b[39;00m length \u001b[39mand\u001b[39;00m \u001b[39mlen\u001b[39m(df_input[argument]) \u001b[39m!=\u001b[39m length:\n\u001b[0;32m   1212\u001b[0m     \u001b[39mraise\u001b[39;00m \u001b[39mValueError\u001b[39;00m(\n\u001b[0;32m   1213\u001b[0m         \u001b[39m\"\u001b[39m\u001b[39mAll arguments should have the same length. \u001b[39m\u001b[39m\"\u001b[39m\n\u001b[0;32m   1214\u001b[0m         \u001b[39m\"\u001b[39m\u001b[39mThe length of column argument `df[\u001b[39m\u001b[39m%s\u001b[39;00m\u001b[39m]` is \u001b[39m\u001b[39m%d\u001b[39;00m\u001b[39m, whereas the \u001b[39m\u001b[39m\"\u001b[39m\n\u001b[1;32m   (...)\u001b[0m\n\u001b[0;32m   1221\u001b[0m         )\n\u001b[0;32m   1222\u001b[0m     )\n",
      "\u001b[1;31mValueError\u001b[0m: Value of 'hover_data_2' is not the name of a column in 'data_frame'. Expected one of ['CIA', 'Ahorro_Mensual', 'Ahorro_Anual', 'PRODUCTO_CIA', 'FEE', 'Porcentaje de ahorro', 'Ahorro en euros', 'Anual', 'Mensual'] but received: Porcentaje_Mensual_Comparacion"
     ]
    }
   ],
   "source": [
    "fig = px.bar(\n",
    "    df, \n",
    "    x='CIA', \n",
    "    y=['Mensual', 'Anual'], \n",
    "    barmode='group',\n",
    "    title='Porcentajes de ahorro Mensual y Anual por Empresa',\n",
    "    labels={'value': 'Porcentaje de Ahorro', 'CIA':'Compañía'},\n",
    "    color_discrete_map={'Mensual': '#1F1D1C', 'Anual': '#FF8523'},\n",
    "    hover_data={\n",
    "        'CIA': True, \n",
    "        'Ahorro_Mensual': ':.2f', \n",
    "        'Porcentaje_Mensual_Comparacion': ':.2f%', \n",
    "        'Ahorro_Anual': ':.2f', \n",
    "        'Porcentaje_Anual_Comparacion': ':.2f%'\n",
    "    },\n",
    "    height=400  # Ajustar la altura del gráfico\n",
    ")\n",
    "\n",
    "fig.update_layout(legend=dict(title='', orientation='h', y=-0.12, x=0, traceorder='grouped'))\n",
    "fig.show()"
   ]
  },
  {
   "cell_type": "code",
   "execution_count": 51,
   "metadata": {},
   "outputs": [
    {
     "ename": "ValueError",
     "evalue": "Value of 'hover_data_2' is not the name of a column in 'data_frame'. Expected one of ['CIA', 'Ahorro_Mensual', 'Ahorro_Anual', 'PRODUCTO_CIA', 'FEE', 'Porcentaje de ahorro', 'Ahorro en euros', 'Anual', 'Mensual'] but received: Porcentaje_Mensual_Comparacion",
     "output_type": "error",
     "traceback": [
      "\u001b[1;31m---------------------------------------------------------------------------\u001b[0m",
      "\u001b[1;31mValueError\u001b[0m                                Traceback (most recent call last)",
      "\u001b[1;32mc:\\Users\\adria\\Desktop\\desafio tripu\\mi rama\\plots_DM.ipynb Cell 54\u001b[0m line \u001b[0;36m1\n\u001b[1;32m----> <a href='vscode-notebook-cell:/c%3A/Users/adria/Desktop/desafio%20tripu/mi%20rama/plots_DM.ipynb#Y110sZmlsZQ%3D%3D?line=0'>1</a>\u001b[0m fig \u001b[39m=\u001b[39m px\u001b[39m.\u001b[39;49mbar(\n\u001b[0;32m      <a href='vscode-notebook-cell:/c%3A/Users/adria/Desktop/desafio%20tripu/mi%20rama/plots_DM.ipynb#Y110sZmlsZQ%3D%3D?line=1'>2</a>\u001b[0m     df, \n\u001b[0;32m      <a href='vscode-notebook-cell:/c%3A/Users/adria/Desktop/desafio%20tripu/mi%20rama/plots_DM.ipynb#Y110sZmlsZQ%3D%3D?line=2'>3</a>\u001b[0m     x\u001b[39m=\u001b[39;49m\u001b[39m'\u001b[39;49m\u001b[39mCIA\u001b[39;49m\u001b[39m'\u001b[39;49m, \n\u001b[0;32m      <a href='vscode-notebook-cell:/c%3A/Users/adria/Desktop/desafio%20tripu/mi%20rama/plots_DM.ipynb#Y110sZmlsZQ%3D%3D?line=3'>4</a>\u001b[0m     y\u001b[39m=\u001b[39;49m[\u001b[39m'\u001b[39;49m\u001b[39mMensual\u001b[39;49m\u001b[39m'\u001b[39;49m, \u001b[39m'\u001b[39;49m\u001b[39mAnual\u001b[39;49m\u001b[39m'\u001b[39;49m], \n\u001b[0;32m      <a href='vscode-notebook-cell:/c%3A/Users/adria/Desktop/desafio%20tripu/mi%20rama/plots_DM.ipynb#Y110sZmlsZQ%3D%3D?line=4'>5</a>\u001b[0m     barmode\u001b[39m=\u001b[39;49m\u001b[39m'\u001b[39;49m\u001b[39mgroup\u001b[39;49m\u001b[39m'\u001b[39;49m,\n\u001b[0;32m      <a href='vscode-notebook-cell:/c%3A/Users/adria/Desktop/desafio%20tripu/mi%20rama/plots_DM.ipynb#Y110sZmlsZQ%3D%3D?line=5'>6</a>\u001b[0m     title\u001b[39m=\u001b[39;49m\u001b[39m'\u001b[39;49m\u001b[39mPorcentajes de ahorro Mensual y Anual por Empresa\u001b[39;49m\u001b[39m'\u001b[39;49m,\n\u001b[0;32m      <a href='vscode-notebook-cell:/c%3A/Users/adria/Desktop/desafio%20tripu/mi%20rama/plots_DM.ipynb#Y110sZmlsZQ%3D%3D?line=6'>7</a>\u001b[0m     labels\u001b[39m=\u001b[39;49m{\u001b[39m'\u001b[39;49m\u001b[39mvalue\u001b[39;49m\u001b[39m'\u001b[39;49m: \u001b[39m'\u001b[39;49m\u001b[39mPorcentaje de Ahorro\u001b[39;49m\u001b[39m'\u001b[39;49m, \u001b[39m'\u001b[39;49m\u001b[39mCIA\u001b[39;49m\u001b[39m'\u001b[39;49m:\u001b[39m'\u001b[39;49m\u001b[39mCompañía\u001b[39;49m\u001b[39m'\u001b[39;49m},\n\u001b[0;32m      <a href='vscode-notebook-cell:/c%3A/Users/adria/Desktop/desafio%20tripu/mi%20rama/plots_DM.ipynb#Y110sZmlsZQ%3D%3D?line=7'>8</a>\u001b[0m     color_discrete_map\u001b[39m=\u001b[39;49m{\u001b[39m'\u001b[39;49m\u001b[39mMensual\u001b[39;49m\u001b[39m'\u001b[39;49m: \u001b[39m'\u001b[39;49m\u001b[39m#1F1D1C\u001b[39;49m\u001b[39m'\u001b[39;49m, \u001b[39m'\u001b[39;49m\u001b[39mAnual\u001b[39;49m\u001b[39m'\u001b[39;49m: \u001b[39m'\u001b[39;49m\u001b[39m#FF8523\u001b[39;49m\u001b[39m'\u001b[39;49m},\n\u001b[0;32m      <a href='vscode-notebook-cell:/c%3A/Users/adria/Desktop/desafio%20tripu/mi%20rama/plots_DM.ipynb#Y110sZmlsZQ%3D%3D?line=8'>9</a>\u001b[0m     hover_data\u001b[39m=\u001b[39;49m{\n\u001b[0;32m     <a href='vscode-notebook-cell:/c%3A/Users/adria/Desktop/desafio%20tripu/mi%20rama/plots_DM.ipynb#Y110sZmlsZQ%3D%3D?line=9'>10</a>\u001b[0m         \u001b[39m'\u001b[39;49m\u001b[39mCIA\u001b[39;49m\u001b[39m'\u001b[39;49m: \u001b[39mTrue\u001b[39;49;00m, \n\u001b[0;32m     <a href='vscode-notebook-cell:/c%3A/Users/adria/Desktop/desafio%20tripu/mi%20rama/plots_DM.ipynb#Y110sZmlsZQ%3D%3D?line=10'>11</a>\u001b[0m         \u001b[39m'\u001b[39;49m\u001b[39mAhorro_Mensual\u001b[39;49m\u001b[39m'\u001b[39;49m: \u001b[39m'\u001b[39;49m\u001b[39m:.2f\u001b[39;49m\u001b[39m'\u001b[39;49m, \n\u001b[0;32m     <a href='vscode-notebook-cell:/c%3A/Users/adria/Desktop/desafio%20tripu/mi%20rama/plots_DM.ipynb#Y110sZmlsZQ%3D%3D?line=11'>12</a>\u001b[0m         \u001b[39m'\u001b[39;49m\u001b[39mPorcentaje_Mensual_Comparacion\u001b[39;49m\u001b[39m'\u001b[39;49m: \u001b[39m'\u001b[39;49m\u001b[39m:.2f\u001b[39;49m\u001b[39m%\u001b[39;49m\u001b[39m'\u001b[39;49m, \n\u001b[0;32m     <a href='vscode-notebook-cell:/c%3A/Users/adria/Desktop/desafio%20tripu/mi%20rama/plots_DM.ipynb#Y110sZmlsZQ%3D%3D?line=12'>13</a>\u001b[0m         \u001b[39m'\u001b[39;49m\u001b[39mAhorro_Anual\u001b[39;49m\u001b[39m'\u001b[39;49m: \u001b[39m'\u001b[39;49m\u001b[39m:.2f\u001b[39;49m\u001b[39m'\u001b[39;49m, \n\u001b[0;32m     <a href='vscode-notebook-cell:/c%3A/Users/adria/Desktop/desafio%20tripu/mi%20rama/plots_DM.ipynb#Y110sZmlsZQ%3D%3D?line=13'>14</a>\u001b[0m         \u001b[39m'\u001b[39;49m\u001b[39mPorcentaje_Anual_Comparacion\u001b[39;49m\u001b[39m'\u001b[39;49m: \u001b[39m'\u001b[39;49m\u001b[39m:.2f\u001b[39;49m\u001b[39m%\u001b[39;49m\u001b[39m'\u001b[39;49m\n\u001b[0;32m     <a href='vscode-notebook-cell:/c%3A/Users/adria/Desktop/desafio%20tripu/mi%20rama/plots_DM.ipynb#Y110sZmlsZQ%3D%3D?line=14'>15</a>\u001b[0m     },\n\u001b[0;32m     <a href='vscode-notebook-cell:/c%3A/Users/adria/Desktop/desafio%20tripu/mi%20rama/plots_DM.ipynb#Y110sZmlsZQ%3D%3D?line=15'>16</a>\u001b[0m     height\u001b[39m=\u001b[39;49m\u001b[39m500\u001b[39;49m\n\u001b[0;32m     <a href='vscode-notebook-cell:/c%3A/Users/adria/Desktop/desafio%20tripu/mi%20rama/plots_DM.ipynb#Y110sZmlsZQ%3D%3D?line=16'>17</a>\u001b[0m )\n\u001b[0;32m     <a href='vscode-notebook-cell:/c%3A/Users/adria/Desktop/desafio%20tripu/mi%20rama/plots_DM.ipynb#Y110sZmlsZQ%3D%3D?line=18'>19</a>\u001b[0m fig\u001b[39m.\u001b[39mupdate_traces(\n\u001b[0;32m     <a href='vscode-notebook-cell:/c%3A/Users/adria/Desktop/desafio%20tripu/mi%20rama/plots_DM.ipynb#Y110sZmlsZQ%3D%3D?line=19'>20</a>\u001b[0m     hovertemplate\u001b[39m=\u001b[39m\u001b[39m'\u001b[39m\u001b[39m<b style=\u001b[39m\u001b[39m\"\u001b[39m\u001b[39mcolor:#FF8523; font-size:16px\u001b[39m\u001b[39m\"\u001b[39m\u001b[39m>\u001b[39m\u001b[39m%\u001b[39m\u001b[39m{text}\u001b[39;00m\u001b[39m</b><br><br><b style=\u001b[39m\u001b[39m\"\u001b[39m\u001b[39mcolor:#1F1D1C;\u001b[39m\u001b[39m\"\u001b[39m\u001b[39m>Anual:</b> \u001b[39m\u001b[39m%\u001b[39m\u001b[39m{x}\u001b[39;00m\u001b[39m<br><b style=\u001b[39m\u001b[39m\"\u001b[39m\u001b[39mcolor:#FF8523;\u001b[39m\u001b[39m\"\u001b[39m\u001b[39m>Ahorro:</b> \u001b[39m\u001b[39m%\u001b[39m\u001b[39m{y}\u001b[39;00m\u001b[39m'\u001b[39m, \n\u001b[0;32m     <a href='vscode-notebook-cell:/c%3A/Users/adria/Desktop/desafio%20tripu/mi%20rama/plots_DM.ipynb#Y110sZmlsZQ%3D%3D?line=20'>21</a>\u001b[0m     text\u001b[39m=\u001b[39m[\u001b[39m'\u001b[39m\u001b[39m'\u001b[39m \u001b[39mfor\u001b[39;00m _ \u001b[39min\u001b[39;00m \u001b[39mrange\u001b[39m(\u001b[39mlen\u001b[39m(df[\u001b[39m\"\u001b[39m\u001b[39mFEE\u001b[39m\u001b[39m\"\u001b[39m]))],\n\u001b[0;32m     <a href='vscode-notebook-cell:/c%3A/Users/adria/Desktop/desafio%20tripu/mi%20rama/plots_DM.ipynb#Y110sZmlsZQ%3D%3D?line=21'>22</a>\u001b[0m     hoverlabel\u001b[39m=\u001b[39m\u001b[39mdict\u001b[39m(bgcolor\u001b[39m=\u001b[39m\u001b[39m'\u001b[39m\u001b[39m#FAFAFA\u001b[39m\u001b[39m'\u001b[39m),\n\u001b[0;32m     <a href='vscode-notebook-cell:/c%3A/Users/adria/Desktop/desafio%20tripu/mi%20rama/plots_DM.ipynb#Y110sZmlsZQ%3D%3D?line=22'>23</a>\u001b[0m     width\u001b[39m=\u001b[39m\u001b[39m0.35\u001b[39m\n\u001b[0;32m     <a href='vscode-notebook-cell:/c%3A/Users/adria/Desktop/desafio%20tripu/mi%20rama/plots_DM.ipynb#Y110sZmlsZQ%3D%3D?line=23'>24</a>\u001b[0m )\n\u001b[0;32m     <a href='vscode-notebook-cell:/c%3A/Users/adria/Desktop/desafio%20tripu/mi%20rama/plots_DM.ipynb#Y110sZmlsZQ%3D%3D?line=24'>25</a>\u001b[0m fig\u001b[39m.\u001b[39mupdate_layout(legend\u001b[39m=\u001b[39m\u001b[39mdict\u001b[39m(title\u001b[39m=\u001b[39m\u001b[39m'\u001b[39m\u001b[39m'\u001b[39m, orientation\u001b[39m=\u001b[39m\u001b[39m'\u001b[39m\u001b[39mh\u001b[39m\u001b[39m'\u001b[39m, y\u001b[39m=\u001b[39m\u001b[39m-\u001b[39m\u001b[39m0.12\u001b[39m, x\u001b[39m=\u001b[39m\u001b[39m0\u001b[39m, traceorder\u001b[39m=\u001b[39m\u001b[39m'\u001b[39m\u001b[39mgrouped\u001b[39m\u001b[39m'\u001b[39m))\n",
      "File \u001b[1;32mc:\\Users\\adria\\AppData\\Local\\Programs\\Python\\Python311\\Lib\\site-packages\\plotly\\express\\_chart_types.py:373\u001b[0m, in \u001b[0;36mbar\u001b[1;34m(data_frame, x, y, color, pattern_shape, facet_row, facet_col, facet_col_wrap, facet_row_spacing, facet_col_spacing, hover_name, hover_data, custom_data, text, base, error_x, error_x_minus, error_y, error_y_minus, animation_frame, animation_group, category_orders, labels, color_discrete_sequence, color_discrete_map, color_continuous_scale, pattern_shape_sequence, pattern_shape_map, range_color, color_continuous_midpoint, opacity, orientation, barmode, log_x, log_y, range_x, range_y, text_auto, title, template, width, height)\u001b[0m\n\u001b[0;32m    325\u001b[0m \u001b[39mdef\u001b[39;00m \u001b[39mbar\u001b[39m(\n\u001b[0;32m    326\u001b[0m     data_frame\u001b[39m=\u001b[39m\u001b[39mNone\u001b[39;00m,\n\u001b[0;32m    327\u001b[0m     x\u001b[39m=\u001b[39m\u001b[39mNone\u001b[39;00m,\n\u001b[1;32m   (...)\u001b[0m\n\u001b[0;32m    367\u001b[0m     height\u001b[39m=\u001b[39m\u001b[39mNone\u001b[39;00m,\n\u001b[0;32m    368\u001b[0m ) \u001b[39m-\u001b[39m\u001b[39m>\u001b[39m go\u001b[39m.\u001b[39mFigure:\n\u001b[0;32m    369\u001b[0m \u001b[39m    \u001b[39m\u001b[39m\"\"\"\u001b[39;00m\n\u001b[0;32m    370\u001b[0m \u001b[39m    In a bar plot, each row of `data_frame` is represented as a rectangular\u001b[39;00m\n\u001b[0;32m    371\u001b[0m \u001b[39m    mark.\u001b[39;00m\n\u001b[0;32m    372\u001b[0m \u001b[39m    \"\"\"\u001b[39;00m\n\u001b[1;32m--> 373\u001b[0m     \u001b[39mreturn\u001b[39;00m make_figure(\n\u001b[0;32m    374\u001b[0m         args\u001b[39m=\u001b[39;49m\u001b[39mlocals\u001b[39;49m(),\n\u001b[0;32m    375\u001b[0m         constructor\u001b[39m=\u001b[39;49mgo\u001b[39m.\u001b[39;49mBar,\n\u001b[0;32m    376\u001b[0m         trace_patch\u001b[39m=\u001b[39;49m\u001b[39mdict\u001b[39;49m(textposition\u001b[39m=\u001b[39;49m\u001b[39m\"\u001b[39;49m\u001b[39mauto\u001b[39;49m\u001b[39m\"\u001b[39;49m),\n\u001b[0;32m    377\u001b[0m         layout_patch\u001b[39m=\u001b[39;49m\u001b[39mdict\u001b[39;49m(barmode\u001b[39m=\u001b[39;49mbarmode),\n\u001b[0;32m    378\u001b[0m     )\n",
      "File \u001b[1;32mc:\\Users\\adria\\AppData\\Local\\Programs\\Python\\Python311\\Lib\\site-packages\\plotly\\express\\_core.py:2076\u001b[0m, in \u001b[0;36mmake_figure\u001b[1;34m(args, constructor, trace_patch, layout_patch)\u001b[0m\n\u001b[0;32m   2073\u001b[0m layout_patch \u001b[39m=\u001b[39m layout_patch \u001b[39mor\u001b[39;00m {}\n\u001b[0;32m   2074\u001b[0m apply_default_cascade(args)\n\u001b[1;32m-> 2076\u001b[0m args \u001b[39m=\u001b[39m build_dataframe(args, constructor)\n\u001b[0;32m   2077\u001b[0m \u001b[39mif\u001b[39;00m constructor \u001b[39min\u001b[39;00m [go\u001b[39m.\u001b[39mTreemap, go\u001b[39m.\u001b[39mSunburst, go\u001b[39m.\u001b[39mIcicle] \u001b[39mand\u001b[39;00m args[\u001b[39m\"\u001b[39m\u001b[39mpath\u001b[39m\u001b[39m\"\u001b[39m] \u001b[39mis\u001b[39;00m \u001b[39mnot\u001b[39;00m \u001b[39mNone\u001b[39;00m:\n\u001b[0;32m   2078\u001b[0m     args \u001b[39m=\u001b[39m process_dataframe_hierarchy(args)\n",
      "File \u001b[1;32mc:\\Users\\adria\\AppData\\Local\\Programs\\Python\\Python311\\Lib\\site-packages\\plotly\\express\\_core.py:1485\u001b[0m, in \u001b[0;36mbuild_dataframe\u001b[1;34m(args, constructor)\u001b[0m\n\u001b[0;32m   1482\u001b[0m     args[\u001b[39m\"\u001b[39m\u001b[39mcolor\u001b[39m\u001b[39m\"\u001b[39m] \u001b[39m=\u001b[39m \u001b[39mNone\u001b[39;00m\n\u001b[0;32m   1483\u001b[0m \u001b[39m# now that things have been prepped, we do the systematic rewriting of `args`\u001b[39;00m\n\u001b[1;32m-> 1485\u001b[0m df_output, wide_id_vars \u001b[39m=\u001b[39m process_args_into_dataframe(\n\u001b[0;32m   1486\u001b[0m     args, wide_mode, var_name, value_name\n\u001b[0;32m   1487\u001b[0m )\n\u001b[0;32m   1489\u001b[0m \u001b[39m# now that `df_output` exists and `args` contains only references, we complete\u001b[39;00m\n\u001b[0;32m   1490\u001b[0m \u001b[39m# the special-case and wide-mode handling by further rewriting args and/or mutating\u001b[39;00m\n\u001b[0;32m   1491\u001b[0m \u001b[39m# df_output\u001b[39;00m\n\u001b[0;32m   1493\u001b[0m count_name \u001b[39m=\u001b[39m _escape_col_name(df_output, \u001b[39m\"\u001b[39m\u001b[39mcount\u001b[39m\u001b[39m\"\u001b[39m, [var_name, value_name])\n",
      "File \u001b[1;32mc:\\Users\\adria\\AppData\\Local\\Programs\\Python\\Python311\\Lib\\site-packages\\plotly\\express\\_core.py:1210\u001b[0m, in \u001b[0;36mprocess_args_into_dataframe\u001b[1;34m(args, wide_mode, var_name, value_name)\u001b[0m\n\u001b[0;32m   1208\u001b[0m         \u001b[39mif\u001b[39;00m argument \u001b[39m==\u001b[39m \u001b[39m\"\u001b[39m\u001b[39mindex\u001b[39m\u001b[39m\"\u001b[39m:\n\u001b[0;32m   1209\u001b[0m             err_msg \u001b[39m+\u001b[39m\u001b[39m=\u001b[39m \u001b[39m\"\u001b[39m\u001b[39m\\n\u001b[39;00m\u001b[39m To use the index, pass it in directly as `df.index`.\u001b[39m\u001b[39m\"\u001b[39m\n\u001b[1;32m-> 1210\u001b[0m         \u001b[39mraise\u001b[39;00m \u001b[39mValueError\u001b[39;00m(err_msg)\n\u001b[0;32m   1211\u001b[0m \u001b[39melif\u001b[39;00m length \u001b[39mand\u001b[39;00m \u001b[39mlen\u001b[39m(df_input[argument]) \u001b[39m!=\u001b[39m length:\n\u001b[0;32m   1212\u001b[0m     \u001b[39mraise\u001b[39;00m \u001b[39mValueError\u001b[39;00m(\n\u001b[0;32m   1213\u001b[0m         \u001b[39m\"\u001b[39m\u001b[39mAll arguments should have the same length. \u001b[39m\u001b[39m\"\u001b[39m\n\u001b[0;32m   1214\u001b[0m         \u001b[39m\"\u001b[39m\u001b[39mThe length of column argument `df[\u001b[39m\u001b[39m%s\u001b[39;00m\u001b[39m]` is \u001b[39m\u001b[39m%d\u001b[39;00m\u001b[39m, whereas the \u001b[39m\u001b[39m\"\u001b[39m\n\u001b[1;32m   (...)\u001b[0m\n\u001b[0;32m   1221\u001b[0m         )\n\u001b[0;32m   1222\u001b[0m     )\n",
      "\u001b[1;31mValueError\u001b[0m: Value of 'hover_data_2' is not the name of a column in 'data_frame'. Expected one of ['CIA', 'Ahorro_Mensual', 'Ahorro_Anual', 'PRODUCTO_CIA', 'FEE', 'Porcentaje de ahorro', 'Ahorro en euros', 'Anual', 'Mensual'] but received: Porcentaje_Mensual_Comparacion"
     ]
    }
   ],
   "source": [
    "fig = px.bar(\n",
    "    df, \n",
    "    x='CIA', \n",
    "    y=['Mensual', 'Anual'], \n",
    "    barmode='group',\n",
    "    title='Porcentajes de ahorro Mensual y Anual por Empresa',\n",
    "    labels={'value': 'Porcentaje de Ahorro', 'CIA':'Compañía'},\n",
    "    color_discrete_map={'Mensual': '#1F1D1C', 'Anual': '#FF8523'},\n",
    "    hover_data={\n",
    "        'CIA': True, \n",
    "        'Ahorro_Mensual': ':.2f', \n",
    "        'Porcentaje_Mensual_Comparacion': ':.2f%', \n",
    "        'Ahorro_Anual': ':.2f', \n",
    "        'Porcentaje_Anual_Comparacion': ':.2f%'\n",
    "    },\n",
    "    height=500\n",
    ")\n",
    "\n",
    "fig.update_traces(\n",
    "    hovertemplate='<b style=\"color:#FF8523; font-size:16px\">%{text}</b><br><br><b style=\"color:#1F1D1C;\">Anual:</b> %{x}<br><b style=\"color:#FF8523;\">Ahorro:</b> %{y}', \n",
    "    text=['' for _ in range(len(df[\"FEE\"]))],\n",
    "    hoverlabel=dict(bgcolor='#FAFAFA'),\n",
    "    width=0.35\n",
    ")\n",
    "fig.update_layout(legend=dict(title='', orientation='h', y=-0.12, x=0, traceorder='grouped'))\n",
    "fig.show()\n"
   ]
  },
  {
   "cell_type": "code",
   "execution_count": null,
   "metadata": {},
   "outputs": [
    {
     "ename": "NameError",
     "evalue": "name 'px' is not defined",
     "output_type": "error",
     "traceback": [
      "\u001b[1;31m---------------------------------------------------------------------------\u001b[0m",
      "\u001b[1;31mNameError\u001b[0m                                 Traceback (most recent call last)",
      "\u001b[1;32mc:\\Users\\adria\\Desktop\\desafio tripu\\mi rama\\plots_DM.ipynb Cell 57\u001b[0m line \u001b[0;36m1\n\u001b[1;32m----> <a href='vscode-notebook-cell:/c%3A/Users/adria/Desktop/desafio%20tripu/mi%20rama/plots_DM.ipynb#Y111sZmlsZQ%3D%3D?line=0'>1</a>\u001b[0m fig \u001b[39m=\u001b[39m px\u001b[39m.\u001b[39mbar(\n\u001b[0;32m      <a href='vscode-notebook-cell:/c%3A/Users/adria/Desktop/desafio%20tripu/mi%20rama/plots_DM.ipynb#Y111sZmlsZQ%3D%3D?line=1'>2</a>\u001b[0m     df, \n\u001b[0;32m      <a href='vscode-notebook-cell:/c%3A/Users/adria/Desktop/desafio%20tripu/mi%20rama/plots_DM.ipynb#Y111sZmlsZQ%3D%3D?line=2'>3</a>\u001b[0m     x\u001b[39m=\u001b[39m\u001b[39m'\u001b[39m\u001b[39mCIA\u001b[39m\u001b[39m'\u001b[39m, \n\u001b[0;32m      <a href='vscode-notebook-cell:/c%3A/Users/adria/Desktop/desafio%20tripu/mi%20rama/plots_DM.ipynb#Y111sZmlsZQ%3D%3D?line=3'>4</a>\u001b[0m     y\u001b[39m=\u001b[39m[\u001b[39m'\u001b[39m\u001b[39mMensual\u001b[39m\u001b[39m'\u001b[39m, \u001b[39m'\u001b[39m\u001b[39mAnual\u001b[39m\u001b[39m'\u001b[39m], \n\u001b[0;32m      <a href='vscode-notebook-cell:/c%3A/Users/adria/Desktop/desafio%20tripu/mi%20rama/plots_DM.ipynb#Y111sZmlsZQ%3D%3D?line=4'>5</a>\u001b[0m     barmode\u001b[39m=\u001b[39m\u001b[39m'\u001b[39m\u001b[39mgroup\u001b[39m\u001b[39m'\u001b[39m,\n\u001b[0;32m      <a href='vscode-notebook-cell:/c%3A/Users/adria/Desktop/desafio%20tripu/mi%20rama/plots_DM.ipynb#Y111sZmlsZQ%3D%3D?line=5'>6</a>\u001b[0m     title\u001b[39m=\u001b[39m\u001b[39m'\u001b[39m\u001b[39mPorcentajes de ahorro Mensual y Anual por Empresa\u001b[39m\u001b[39m'\u001b[39m,\n\u001b[0;32m      <a href='vscode-notebook-cell:/c%3A/Users/adria/Desktop/desafio%20tripu/mi%20rama/plots_DM.ipynb#Y111sZmlsZQ%3D%3D?line=6'>7</a>\u001b[0m     labels\u001b[39m=\u001b[39m{\u001b[39m'\u001b[39m\u001b[39mvalue\u001b[39m\u001b[39m'\u001b[39m: \u001b[39m'\u001b[39m\u001b[39mPorcentaje de Ahorro\u001b[39m\u001b[39m'\u001b[39m, \u001b[39m'\u001b[39m\u001b[39mCIA\u001b[39m\u001b[39m'\u001b[39m:\u001b[39m'\u001b[39m\u001b[39mCompañía\u001b[39m\u001b[39m'\u001b[39m},\n\u001b[0;32m      <a href='vscode-notebook-cell:/c%3A/Users/adria/Desktop/desafio%20tripu/mi%20rama/plots_DM.ipynb#Y111sZmlsZQ%3D%3D?line=7'>8</a>\u001b[0m     color_discrete_map\u001b[39m=\u001b[39m{\u001b[39m'\u001b[39m\u001b[39mMensual\u001b[39m\u001b[39m'\u001b[39m: \u001b[39m'\u001b[39m\u001b[39m#1F1D1C\u001b[39m\u001b[39m'\u001b[39m, \u001b[39m'\u001b[39m\u001b[39mAnual\u001b[39m\u001b[39m'\u001b[39m: \u001b[39m'\u001b[39m\u001b[39m#FF8523\u001b[39m\u001b[39m'\u001b[39m},\n\u001b[0;32m      <a href='vscode-notebook-cell:/c%3A/Users/adria/Desktop/desafio%20tripu/mi%20rama/plots_DM.ipynb#Y111sZmlsZQ%3D%3D?line=8'>9</a>\u001b[0m     hover_data\u001b[39m=\u001b[39m{\n\u001b[0;32m     <a href='vscode-notebook-cell:/c%3A/Users/adria/Desktop/desafio%20tripu/mi%20rama/plots_DM.ipynb#Y111sZmlsZQ%3D%3D?line=9'>10</a>\u001b[0m         \u001b[39m'\u001b[39m\u001b[39mCIA\u001b[39m\u001b[39m'\u001b[39m: \u001b[39mTrue\u001b[39;00m, \n\u001b[0;32m     <a href='vscode-notebook-cell:/c%3A/Users/adria/Desktop/desafio%20tripu/mi%20rama/plots_DM.ipynb#Y111sZmlsZQ%3D%3D?line=10'>11</a>\u001b[0m         \u001b[39m'\u001b[39m\u001b[39mAhorro_Mensual\u001b[39m\u001b[39m'\u001b[39m: \u001b[39m'\u001b[39m\u001b[39m:.2f\u001b[39m\u001b[39m'\u001b[39m, \n\u001b[0;32m     <a href='vscode-notebook-cell:/c%3A/Users/adria/Desktop/desafio%20tripu/mi%20rama/plots_DM.ipynb#Y111sZmlsZQ%3D%3D?line=11'>12</a>\u001b[0m         \u001b[39m'\u001b[39m\u001b[39mPorcentaje_Mensual_Comparacion\u001b[39m\u001b[39m'\u001b[39m: \u001b[39m'\u001b[39m\u001b[39m:.2f\u001b[39m\u001b[39m%\u001b[39m\u001b[39m'\u001b[39m, \n\u001b[0;32m     <a href='vscode-notebook-cell:/c%3A/Users/adria/Desktop/desafio%20tripu/mi%20rama/plots_DM.ipynb#Y111sZmlsZQ%3D%3D?line=12'>13</a>\u001b[0m         \u001b[39m'\u001b[39m\u001b[39mAhorro_Anual\u001b[39m\u001b[39m'\u001b[39m: \u001b[39m'\u001b[39m\u001b[39m:.2f\u001b[39m\u001b[39m'\u001b[39m, \n\u001b[0;32m     <a href='vscode-notebook-cell:/c%3A/Users/adria/Desktop/desafio%20tripu/mi%20rama/plots_DM.ipynb#Y111sZmlsZQ%3D%3D?line=13'>14</a>\u001b[0m         \u001b[39m'\u001b[39m\u001b[39mPorcentaje_Anual_Comparacion\u001b[39m\u001b[39m'\u001b[39m: \u001b[39m'\u001b[39m\u001b[39m:.2f\u001b[39m\u001b[39m%\u001b[39m\u001b[39m'\u001b[39m\n\u001b[0;32m     <a href='vscode-notebook-cell:/c%3A/Users/adria/Desktop/desafio%20tripu/mi%20rama/plots_DM.ipynb#Y111sZmlsZQ%3D%3D?line=14'>15</a>\u001b[0m     },\n\u001b[0;32m     <a href='vscode-notebook-cell:/c%3A/Users/adria/Desktop/desafio%20tripu/mi%20rama/plots_DM.ipynb#Y111sZmlsZQ%3D%3D?line=15'>16</a>\u001b[0m     width\u001b[39m=\u001b[39m\u001b[39m600\u001b[39m  \u001b[39m# Ajustar la altura del gráfico\u001b[39;00m\n\u001b[0;32m     <a href='vscode-notebook-cell:/c%3A/Users/adria/Desktop/desafio%20tripu/mi%20rama/plots_DM.ipynb#Y111sZmlsZQ%3D%3D?line=16'>17</a>\u001b[0m )\n\u001b[0;32m     <a href='vscode-notebook-cell:/c%3A/Users/adria/Desktop/desafio%20tripu/mi%20rama/plots_DM.ipynb#Y111sZmlsZQ%3D%3D?line=18'>19</a>\u001b[0m fig\u001b[39m.\u001b[39mupdate_traces(\n\u001b[0;32m     <a href='vscode-notebook-cell:/c%3A/Users/adria/Desktop/desafio%20tripu/mi%20rama/plots_DM.ipynb#Y111sZmlsZQ%3D%3D?line=19'>20</a>\u001b[0m     hovertemplate\u001b[39m=\u001b[39m\u001b[39m'\u001b[39m\u001b[39m<b style=\u001b[39m\u001b[39m\"\u001b[39m\u001b[39mcolor:#FF8523; font-size:16px\u001b[39m\u001b[39m\"\u001b[39m\u001b[39m>\u001b[39m\u001b[39m%\u001b[39m\u001b[39m{text}\u001b[39;00m\u001b[39m</b><br><br><b style=\u001b[39m\u001b[39m\"\u001b[39m\u001b[39mcolor:#1F1D1C;\u001b[39m\u001b[39m\"\u001b[39m\u001b[39m>Anual:</b> \u001b[39m\u001b[39m%\u001b[39m\u001b[39m{x}\u001b[39;00m\u001b[39m<br><b style=\u001b[39m\u001b[39m\"\u001b[39m\u001b[39mcolor:#FF8523;\u001b[39m\u001b[39m\"\u001b[39m\u001b[39m>Ahorro:</b> \u001b[39m\u001b[39m%\u001b[39m\u001b[39m{y}\u001b[39;00m\u001b[39m'\u001b[39m, \n\u001b[0;32m     <a href='vscode-notebook-cell:/c%3A/Users/adria/Desktop/desafio%20tripu/mi%20rama/plots_DM.ipynb#Y111sZmlsZQ%3D%3D?line=20'>21</a>\u001b[0m     text\u001b[39m=\u001b[39m[\u001b[39m'\u001b[39m\u001b[39m'\u001b[39m \u001b[39mfor\u001b[39;00m _ \u001b[39min\u001b[39;00m \u001b[39mrange\u001b[39m(\u001b[39mlen\u001b[39m(df[\u001b[39m\"\u001b[39m\u001b[39mPRODUCTO_CIA\u001b[39m\u001b[39m\"\u001b[39m]))],  \u001b[39m# Establecer el texto como cadena vacía\u001b[39;00m\n\u001b[0;32m     <a href='vscode-notebook-cell:/c%3A/Users/adria/Desktop/desafio%20tripu/mi%20rama/plots_DM.ipynb#Y111sZmlsZQ%3D%3D?line=21'>22</a>\u001b[0m     hoverlabel\u001b[39m=\u001b[39m\u001b[39mdict\u001b[39m(bgcolor\u001b[39m=\u001b[39m\u001b[39m'\u001b[39m\u001b[39m#FAFAFA\u001b[39m\u001b[39m'\u001b[39m),\n\u001b[0;32m     <a href='vscode-notebook-cell:/c%3A/Users/adria/Desktop/desafio%20tripu/mi%20rama/plots_DM.ipynb#Y111sZmlsZQ%3D%3D?line=22'>23</a>\u001b[0m     width\u001b[39m=\u001b[39m\u001b[39m0.38\u001b[39m  \u001b[39m# Ajustar el ancho de las barras\u001b[39;00m\n\u001b[0;32m     <a href='vscode-notebook-cell:/c%3A/Users/adria/Desktop/desafio%20tripu/mi%20rama/plots_DM.ipynb#Y111sZmlsZQ%3D%3D?line=23'>24</a>\u001b[0m )\n\u001b[0;32m     <a href='vscode-notebook-cell:/c%3A/Users/adria/Desktop/desafio%20tripu/mi%20rama/plots_DM.ipynb#Y111sZmlsZQ%3D%3D?line=24'>25</a>\u001b[0m fig\u001b[39m.\u001b[39mupdate_layout(legend\u001b[39m=\u001b[39m\u001b[39mdict\u001b[39m(title\u001b[39m=\u001b[39m\u001b[39m'\u001b[39m\u001b[39m'\u001b[39m, orientation\u001b[39m=\u001b[39m\u001b[39m'\u001b[39m\u001b[39mh\u001b[39m\u001b[39m'\u001b[39m, y\u001b[39m=\u001b[39m\u001b[39m-\u001b[39m\u001b[39m0.12\u001b[39m, x\u001b[39m=\u001b[39m\u001b[39m0\u001b[39m, traceorder\u001b[39m=\u001b[39m\u001b[39m'\u001b[39m\u001b[39mgrouped\u001b[39m\u001b[39m'\u001b[39m))\n",
      "\u001b[1;31mNameError\u001b[0m: name 'px' is not defined"
     ]
    }
   ],
   "source": [
    "fig = px.bar(\n",
    "    df, \n",
    "    x='CIA', \n",
    "    y=['Mensual', 'Anual'], \n",
    "    barmode='group',\n",
    "    title='Porcentajes de ahorro Mensual y Anual por Empresa',\n",
    "    labels={'value': 'Porcentaje de Ahorro', 'CIA':'Compañía'},\n",
    "    color_discrete_map={'Mensual': '#1F1D1C', 'Anual': '#FF8523'},\n",
    "    hover_data={\n",
    "        'CIA': True, \n",
    "        'Ahorro_Mensual': ':.2f', \n",
    "        'Porcentaje_Mensual_Comparacion': ':.2f%', \n",
    "        'Ahorro_Anual': ':.2f', \n",
    "        'Porcentaje_Anual_Comparacion': ':.2f%'\n",
    "    },\n",
    "    width=600  # Ajustar la altura del gráfico\n",
    ")\n",
    "\n",
    "fig.update_traces(\n",
    "    hovertemplate='<b style=\"color:#FF8523; font-size:16px\">%{text}</b><br><br><b style=\"color:#1F1D1C;\">Anual:</b> %{x}<br><b style=\"color:#FF8523;\">Ahorro:</b> %{y}', \n",
    "    text=['' for _ in range(len(df[\"PRODUCTO_CIA\"]))],  # Establecer el texto como cadena vacía\n",
    "    hoverlabel=dict(bgcolor='#FAFAFA'),\n",
    "    width=0.38  # Ajustar el ancho de las barras\n",
    ")\n",
    "fig.update_layout(legend=dict(title='', orientation='h', y=-0.12, x=0, traceorder='grouped'))\n",
    "\n",
    "# Personalizar el orden de las barras\n",
    "fig.update_xaxes(categoryorder='array', categoryarray=['Mensual', 'Anual'])\n",
    "\n",
    "fig.show()\n"
   ]
  },
  {
   "cell_type": "code",
   "execution_count": null,
   "metadata": {},
   "outputs": [
    {
     "ename": "NameError",
     "evalue": "name 'px' is not defined",
     "output_type": "error",
     "traceback": [
      "\u001b[1;31m---------------------------------------------------------------------------\u001b[0m",
      "\u001b[1;31mNameError\u001b[0m                                 Traceback (most recent call last)",
      "\u001b[1;32mc:\\Users\\adria\\Desktop\\desafio tripu\\mi rama\\plots_DM.ipynb Cell 58\u001b[0m line \u001b[0;36m1\n\u001b[1;32m----> <a href='vscode-notebook-cell:/c%3A/Users/adria/Desktop/desafio%20tripu/mi%20rama/plots_DM.ipynb#Y112sZmlsZQ%3D%3D?line=0'>1</a>\u001b[0m fig \u001b[39m=\u001b[39m px\u001b[39m.\u001b[39mbar(\n\u001b[0;32m      <a href='vscode-notebook-cell:/c%3A/Users/adria/Desktop/desafio%20tripu/mi%20rama/plots_DM.ipynb#Y112sZmlsZQ%3D%3D?line=1'>2</a>\u001b[0m     df, \n\u001b[0;32m      <a href='vscode-notebook-cell:/c%3A/Users/adria/Desktop/desafio%20tripu/mi%20rama/plots_DM.ipynb#Y112sZmlsZQ%3D%3D?line=2'>3</a>\u001b[0m     x\u001b[39m=\u001b[39m\u001b[39m'\u001b[39m\u001b[39mCIA\u001b[39m\u001b[39m'\u001b[39m, \n\u001b[0;32m      <a href='vscode-notebook-cell:/c%3A/Users/adria/Desktop/desafio%20tripu/mi%20rama/plots_DM.ipynb#Y112sZmlsZQ%3D%3D?line=3'>4</a>\u001b[0m     y\u001b[39m=\u001b[39m[\u001b[39m'\u001b[39m\u001b[39mMensual\u001b[39m\u001b[39m'\u001b[39m, \u001b[39m'\u001b[39m\u001b[39mAnual\u001b[39m\u001b[39m'\u001b[39m], \n\u001b[0;32m      <a href='vscode-notebook-cell:/c%3A/Users/adria/Desktop/desafio%20tripu/mi%20rama/plots_DM.ipynb#Y112sZmlsZQ%3D%3D?line=4'>5</a>\u001b[0m     barmode\u001b[39m=\u001b[39m\u001b[39m'\u001b[39m\u001b[39mgroup\u001b[39m\u001b[39m'\u001b[39m,\n\u001b[0;32m      <a href='vscode-notebook-cell:/c%3A/Users/adria/Desktop/desafio%20tripu/mi%20rama/plots_DM.ipynb#Y112sZmlsZQ%3D%3D?line=5'>6</a>\u001b[0m     title\u001b[39m=\u001b[39m\u001b[39m'\u001b[39m\u001b[39mPorcentajes de ahorro Mensual y Anual por Empresa\u001b[39m\u001b[39m'\u001b[39m,\n\u001b[0;32m      <a href='vscode-notebook-cell:/c%3A/Users/adria/Desktop/desafio%20tripu/mi%20rama/plots_DM.ipynb#Y112sZmlsZQ%3D%3D?line=6'>7</a>\u001b[0m     labels\u001b[39m=\u001b[39m{\u001b[39m'\u001b[39m\u001b[39mvalue\u001b[39m\u001b[39m'\u001b[39m: \u001b[39m'\u001b[39m\u001b[39mPorcentaje de Ahorro\u001b[39m\u001b[39m'\u001b[39m, \u001b[39m'\u001b[39m\u001b[39mCIA\u001b[39m\u001b[39m'\u001b[39m:\u001b[39m'\u001b[39m\u001b[39mCompañía\u001b[39m\u001b[39m'\u001b[39m},\n\u001b[0;32m      <a href='vscode-notebook-cell:/c%3A/Users/adria/Desktop/desafio%20tripu/mi%20rama/plots_DM.ipynb#Y112sZmlsZQ%3D%3D?line=7'>8</a>\u001b[0m     color_discrete_map\u001b[39m=\u001b[39m{\u001b[39m'\u001b[39m\u001b[39mMensual\u001b[39m\u001b[39m'\u001b[39m: \u001b[39m'\u001b[39m\u001b[39m#1F1D1C\u001b[39m\u001b[39m'\u001b[39m, \u001b[39m'\u001b[39m\u001b[39mAnual\u001b[39m\u001b[39m'\u001b[39m: \u001b[39m'\u001b[39m\u001b[39m#FF8523\u001b[39m\u001b[39m'\u001b[39m},\n\u001b[0;32m      <a href='vscode-notebook-cell:/c%3A/Users/adria/Desktop/desafio%20tripu/mi%20rama/plots_DM.ipynb#Y112sZmlsZQ%3D%3D?line=8'>9</a>\u001b[0m     hover_data\u001b[39m=\u001b[39m{\n\u001b[0;32m     <a href='vscode-notebook-cell:/c%3A/Users/adria/Desktop/desafio%20tripu/mi%20rama/plots_DM.ipynb#Y112sZmlsZQ%3D%3D?line=9'>10</a>\u001b[0m         \u001b[39m'\u001b[39m\u001b[39mCIA\u001b[39m\u001b[39m'\u001b[39m: \u001b[39mTrue\u001b[39;00m, \n\u001b[0;32m     <a href='vscode-notebook-cell:/c%3A/Users/adria/Desktop/desafio%20tripu/mi%20rama/plots_DM.ipynb#Y112sZmlsZQ%3D%3D?line=10'>11</a>\u001b[0m         \u001b[39m'\u001b[39m\u001b[39mAhorro_Mensual\u001b[39m\u001b[39m'\u001b[39m: \u001b[39m'\u001b[39m\u001b[39m:.2f\u001b[39m\u001b[39m'\u001b[39m, \n\u001b[0;32m     <a href='vscode-notebook-cell:/c%3A/Users/adria/Desktop/desafio%20tripu/mi%20rama/plots_DM.ipynb#Y112sZmlsZQ%3D%3D?line=11'>12</a>\u001b[0m         \u001b[39m'\u001b[39m\u001b[39mPorcentaje_Mensual_Comparacion\u001b[39m\u001b[39m'\u001b[39m: \u001b[39m'\u001b[39m\u001b[39m:.2f\u001b[39m\u001b[39m%\u001b[39m\u001b[39m'\u001b[39m, \n\u001b[0;32m     <a href='vscode-notebook-cell:/c%3A/Users/adria/Desktop/desafio%20tripu/mi%20rama/plots_DM.ipynb#Y112sZmlsZQ%3D%3D?line=12'>13</a>\u001b[0m         \u001b[39m'\u001b[39m\u001b[39mAhorro_Anual\u001b[39m\u001b[39m'\u001b[39m: \u001b[39m'\u001b[39m\u001b[39m:.2f\u001b[39m\u001b[39m'\u001b[39m, \n\u001b[0;32m     <a href='vscode-notebook-cell:/c%3A/Users/adria/Desktop/desafio%20tripu/mi%20rama/plots_DM.ipynb#Y112sZmlsZQ%3D%3D?line=13'>14</a>\u001b[0m         \u001b[39m'\u001b[39m\u001b[39mPorcentaje_Anual_Comparacion\u001b[39m\u001b[39m'\u001b[39m: \u001b[39m'\u001b[39m\u001b[39m:.2f\u001b[39m\u001b[39m%\u001b[39m\u001b[39m'\u001b[39m\n\u001b[0;32m     <a href='vscode-notebook-cell:/c%3A/Users/adria/Desktop/desafio%20tripu/mi%20rama/plots_DM.ipynb#Y112sZmlsZQ%3D%3D?line=14'>15</a>\u001b[0m     },\n\u001b[0;32m     <a href='vscode-notebook-cell:/c%3A/Users/adria/Desktop/desafio%20tripu/mi%20rama/plots_DM.ipynb#Y112sZmlsZQ%3D%3D?line=15'>16</a>\u001b[0m     height\u001b[39m=\u001b[39m\u001b[39m600\u001b[39m,  \u001b[39m# Ajustar la altura del gráfico\u001b[39;00m\n\u001b[0;32m     <a href='vscode-notebook-cell:/c%3A/Users/adria/Desktop/desafio%20tripu/mi%20rama/plots_DM.ipynb#Y112sZmlsZQ%3D%3D?line=16'>17</a>\u001b[0m     width\u001b[39m=\u001b[39m\u001b[39m800\u001b[39m  \u001b[39m# Ajustar el ancho del gráfico\u001b[39;00m\n\u001b[0;32m     <a href='vscode-notebook-cell:/c%3A/Users/adria/Desktop/desafio%20tripu/mi%20rama/plots_DM.ipynb#Y112sZmlsZQ%3D%3D?line=17'>18</a>\u001b[0m )\n\u001b[0;32m     <a href='vscode-notebook-cell:/c%3A/Users/adria/Desktop/desafio%20tripu/mi%20rama/plots_DM.ipynb#Y112sZmlsZQ%3D%3D?line=19'>20</a>\u001b[0m fig\u001b[39m.\u001b[39mupdate_traces(\n\u001b[0;32m     <a href='vscode-notebook-cell:/c%3A/Users/adria/Desktop/desafio%20tripu/mi%20rama/plots_DM.ipynb#Y112sZmlsZQ%3D%3D?line=20'>21</a>\u001b[0m     hovertemplate\u001b[39m=\u001b[39m\u001b[39m'\u001b[39m\u001b[39m<b style=\u001b[39m\u001b[39m\"\u001b[39m\u001b[39mcolor:#FF8523; font-size:16px\u001b[39m\u001b[39m\"\u001b[39m\u001b[39m>\u001b[39m\u001b[39m%\u001b[39m\u001b[39m{text}\u001b[39;00m\u001b[39m</b><br><br><b style=\u001b[39m\u001b[39m\"\u001b[39m\u001b[39mcolor:#1F1D1C;\u001b[39m\u001b[39m\"\u001b[39m\u001b[39m>Anual:</b> \u001b[39m\u001b[39m%\u001b[39m\u001b[39m{x}\u001b[39;00m\u001b[39m<br><b style=\u001b[39m\u001b[39m\"\u001b[39m\u001b[39mcolor:#FF8523;\u001b[39m\u001b[39m\"\u001b[39m\u001b[39m>Ahorro:</b> \u001b[39m\u001b[39m%\u001b[39m\u001b[39m{y}\u001b[39;00m\u001b[39m'\u001b[39m, \n\u001b[0;32m     <a href='vscode-notebook-cell:/c%3A/Users/adria/Desktop/desafio%20tripu/mi%20rama/plots_DM.ipynb#Y112sZmlsZQ%3D%3D?line=21'>22</a>\u001b[0m     text\u001b[39m=\u001b[39m[\u001b[39m'\u001b[39m\u001b[39m'\u001b[39m \u001b[39mfor\u001b[39;00m _ \u001b[39min\u001b[39;00m \u001b[39mrange\u001b[39m(\u001b[39mlen\u001b[39m(df[\u001b[39m\"\u001b[39m\u001b[39mPRODUCTO_CIA\u001b[39m\u001b[39m\"\u001b[39m]))],  \u001b[39m# Establecer el texto como cadena vacía\u001b[39;00m\n\u001b[0;32m     <a href='vscode-notebook-cell:/c%3A/Users/adria/Desktop/desafio%20tripu/mi%20rama/plots_DM.ipynb#Y112sZmlsZQ%3D%3D?line=22'>23</a>\u001b[0m     hoverlabel\u001b[39m=\u001b[39m\u001b[39mdict\u001b[39m(bgcolor\u001b[39m=\u001b[39m\u001b[39m'\u001b[39m\u001b[39m#FAFAFA\u001b[39m\u001b[39m'\u001b[39m),\n\u001b[0;32m     <a href='vscode-notebook-cell:/c%3A/Users/adria/Desktop/desafio%20tripu/mi%20rama/plots_DM.ipynb#Y112sZmlsZQ%3D%3D?line=23'>24</a>\u001b[0m     width\u001b[39m=\u001b[39m\u001b[39m0.395\u001b[39m  \u001b[39m# Ajustar el ancho de las barras\u001b[39;00m\n\u001b[0;32m     <a href='vscode-notebook-cell:/c%3A/Users/adria/Desktop/desafio%20tripu/mi%20rama/plots_DM.ipynb#Y112sZmlsZQ%3D%3D?line=24'>25</a>\u001b[0m )\n\u001b[0;32m     <a href='vscode-notebook-cell:/c%3A/Users/adria/Desktop/desafio%20tripu/mi%20rama/plots_DM.ipynb#Y112sZmlsZQ%3D%3D?line=25'>26</a>\u001b[0m fig\u001b[39m.\u001b[39mupdate_layout(legend\u001b[39m=\u001b[39m\u001b[39mdict\u001b[39m(title\u001b[39m=\u001b[39m\u001b[39m'\u001b[39m\u001b[39m'\u001b[39m, orientation\u001b[39m=\u001b[39m\u001b[39m'\u001b[39m\u001b[39mh\u001b[39m\u001b[39m'\u001b[39m, y\u001b[39m=\u001b[39m\u001b[39m-\u001b[39m\u001b[39m0.12\u001b[39m, x\u001b[39m=\u001b[39m\u001b[39m0\u001b[39m, traceorder\u001b[39m=\u001b[39m\u001b[39m'\u001b[39m\u001b[39mgrouped\u001b[39m\u001b[39m'\u001b[39m))\n",
      "\u001b[1;31mNameError\u001b[0m: name 'px' is not defined"
     ]
    }
   ],
   "source": [
    "fig = px.bar(\n",
    "    df, \n",
    "    x='CIA', \n",
    "    y=['Mensual', 'Anual'], \n",
    "    barmode='group',\n",
    "    title='Porcentajes de ahorro Mensual y Anual por Empresa',\n",
    "    labels={'value': 'Porcentaje de Ahorro', 'CIA':'Compañía'},\n",
    "    color_discrete_map={'Mensual': '#1F1D1C', 'Anual': '#FF8523'},\n",
    "    hover_data={\n",
    "        'CIA': True, \n",
    "        'Ahorro_Mensual': ':.2f', \n",
    "        'Porcentaje_Mensual_Comparacion': ':.2f%', \n",
    "        'Ahorro_Anual': ':.2f', \n",
    "        'Porcentaje_Anual_Comparacion': ':.2f%'\n",
    "    },\n",
    "    height=600,  # Ajustar la altura del gráfico\n",
    "    width=800  # Ajustar el ancho del gráfico\n",
    ")\n",
    "\n",
    "fig.update_traces(\n",
    "    hovertemplate='<b style=\"color:#FF8523; font-size:16px\">%{text}</b><br><br><b style=\"color:#1F1D1C;\">Anual:</b> %{x}<br><b style=\"color:#FF8523;\">Ahorro:</b> %{y}', \n",
    "    text=['' for _ in range(len(df[\"PRODUCTO_CIA\"]))],  # Establecer el texto como cadena vacía\n",
    "    hoverlabel=dict(bgcolor='#FAFAFA'),\n",
    "    width=0.395  # Ajustar el ancho de las barras\n",
    ")\n",
    "fig.update_layout(legend=dict(title='', orientation='h', y=-0.12, x=0, traceorder='grouped'))\n",
    "\n",
    "# Personalizar el orden de las barras\n",
    "fig.update_xaxes(categoryorder='array', categoryarray=['Mensual', 'Anual'])\n",
    "\n",
    "fig.update_layout(\n",
    "    yaxis=dict(range=[0, 50], tickvals=[10, 20, 30, 40, 50], ticktext=['10%', '20%', '30%', '40%', '50%']),  # Ampliar el eje y al 50% y especificar los valores deseados\n",
    "    margin=dict(l=50, r=50, b=50, t=50),  # Ajustar los márgenes\n",
    "    grid=dict(xside='top', yside='right'),  # Definir la cuadrícula en el eje x\n",
    "    )\n",
    "\n",
    "fig.show()\n"
   ]
  },
  {
   "cell_type": "code",
   "execution_count": null,
   "metadata": {},
   "outputs": [
    {
     "data": {
      "application/vnd.plotly.v1+json": {
       "config": {
        "plotlyServerURL": "https://plot.ly"
       },
       "data": [
        {
         "alignmentgroup": "True",
         "customdata": [
          [
           10,
           100,
           950,
           950
          ],
          [
           12,
           120,
           1100,
           1100
          ],
          [
           9,
           90,
           1050,
           1050
          ],
          [
           11,
           110.00000000000001,
           1000,
           1000
          ],
          [
           10,
           100,
           1150,
           1150
          ],
          [
           10,
           100,
           100,
           100
          ]
         ],
         "hoverlabel": {
          "bgcolor": "#FAFAFA"
         },
         "hovertemplate": "<b style=\"color:#FF8523; font-size:16px\">%{text}</b><br><br><b style=\"color:#1F1D1C;\">Anual:</b> %{x}<br><b style=\"color:#FF8523;\">Ahorro:</b> %{y}",
         "legendgroup": "Mensual",
         "marker": {
          "color": "#1F1D1C",
          "pattern": {
           "shape": ""
          }
         },
         "name": "Mensual",
         "offsetgroup": "Mensual",
         "orientation": "v",
         "showlegend": true,
         "text": [
          "",
          "",
          "",
          "",
          "",
          ""
         ],
         "textposition": "auto",
         "type": "bar",
         "width": 0.395,
         "x": [
          "Iberdrola",
          "Endesa",
          "Acciona",
          "Naturgy",
          "Candela",
          "Compañía Actual"
         ],
         "xaxis": "x",
         "y": [
          16.129032258064516,
          19.35483870967742,
          14.516129032258066,
          17.741935483870968,
          16.129032258064516,
          16.129032258064516
         ],
         "yaxis": "y"
        },
        {
         "alignmentgroup": "True",
         "customdata": [
          [
           10,
           100,
           950,
           950
          ],
          [
           12,
           120,
           1100,
           1100
          ],
          [
           9,
           90,
           1050,
           1050
          ],
          [
           11,
           110.00000000000001,
           1000,
           1000
          ],
          [
           10,
           100,
           1150,
           1150
          ],
          [
           10,
           100,
           100,
           100
          ]
         ],
         "hoverlabel": {
          "bgcolor": "#FAFAFA"
         },
         "hovertemplate": "<b style=\"color:#FF8523; font-size:16px\">%{text}</b><br><br><b style=\"color:#1F1D1C;\">Anual:</b> %{x}<br><b style=\"color:#FF8523;\">Ahorro:</b> %{y}",
         "legendgroup": "Anual",
         "marker": {
          "color": "#FF8523",
          "pattern": {
           "shape": ""
          }
         },
         "name": "Anual",
         "offsetgroup": "Anual",
         "orientation": "v",
         "showlegend": true,
         "text": [
          "",
          "",
          "",
          "",
          "",
          ""
         ],
         "textposition": "auto",
         "type": "bar",
         "width": 0.395,
         "x": [
          "Iberdrola",
          "Endesa",
          "Acciona",
          "Naturgy",
          "Candela",
          "Compañía Actual"
         ],
         "xaxis": "x",
         "y": [
          17.75700934579439,
          20.5607476635514,
          19.626168224299064,
          18.69158878504673,
          21.49532710280374,
          1.8691588785046727
         ],
         "yaxis": "y"
        }
       ],
       "layout": {
        "barmode": "group",
        "grid": {
         "xside": "top",
         "yside": "right"
        },
        "height": 600,
        "legend": {
         "orientation": "h",
         "title": {
          "text": ""
         },
         "tracegroupgap": 0,
         "traceorder": "grouped",
         "x": 0,
         "y": -0.12
        },
        "margin": {
         "b": 50,
         "l": 50,
         "r": 550,
         "t": 50
        },
        "template": {
         "data": {
          "bar": [
           {
            "error_x": {
             "color": "#2a3f5f"
            },
            "error_y": {
             "color": "#2a3f5f"
            },
            "marker": {
             "line": {
              "color": "#E5ECF6",
              "width": 0.5
             },
             "pattern": {
              "fillmode": "overlay",
              "size": 10,
              "solidity": 0.2
             }
            },
            "type": "bar"
           }
          ],
          "barpolar": [
           {
            "marker": {
             "line": {
              "color": "#E5ECF6",
              "width": 0.5
             },
             "pattern": {
              "fillmode": "overlay",
              "size": 10,
              "solidity": 0.2
             }
            },
            "type": "barpolar"
           }
          ],
          "carpet": [
           {
            "aaxis": {
             "endlinecolor": "#2a3f5f",
             "gridcolor": "white",
             "linecolor": "white",
             "minorgridcolor": "white",
             "startlinecolor": "#2a3f5f"
            },
            "baxis": {
             "endlinecolor": "#2a3f5f",
             "gridcolor": "white",
             "linecolor": "white",
             "minorgridcolor": "white",
             "startlinecolor": "#2a3f5f"
            },
            "type": "carpet"
           }
          ],
          "choropleth": [
           {
            "colorbar": {
             "outlinewidth": 0,
             "ticks": ""
            },
            "type": "choropleth"
           }
          ],
          "contour": [
           {
            "colorbar": {
             "outlinewidth": 0,
             "ticks": ""
            },
            "colorscale": [
             [
              0,
              "#0d0887"
             ],
             [
              0.1111111111111111,
              "#46039f"
             ],
             [
              0.2222222222222222,
              "#7201a8"
             ],
             [
              0.3333333333333333,
              "#9c179e"
             ],
             [
              0.4444444444444444,
              "#bd3786"
             ],
             [
              0.5555555555555556,
              "#d8576b"
             ],
             [
              0.6666666666666666,
              "#ed7953"
             ],
             [
              0.7777777777777778,
              "#fb9f3a"
             ],
             [
              0.8888888888888888,
              "#fdca26"
             ],
             [
              1,
              "#f0f921"
             ]
            ],
            "type": "contour"
           }
          ],
          "contourcarpet": [
           {
            "colorbar": {
             "outlinewidth": 0,
             "ticks": ""
            },
            "type": "contourcarpet"
           }
          ],
          "heatmap": [
           {
            "colorbar": {
             "outlinewidth": 0,
             "ticks": ""
            },
            "colorscale": [
             [
              0,
              "#0d0887"
             ],
             [
              0.1111111111111111,
              "#46039f"
             ],
             [
              0.2222222222222222,
              "#7201a8"
             ],
             [
              0.3333333333333333,
              "#9c179e"
             ],
             [
              0.4444444444444444,
              "#bd3786"
             ],
             [
              0.5555555555555556,
              "#d8576b"
             ],
             [
              0.6666666666666666,
              "#ed7953"
             ],
             [
              0.7777777777777778,
              "#fb9f3a"
             ],
             [
              0.8888888888888888,
              "#fdca26"
             ],
             [
              1,
              "#f0f921"
             ]
            ],
            "type": "heatmap"
           }
          ],
          "heatmapgl": [
           {
            "colorbar": {
             "outlinewidth": 0,
             "ticks": ""
            },
            "colorscale": [
             [
              0,
              "#0d0887"
             ],
             [
              0.1111111111111111,
              "#46039f"
             ],
             [
              0.2222222222222222,
              "#7201a8"
             ],
             [
              0.3333333333333333,
              "#9c179e"
             ],
             [
              0.4444444444444444,
              "#bd3786"
             ],
             [
              0.5555555555555556,
              "#d8576b"
             ],
             [
              0.6666666666666666,
              "#ed7953"
             ],
             [
              0.7777777777777778,
              "#fb9f3a"
             ],
             [
              0.8888888888888888,
              "#fdca26"
             ],
             [
              1,
              "#f0f921"
             ]
            ],
            "type": "heatmapgl"
           }
          ],
          "histogram": [
           {
            "marker": {
             "pattern": {
              "fillmode": "overlay",
              "size": 10,
              "solidity": 0.2
             }
            },
            "type": "histogram"
           }
          ],
          "histogram2d": [
           {
            "colorbar": {
             "outlinewidth": 0,
             "ticks": ""
            },
            "colorscale": [
             [
              0,
              "#0d0887"
             ],
             [
              0.1111111111111111,
              "#46039f"
             ],
             [
              0.2222222222222222,
              "#7201a8"
             ],
             [
              0.3333333333333333,
              "#9c179e"
             ],
             [
              0.4444444444444444,
              "#bd3786"
             ],
             [
              0.5555555555555556,
              "#d8576b"
             ],
             [
              0.6666666666666666,
              "#ed7953"
             ],
             [
              0.7777777777777778,
              "#fb9f3a"
             ],
             [
              0.8888888888888888,
              "#fdca26"
             ],
             [
              1,
              "#f0f921"
             ]
            ],
            "type": "histogram2d"
           }
          ],
          "histogram2dcontour": [
           {
            "colorbar": {
             "outlinewidth": 0,
             "ticks": ""
            },
            "colorscale": [
             [
              0,
              "#0d0887"
             ],
             [
              0.1111111111111111,
              "#46039f"
             ],
             [
              0.2222222222222222,
              "#7201a8"
             ],
             [
              0.3333333333333333,
              "#9c179e"
             ],
             [
              0.4444444444444444,
              "#bd3786"
             ],
             [
              0.5555555555555556,
              "#d8576b"
             ],
             [
              0.6666666666666666,
              "#ed7953"
             ],
             [
              0.7777777777777778,
              "#fb9f3a"
             ],
             [
              0.8888888888888888,
              "#fdca26"
             ],
             [
              1,
              "#f0f921"
             ]
            ],
            "type": "histogram2dcontour"
           }
          ],
          "mesh3d": [
           {
            "colorbar": {
             "outlinewidth": 0,
             "ticks": ""
            },
            "type": "mesh3d"
           }
          ],
          "parcoords": [
           {
            "line": {
             "colorbar": {
              "outlinewidth": 0,
              "ticks": ""
             }
            },
            "type": "parcoords"
           }
          ],
          "pie": [
           {
            "automargin": true,
            "type": "pie"
           }
          ],
          "scatter": [
           {
            "fillpattern": {
             "fillmode": "overlay",
             "size": 10,
             "solidity": 0.2
            },
            "type": "scatter"
           }
          ],
          "scatter3d": [
           {
            "line": {
             "colorbar": {
              "outlinewidth": 0,
              "ticks": ""
             }
            },
            "marker": {
             "colorbar": {
              "outlinewidth": 0,
              "ticks": ""
             }
            },
            "type": "scatter3d"
           }
          ],
          "scattercarpet": [
           {
            "marker": {
             "colorbar": {
              "outlinewidth": 0,
              "ticks": ""
             }
            },
            "type": "scattercarpet"
           }
          ],
          "scattergeo": [
           {
            "marker": {
             "colorbar": {
              "outlinewidth": 0,
              "ticks": ""
             }
            },
            "type": "scattergeo"
           }
          ],
          "scattergl": [
           {
            "marker": {
             "colorbar": {
              "outlinewidth": 0,
              "ticks": ""
             }
            },
            "type": "scattergl"
           }
          ],
          "scattermapbox": [
           {
            "marker": {
             "colorbar": {
              "outlinewidth": 0,
              "ticks": ""
             }
            },
            "type": "scattermapbox"
           }
          ],
          "scatterpolar": [
           {
            "marker": {
             "colorbar": {
              "outlinewidth": 0,
              "ticks": ""
             }
            },
            "type": "scatterpolar"
           }
          ],
          "scatterpolargl": [
           {
            "marker": {
             "colorbar": {
              "outlinewidth": 0,
              "ticks": ""
             }
            },
            "type": "scatterpolargl"
           }
          ],
          "scatterternary": [
           {
            "marker": {
             "colorbar": {
              "outlinewidth": 0,
              "ticks": ""
             }
            },
            "type": "scatterternary"
           }
          ],
          "surface": [
           {
            "colorbar": {
             "outlinewidth": 0,
             "ticks": ""
            },
            "colorscale": [
             [
              0,
              "#0d0887"
             ],
             [
              0.1111111111111111,
              "#46039f"
             ],
             [
              0.2222222222222222,
              "#7201a8"
             ],
             [
              0.3333333333333333,
              "#9c179e"
             ],
             [
              0.4444444444444444,
              "#bd3786"
             ],
             [
              0.5555555555555556,
              "#d8576b"
             ],
             [
              0.6666666666666666,
              "#ed7953"
             ],
             [
              0.7777777777777778,
              "#fb9f3a"
             ],
             [
              0.8888888888888888,
              "#fdca26"
             ],
             [
              1,
              "#f0f921"
             ]
            ],
            "type": "surface"
           }
          ],
          "table": [
           {
            "cells": {
             "fill": {
              "color": "#EBF0F8"
             },
             "line": {
              "color": "white"
             }
            },
            "header": {
             "fill": {
              "color": "#C8D4E3"
             },
             "line": {
              "color": "white"
             }
            },
            "type": "table"
           }
          ]
         },
         "layout": {
          "annotationdefaults": {
           "arrowcolor": "#2a3f5f",
           "arrowhead": 0,
           "arrowwidth": 1
          },
          "autotypenumbers": "strict",
          "coloraxis": {
           "colorbar": {
            "outlinewidth": 0,
            "ticks": ""
           }
          },
          "colorscale": {
           "diverging": [
            [
             0,
             "#8e0152"
            ],
            [
             0.1,
             "#c51b7d"
            ],
            [
             0.2,
             "#de77ae"
            ],
            [
             0.3,
             "#f1b6da"
            ],
            [
             0.4,
             "#fde0ef"
            ],
            [
             0.5,
             "#f7f7f7"
            ],
            [
             0.6,
             "#e6f5d0"
            ],
            [
             0.7,
             "#b8e186"
            ],
            [
             0.8,
             "#7fbc41"
            ],
            [
             0.9,
             "#4d9221"
            ],
            [
             1,
             "#276419"
            ]
           ],
           "sequential": [
            [
             0,
             "#0d0887"
            ],
            [
             0.1111111111111111,
             "#46039f"
            ],
            [
             0.2222222222222222,
             "#7201a8"
            ],
            [
             0.3333333333333333,
             "#9c179e"
            ],
            [
             0.4444444444444444,
             "#bd3786"
            ],
            [
             0.5555555555555556,
             "#d8576b"
            ],
            [
             0.6666666666666666,
             "#ed7953"
            ],
            [
             0.7777777777777778,
             "#fb9f3a"
            ],
            [
             0.8888888888888888,
             "#fdca26"
            ],
            [
             1,
             "#f0f921"
            ]
           ],
           "sequentialminus": [
            [
             0,
             "#0d0887"
            ],
            [
             0.1111111111111111,
             "#46039f"
            ],
            [
             0.2222222222222222,
             "#7201a8"
            ],
            [
             0.3333333333333333,
             "#9c179e"
            ],
            [
             0.4444444444444444,
             "#bd3786"
            ],
            [
             0.5555555555555556,
             "#d8576b"
            ],
            [
             0.6666666666666666,
             "#ed7953"
            ],
            [
             0.7777777777777778,
             "#fb9f3a"
            ],
            [
             0.8888888888888888,
             "#fdca26"
            ],
            [
             1,
             "#f0f921"
            ]
           ]
          },
          "colorway": [
           "#636efa",
           "#EF553B",
           "#00cc96",
           "#ab63fa",
           "#FFA15A",
           "#19d3f3",
           "#FF6692",
           "#B6E880",
           "#FF97FF",
           "#FECB52"
          ],
          "font": {
           "color": "#2a3f5f"
          },
          "geo": {
           "bgcolor": "white",
           "lakecolor": "white",
           "landcolor": "#E5ECF6",
           "showlakes": true,
           "showland": true,
           "subunitcolor": "white"
          },
          "hoverlabel": {
           "align": "left"
          },
          "hovermode": "closest",
          "mapbox": {
           "style": "light"
          },
          "paper_bgcolor": "white",
          "plot_bgcolor": "#E5ECF6",
          "polar": {
           "angularaxis": {
            "gridcolor": "white",
            "linecolor": "white",
            "ticks": ""
           },
           "bgcolor": "#E5ECF6",
           "radialaxis": {
            "gridcolor": "white",
            "linecolor": "white",
            "ticks": ""
           }
          },
          "scene": {
           "xaxis": {
            "backgroundcolor": "#E5ECF6",
            "gridcolor": "white",
            "gridwidth": 2,
            "linecolor": "white",
            "showbackground": true,
            "ticks": "",
            "zerolinecolor": "white"
           },
           "yaxis": {
            "backgroundcolor": "#E5ECF6",
            "gridcolor": "white",
            "gridwidth": 2,
            "linecolor": "white",
            "showbackground": true,
            "ticks": "",
            "zerolinecolor": "white"
           },
           "zaxis": {
            "backgroundcolor": "#E5ECF6",
            "gridcolor": "white",
            "gridwidth": 2,
            "linecolor": "white",
            "showbackground": true,
            "ticks": "",
            "zerolinecolor": "white"
           }
          },
          "shapedefaults": {
           "line": {
            "color": "#2a3f5f"
           }
          },
          "ternary": {
           "aaxis": {
            "gridcolor": "white",
            "linecolor": "white",
            "ticks": ""
           },
           "baxis": {
            "gridcolor": "white",
            "linecolor": "white",
            "ticks": ""
           },
           "bgcolor": "#E5ECF6",
           "caxis": {
            "gridcolor": "white",
            "linecolor": "white",
            "ticks": ""
           }
          },
          "title": {
           "x": 0.05
          },
          "xaxis": {
           "automargin": true,
           "gridcolor": "white",
           "linecolor": "white",
           "ticks": "",
           "title": {
            "standoff": 15
           },
           "zerolinecolor": "white",
           "zerolinewidth": 2
          },
          "yaxis": {
           "automargin": true,
           "gridcolor": "white",
           "linecolor": "white",
           "ticks": "",
           "title": {
            "standoff": 15
           },
           "zerolinecolor": "white",
           "zerolinewidth": 2
          }
         }
        },
        "title": {
         "text": "Porcentajes de ahorro Mensual y Anual por Empresa"
        },
        "width": 800,
        "xaxis": {
         "anchor": "y",
         "categoryarray": [
          "Mensual",
          "Anual"
         ],
         "categoryorder": "array",
         "domain": [
          0,
          1
         ],
         "title": {
          "text": "Compañía"
         }
        },
        "yaxis": {
         "anchor": "x",
         "domain": [
          0,
          1
         ],
         "range": [
          0,
          30
         ],
         "ticktext": [
          "10%",
          "20%",
          "30%",
          "40%",
          "50%"
         ],
         "tickvals": [
          10,
          20,
          30,
          40,
          50
         ],
         "title": {
          "text": "Porcentaje de Ahorro"
         }
        }
       }
      }
     },
     "metadata": {},
     "output_type": "display_data"
    }
   ],
   "source": [
    "fig.update_layout(\n",
    "    yaxis=dict(range=[0, 30], tickvals=[10, 20, 30, 40, 50], ticktext=['10%', '20%', '30%', '40%', '50%']),  # Ampliar el eje y al 50% y especificar los valores deseados\n",
    "    margin=dict(l=50, r=550, b=50, t=50),  # Ajustar los márgenes\n",
    "    grid=dict( xside='top'),  # Definir la cuadrícula en el eje x\n",
    "    )"
   ]
  },
  {
   "cell_type": "code",
   "execution_count": null,
   "metadata": {},
   "outputs": [
    {
     "ename": "NameError",
     "evalue": "name 'px' is not defined",
     "output_type": "error",
     "traceback": [
      "\u001b[1;31m---------------------------------------------------------------------------\u001b[0m",
      "\u001b[1;31mNameError\u001b[0m                                 Traceback (most recent call last)",
      "\u001b[1;32mc:\\Users\\adria\\Desktop\\desafio tripu\\mi rama\\plots_DM.ipynb Cell 60\u001b[0m line \u001b[0;36m1\n\u001b[1;32m----> <a href='vscode-notebook-cell:/c%3A/Users/adria/Desktop/desafio%20tripu/mi%20rama/plots_DM.ipynb#Y114sZmlsZQ%3D%3D?line=0'>1</a>\u001b[0m fig \u001b[39m=\u001b[39m px\u001b[39m.\u001b[39mbar(\n\u001b[0;32m      <a href='vscode-notebook-cell:/c%3A/Users/adria/Desktop/desafio%20tripu/mi%20rama/plots_DM.ipynb#Y114sZmlsZQ%3D%3D?line=1'>2</a>\u001b[0m     df, \n\u001b[0;32m      <a href='vscode-notebook-cell:/c%3A/Users/adria/Desktop/desafio%20tripu/mi%20rama/plots_DM.ipynb#Y114sZmlsZQ%3D%3D?line=2'>3</a>\u001b[0m     x\u001b[39m=\u001b[39m\u001b[39m'\u001b[39m\u001b[39mCIA\u001b[39m\u001b[39m'\u001b[39m, \n\u001b[0;32m      <a href='vscode-notebook-cell:/c%3A/Users/adria/Desktop/desafio%20tripu/mi%20rama/plots_DM.ipynb#Y114sZmlsZQ%3D%3D?line=3'>4</a>\u001b[0m     y\u001b[39m=\u001b[39m[\u001b[39m'\u001b[39m\u001b[39mMensual\u001b[39m\u001b[39m'\u001b[39m, \u001b[39m'\u001b[39m\u001b[39mAnual\u001b[39m\u001b[39m'\u001b[39m], \n\u001b[0;32m      <a href='vscode-notebook-cell:/c%3A/Users/adria/Desktop/desafio%20tripu/mi%20rama/plots_DM.ipynb#Y114sZmlsZQ%3D%3D?line=4'>5</a>\u001b[0m     barmode\u001b[39m=\u001b[39m\u001b[39m'\u001b[39m\u001b[39mgroup\u001b[39m\u001b[39m'\u001b[39m,\n\u001b[0;32m      <a href='vscode-notebook-cell:/c%3A/Users/adria/Desktop/desafio%20tripu/mi%20rama/plots_DM.ipynb#Y114sZmlsZQ%3D%3D?line=5'>6</a>\u001b[0m     title\u001b[39m=\u001b[39m\u001b[39m'\u001b[39m\u001b[39mPorcentajes de ahorro Mensual y Anual por Empresa\u001b[39m\u001b[39m'\u001b[39m,\n\u001b[0;32m      <a href='vscode-notebook-cell:/c%3A/Users/adria/Desktop/desafio%20tripu/mi%20rama/plots_DM.ipynb#Y114sZmlsZQ%3D%3D?line=6'>7</a>\u001b[0m     labels\u001b[39m=\u001b[39m{\u001b[39m'\u001b[39m\u001b[39mvalue\u001b[39m\u001b[39m'\u001b[39m: \u001b[39m'\u001b[39m\u001b[39mPorcentaje de Ahorro\u001b[39m\u001b[39m'\u001b[39m, \u001b[39m'\u001b[39m\u001b[39mCIA\u001b[39m\u001b[39m'\u001b[39m:\u001b[39m'\u001b[39m\u001b[39mCompañía\u001b[39m\u001b[39m'\u001b[39m},\n\u001b[0;32m      <a href='vscode-notebook-cell:/c%3A/Users/adria/Desktop/desafio%20tripu/mi%20rama/plots_DM.ipynb#Y114sZmlsZQ%3D%3D?line=7'>8</a>\u001b[0m     color_discrete_map\u001b[39m=\u001b[39m{\u001b[39m'\u001b[39m\u001b[39mMensual\u001b[39m\u001b[39m'\u001b[39m: \u001b[39m'\u001b[39m\u001b[39m#1F1D1C\u001b[39m\u001b[39m'\u001b[39m, \u001b[39m'\u001b[39m\u001b[39mAnual\u001b[39m\u001b[39m'\u001b[39m: \u001b[39m'\u001b[39m\u001b[39m#FF8523\u001b[39m\u001b[39m'\u001b[39m},\n\u001b[0;32m      <a href='vscode-notebook-cell:/c%3A/Users/adria/Desktop/desafio%20tripu/mi%20rama/plots_DM.ipynb#Y114sZmlsZQ%3D%3D?line=8'>9</a>\u001b[0m     hover_data\u001b[39m=\u001b[39m{\n\u001b[0;32m     <a href='vscode-notebook-cell:/c%3A/Users/adria/Desktop/desafio%20tripu/mi%20rama/plots_DM.ipynb#Y114sZmlsZQ%3D%3D?line=9'>10</a>\u001b[0m         \u001b[39m'\u001b[39m\u001b[39mCIA\u001b[39m\u001b[39m'\u001b[39m: \u001b[39mTrue\u001b[39;00m, \n\u001b[0;32m     <a href='vscode-notebook-cell:/c%3A/Users/adria/Desktop/desafio%20tripu/mi%20rama/plots_DM.ipynb#Y114sZmlsZQ%3D%3D?line=10'>11</a>\u001b[0m         \u001b[39m'\u001b[39m\u001b[39mFEE\u001b[39m\u001b[39m'\u001b[39m: \u001b[39mTrue\u001b[39;00m,\n\u001b[0;32m     <a href='vscode-notebook-cell:/c%3A/Users/adria/Desktop/desafio%20tripu/mi%20rama/plots_DM.ipynb#Y114sZmlsZQ%3D%3D?line=11'>12</a>\u001b[0m         \u001b[39m'\u001b[39m\u001b[39mPorcentaje de ahorro\u001b[39m\u001b[39m'\u001b[39m: \u001b[39mTrue\u001b[39;00m,\n\u001b[0;32m     <a href='vscode-notebook-cell:/c%3A/Users/adria/Desktop/desafio%20tripu/mi%20rama/plots_DM.ipynb#Y114sZmlsZQ%3D%3D?line=12'>13</a>\u001b[0m         \u001b[39m'\u001b[39m\u001b[39mPRODUCTO_CIA\u001b[39m\u001b[39m'\u001b[39m: \u001b[39mTrue\u001b[39;00m,\n\u001b[0;32m     <a href='vscode-notebook-cell:/c%3A/Users/adria/Desktop/desafio%20tripu/mi%20rama/plots_DM.ipynb#Y114sZmlsZQ%3D%3D?line=13'>14</a>\u001b[0m         \u001b[39m'\u001b[39m\u001b[39mAhorro en euros\u001b[39m\u001b[39m'\u001b[39m: \u001b[39mTrue\u001b[39;00m\n\u001b[0;32m     <a href='vscode-notebook-cell:/c%3A/Users/adria/Desktop/desafio%20tripu/mi%20rama/plots_DM.ipynb#Y114sZmlsZQ%3D%3D?line=14'>15</a>\u001b[0m     },\n\u001b[0;32m     <a href='vscode-notebook-cell:/c%3A/Users/adria/Desktop/desafio%20tripu/mi%20rama/plots_DM.ipynb#Y114sZmlsZQ%3D%3D?line=15'>16</a>\u001b[0m     height\u001b[39m=\u001b[39m\u001b[39m600\u001b[39m,\n\u001b[0;32m     <a href='vscode-notebook-cell:/c%3A/Users/adria/Desktop/desafio%20tripu/mi%20rama/plots_DM.ipynb#Y114sZmlsZQ%3D%3D?line=16'>17</a>\u001b[0m     width\u001b[39m=\u001b[39m\u001b[39m800\u001b[39m\n\u001b[0;32m     <a href='vscode-notebook-cell:/c%3A/Users/adria/Desktop/desafio%20tripu/mi%20rama/plots_DM.ipynb#Y114sZmlsZQ%3D%3D?line=17'>18</a>\u001b[0m )\n\u001b[0;32m     <a href='vscode-notebook-cell:/c%3A/Users/adria/Desktop/desafio%20tripu/mi%20rama/plots_DM.ipynb#Y114sZmlsZQ%3D%3D?line=19'>20</a>\u001b[0m fig\u001b[39m.\u001b[39mupdate_traces(\n\u001b[0;32m     <a href='vscode-notebook-cell:/c%3A/Users/adria/Desktop/desafio%20tripu/mi%20rama/plots_DM.ipynb#Y114sZmlsZQ%3D%3D?line=20'>21</a>\u001b[0m     hovertemplate\u001b[39m=\u001b[39m\u001b[39m'\u001b[39m\u001b[39m<b style=\u001b[39m\u001b[39m\"\u001b[39m\u001b[39mcolor:#FF8523; font-size:16px\u001b[39m\u001b[39m\"\u001b[39m\u001b[39m>FEE: \u001b[39m\u001b[39m%\u001b[39m\u001b[39m{customdata[0]}\u001b[39;00m\u001b[39m</b><br><br>\u001b[39m\u001b[39m'\u001b[39m\n\u001b[0;32m     <a href='vscode-notebook-cell:/c%3A/Users/adria/Desktop/desafio%20tripu/mi%20rama/plots_DM.ipynb#Y114sZmlsZQ%3D%3D?line=21'>22</a>\u001b[0m                   \u001b[39m'\u001b[39m\u001b[39m<b style=\u001b[39m\u001b[39m\"\u001b[39m\u001b[39mcolor:#1F1D1C;\u001b[39m\u001b[39m\"\u001b[39m\u001b[39m>Porcentaje de ahorro:</b> \u001b[39m\u001b[39m%\u001b[39m\u001b[39m{customdata[1]}\u001b[39;00m\u001b[39m<br>\u001b[39m\u001b[39m'\u001b[39m\n\u001b[1;32m   (...)\u001b[0m\n\u001b[0;32m     <a href='vscode-notebook-cell:/c%3A/Users/adria/Desktop/desafio%20tripu/mi%20rama/plots_DM.ipynb#Y114sZmlsZQ%3D%3D?line=27'>28</a>\u001b[0m     width\u001b[39m=\u001b[39m\u001b[39m0.28\u001b[39m  \u001b[39m# Ajustar el ancho de las barras\u001b[39;00m\n\u001b[0;32m     <a href='vscode-notebook-cell:/c%3A/Users/adria/Desktop/desafio%20tripu/mi%20rama/plots_DM.ipynb#Y114sZmlsZQ%3D%3D?line=28'>29</a>\u001b[0m )\n\u001b[0;32m     <a href='vscode-notebook-cell:/c%3A/Users/adria/Desktop/desafio%20tripu/mi%20rama/plots_DM.ipynb#Y114sZmlsZQ%3D%3D?line=29'>30</a>\u001b[0m fig\u001b[39m.\u001b[39mupdate_layout(legend\u001b[39m=\u001b[39m\u001b[39mdict\u001b[39m(title\u001b[39m=\u001b[39m\u001b[39m'\u001b[39m\u001b[39m'\u001b[39m, orientation\u001b[39m=\u001b[39m\u001b[39m'\u001b[39m\u001b[39mh\u001b[39m\u001b[39m'\u001b[39m, y\u001b[39m=\u001b[39m\u001b[39m-\u001b[39m\u001b[39m0.12\u001b[39m, x\u001b[39m=\u001b[39m\u001b[39m0\u001b[39m, traceorder\u001b[39m=\u001b[39m\u001b[39m'\u001b[39m\u001b[39mgrouped\u001b[39m\u001b[39m'\u001b[39m),\n\u001b[0;32m     <a href='vscode-notebook-cell:/c%3A/Users/adria/Desktop/desafio%20tripu/mi%20rama/plots_DM.ipynb#Y114sZmlsZQ%3D%3D?line=30'>31</a>\u001b[0m                    yaxis\u001b[39m=\u001b[39m\u001b[39mdict\u001b[39m(\u001b[39mrange\u001b[39m\u001b[39m=\u001b[39m[\u001b[39m0\u001b[39m, \u001b[39m50\u001b[39m], tickvals\u001b[39m=\u001b[39m[\u001b[39m10\u001b[39m, \u001b[39m20\u001b[39m, \u001b[39m30\u001b[39m, \u001b[39m40\u001b[39m, \u001b[39m50\u001b[39m], ticktext\u001b[39m=\u001b[39m[\u001b[39m'\u001b[39m\u001b[39m10\u001b[39m\u001b[39m%\u001b[39m\u001b[39m'\u001b[39m, \u001b[39m'\u001b[39m\u001b[39m20\u001b[39m\u001b[39m%\u001b[39m\u001b[39m'\u001b[39m, \u001b[39m'\u001b[39m\u001b[39m30\u001b[39m\u001b[39m%\u001b[39m\u001b[39m'\u001b[39m, \u001b[39m'\u001b[39m\u001b[39m40\u001b[39m\u001b[39m%\u001b[39m\u001b[39m'\u001b[39m, \u001b[39m'\u001b[39m\u001b[39m50\u001b[39m\u001b[39m%\u001b[39m\u001b[39m'\u001b[39m]),  \u001b[39m# Ampliar el eje y al 50% y especificar los valores deseados\u001b[39;00m\n\u001b[0;32m     <a href='vscode-notebook-cell:/c%3A/Users/adria/Desktop/desafio%20tripu/mi%20rama/plots_DM.ipynb#Y114sZmlsZQ%3D%3D?line=31'>32</a>\u001b[0m                    margin\u001b[39m=\u001b[39m\u001b[39mdict\u001b[39m(l\u001b[39m=\u001b[39m\u001b[39m50\u001b[39m, r\u001b[39m=\u001b[39m\u001b[39m150\u001b[39m, b\u001b[39m=\u001b[39m\u001b[39m50\u001b[39m, t\u001b[39m=\u001b[39m\u001b[39m50\u001b[39m),  \u001b[39m# Ajustar los márgenes\u001b[39;00m\n\u001b[0;32m     <a href='vscode-notebook-cell:/c%3A/Users/adria/Desktop/desafio%20tripu/mi%20rama/plots_DM.ipynb#Y114sZmlsZQ%3D%3D?line=32'>33</a>\u001b[0m                    grid\u001b[39m=\u001b[39m\u001b[39mdict\u001b[39m( xside\u001b[39m=\u001b[39m\u001b[39m'\u001b[39m\u001b[39mtop\u001b[39m\u001b[39m'\u001b[39m))  \u001b[39m# Definir la cuadrícula en el eje x\u001b[39;00m\n",
      "\u001b[1;31mNameError\u001b[0m: name 'px' is not defined"
     ]
    }
   ],
   "source": [
    "fig = px.bar(\n",
    "    df, \n",
    "    x='CIA', \n",
    "    y=['Mensual', 'Anual'], \n",
    "    barmode='group',\n",
    "    title='Porcentajes de ahorro Mensual y Anual por Empresa',\n",
    "    labels={'value': 'Porcentaje de Ahorro', 'CIA':'Compañía'},\n",
    "    color_discrete_map={'Mensual': '#1F1D1C', 'Anual': '#FF8523'},\n",
    "    hover_data={\n",
    "        'CIA': True, \n",
    "        'FEE': True,\n",
    "        'Porcentaje de ahorro': True,\n",
    "        'PRODUCTO_CIA': True,\n",
    "        'Ahorro en euros': True\n",
    "    },\n",
    "    height=600,\n",
    "    width=800\n",
    ")\n",
    "\n",
    "fig.update_traces(\n",
    "    hovertemplate='<b style=\"color:#FF8523; font-size:16px\">FEE: %{customdata[0]}</b><br><br>'\n",
    "                  '<b style=\"color:#1F1D1C;\">Porcentaje de ahorro:</b> %{customdata[1]}<br>'\n",
    "                  '<b style=\"color:#1F1D1C;\">CIA_PRODUCTO:</b> %{customdata[2]}<br>'\n",
    "                  '<b style=\"color:#FF8523;\">Ahorro en euros:</b> %{customdata[3]:,.2f}', \n",
    "    customdata=df[['FEE', 'Porcentaje de ahorro', 'PRODUCTO_CIA', 'Ahorro en euros']],\n",
    "    text=['' for _ in range(len(df[\"PRODUCTO_CIA\"]))],  # Establecer el texto como cadena vacía\n",
    "    hoverlabel=dict(bgcolor='#FAFAFA'),\n",
    "    width=0.28  # Ajustar el ancho de las barras\n",
    ")\n",
    "fig.update_layout(legend=dict(title='', orientation='h', y=-0.12, x=0, traceorder='grouped'),\n",
    "                   yaxis=dict(range=[0, 50], tickvals=[10, 20, 30, 40, 50], ticktext=['10%', '20%', '30%', '40%', '50%']),  # Ampliar el eje y al 50% y especificar los valores deseados\n",
    "                   margin=dict(l=50, r=150, b=50, t=50),  # Ajustar los márgenes\n",
    "                   grid=dict( xside='top'))  # Definir la cuadrícula en el eje x\n",
    "fig.update_xaxes(categoryorder='array', categoryarray=['Mensual', 'Anual'])# Personalizar el orden de las barras\n",
    "fig.update_layout(bargap=0.45)#Ajustar espacio entre las barras (0.605)\n",
    "\n",
    "fig.show()"
   ]
  },
  {
   "cell_type": "code",
   "execution_count": null,
   "metadata": {},
   "outputs": [],
   "source": [
    "data = {\n",
    "    'CIA': ['Iberdrola', 'Endesa', 'Acciona', 'Naturgy', 'Candela', 'Compañía Actual'],\n",
    "    'Ahorro_Mensual': [10, 12, 9, 11, 10, 10],\n",
    "    'Ahorro_Anual': [950, 1100, 1050, 1000, 1150, 100],\n",
    "    'PRODUCTO_CIA': [\"RESIDENCIAL NOCHE LUZ\",\"RESIDENCIAL POR USO LUZ LOYAL\",\"RESIDENCIAL POR USO LUZ\",\"TEMPO LIBRE\",\"PEH/API 2.0<10kW PLAN ESTABLE\",\"Producto_cia_actual\"],\n",
    "    'FEE':[\"-\",\"-\",\"-\",\"-\",\"-\",\"FEE_actual\"],\n",
    "    'Porcentaje de ahorro': [\"13%\",\"14%\",\"5%\",\"3%\",\"4%\",\"-\"],\n",
    "    'Ahorro en euros': [10, 12, 9, 11, 10, 10]\n",
    "}\n",
    "\n",
    "df = pd.DataFrame(data)\n",
    "df['Anual'] = (df['Ahorro_Anual'] / df['Ahorro_Anual'].sum()) * 100\n",
    "df['Mensual'] = (df['Ahorro_Mensual'] / df['Ahorro_Mensual'].sum()) * 100\n",
    "\n",
    "df['Porcentaje_Mensual_Comparacion'] = (df['Ahorro_Mensual'] / df.loc[df['CIA'] == 'Compañía Actual', 'Ahorro_Mensual'].values[0]) * 100\n",
    "df['Porcentaje_Anual_Comparacion'] = (df['Ahorro_Anual'] / df.loc[df['CIA'] == 'Compañía Actual', 'Ahorro_Anual'].values[0]) * 100\n"
   ]
  },
  {
   "cell_type": "code",
   "execution_count": null,
   "metadata": {},
   "outputs": [
    {
     "ename": "NameError",
     "evalue": "name 'fig' is not defined",
     "output_type": "error",
     "traceback": [
      "\u001b[1;31m---------------------------------------------------------------------------\u001b[0m",
      "\u001b[1;31mNameError\u001b[0m                                 Traceback (most recent call last)",
      "\u001b[1;32mc:\\Users\\adria\\Desktop\\desafio tripu\\mi rama\\plots_DM.ipynb Cell 62\u001b[0m line \u001b[0;36m1\n\u001b[1;32m----> <a href='vscode-notebook-cell:/c%3A/Users/adria/Desktop/desafio%20tripu/mi%20rama/plots_DM.ipynb#Y115sZmlsZQ%3D%3D?line=0'>1</a>\u001b[0m fig\u001b[39m.\u001b[39mupdate_traces(\n\u001b[0;32m      <a href='vscode-notebook-cell:/c%3A/Users/adria/Desktop/desafio%20tripu/mi%20rama/plots_DM.ipynb#Y115sZmlsZQ%3D%3D?line=1'>2</a>\u001b[0m     hovertemplate\u001b[39m=\u001b[39m\u001b[39m'\u001b[39m\u001b[39m<b style=\u001b[39m\u001b[39m\"\u001b[39m\u001b[39mcolor:#FF8523; font-size:16px\u001b[39m\u001b[39m\"\u001b[39m\u001b[39m>FEE: \u001b[39m\u001b[39m%\u001b[39m\u001b[39m{customdata[0]}\u001b[39;00m\u001b[39m</b><br><br>\u001b[39m\u001b[39m'\u001b[39m\n\u001b[0;32m      <a href='vscode-notebook-cell:/c%3A/Users/adria/Desktop/desafio%20tripu/mi%20rama/plots_DM.ipynb#Y115sZmlsZQ%3D%3D?line=2'>3</a>\u001b[0m                   \u001b[39m'\u001b[39m\u001b[39m<b style=\u001b[39m\u001b[39m\"\u001b[39m\u001b[39mcolor:#1F1D1C;\u001b[39m\u001b[39m\"\u001b[39m\u001b[39m>Porcentaje de ahorro:</b> \u001b[39m\u001b[39m%\u001b[39m\u001b[39m{customdata[1]}\u001b[39;00m\u001b[39m<br>\u001b[39m\u001b[39m'\u001b[39m\n\u001b[0;32m      <a href='vscode-notebook-cell:/c%3A/Users/adria/Desktop/desafio%20tripu/mi%20rama/plots_DM.ipynb#Y115sZmlsZQ%3D%3D?line=3'>4</a>\u001b[0m                   \u001b[39m'\u001b[39m\u001b[39m<b style=\u001b[39m\u001b[39m\"\u001b[39m\u001b[39mcolor:#1F1D1C;\u001b[39m\u001b[39m\"\u001b[39m\u001b[39m>CIA_PRODUCTO:</b> \u001b[39m\u001b[39m%\u001b[39m\u001b[39m{customdata[2]}\u001b[39;00m\u001b[39m<br>\u001b[39m\u001b[39m'\u001b[39m\n\u001b[0;32m      <a href='vscode-notebook-cell:/c%3A/Users/adria/Desktop/desafio%20tripu/mi%20rama/plots_DM.ipynb#Y115sZmlsZQ%3D%3D?line=4'>5</a>\u001b[0m                   \u001b[39m'\u001b[39m\u001b[39m<b style=\u001b[39m\u001b[39m\"\u001b[39m\u001b[39mcolor:#FF8523;\u001b[39m\u001b[39m\"\u001b[39m\u001b[39m>Ahorro en euros:</b> \u001b[39m\u001b[39m%\u001b[39m\u001b[39m{customdata[3]:,.2f}\u001b[39;00m\u001b[39m'\u001b[39m, \n\u001b[0;32m      <a href='vscode-notebook-cell:/c%3A/Users/adria/Desktop/desafio%20tripu/mi%20rama/plots_DM.ipynb#Y115sZmlsZQ%3D%3D?line=5'>6</a>\u001b[0m     customdata\u001b[39m=\u001b[39mdf[[\u001b[39m'\u001b[39m\u001b[39mFEE\u001b[39m\u001b[39m'\u001b[39m, \u001b[39m'\u001b[39m\u001b[39mPorcentaje de ahorro\u001b[39m\u001b[39m'\u001b[39m, \u001b[39m'\u001b[39m\u001b[39mPRODUCTO_CIA\u001b[39m\u001b[39m'\u001b[39m, \u001b[39m'\u001b[39m\u001b[39mAhorro en euros\u001b[39m\u001b[39m'\u001b[39m]],\n\u001b[0;32m      <a href='vscode-notebook-cell:/c%3A/Users/adria/Desktop/desafio%20tripu/mi%20rama/plots_DM.ipynb#Y115sZmlsZQ%3D%3D?line=6'>7</a>\u001b[0m     text\u001b[39m=\u001b[39m[\u001b[39m'\u001b[39m\u001b[39m'\u001b[39m \u001b[39mfor\u001b[39;00m _ \u001b[39min\u001b[39;00m \u001b[39mrange\u001b[39m(\u001b[39mlen\u001b[39m(df[\u001b[39m\"\u001b[39m\u001b[39mPRODUCTO_CIA\u001b[39m\u001b[39m\"\u001b[39m]))],  \u001b[39m# Establecer el texto como cadena vacía para que no aparezcan valores repetidos\u001b[39;00m\n\u001b[0;32m      <a href='vscode-notebook-cell:/c%3A/Users/adria/Desktop/desafio%20tripu/mi%20rama/plots_DM.ipynb#Y115sZmlsZQ%3D%3D?line=7'>8</a>\u001b[0m     hoverlabel\u001b[39m=\u001b[39m\u001b[39mdict\u001b[39m(bgcolor\u001b[39m=\u001b[39m\u001b[39m'\u001b[39m\u001b[39m#FAFAFA\u001b[39m\u001b[39m'\u001b[39m),\n\u001b[0;32m      <a href='vscode-notebook-cell:/c%3A/Users/adria/Desktop/desafio%20tripu/mi%20rama/plots_DM.ipynb#Y115sZmlsZQ%3D%3D?line=8'>9</a>\u001b[0m     width\u001b[39m=\u001b[39m\u001b[39m0.28\u001b[39m  \u001b[39m# Ajustar el ancho de las barras\u001b[39;00m\n\u001b[0;32m     <a href='vscode-notebook-cell:/c%3A/Users/adria/Desktop/desafio%20tripu/mi%20rama/plots_DM.ipynb#Y115sZmlsZQ%3D%3D?line=9'>10</a>\u001b[0m )\n\u001b[0;32m     <a href='vscode-notebook-cell:/c%3A/Users/adria/Desktop/desafio%20tripu/mi%20rama/plots_DM.ipynb#Y115sZmlsZQ%3D%3D?line=11'>12</a>\u001b[0m fig\u001b[39m.\u001b[39mupdate_layout(\n\u001b[0;32m     <a href='vscode-notebook-cell:/c%3A/Users/adria/Desktop/desafio%20tripu/mi%20rama/plots_DM.ipynb#Y115sZmlsZQ%3D%3D?line=12'>13</a>\u001b[0m     legend\u001b[39m=\u001b[39m\u001b[39mdict\u001b[39m(title\u001b[39m=\u001b[39m\u001b[39m'\u001b[39m\u001b[39m'\u001b[39m, orientation\u001b[39m=\u001b[39m\u001b[39m'\u001b[39m\u001b[39mh\u001b[39m\u001b[39m'\u001b[39m, y\u001b[39m=\u001b[39m\u001b[39m-\u001b[39m\u001b[39m0.12\u001b[39m, x\u001b[39m=\u001b[39m\u001b[39m0\u001b[39m, traceorder\u001b[39m=\u001b[39m\u001b[39m'\u001b[39m\u001b[39mgrouped\u001b[39m\u001b[39m'\u001b[39m),\n\u001b[0;32m     <a href='vscode-notebook-cell:/c%3A/Users/adria/Desktop/desafio%20tripu/mi%20rama/plots_DM.ipynb#Y115sZmlsZQ%3D%3D?line=13'>14</a>\u001b[0m     yaxis\u001b[39m=\u001b[39m\u001b[39mdict\u001b[39m(\u001b[39mrange\u001b[39m\u001b[39m=\u001b[39m[\u001b[39m0\u001b[39m, \u001b[39m50\u001b[39m], tickvals\u001b[39m=\u001b[39m[\u001b[39m10\u001b[39m, \u001b[39m20\u001b[39m, \u001b[39m30\u001b[39m, \u001b[39m40\u001b[39m, \u001b[39m50\u001b[39m], ticktext\u001b[39m=\u001b[39m[\u001b[39m'\u001b[39m\u001b[39m10\u001b[39m\u001b[39m%\u001b[39m\u001b[39m'\u001b[39m, \u001b[39m'\u001b[39m\u001b[39m20\u001b[39m\u001b[39m%\u001b[39m\u001b[39m'\u001b[39m, \u001b[39m'\u001b[39m\u001b[39m30\u001b[39m\u001b[39m%\u001b[39m\u001b[39m'\u001b[39m, \u001b[39m'\u001b[39m\u001b[39m40\u001b[39m\u001b[39m%\u001b[39m\u001b[39m'\u001b[39m, \u001b[39m'\u001b[39m\u001b[39m50\u001b[39m\u001b[39m%\u001b[39m\u001b[39m'\u001b[39m],showgrid\u001b[39m=\u001b[39m\u001b[39mFalse\u001b[39;00m),  \u001b[39m# Ampliar el eje y al 50% y especificar los valores deseados\u001b[39;00m\n\u001b[1;32m   (...)\u001b[0m\n\u001b[0;32m     <a href='vscode-notebook-cell:/c%3A/Users/adria/Desktop/desafio%20tripu/mi%20rama/plots_DM.ipynb#Y115sZmlsZQ%3D%3D?line=17'>18</a>\u001b[0m     plot_bgcolor\u001b[39m=\u001b[39m\u001b[39m\"\u001b[39m\u001b[39m#FAFAFA\u001b[39m\u001b[39m\"\u001b[39m  \u001b[39m# Color de fondo del gráfico\u001b[39;00m\n\u001b[0;32m     <a href='vscode-notebook-cell:/c%3A/Users/adria/Desktop/desafio%20tripu/mi%20rama/plots_DM.ipynb#Y115sZmlsZQ%3D%3D?line=18'>19</a>\u001b[0m )\n\u001b[0;32m     <a href='vscode-notebook-cell:/c%3A/Users/adria/Desktop/desafio%20tripu/mi%20rama/plots_DM.ipynb#Y115sZmlsZQ%3D%3D?line=19'>20</a>\u001b[0m fig\u001b[39m.\u001b[39mupdate_xaxes(categoryorder\u001b[39m=\u001b[39m\u001b[39m'\u001b[39m\u001b[39marray\u001b[39m\u001b[39m'\u001b[39m, categoryarray\u001b[39m=\u001b[39m[\u001b[39m'\u001b[39m\u001b[39mMensual\u001b[39m\u001b[39m'\u001b[39m, \u001b[39m'\u001b[39m\u001b[39mAnual\u001b[39m\u001b[39m'\u001b[39m])  \u001b[39m# Personalizar el orden de las barras\u001b[39;00m\n",
      "\u001b[1;31mNameError\u001b[0m: name 'fig' is not defined"
     ]
    }
   ],
   "source": [
    "fig.update_traces(\n",
    "    hovertemplate='<b style=\"color:#FF8523; font-size:16px\">FEE: %{customdata[0]}</b><br><br>'\n",
    "                  '<b style=\"color:#1F1D1C;\">Porcentaje de ahorro:</b> %{customdata[1]}<br>'\n",
    "                  '<b style=\"color:#1F1D1C;\">CIA_PRODUCTO:</b> %{customdata[2]}<br>'\n",
    "                  '<b style=\"color:#FF8523;\">Ahorro en euros:</b> %{customdata[3]:,.2f}', \n",
    "    customdata=df[['FEE', 'Porcentaje de ahorro', 'PRODUCTO_CIA', 'Ahorro en euros']],\n",
    "    text=['' for _ in range(len(df[\"PRODUCTO_CIA\"]))],  # Establecer el texto como cadena vacía para que no aparezcan valores repetidos\n",
    "    hoverlabel=dict(bgcolor='#FAFAFA'),\n",
    "    width=0.28  # Ajustar el ancho de las barras\n",
    ")\n",
    "\n",
    "fig.update_layout(\n",
    "    legend=dict(title='', orientation='h', y=-0.12, x=0, traceorder='grouped'),\n",
    "    yaxis=dict(range=[0, 50], tickvals=[10, 20, 30, 40, 50], ticktext=['10%', '20%', '30%', '40%', '50%'],showgrid=False),  # Ampliar el eje y al 50% y especificar los valores deseados\n",
    "    margin=dict(l=50, r=150, b=50, t=50),  # Ajustar los márgenes\n",
    "    xaxis=dict(showgrid=False),  # Ocultar la cuadrícula en el eje x\n",
    "    grid=dict(xside='top', yside='right'),  # Definir la cuadrícula en el eje x e y\n",
    "    plot_bgcolor=\"#FAFAFA\"  # Color de fondo del gráfico\n",
    ")\n",
    "fig.update_xaxes(categoryorder='array', categoryarray=['Mensual', 'Anual'])  # Personalizar el orden de las barras\n",
    "fig.update_layout(bargap=0.45)  # Ajustar espacio entre las barras (0.605)\n",
    "\n",
    "fig.show()\n",
    "\n"
   ]
  },
  {
   "cell_type": "code",
   "execution_count": 1,
   "metadata": {},
   "outputs": [
    {
     "data": {
      "application/vnd.plotly.v1+json": {
       "config": {
        "plotlyServerURL": "https://plot.ly"
       },
       "data": [
        {
         "alignmentgroup": "True",
         "customdata": [
          [
           "-",
           "RESIDENCIAL NOCHE LUZ",
           "13%",
           10
          ],
          [
           "-",
           "RESIDENCIAL POR USO LUZ LOYAL",
           "14%",
           12
          ],
          [
           "-",
           "RESIDENCIAL POR USO LUZ",
           "5%",
           9
          ],
          [
           "-",
           "TEMPO LIBRE",
           "3%",
           11
          ],
          [
           "-",
           "PEH/API 2.0<10kW PLAN ESTABLE",
           "4%",
           10
          ],
          [
           "FEE_actual",
           "Producto_cia_actual",
           "-",
           10
          ]
         ],
         "hoverlabel": {
          "bgcolor": "#FAFAFA"
         },
         "hovertemplate": "<b style=\"color:#1F1D1C; font-size:16px\">FEE: %{customdata[0]}</b><br><b style=\"color:#1F1D1C;\">CIA_PRODUCTO:</b> %{customdata[1]}<br><b style=\"color:#1F1D1C;\">Porcentaje de ahorro:</b> %{customdata[2]}<br><b style=\"color:#1F1D1C;\">Ahorro en euros:</b> %{customdata[3]:,.2f}",
         "legendgroup": "Mensual",
         "marker": {
          "color": "#1F1D1C",
          "pattern": {
           "shape": ""
          }
         },
         "name": "Mensual",
         "offsetgroup": "Mensual",
         "orientation": "v",
         "showlegend": true,
         "textposition": "auto",
         "type": "bar",
         "width": 0.28,
         "x": [
          "Iberdrola",
          "Endesa",
          "Acciona",
          "Naturgy",
          "Candela",
          "Compañía Actual"
         ],
         "xaxis": "x",
         "y": [
          16.129032258064516,
          19.35483870967742,
          14.516129032258066,
          17.741935483870968,
          16.129032258064516,
          16.129032258064516
         ],
         "yaxis": "y"
        },
        {
         "alignmentgroup": "True",
         "customdata": [
          [
           "-",
           "RESIDENCIAL NOCHE LUZ",
           "13%",
           10
          ],
          [
           "-",
           "RESIDENCIAL POR USO LUZ LOYAL",
           "14%",
           12
          ],
          [
           "-",
           "RESIDENCIAL POR USO LUZ",
           "5%",
           9
          ],
          [
           "-",
           "TEMPO LIBRE",
           "3%",
           11
          ],
          [
           "-",
           "PEH/API 2.0<10kW PLAN ESTABLE",
           "4%",
           10
          ],
          [
           "FEE_actual",
           "Producto_cia_actual",
           "-",
           10
          ]
         ],
         "hoverlabel": {
          "bgcolor": "#FAFAFA"
         },
         "hovertemplate": "<b style=\"color:#1F1D1C; font-size:16px\">FEE: %{customdata[0]}</b><br><b style=\"color:#1F1D1C;\">CIA_PRODUCTO:</b> %{customdata[1]}<br><b style=\"color:#1F1D1C;\">Porcentaje de ahorro:</b> %{customdata[2]}<br><b style=\"color:#1F1D1C;\">Ahorro en euros:</b> %{customdata[3]:,.2f}",
         "legendgroup": "Anual",
         "marker": {
          "color": "#FF8523",
          "pattern": {
           "shape": ""
          }
         },
         "name": "Anual",
         "offsetgroup": "Anual",
         "orientation": "v",
         "showlegend": true,
         "textposition": "auto",
         "type": "bar",
         "width": 0.28,
         "x": [
          "Iberdrola",
          "Endesa",
          "Acciona",
          "Naturgy",
          "Candela",
          "Compañía Actual"
         ],
         "xaxis": "x",
         "y": [
          17.75700934579439,
          20.5607476635514,
          19.626168224299064,
          18.69158878504673,
          21.49532710280374,
          1.8691588785046727
         ],
         "yaxis": "y"
        }
       ],
       "layout": {
        "bargap": 0.45,
        "barmode": "group",
        "grid": {
         "xside": "top",
         "yside": "right"
        },
        "height": 600,
        "legend": {
         "orientation": "h",
         "title": {
          "text": ""
         },
         "tracegroupgap": 0,
         "traceorder": "grouped",
         "x": 0,
         "y": -0.12
        },
        "margin": {
         "b": 50,
         "l": 50,
         "r": 150,
         "t": 50
        },
        "plot_bgcolor": "#FAFAFA",
        "template": {
         "data": {
          "bar": [
           {
            "error_x": {
             "color": "#2a3f5f"
            },
            "error_y": {
             "color": "#2a3f5f"
            },
            "marker": {
             "line": {
              "color": "#E5ECF6",
              "width": 0.5
             },
             "pattern": {
              "fillmode": "overlay",
              "size": 10,
              "solidity": 0.2
             }
            },
            "type": "bar"
           }
          ],
          "barpolar": [
           {
            "marker": {
             "line": {
              "color": "#E5ECF6",
              "width": 0.5
             },
             "pattern": {
              "fillmode": "overlay",
              "size": 10,
              "solidity": 0.2
             }
            },
            "type": "barpolar"
           }
          ],
          "carpet": [
           {
            "aaxis": {
             "endlinecolor": "#2a3f5f",
             "gridcolor": "white",
             "linecolor": "white",
             "minorgridcolor": "white",
             "startlinecolor": "#2a3f5f"
            },
            "baxis": {
             "endlinecolor": "#2a3f5f",
             "gridcolor": "white",
             "linecolor": "white",
             "minorgridcolor": "white",
             "startlinecolor": "#2a3f5f"
            },
            "type": "carpet"
           }
          ],
          "choropleth": [
           {
            "colorbar": {
             "outlinewidth": 0,
             "ticks": ""
            },
            "type": "choropleth"
           }
          ],
          "contour": [
           {
            "colorbar": {
             "outlinewidth": 0,
             "ticks": ""
            },
            "colorscale": [
             [
              0,
              "#0d0887"
             ],
             [
              0.1111111111111111,
              "#46039f"
             ],
             [
              0.2222222222222222,
              "#7201a8"
             ],
             [
              0.3333333333333333,
              "#9c179e"
             ],
             [
              0.4444444444444444,
              "#bd3786"
             ],
             [
              0.5555555555555556,
              "#d8576b"
             ],
             [
              0.6666666666666666,
              "#ed7953"
             ],
             [
              0.7777777777777778,
              "#fb9f3a"
             ],
             [
              0.8888888888888888,
              "#fdca26"
             ],
             [
              1,
              "#f0f921"
             ]
            ],
            "type": "contour"
           }
          ],
          "contourcarpet": [
           {
            "colorbar": {
             "outlinewidth": 0,
             "ticks": ""
            },
            "type": "contourcarpet"
           }
          ],
          "heatmap": [
           {
            "colorbar": {
             "outlinewidth": 0,
             "ticks": ""
            },
            "colorscale": [
             [
              0,
              "#0d0887"
             ],
             [
              0.1111111111111111,
              "#46039f"
             ],
             [
              0.2222222222222222,
              "#7201a8"
             ],
             [
              0.3333333333333333,
              "#9c179e"
             ],
             [
              0.4444444444444444,
              "#bd3786"
             ],
             [
              0.5555555555555556,
              "#d8576b"
             ],
             [
              0.6666666666666666,
              "#ed7953"
             ],
             [
              0.7777777777777778,
              "#fb9f3a"
             ],
             [
              0.8888888888888888,
              "#fdca26"
             ],
             [
              1,
              "#f0f921"
             ]
            ],
            "type": "heatmap"
           }
          ],
          "heatmapgl": [
           {
            "colorbar": {
             "outlinewidth": 0,
             "ticks": ""
            },
            "colorscale": [
             [
              0,
              "#0d0887"
             ],
             [
              0.1111111111111111,
              "#46039f"
             ],
             [
              0.2222222222222222,
              "#7201a8"
             ],
             [
              0.3333333333333333,
              "#9c179e"
             ],
             [
              0.4444444444444444,
              "#bd3786"
             ],
             [
              0.5555555555555556,
              "#d8576b"
             ],
             [
              0.6666666666666666,
              "#ed7953"
             ],
             [
              0.7777777777777778,
              "#fb9f3a"
             ],
             [
              0.8888888888888888,
              "#fdca26"
             ],
             [
              1,
              "#f0f921"
             ]
            ],
            "type": "heatmapgl"
           }
          ],
          "histogram": [
           {
            "marker": {
             "pattern": {
              "fillmode": "overlay",
              "size": 10,
              "solidity": 0.2
             }
            },
            "type": "histogram"
           }
          ],
          "histogram2d": [
           {
            "colorbar": {
             "outlinewidth": 0,
             "ticks": ""
            },
            "colorscale": [
             [
              0,
              "#0d0887"
             ],
             [
              0.1111111111111111,
              "#46039f"
             ],
             [
              0.2222222222222222,
              "#7201a8"
             ],
             [
              0.3333333333333333,
              "#9c179e"
             ],
             [
              0.4444444444444444,
              "#bd3786"
             ],
             [
              0.5555555555555556,
              "#d8576b"
             ],
             [
              0.6666666666666666,
              "#ed7953"
             ],
             [
              0.7777777777777778,
              "#fb9f3a"
             ],
             [
              0.8888888888888888,
              "#fdca26"
             ],
             [
              1,
              "#f0f921"
             ]
            ],
            "type": "histogram2d"
           }
          ],
          "histogram2dcontour": [
           {
            "colorbar": {
             "outlinewidth": 0,
             "ticks": ""
            },
            "colorscale": [
             [
              0,
              "#0d0887"
             ],
             [
              0.1111111111111111,
              "#46039f"
             ],
             [
              0.2222222222222222,
              "#7201a8"
             ],
             [
              0.3333333333333333,
              "#9c179e"
             ],
             [
              0.4444444444444444,
              "#bd3786"
             ],
             [
              0.5555555555555556,
              "#d8576b"
             ],
             [
              0.6666666666666666,
              "#ed7953"
             ],
             [
              0.7777777777777778,
              "#fb9f3a"
             ],
             [
              0.8888888888888888,
              "#fdca26"
             ],
             [
              1,
              "#f0f921"
             ]
            ],
            "type": "histogram2dcontour"
           }
          ],
          "mesh3d": [
           {
            "colorbar": {
             "outlinewidth": 0,
             "ticks": ""
            },
            "type": "mesh3d"
           }
          ],
          "parcoords": [
           {
            "line": {
             "colorbar": {
              "outlinewidth": 0,
              "ticks": ""
             }
            },
            "type": "parcoords"
           }
          ],
          "pie": [
           {
            "automargin": true,
            "type": "pie"
           }
          ],
          "scatter": [
           {
            "fillpattern": {
             "fillmode": "overlay",
             "size": 10,
             "solidity": 0.2
            },
            "type": "scatter"
           }
          ],
          "scatter3d": [
           {
            "line": {
             "colorbar": {
              "outlinewidth": 0,
              "ticks": ""
             }
            },
            "marker": {
             "colorbar": {
              "outlinewidth": 0,
              "ticks": ""
             }
            },
            "type": "scatter3d"
           }
          ],
          "scattercarpet": [
           {
            "marker": {
             "colorbar": {
              "outlinewidth": 0,
              "ticks": ""
             }
            },
            "type": "scattercarpet"
           }
          ],
          "scattergeo": [
           {
            "marker": {
             "colorbar": {
              "outlinewidth": 0,
              "ticks": ""
             }
            },
            "type": "scattergeo"
           }
          ],
          "scattergl": [
           {
            "marker": {
             "colorbar": {
              "outlinewidth": 0,
              "ticks": ""
             }
            },
            "type": "scattergl"
           }
          ],
          "scattermapbox": [
           {
            "marker": {
             "colorbar": {
              "outlinewidth": 0,
              "ticks": ""
             }
            },
            "type": "scattermapbox"
           }
          ],
          "scatterpolar": [
           {
            "marker": {
             "colorbar": {
              "outlinewidth": 0,
              "ticks": ""
             }
            },
            "type": "scatterpolar"
           }
          ],
          "scatterpolargl": [
           {
            "marker": {
             "colorbar": {
              "outlinewidth": 0,
              "ticks": ""
             }
            },
            "type": "scatterpolargl"
           }
          ],
          "scatterternary": [
           {
            "marker": {
             "colorbar": {
              "outlinewidth": 0,
              "ticks": ""
             }
            },
            "type": "scatterternary"
           }
          ],
          "surface": [
           {
            "colorbar": {
             "outlinewidth": 0,
             "ticks": ""
            },
            "colorscale": [
             [
              0,
              "#0d0887"
             ],
             [
              0.1111111111111111,
              "#46039f"
             ],
             [
              0.2222222222222222,
              "#7201a8"
             ],
             [
              0.3333333333333333,
              "#9c179e"
             ],
             [
              0.4444444444444444,
              "#bd3786"
             ],
             [
              0.5555555555555556,
              "#d8576b"
             ],
             [
              0.6666666666666666,
              "#ed7953"
             ],
             [
              0.7777777777777778,
              "#fb9f3a"
             ],
             [
              0.8888888888888888,
              "#fdca26"
             ],
             [
              1,
              "#f0f921"
             ]
            ],
            "type": "surface"
           }
          ],
          "table": [
           {
            "cells": {
             "fill": {
              "color": "#EBF0F8"
             },
             "line": {
              "color": "white"
             }
            },
            "header": {
             "fill": {
              "color": "#C8D4E3"
             },
             "line": {
              "color": "white"
             }
            },
            "type": "table"
           }
          ]
         },
         "layout": {
          "annotationdefaults": {
           "arrowcolor": "#2a3f5f",
           "arrowhead": 0,
           "arrowwidth": 1
          },
          "autotypenumbers": "strict",
          "coloraxis": {
           "colorbar": {
            "outlinewidth": 0,
            "ticks": ""
           }
          },
          "colorscale": {
           "diverging": [
            [
             0,
             "#8e0152"
            ],
            [
             0.1,
             "#c51b7d"
            ],
            [
             0.2,
             "#de77ae"
            ],
            [
             0.3,
             "#f1b6da"
            ],
            [
             0.4,
             "#fde0ef"
            ],
            [
             0.5,
             "#f7f7f7"
            ],
            [
             0.6,
             "#e6f5d0"
            ],
            [
             0.7,
             "#b8e186"
            ],
            [
             0.8,
             "#7fbc41"
            ],
            [
             0.9,
             "#4d9221"
            ],
            [
             1,
             "#276419"
            ]
           ],
           "sequential": [
            [
             0,
             "#0d0887"
            ],
            [
             0.1111111111111111,
             "#46039f"
            ],
            [
             0.2222222222222222,
             "#7201a8"
            ],
            [
             0.3333333333333333,
             "#9c179e"
            ],
            [
             0.4444444444444444,
             "#bd3786"
            ],
            [
             0.5555555555555556,
             "#d8576b"
            ],
            [
             0.6666666666666666,
             "#ed7953"
            ],
            [
             0.7777777777777778,
             "#fb9f3a"
            ],
            [
             0.8888888888888888,
             "#fdca26"
            ],
            [
             1,
             "#f0f921"
            ]
           ],
           "sequentialminus": [
            [
             0,
             "#0d0887"
            ],
            [
             0.1111111111111111,
             "#46039f"
            ],
            [
             0.2222222222222222,
             "#7201a8"
            ],
            [
             0.3333333333333333,
             "#9c179e"
            ],
            [
             0.4444444444444444,
             "#bd3786"
            ],
            [
             0.5555555555555556,
             "#d8576b"
            ],
            [
             0.6666666666666666,
             "#ed7953"
            ],
            [
             0.7777777777777778,
             "#fb9f3a"
            ],
            [
             0.8888888888888888,
             "#fdca26"
            ],
            [
             1,
             "#f0f921"
            ]
           ]
          },
          "colorway": [
           "#636efa",
           "#EF553B",
           "#00cc96",
           "#ab63fa",
           "#FFA15A",
           "#19d3f3",
           "#FF6692",
           "#B6E880",
           "#FF97FF",
           "#FECB52"
          ],
          "font": {
           "color": "#2a3f5f"
          },
          "geo": {
           "bgcolor": "white",
           "lakecolor": "white",
           "landcolor": "#E5ECF6",
           "showlakes": true,
           "showland": true,
           "subunitcolor": "white"
          },
          "hoverlabel": {
           "align": "left"
          },
          "hovermode": "closest",
          "mapbox": {
           "style": "light"
          },
          "paper_bgcolor": "white",
          "plot_bgcolor": "#E5ECF6",
          "polar": {
           "angularaxis": {
            "gridcolor": "white",
            "linecolor": "white",
            "ticks": ""
           },
           "bgcolor": "#E5ECF6",
           "radialaxis": {
            "gridcolor": "white",
            "linecolor": "white",
            "ticks": ""
           }
          },
          "scene": {
           "xaxis": {
            "backgroundcolor": "#E5ECF6",
            "gridcolor": "white",
            "gridwidth": 2,
            "linecolor": "white",
            "showbackground": true,
            "ticks": "",
            "zerolinecolor": "white"
           },
           "yaxis": {
            "backgroundcolor": "#E5ECF6",
            "gridcolor": "white",
            "gridwidth": 2,
            "linecolor": "white",
            "showbackground": true,
            "ticks": "",
            "zerolinecolor": "white"
           },
           "zaxis": {
            "backgroundcolor": "#E5ECF6",
            "gridcolor": "white",
            "gridwidth": 2,
            "linecolor": "white",
            "showbackground": true,
            "ticks": "",
            "zerolinecolor": "white"
           }
          },
          "shapedefaults": {
           "line": {
            "color": "#2a3f5f"
           }
          },
          "ternary": {
           "aaxis": {
            "gridcolor": "white",
            "linecolor": "white",
            "ticks": ""
           },
           "baxis": {
            "gridcolor": "white",
            "linecolor": "white",
            "ticks": ""
           },
           "bgcolor": "#E5ECF6",
           "caxis": {
            "gridcolor": "white",
            "linecolor": "white",
            "ticks": ""
           }
          },
          "title": {
           "x": 0.05
          },
          "xaxis": {
           "automargin": true,
           "gridcolor": "white",
           "linecolor": "white",
           "ticks": "",
           "title": {
            "standoff": 15
           },
           "zerolinecolor": "white",
           "zerolinewidth": 2
          },
          "yaxis": {
           "automargin": true,
           "gridcolor": "white",
           "linecolor": "white",
           "ticks": "",
           "title": {
            "standoff": 15
           },
           "zerolinecolor": "white",
           "zerolinewidth": 2
          }
         }
        },
        "title": {
         "text": "Porcentajes de ahorro Mensual y Anual por Empresa"
        },
        "width": 800,
        "xaxis": {
         "anchor": "y",
         "categoryarray": [
          "Mensual",
          "Anual"
         ],
         "categoryorder": "array",
         "domain": [
          0,
          1
         ],
         "showgrid": true,
         "title": {
          "text": "Compañía"
         }
        },
        "yaxis": {
         "anchor": "x",
         "domain": [
          0,
          1
         ],
         "range": [
          0,
          50
         ],
         "showgrid": true,
         "ticktext": [
          "10%",
          "20%",
          "30%",
          "40%",
          "50%"
         ],
         "tickvals": [
          10,
          20,
          30,
          40,
          50
         ],
         "title": {
          "text": "Porcentaje de Ahorro"
         }
        }
       }
      }
     },
     "metadata": {},
     "output_type": "display_data"
    }
   ],
   "source": [
    "import pandas as pd\n",
    "import json\n",
    "import plotly.express as px\n",
    "\n",
    "data = {\n",
    "    'CIA': ['Iberdrola', 'Endesa', 'Acciona', 'Naturgy', 'Candela', 'Compañía Actual'],\n",
    "    'Ahorro_Mensual': [10, 12, 9, 11, 10, 10],\n",
    "    'Ahorro_Anual': [950, 1100, 1050, 1000, 1150, 100],\n",
    "    'PRODUCTO_CIA': [\"RESIDENCIAL NOCHE LUZ\",\"RESIDENCIAL POR USO LUZ LOYAL\",\"RESIDENCIAL POR USO LUZ\",\"TEMPO LIBRE\",\"PEH/API 2.0<10kW PLAN ESTABLE\",\"Producto_cia_actual\"],\n",
    "    'FEE':[\"-\",\"-\",\"-\",\"-\",\"-\",\"FEE_actual\"],\n",
    "    'Porcentaje de ahorro': [\"13%\",\"14%\",\"5%\",\"3%\",\"4%\",\"-\"],\n",
    "    'Ahorro en euros': [10, 12, 9, 11, 10, 10]\n",
    "}\n",
    "\n",
    "df = pd.DataFrame(data)\n",
    "df['Anual'] = (df['Ahorro_Anual'] / df['Ahorro_Anual'].sum()) * 100\n",
    "df['Mensual'] = (df['Ahorro_Mensual'] / df['Ahorro_Mensual'].sum()) * 100\n",
    "\n",
    "df['Porcentaje_Mensual_Comparacion'] = (df['Ahorro_Mensual'] / df.loc[df['CIA'] == 'Compañía Actual', 'Ahorro_Mensual'].values[0]) * 100\n",
    "df['Porcentaje_Anual_Comparacion'] = (df['Ahorro_Anual'] / df.loc[df['CIA'] == 'Compañía Actual', 'Ahorro_Anual'].values[0]) * 100\n",
    "\n",
    "fig = px.bar(\n",
    "    df, \n",
    "    x='CIA', \n",
    "    y=['Mensual', 'Anual'], \n",
    "    barmode='group',\n",
    "    title='Porcentajes de ahorro Mensual y Anual por Empresa',\n",
    "    labels={'value': 'Porcentaje de Ahorro', 'CIA':'Compañía'},\n",
    "    color_discrete_map={'Mensual': '#1F1D1C', 'Anual': '#FF8523'},\n",
    "    hover_data={\n",
    "        'CIA': True, \n",
    "        'FEE': True,\n",
    "        'Porcentaje de ahorro': True,\n",
    "        'PRODUCTO_CIA': True,\n",
    "        'Ahorro en euros': True\n",
    "    },\n",
    "    height=600,\n",
    "    width=800\n",
    ")\n",
    "\n",
    "fig.update_traces(\n",
    "    hovertemplate='<b style=\"color:#1F1D1C; font-size:16px\">FEE: %{customdata[0]}</b><br>'\n",
    "                  '<b style=\"color:#1F1D1C;\">CIA_PRODUCTO:</b> %{customdata[1]}<br>'\n",
    "                  '<b style=\"color:#1F1D1C;\">Porcentaje de ahorro:</b> %{customdata[2]}<br>'\n",
    "                  '<b style=\"color:#1F1D1C;\">Ahorro en euros:</b> %{customdata[3]:,.2f}', \n",
    "    customdata=df[['FEE', 'PRODUCTO_CIA', 'Porcentaje de ahorro', 'Ahorro en euros']],\n",
    "    hoverlabel=dict(bgcolor='#FAFAFA'),\n",
    "    width=0.28  # Ajustar el ancho de las barras\n",
    ")\n",
    "\n",
    "fig.update_layout(\n",
    "    legend=dict(title='', orientation='h', y=-0.12, x=0, traceorder='grouped'),\n",
    "    yaxis=dict(range=[0, 50], tickvals=[10, 20, 30, 40, 50], ticktext=['10%', '20%', '30%', '40%', '50%'],showgrid=True),  # Ampliar el eje y al 50% y especificar los valores deseados\n",
    "    margin=dict(l=50, r=150, b=50, t=50),  # Ajustar los márgenes\n",
    "    xaxis=dict(showgrid=True),  # Ocultar la cuadrícula en el eje x\n",
    "    grid=dict(xside='top', yside='right'),  # Definir la cuadrícula en el eje x e y\n",
    "    plot_bgcolor=\"#FAFAFA\"  # Color de fondo del gráfico\n",
    ")\n",
    "fig.update_xaxes(categoryorder='array', categoryarray=['Mensual', 'Anual'])  # Personalizar el orden de las barras\n",
    "fig.update_layout(bargap=0.45)  # Ajustar espacio entre las barras\n",
    "\n",
    "fig.show()"
   ]
  },
  {
   "cell_type": "code",
   "execution_count": null,
   "metadata": {},
   "outputs": [],
   "source": [
    "import pandas as pd\n",
    "import json\n",
    "import plotly.express as px\n",
    "\n",
    "def grafica(df):\n",
    "   \n",
    "    \"\"\"data = {\n",
    "        'CIA': [],\n",
    "        'Ahorro_Mensual': [],\n",
    "        'Ahorro_Anual': [],\n",
    "        'PRODUCTO_CIA': [],\n",
    "        'FEE':[],\n",
    "        'Porcentaje de ahorro': [],\n",
    "        'Ahorro en euros': []\n",
    "    }\n",
    "    data[\"CIA\"].append\n",
    "\n",
    "    df = pd.DataFrame(data)\"\"\"\n",
    "\n",
    "    \n",
    "    df['Anual'] = (df['Ahorro_Anual'] / df['Ahorro_Anual'].sum()) * 100\n",
    "    df['Mensual'] = (df['Ahorro_Mensual'] / df['Ahorro_Mensual'].sum()) * 100\n",
    "\n",
    "    df['Porcentaje_Mensual_Comparacion'] = (df['Ahorro_Mensual'] / df.loc[df['CIA'] == 'Compañía Actual', 'Ahorro_Mensual'].values[0]) * 100\n",
    "    df['Porcentaje_Anual_Comparacion'] = (df['Ahorro_Anual'] / df.loc[df['CIA'] == 'Compañía Actual', 'Ahorro_Anual'].values[0]) * 100\n",
    "\n",
    "\n",
    "    json_data = df.to_json(orient='records')\n",
    "    data_dict = json.loads(json_data)\n",
    "\n",
    "    fig = px.bar(\n",
    "        data_frame=data_dict,\n",
    "        x='CIA', \n",
    "        y=['Mensual', 'Anual'], \n",
    "        barmode='group',\n",
    "        title='Porcentajes de ahorro Mensual y Anual por Empresa',\n",
    "        labels={'value': 'Porcentaje de Ahorro', 'CIA':'Compañía'},\n",
    "        color_discrete_map={'Mensual': '#1F1D1C', 'Anual': '#FF8523'},\n",
    "        hover_data={\n",
    "            'CIA': True,\n",
    "            'FEE': True,\n",
    "            'Porcentaje de ahorro': True,\n",
    "            'PRODUCTO_CIA': True,\n",
    "            'Ahorro en euros': True\n",
    "        },\n",
    "        height=600,\n",
    "        width=800\n",
    "    )\n",
    "\n",
    "    fig.update_traces(\n",
    "        hovertemplate='<b style=\"color:#1F1D1C; font-size:16px\">FEE: %{customdata[0]}</b><br>'\n",
    "                    '<b style=\"color:#1F1D1C;\">CIA_PRODUCTO:</b> %{customdata[1]}<br>'\n",
    "                    '<b style=\"color:#1F1D1C;\">Porcentaje de ahorro:</b> %{customdata[2]}<br>'\n",
    "                    '<b style=\"color:#1F1D1C;\">Ahorro en euros:</b> %{customdata[3]:,.2f}', \n",
    "        customdata=df[['FEE', 'PRODUCTO_CIA', 'Porcentaje de ahorro', 'Ahorro en euros']],\n",
    "        hoverlabel=dict(bgcolor='#FAFAFA'),\n",
    "        width=0.28  # Ajustar el ancho de las barras\n",
    "    )\n",
    "\n",
    "    fig.update_layout(\n",
    "        legend=dict(title='', orientation='h', y=-0.12, x=0, traceorder='grouped'),\n",
    "        yaxis=dict(range=[0, 50], tickvals=[10, 20, 30, 40, 50], ticktext=['10%', '20%', '30%', '40%', '50%'],showgrid=True),  # Ampliar el eje y al 50% y especificar los valores deseados\n",
    "        margin=dict(l=50, r=150, b=50, t=50),  # Ajustar los márgenes\n",
    "        xaxis=dict(showgrid=True),  # Ocultar la cuadrícula en el eje x\n",
    "        grid=dict(xside='top', yside='right'),  # Definir la cuadrícula en el eje x e y\n",
    "        plot_bgcolor=\"#FAFAFA\"  # Color de fondo del gráfico\n",
    "    )\n",
    "    fig.update_xaxes(categoryorder='array', categoryarray=['Mensual', 'Anual'])  # Personalizar el orden de las barras\n",
    "    fig.update_layout(bargap=0.45)  # Ajustar espacio entre las barras\n",
    "\n",
    "    fig.show()"
   ]
  }
 ],
 "metadata": {
  "kernelspec": {
   "display_name": "Python 3",
   "language": "python",
   "name": "python3"
  },
  "language_info": {
   "codemirror_mode": {
    "name": "ipython",
    "version": 3
   },
   "file_extension": ".py",
   "mimetype": "text/x-python",
   "name": "python",
   "nbconvert_exporter": "python",
   "pygments_lexer": "ipython3",
   "version": "3.11.3"
  }
 },
 "nbformat": 4,
 "nbformat_minor": 2
}
