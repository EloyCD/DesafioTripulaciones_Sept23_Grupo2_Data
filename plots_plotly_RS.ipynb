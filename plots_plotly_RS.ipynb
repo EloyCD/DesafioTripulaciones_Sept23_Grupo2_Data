{
 "cells": [
  {
   "cell_type": "markdown",
   "metadata": {},
   "source": [
    "Ejemplo de Plotly\n",
    "\n",
    "Ejemplo de gráfica de P1 para Acciona en Baleares"
   ]
  },
  {
   "cell_type": "code",
   "execution_count": 1,
   "metadata": {},
   "outputs": [
    {
     "data": {
      "text/html": [
       "        <script type=\"text/javascript\">\n",
       "        window.PlotlyConfig = {MathJaxConfig: 'local'};\n",
       "        if (window.MathJax && window.MathJax.Hub && window.MathJax.Hub.Config) {window.MathJax.Hub.Config({SVG: {font: \"STIX-Web\"}});}\n",
       "        if (typeof require !== 'undefined') {\n",
       "        require.undef(\"plotly\");\n",
       "        requirejs.config({\n",
       "            paths: {\n",
       "                'plotly': ['https://cdn.plot.ly/plotly-2.26.0.min']\n",
       "            }\n",
       "        });\n",
       "        require(['plotly'], function(Plotly) {\n",
       "            window._Plotly = Plotly;\n",
       "        });\n",
       "        }\n",
       "        </script>\n",
       "        "
      ]
     },
     "metadata": {},
     "output_type": "display_data"
    }
   ],
   "source": [
    "import pandas as pd\n",
    "from plotly.offline import init_notebook_mode, iplot\n",
    "init_notebook_mode(connected=True)\n",
    "import plotly.graph_objs as go\n",
    "import plotly.graph_objs as go\n"
   ]
  },
  {
   "cell_type": "code",
   "execution_count": 2,
   "metadata": {},
   "outputs": [],
   "source": [
    "# Enlaces de los csv\n",
    "url1 = './data/processed/fixed_price.csv'\n",
    "url2 = './data/processed/indexed_price.csv'\n",
    "url3 = './data/processed/indexed_price_power.csv'"
   ]
  },
  {
   "cell_type": "code",
   "execution_count": 3,
   "metadata": {},
   "outputs": [],
   "source": [
    "# Cargo los dataframes\n",
    "df_fixed = pd.read_csv(url1)\n",
    "df_indexed_price = pd.read_csv(url2)\n",
    "df_indexed_price_power = pd.read_csv(url3)"
   ]
  },
  {
   "cell_type": "code",
   "execution_count": 4,
   "metadata": {},
   "outputs": [],
   "source": [
    "# Quito duplicados \n",
    "df_indexed_price.drop_duplicates(inplace=True)"
   ]
  },
  {
   "cell_type": "code",
   "execution_count": 5,
   "metadata": {},
   "outputs": [],
   "source": [
    "# Datos para Baleares, tarifa 2.0TD para Acciona. Ordeno por fecha para que lo dibuje bien\n",
    "df = df_indexed_price[(df_indexed_price['SISTEMA'] == 'BALEARES') & \n",
    "                      (df_indexed_price['TARIFA'] == '2.0TD') & \n",
    "                      (df_indexed_price['CIA'] == 'ACCIONA')].sort_values([\"MES\"])"
   ]
  },
  {
   "cell_type": "code",
   "execution_count": 6,
   "metadata": {},
   "outputs": [
    {
     "data": {
      "text/html": [
       "<div>\n",
       "<style scoped>\n",
       "    .dataframe tbody tr th:only-of-type {\n",
       "        vertical-align: middle;\n",
       "    }\n",
       "\n",
       "    .dataframe tbody tr th {\n",
       "        vertical-align: top;\n",
       "    }\n",
       "\n",
       "    .dataframe thead th {\n",
       "        text-align: right;\n",
       "    }\n",
       "</style>\n",
       "<table border=\"1\" class=\"dataframe\">\n",
       "  <thead>\n",
       "    <tr style=\"text-align: right;\">\n",
       "      <th></th>\n",
       "      <th>SISTEMA</th>\n",
       "      <th>TARIFA</th>\n",
       "      <th>CIA</th>\n",
       "      <th>MES</th>\n",
       "      <th>FEE</th>\n",
       "      <th>P1</th>\n",
       "      <th>P2</th>\n",
       "      <th>P3</th>\n",
       "      <th>P4</th>\n",
       "      <th>P5</th>\n",
       "      <th>P6</th>\n",
       "    </tr>\n",
       "  </thead>\n",
       "  <tbody>\n",
       "    <tr>\n",
       "      <th>93</th>\n",
       "      <td>BALEARES</td>\n",
       "      <td>2.0TD</td>\n",
       "      <td>ACCIONA</td>\n",
       "      <td>2022-01-01 00:00:00</td>\n",
       "      <td>Poniente+</td>\n",
       "      <td>0.345616</td>\n",
       "      <td>0.299405</td>\n",
       "      <td>0.278827</td>\n",
       "      <td>0.0</td>\n",
       "      <td>0.0</td>\n",
       "      <td>0.0</td>\n",
       "    </tr>\n",
       "    <tr>\n",
       "      <th>55</th>\n",
       "      <td>BALEARES</td>\n",
       "      <td>2.0TD</td>\n",
       "      <td>ACCIONA</td>\n",
       "      <td>2022-01-01 00:00:00</td>\n",
       "      <td>Levante+</td>\n",
       "      <td>0.355766</td>\n",
       "      <td>0.309555</td>\n",
       "      <td>0.288977</td>\n",
       "      <td>0.0</td>\n",
       "      <td>0.0</td>\n",
       "      <td>0.0</td>\n",
       "    </tr>\n",
       "    <tr>\n",
       "      <th>112</th>\n",
       "      <td>BALEARES</td>\n",
       "      <td>2.0TD</td>\n",
       "      <td>ACCIONA</td>\n",
       "      <td>2022-01-01 00:00:00</td>\n",
       "      <td>Tramontana</td>\n",
       "      <td>0.338511</td>\n",
       "      <td>0.292300</td>\n",
       "      <td>0.271722</td>\n",
       "      <td>0.0</td>\n",
       "      <td>0.0</td>\n",
       "      <td>0.0</td>\n",
       "    </tr>\n",
       "    <tr>\n",
       "      <th>74</th>\n",
       "      <td>BALEARES</td>\n",
       "      <td>2.0TD</td>\n",
       "      <td>ACCIONA</td>\n",
       "      <td>2022-01-01 00:00:00</td>\n",
       "      <td>Poniente</td>\n",
       "      <td>0.345616</td>\n",
       "      <td>0.299405</td>\n",
       "      <td>0.278827</td>\n",
       "      <td>0.0</td>\n",
       "      <td>0.0</td>\n",
       "      <td>0.0</td>\n",
       "    </tr>\n",
       "    <tr>\n",
       "      <th>138</th>\n",
       "      <td>BALEARES</td>\n",
       "      <td>2.0TD</td>\n",
       "      <td>ACCIONA</td>\n",
       "      <td>2022-01-01 00:00:00</td>\n",
       "      <td>Tramontana+</td>\n",
       "      <td>0.338511</td>\n",
       "      <td>0.292300</td>\n",
       "      <td>0.271722</td>\n",
       "      <td>0.0</td>\n",
       "      <td>0.0</td>\n",
       "      <td>0.0</td>\n",
       "    </tr>\n",
       "    <tr>\n",
       "      <th>...</th>\n",
       "      <td>...</td>\n",
       "      <td>...</td>\n",
       "      <td>...</td>\n",
       "      <td>...</td>\n",
       "      <td>...</td>\n",
       "      <td>...</td>\n",
       "      <td>...</td>\n",
       "      <td>...</td>\n",
       "      <td>...</td>\n",
       "      <td>...</td>\n",
       "      <td>...</td>\n",
       "    </tr>\n",
       "    <tr>\n",
       "      <th>75</th>\n",
       "      <td>BALEARES</td>\n",
       "      <td>2.0TD</td>\n",
       "      <td>ACCIONA</td>\n",
       "      <td>2023-07-01 00:00:00</td>\n",
       "      <td>Poniente</td>\n",
       "      <td>0.218897</td>\n",
       "      <td>0.172090</td>\n",
       "      <td>0.148835</td>\n",
       "      <td>0.0</td>\n",
       "      <td>0.0</td>\n",
       "      <td>0.0</td>\n",
       "    </tr>\n",
       "    <tr>\n",
       "      <th>56</th>\n",
       "      <td>BALEARES</td>\n",
       "      <td>2.0TD</td>\n",
       "      <td>ACCIONA</td>\n",
       "      <td>2023-07-01 00:00:00</td>\n",
       "      <td>Levante+</td>\n",
       "      <td>0.229047</td>\n",
       "      <td>0.182240</td>\n",
       "      <td>0.158985</td>\n",
       "      <td>0.0</td>\n",
       "      <td>0.0</td>\n",
       "      <td>0.0</td>\n",
       "    </tr>\n",
       "    <tr>\n",
       "      <th>37</th>\n",
       "      <td>BALEARES</td>\n",
       "      <td>2.0TD</td>\n",
       "      <td>ACCIONA</td>\n",
       "      <td>2023-07-01 00:00:00</td>\n",
       "      <td>Levante</td>\n",
       "      <td>0.229047</td>\n",
       "      <td>0.182240</td>\n",
       "      <td>0.158985</td>\n",
       "      <td>0.0</td>\n",
       "      <td>0.0</td>\n",
       "      <td>0.0</td>\n",
       "    </tr>\n",
       "    <tr>\n",
       "      <th>18</th>\n",
       "      <td>BALEARES</td>\n",
       "      <td>2.0TD</td>\n",
       "      <td>ACCIONA</td>\n",
       "      <td>2023-07-01 00:00:00</td>\n",
       "      <td>Cierzo</td>\n",
       "      <td>0.209762</td>\n",
       "      <td>0.162955</td>\n",
       "      <td>0.139700</td>\n",
       "      <td>0.0</td>\n",
       "      <td>0.0</td>\n",
       "      <td>0.0</td>\n",
       "    </tr>\n",
       "    <tr>\n",
       "      <th>157</th>\n",
       "      <td>BALEARES</td>\n",
       "      <td>2.0TD</td>\n",
       "      <td>ACCIONA</td>\n",
       "      <td>2023-07-01 00:00:00</td>\n",
       "      <td>Tramontana+</td>\n",
       "      <td>0.211792</td>\n",
       "      <td>0.164985</td>\n",
       "      <td>0.141730</td>\n",
       "      <td>0.0</td>\n",
       "      <td>0.0</td>\n",
       "      <td>0.0</td>\n",
       "    </tr>\n",
       "  </tbody>\n",
       "</table>\n",
       "<p>133 rows × 11 columns</p>\n",
       "</div>"
      ],
      "text/plain": [
       "      SISTEMA TARIFA      CIA                  MES          FEE        P1  \\\n",
       "93   BALEARES  2.0TD  ACCIONA  2022-01-01 00:00:00    Poniente+  0.345616   \n",
       "55   BALEARES  2.0TD  ACCIONA  2022-01-01 00:00:00     Levante+  0.355766   \n",
       "112  BALEARES  2.0TD  ACCIONA  2022-01-01 00:00:00   Tramontana  0.338511   \n",
       "74   BALEARES  2.0TD  ACCIONA  2022-01-01 00:00:00     Poniente  0.345616   \n",
       "138  BALEARES  2.0TD  ACCIONA  2022-01-01 00:00:00  Tramontana+  0.338511   \n",
       "..        ...    ...      ...                  ...          ...       ...   \n",
       "75   BALEARES  2.0TD  ACCIONA  2023-07-01 00:00:00     Poniente  0.218897   \n",
       "56   BALEARES  2.0TD  ACCIONA  2023-07-01 00:00:00     Levante+  0.229047   \n",
       "37   BALEARES  2.0TD  ACCIONA  2023-07-01 00:00:00      Levante  0.229047   \n",
       "18   BALEARES  2.0TD  ACCIONA  2023-07-01 00:00:00       Cierzo  0.209762   \n",
       "157  BALEARES  2.0TD  ACCIONA  2023-07-01 00:00:00  Tramontana+  0.211792   \n",
       "\n",
       "           P2        P3   P4   P5   P6  \n",
       "93   0.299405  0.278827  0.0  0.0  0.0  \n",
       "55   0.309555  0.288977  0.0  0.0  0.0  \n",
       "112  0.292300  0.271722  0.0  0.0  0.0  \n",
       "74   0.299405  0.278827  0.0  0.0  0.0  \n",
       "138  0.292300  0.271722  0.0  0.0  0.0  \n",
       "..        ...       ...  ...  ...  ...  \n",
       "75   0.172090  0.148835  0.0  0.0  0.0  \n",
       "56   0.182240  0.158985  0.0  0.0  0.0  \n",
       "37   0.182240  0.158985  0.0  0.0  0.0  \n",
       "18   0.162955  0.139700  0.0  0.0  0.0  \n",
       "157  0.164985  0.141730  0.0  0.0  0.0  \n",
       "\n",
       "[133 rows x 11 columns]"
      ]
     },
     "execution_count": 6,
     "metadata": {},
     "output_type": "execute_result"
    }
   ],
   "source": [
    "df"
   ]
  },
  {
   "cell_type": "code",
   "execution_count": 7,
   "metadata": {},
   "outputs": [
    {
     "data": {
      "application/vnd.plotly.v1+json": {
       "config": {
        "linkText": "Export to plot.ly",
        "plotlyServerURL": "https://plot.ly",
        "showLink": false
       },
       "data": [
        {
         "mode": "lines",
         "name": "P1 Poniente+",
         "text": "Poniente+",
         "type": "scatter",
         "x": [
          "2022-01-01 00:00:00",
          "2022-02-01 00:00:00",
          "2022-03-01 00:00:00",
          "2022-04-01 00:00:00",
          "2022-05-01 00:00:00",
          "2022-06-01 00:00:00",
          "2022-07-01 00:00:00",
          "2022-08-01 00:00:00",
          "2022-09-01 00:00:00",
          "2022-10-01 00:00:00",
          "2022-11-01 00:00:00",
          "2022-12-01 00:00:00",
          "2023-01-01 00:00:00",
          "2023-02-01 00:00:00",
          "2023-03-01 00:00:00",
          "2023-04-01 00:00:00",
          "2023-05-01 00:00:00",
          "2023-06-01 00:00:00",
          "2023-07-01 00:00:00"
         ],
         "y": [
          0.34561551596,
          0.34384758896,
          0.4417671723999999,
          0.33359361236,
          0.32841947934,
          0.30779366434,
          0.27600633688,
          0.29042083502,
          0.27413233426,
          0.26219913578,
          0.24846823608,
          0.2265341551,
          0.1942400219,
          0.26957728446,
          0.21788309898,
          0.19916664514,
          0.19973238178,
          0.22190218636,
          0.21889671
         ]
        },
        {
         "mode": "lines",
         "name": "P1 Levante+",
         "text": "Levante+",
         "type": "scatter",
         "x": [
          "2022-01-01 00:00:00",
          "2022-02-01 00:00:00",
          "2022-03-01 00:00:00",
          "2022-04-01 00:00:00",
          "2022-05-01 00:00:00",
          "2022-06-01 00:00:00",
          "2022-07-01 00:00:00",
          "2022-08-01 00:00:00",
          "2022-09-01 00:00:00",
          "2022-10-01 00:00:00",
          "2022-11-01 00:00:00",
          "2022-12-01 00:00:00",
          "2023-01-01 00:00:00",
          "2023-02-01 00:00:00",
          "2023-03-01 00:00:00",
          "2023-04-01 00:00:00",
          "2023-05-01 00:00:00",
          "2023-06-01 00:00:00",
          "2023-07-01 00:00:00"
         ],
         "y": [
          0.35576551596,
          0.35399758896,
          0.4519171723999999,
          0.34374361236,
          0.33856947934,
          0.31794366434,
          0.28615633688,
          0.30057083502,
          0.28428233426,
          0.27234913578,
          0.25861823608,
          0.2366841551,
          0.2043900219,
          0.27972728446,
          0.22803309898,
          0.20931664514,
          0.20988238178,
          0.23205218636,
          0.22904671
         ]
        },
        {
         "mode": "lines",
         "name": "P1 Tramontana",
         "text": "Tramontana",
         "type": "scatter",
         "x": [
          "2022-01-01 00:00:00",
          "2022-02-01 00:00:00",
          "2022-03-01 00:00:00",
          "2022-04-01 00:00:00",
          "2022-05-01 00:00:00",
          "2022-06-01 00:00:00",
          "2022-07-01 00:00:00",
          "2022-08-01 00:00:00",
          "2022-09-01 00:00:00",
          "2022-10-01 00:00:00",
          "2022-11-01 00:00:00",
          "2022-12-01 00:00:00",
          "2023-01-01 00:00:00",
          "2023-02-01 00:00:00",
          "2023-03-01 00:00:00",
          "2023-04-01 00:00:00",
          "2023-05-01 00:00:00",
          "2023-06-01 00:00:00",
          "2023-07-01 00:00:00"
         ],
         "y": [
          0.33851051596,
          0.33674258896,
          0.4346621723999999,
          0.32648861236,
          0.3213144793399999,
          0.3006886643399999,
          0.26890133688,
          0.2833158350199999,
          0.2670273342599999,
          0.25509413578,
          0.24136323608,
          0.2194291551,
          0.1871350219,
          0.26247228446,
          0.21077809898,
          0.19206164514,
          0.19262738178,
          0.21479718636,
          0.21179171
         ]
        },
        {
         "mode": "lines",
         "name": "P1 Poniente",
         "text": "Poniente",
         "type": "scatter",
         "x": [
          "2022-01-01 00:00:00",
          "2022-02-01 00:00:00",
          "2022-03-01 00:00:00",
          "2022-04-01 00:00:00",
          "2022-05-01 00:00:00",
          "2022-06-01 00:00:00",
          "2022-07-01 00:00:00",
          "2022-08-01 00:00:00",
          "2022-09-01 00:00:00",
          "2022-10-01 00:00:00",
          "2022-11-01 00:00:00",
          "2022-12-01 00:00:00",
          "2023-01-01 00:00:00",
          "2023-02-01 00:00:00",
          "2023-03-01 00:00:00",
          "2023-04-01 00:00:00",
          "2023-05-01 00:00:00",
          "2023-06-01 00:00:00",
          "2023-07-01 00:00:00"
         ],
         "y": [
          0.34561551596,
          0.34384758896,
          0.4417671723999999,
          0.33359361236,
          0.32841947934,
          0.30779366434,
          0.27600633688,
          0.29042083502,
          0.27413233426,
          0.26219913578,
          0.24846823608,
          0.2265341551,
          0.1942400219,
          0.26957728446,
          0.21788309898,
          0.19916664514,
          0.19973238178,
          0.22190218636,
          0.21889671
         ]
        },
        {
         "mode": "lines",
         "name": "P1 Tramontana+",
         "text": "Tramontana+",
         "type": "scatter",
         "x": [
          "2022-01-01 00:00:00",
          "2022-02-01 00:00:00",
          "2022-03-01 00:00:00",
          "2022-04-01 00:00:00",
          "2022-05-01 00:00:00",
          "2022-06-01 00:00:00",
          "2022-07-01 00:00:00",
          "2022-08-01 00:00:00",
          "2022-09-01 00:00:00",
          "2022-10-01 00:00:00",
          "2022-11-01 00:00:00",
          "2022-12-01 00:00:00",
          "2023-01-01 00:00:00",
          "2023-02-01 00:00:00",
          "2023-03-01 00:00:00",
          "2023-04-01 00:00:00",
          "2023-05-01 00:00:00",
          "2023-06-01 00:00:00",
          "2023-07-01 00:00:00"
         ],
         "y": [
          0.33851051596,
          0.33674258896,
          0.4346621723999999,
          0.32648861236,
          0.3213144793399999,
          0.3006886643399999,
          0.26890133688,
          0.2833158350199999,
          0.2670273342599999,
          0.25509413578,
          0.24136323608,
          0.2194291551,
          0.1871350219,
          0.26247228446,
          0.21077809898,
          0.19206164514,
          0.19262738178,
          0.21479718636,
          0.21179171
         ]
        },
        {
         "mode": "lines",
         "name": "P1 Levante",
         "text": "Levante",
         "type": "scatter",
         "x": [
          "2022-01-01 00:00:00",
          "2022-02-01 00:00:00",
          "2022-03-01 00:00:00",
          "2022-04-01 00:00:00",
          "2022-05-01 00:00:00",
          "2022-06-01 00:00:00",
          "2022-07-01 00:00:00",
          "2022-08-01 00:00:00",
          "2022-09-01 00:00:00",
          "2022-10-01 00:00:00",
          "2022-11-01 00:00:00",
          "2022-12-01 00:00:00",
          "2023-01-01 00:00:00",
          "2023-02-01 00:00:00",
          "2023-03-01 00:00:00",
          "2023-04-01 00:00:00",
          "2023-05-01 00:00:00",
          "2023-06-01 00:00:00",
          "2023-07-01 00:00:00"
         ],
         "y": [
          0.35576551596,
          0.35399758896,
          0.4519171723999999,
          0.34374361236,
          0.33856947934,
          0.31794366434,
          0.28615633688,
          0.30057083502,
          0.28428233426,
          0.27234913578,
          0.25861823608,
          0.2366841551,
          0.2043900219,
          0.27972728446,
          0.22803309898,
          0.20931664514,
          0.20988238178,
          0.23205218636,
          0.22904671
         ]
        },
        {
         "mode": "lines",
         "name": "P1 Cierzo",
         "text": "Cierzo",
         "type": "scatter",
         "x": [
          "2022-01-01 00:00:00",
          "2022-02-01 00:00:00",
          "2022-03-01 00:00:00",
          "2022-04-01 00:00:00",
          "2022-05-01 00:00:00",
          "2022-06-01 00:00:00",
          "2022-07-01 00:00:00",
          "2022-08-01 00:00:00",
          "2022-09-01 00:00:00",
          "2022-10-01 00:00:00",
          "2022-11-01 00:00:00",
          "2022-12-01 00:00:00",
          "2023-01-01 00:00:00",
          "2023-02-01 00:00:00",
          "2023-03-01 00:00:00",
          "2023-04-01 00:00:00",
          "2023-05-01 00:00:00",
          "2023-06-01 00:00:00",
          "2023-07-01 00:00:00"
         ],
         "y": [
          0.33648051596,
          0.33471258896,
          0.4326321723999999,
          0.32445861236,
          0.31928447934,
          0.29865866434,
          0.26687133688,
          0.28128583502,
          0.26499733426,
          0.25306413578,
          0.23933323608,
          0.2173991551,
          0.1851050219,
          0.26044228446,
          0.20874809898,
          0.19003164514,
          0.19059738178,
          0.21276718636,
          0.20976171
         ]
        }
       ],
       "layout": {
        "template": {
         "data": {
          "bar": [
           {
            "error_x": {
             "color": "#2a3f5f"
            },
            "error_y": {
             "color": "#2a3f5f"
            },
            "marker": {
             "line": {
              "color": "#E5ECF6",
              "width": 0.5
             },
             "pattern": {
              "fillmode": "overlay",
              "size": 10,
              "solidity": 0.2
             }
            },
            "type": "bar"
           }
          ],
          "barpolar": [
           {
            "marker": {
             "line": {
              "color": "#E5ECF6",
              "width": 0.5
             },
             "pattern": {
              "fillmode": "overlay",
              "size": 10,
              "solidity": 0.2
             }
            },
            "type": "barpolar"
           }
          ],
          "carpet": [
           {
            "aaxis": {
             "endlinecolor": "#2a3f5f",
             "gridcolor": "white",
             "linecolor": "white",
             "minorgridcolor": "white",
             "startlinecolor": "#2a3f5f"
            },
            "baxis": {
             "endlinecolor": "#2a3f5f",
             "gridcolor": "white",
             "linecolor": "white",
             "minorgridcolor": "white",
             "startlinecolor": "#2a3f5f"
            },
            "type": "carpet"
           }
          ],
          "choropleth": [
           {
            "colorbar": {
             "outlinewidth": 0,
             "ticks": ""
            },
            "type": "choropleth"
           }
          ],
          "contour": [
           {
            "colorbar": {
             "outlinewidth": 0,
             "ticks": ""
            },
            "colorscale": [
             [
              0,
              "#0d0887"
             ],
             [
              0.1111111111111111,
              "#46039f"
             ],
             [
              0.2222222222222222,
              "#7201a8"
             ],
             [
              0.3333333333333333,
              "#9c179e"
             ],
             [
              0.4444444444444444,
              "#bd3786"
             ],
             [
              0.5555555555555556,
              "#d8576b"
             ],
             [
              0.6666666666666666,
              "#ed7953"
             ],
             [
              0.7777777777777778,
              "#fb9f3a"
             ],
             [
              0.8888888888888888,
              "#fdca26"
             ],
             [
              1,
              "#f0f921"
             ]
            ],
            "type": "contour"
           }
          ],
          "contourcarpet": [
           {
            "colorbar": {
             "outlinewidth": 0,
             "ticks": ""
            },
            "type": "contourcarpet"
           }
          ],
          "heatmap": [
           {
            "colorbar": {
             "outlinewidth": 0,
             "ticks": ""
            },
            "colorscale": [
             [
              0,
              "#0d0887"
             ],
             [
              0.1111111111111111,
              "#46039f"
             ],
             [
              0.2222222222222222,
              "#7201a8"
             ],
             [
              0.3333333333333333,
              "#9c179e"
             ],
             [
              0.4444444444444444,
              "#bd3786"
             ],
             [
              0.5555555555555556,
              "#d8576b"
             ],
             [
              0.6666666666666666,
              "#ed7953"
             ],
             [
              0.7777777777777778,
              "#fb9f3a"
             ],
             [
              0.8888888888888888,
              "#fdca26"
             ],
             [
              1,
              "#f0f921"
             ]
            ],
            "type": "heatmap"
           }
          ],
          "heatmapgl": [
           {
            "colorbar": {
             "outlinewidth": 0,
             "ticks": ""
            },
            "colorscale": [
             [
              0,
              "#0d0887"
             ],
             [
              0.1111111111111111,
              "#46039f"
             ],
             [
              0.2222222222222222,
              "#7201a8"
             ],
             [
              0.3333333333333333,
              "#9c179e"
             ],
             [
              0.4444444444444444,
              "#bd3786"
             ],
             [
              0.5555555555555556,
              "#d8576b"
             ],
             [
              0.6666666666666666,
              "#ed7953"
             ],
             [
              0.7777777777777778,
              "#fb9f3a"
             ],
             [
              0.8888888888888888,
              "#fdca26"
             ],
             [
              1,
              "#f0f921"
             ]
            ],
            "type": "heatmapgl"
           }
          ],
          "histogram": [
           {
            "marker": {
             "pattern": {
              "fillmode": "overlay",
              "size": 10,
              "solidity": 0.2
             }
            },
            "type": "histogram"
           }
          ],
          "histogram2d": [
           {
            "colorbar": {
             "outlinewidth": 0,
             "ticks": ""
            },
            "colorscale": [
             [
              0,
              "#0d0887"
             ],
             [
              0.1111111111111111,
              "#46039f"
             ],
             [
              0.2222222222222222,
              "#7201a8"
             ],
             [
              0.3333333333333333,
              "#9c179e"
             ],
             [
              0.4444444444444444,
              "#bd3786"
             ],
             [
              0.5555555555555556,
              "#d8576b"
             ],
             [
              0.6666666666666666,
              "#ed7953"
             ],
             [
              0.7777777777777778,
              "#fb9f3a"
             ],
             [
              0.8888888888888888,
              "#fdca26"
             ],
             [
              1,
              "#f0f921"
             ]
            ],
            "type": "histogram2d"
           }
          ],
          "histogram2dcontour": [
           {
            "colorbar": {
             "outlinewidth": 0,
             "ticks": ""
            },
            "colorscale": [
             [
              0,
              "#0d0887"
             ],
             [
              0.1111111111111111,
              "#46039f"
             ],
             [
              0.2222222222222222,
              "#7201a8"
             ],
             [
              0.3333333333333333,
              "#9c179e"
             ],
             [
              0.4444444444444444,
              "#bd3786"
             ],
             [
              0.5555555555555556,
              "#d8576b"
             ],
             [
              0.6666666666666666,
              "#ed7953"
             ],
             [
              0.7777777777777778,
              "#fb9f3a"
             ],
             [
              0.8888888888888888,
              "#fdca26"
             ],
             [
              1,
              "#f0f921"
             ]
            ],
            "type": "histogram2dcontour"
           }
          ],
          "mesh3d": [
           {
            "colorbar": {
             "outlinewidth": 0,
             "ticks": ""
            },
            "type": "mesh3d"
           }
          ],
          "parcoords": [
           {
            "line": {
             "colorbar": {
              "outlinewidth": 0,
              "ticks": ""
             }
            },
            "type": "parcoords"
           }
          ],
          "pie": [
           {
            "automargin": true,
            "type": "pie"
           }
          ],
          "scatter": [
           {
            "fillpattern": {
             "fillmode": "overlay",
             "size": 10,
             "solidity": 0.2
            },
            "type": "scatter"
           }
          ],
          "scatter3d": [
           {
            "line": {
             "colorbar": {
              "outlinewidth": 0,
              "ticks": ""
             }
            },
            "marker": {
             "colorbar": {
              "outlinewidth": 0,
              "ticks": ""
             }
            },
            "type": "scatter3d"
           }
          ],
          "scattercarpet": [
           {
            "marker": {
             "colorbar": {
              "outlinewidth": 0,
              "ticks": ""
             }
            },
            "type": "scattercarpet"
           }
          ],
          "scattergeo": [
           {
            "marker": {
             "colorbar": {
              "outlinewidth": 0,
              "ticks": ""
             }
            },
            "type": "scattergeo"
           }
          ],
          "scattergl": [
           {
            "marker": {
             "colorbar": {
              "outlinewidth": 0,
              "ticks": ""
             }
            },
            "type": "scattergl"
           }
          ],
          "scattermapbox": [
           {
            "marker": {
             "colorbar": {
              "outlinewidth": 0,
              "ticks": ""
             }
            },
            "type": "scattermapbox"
           }
          ],
          "scatterpolar": [
           {
            "marker": {
             "colorbar": {
              "outlinewidth": 0,
              "ticks": ""
             }
            },
            "type": "scatterpolar"
           }
          ],
          "scatterpolargl": [
           {
            "marker": {
             "colorbar": {
              "outlinewidth": 0,
              "ticks": ""
             }
            },
            "type": "scatterpolargl"
           }
          ],
          "scatterternary": [
           {
            "marker": {
             "colorbar": {
              "outlinewidth": 0,
              "ticks": ""
             }
            },
            "type": "scatterternary"
           }
          ],
          "surface": [
           {
            "colorbar": {
             "outlinewidth": 0,
             "ticks": ""
            },
            "colorscale": [
             [
              0,
              "#0d0887"
             ],
             [
              0.1111111111111111,
              "#46039f"
             ],
             [
              0.2222222222222222,
              "#7201a8"
             ],
             [
              0.3333333333333333,
              "#9c179e"
             ],
             [
              0.4444444444444444,
              "#bd3786"
             ],
             [
              0.5555555555555556,
              "#d8576b"
             ],
             [
              0.6666666666666666,
              "#ed7953"
             ],
             [
              0.7777777777777778,
              "#fb9f3a"
             ],
             [
              0.8888888888888888,
              "#fdca26"
             ],
             [
              1,
              "#f0f921"
             ]
            ],
            "type": "surface"
           }
          ],
          "table": [
           {
            "cells": {
             "fill": {
              "color": "#EBF0F8"
             },
             "line": {
              "color": "white"
             }
            },
            "header": {
             "fill": {
              "color": "#C8D4E3"
             },
             "line": {
              "color": "white"
             }
            },
            "type": "table"
           }
          ]
         },
         "layout": {
          "annotationdefaults": {
           "arrowcolor": "#2a3f5f",
           "arrowhead": 0,
           "arrowwidth": 1
          },
          "autotypenumbers": "strict",
          "coloraxis": {
           "colorbar": {
            "outlinewidth": 0,
            "ticks": ""
           }
          },
          "colorscale": {
           "diverging": [
            [
             0,
             "#8e0152"
            ],
            [
             0.1,
             "#c51b7d"
            ],
            [
             0.2,
             "#de77ae"
            ],
            [
             0.3,
             "#f1b6da"
            ],
            [
             0.4,
             "#fde0ef"
            ],
            [
             0.5,
             "#f7f7f7"
            ],
            [
             0.6,
             "#e6f5d0"
            ],
            [
             0.7,
             "#b8e186"
            ],
            [
             0.8,
             "#7fbc41"
            ],
            [
             0.9,
             "#4d9221"
            ],
            [
             1,
             "#276419"
            ]
           ],
           "sequential": [
            [
             0,
             "#0d0887"
            ],
            [
             0.1111111111111111,
             "#46039f"
            ],
            [
             0.2222222222222222,
             "#7201a8"
            ],
            [
             0.3333333333333333,
             "#9c179e"
            ],
            [
             0.4444444444444444,
             "#bd3786"
            ],
            [
             0.5555555555555556,
             "#d8576b"
            ],
            [
             0.6666666666666666,
             "#ed7953"
            ],
            [
             0.7777777777777778,
             "#fb9f3a"
            ],
            [
             0.8888888888888888,
             "#fdca26"
            ],
            [
             1,
             "#f0f921"
            ]
           ],
           "sequentialminus": [
            [
             0,
             "#0d0887"
            ],
            [
             0.1111111111111111,
             "#46039f"
            ],
            [
             0.2222222222222222,
             "#7201a8"
            ],
            [
             0.3333333333333333,
             "#9c179e"
            ],
            [
             0.4444444444444444,
             "#bd3786"
            ],
            [
             0.5555555555555556,
             "#d8576b"
            ],
            [
             0.6666666666666666,
             "#ed7953"
            ],
            [
             0.7777777777777778,
             "#fb9f3a"
            ],
            [
             0.8888888888888888,
             "#fdca26"
            ],
            [
             1,
             "#f0f921"
            ]
           ]
          },
          "colorway": [
           "#636efa",
           "#EF553B",
           "#00cc96",
           "#ab63fa",
           "#FFA15A",
           "#19d3f3",
           "#FF6692",
           "#B6E880",
           "#FF97FF",
           "#FECB52"
          ],
          "font": {
           "color": "#2a3f5f"
          },
          "geo": {
           "bgcolor": "white",
           "lakecolor": "white",
           "landcolor": "#E5ECF6",
           "showlakes": true,
           "showland": true,
           "subunitcolor": "white"
          },
          "hoverlabel": {
           "align": "left"
          },
          "hovermode": "closest",
          "mapbox": {
           "style": "light"
          },
          "paper_bgcolor": "white",
          "plot_bgcolor": "#E5ECF6",
          "polar": {
           "angularaxis": {
            "gridcolor": "white",
            "linecolor": "white",
            "ticks": ""
           },
           "bgcolor": "#E5ECF6",
           "radialaxis": {
            "gridcolor": "white",
            "linecolor": "white",
            "ticks": ""
           }
          },
          "scene": {
           "xaxis": {
            "backgroundcolor": "#E5ECF6",
            "gridcolor": "white",
            "gridwidth": 2,
            "linecolor": "white",
            "showbackground": true,
            "ticks": "",
            "zerolinecolor": "white"
           },
           "yaxis": {
            "backgroundcolor": "#E5ECF6",
            "gridcolor": "white",
            "gridwidth": 2,
            "linecolor": "white",
            "showbackground": true,
            "ticks": "",
            "zerolinecolor": "white"
           },
           "zaxis": {
            "backgroundcolor": "#E5ECF6",
            "gridcolor": "white",
            "gridwidth": 2,
            "linecolor": "white",
            "showbackground": true,
            "ticks": "",
            "zerolinecolor": "white"
           }
          },
          "shapedefaults": {
           "line": {
            "color": "#2a3f5f"
           }
          },
          "ternary": {
           "aaxis": {
            "gridcolor": "white",
            "linecolor": "white",
            "ticks": ""
           },
           "baxis": {
            "gridcolor": "white",
            "linecolor": "white",
            "ticks": ""
           },
           "bgcolor": "#E5ECF6",
           "caxis": {
            "gridcolor": "white",
            "linecolor": "white",
            "ticks": ""
           }
          },
          "title": {
           "x": 0.05
          },
          "xaxis": {
           "automargin": true,
           "gridcolor": "white",
           "linecolor": "white",
           "ticks": "",
           "title": {
            "standoff": 15
           },
           "zerolinecolor": "white",
           "zerolinewidth": 2
          },
          "yaxis": {
           "automargin": true,
           "gridcolor": "white",
           "linecolor": "white",
           "ticks": "",
           "title": {
            "standoff": 15
           },
           "zerolinecolor": "white",
           "zerolinewidth": 2
          }
         }
        },
        "title": {
         "text": "Precios kWh para Baleares"
        },
        "xaxis": {
         "ticklen": 5,
         "title": {
          "text": "Fecha"
         }
        }
       }
      },
      "text/html": [
       "<div>                            <div id=\"9fab6f0e-39e2-43e3-9b84-63b4b68640e2\" class=\"plotly-graph-div\" style=\"height:525px; width:100%;\"></div>            <script type=\"text/javascript\">                require([\"plotly\"], function(Plotly) {                    window.PLOTLYENV=window.PLOTLYENV || {};                                    if (document.getElementById(\"9fab6f0e-39e2-43e3-9b84-63b4b68640e2\")) {                    Plotly.newPlot(                        \"9fab6f0e-39e2-43e3-9b84-63b4b68640e2\",                        [{\"mode\":\"lines\",\"name\":\"P1 Poniente+\",\"text\":\"Poniente+\",\"x\":[\"2022-01-01 00:00:00\",\"2022-02-01 00:00:00\",\"2022-03-01 00:00:00\",\"2022-04-01 00:00:00\",\"2022-05-01 00:00:00\",\"2022-06-01 00:00:00\",\"2022-07-01 00:00:00\",\"2022-08-01 00:00:00\",\"2022-09-01 00:00:00\",\"2022-10-01 00:00:00\",\"2022-11-01 00:00:00\",\"2022-12-01 00:00:00\",\"2023-01-01 00:00:00\",\"2023-02-01 00:00:00\",\"2023-03-01 00:00:00\",\"2023-04-01 00:00:00\",\"2023-05-01 00:00:00\",\"2023-06-01 00:00:00\",\"2023-07-01 00:00:00\"],\"y\":[0.34561551596,0.34384758896,0.4417671723999999,0.33359361236,0.32841947934,0.30779366434,0.27600633688,0.29042083502,0.27413233426,0.26219913578,0.24846823608,0.2265341551,0.1942400219,0.26957728446,0.21788309898,0.19916664514,0.19973238178,0.22190218636,0.21889671],\"type\":\"scatter\"},{\"mode\":\"lines\",\"name\":\"P1 Levante+\",\"text\":\"Levante+\",\"x\":[\"2022-01-01 00:00:00\",\"2022-02-01 00:00:00\",\"2022-03-01 00:00:00\",\"2022-04-01 00:00:00\",\"2022-05-01 00:00:00\",\"2022-06-01 00:00:00\",\"2022-07-01 00:00:00\",\"2022-08-01 00:00:00\",\"2022-09-01 00:00:00\",\"2022-10-01 00:00:00\",\"2022-11-01 00:00:00\",\"2022-12-01 00:00:00\",\"2023-01-01 00:00:00\",\"2023-02-01 00:00:00\",\"2023-03-01 00:00:00\",\"2023-04-01 00:00:00\",\"2023-05-01 00:00:00\",\"2023-06-01 00:00:00\",\"2023-07-01 00:00:00\"],\"y\":[0.35576551596,0.35399758896,0.4519171723999999,0.34374361236,0.33856947934,0.31794366434,0.28615633688,0.30057083502,0.28428233426,0.27234913578,0.25861823608,0.2366841551,0.2043900219,0.27972728446,0.22803309898,0.20931664514,0.20988238178,0.23205218636,0.22904671],\"type\":\"scatter\"},{\"mode\":\"lines\",\"name\":\"P1 Tramontana\",\"text\":\"Tramontana\",\"x\":[\"2022-01-01 00:00:00\",\"2022-02-01 00:00:00\",\"2022-03-01 00:00:00\",\"2022-04-01 00:00:00\",\"2022-05-01 00:00:00\",\"2022-06-01 00:00:00\",\"2022-07-01 00:00:00\",\"2022-08-01 00:00:00\",\"2022-09-01 00:00:00\",\"2022-10-01 00:00:00\",\"2022-11-01 00:00:00\",\"2022-12-01 00:00:00\",\"2023-01-01 00:00:00\",\"2023-02-01 00:00:00\",\"2023-03-01 00:00:00\",\"2023-04-01 00:00:00\",\"2023-05-01 00:00:00\",\"2023-06-01 00:00:00\",\"2023-07-01 00:00:00\"],\"y\":[0.33851051596,0.33674258896,0.4346621723999999,0.32648861236,0.3213144793399999,0.3006886643399999,0.26890133688,0.2833158350199999,0.2670273342599999,0.25509413578,0.24136323608,0.2194291551,0.1871350219,0.26247228446,0.21077809898,0.19206164514,0.19262738178,0.21479718636,0.21179171],\"type\":\"scatter\"},{\"mode\":\"lines\",\"name\":\"P1 Poniente\",\"text\":\"Poniente\",\"x\":[\"2022-01-01 00:00:00\",\"2022-02-01 00:00:00\",\"2022-03-01 00:00:00\",\"2022-04-01 00:00:00\",\"2022-05-01 00:00:00\",\"2022-06-01 00:00:00\",\"2022-07-01 00:00:00\",\"2022-08-01 00:00:00\",\"2022-09-01 00:00:00\",\"2022-10-01 00:00:00\",\"2022-11-01 00:00:00\",\"2022-12-01 00:00:00\",\"2023-01-01 00:00:00\",\"2023-02-01 00:00:00\",\"2023-03-01 00:00:00\",\"2023-04-01 00:00:00\",\"2023-05-01 00:00:00\",\"2023-06-01 00:00:00\",\"2023-07-01 00:00:00\"],\"y\":[0.34561551596,0.34384758896,0.4417671723999999,0.33359361236,0.32841947934,0.30779366434,0.27600633688,0.29042083502,0.27413233426,0.26219913578,0.24846823608,0.2265341551,0.1942400219,0.26957728446,0.21788309898,0.19916664514,0.19973238178,0.22190218636,0.21889671],\"type\":\"scatter\"},{\"mode\":\"lines\",\"name\":\"P1 Tramontana+\",\"text\":\"Tramontana+\",\"x\":[\"2022-01-01 00:00:00\",\"2022-02-01 00:00:00\",\"2022-03-01 00:00:00\",\"2022-04-01 00:00:00\",\"2022-05-01 00:00:00\",\"2022-06-01 00:00:00\",\"2022-07-01 00:00:00\",\"2022-08-01 00:00:00\",\"2022-09-01 00:00:00\",\"2022-10-01 00:00:00\",\"2022-11-01 00:00:00\",\"2022-12-01 00:00:00\",\"2023-01-01 00:00:00\",\"2023-02-01 00:00:00\",\"2023-03-01 00:00:00\",\"2023-04-01 00:00:00\",\"2023-05-01 00:00:00\",\"2023-06-01 00:00:00\",\"2023-07-01 00:00:00\"],\"y\":[0.33851051596,0.33674258896,0.4346621723999999,0.32648861236,0.3213144793399999,0.3006886643399999,0.26890133688,0.2833158350199999,0.2670273342599999,0.25509413578,0.24136323608,0.2194291551,0.1871350219,0.26247228446,0.21077809898,0.19206164514,0.19262738178,0.21479718636,0.21179171],\"type\":\"scatter\"},{\"mode\":\"lines\",\"name\":\"P1 Levante\",\"text\":\"Levante\",\"x\":[\"2022-01-01 00:00:00\",\"2022-02-01 00:00:00\",\"2022-03-01 00:00:00\",\"2022-04-01 00:00:00\",\"2022-05-01 00:00:00\",\"2022-06-01 00:00:00\",\"2022-07-01 00:00:00\",\"2022-08-01 00:00:00\",\"2022-09-01 00:00:00\",\"2022-10-01 00:00:00\",\"2022-11-01 00:00:00\",\"2022-12-01 00:00:00\",\"2023-01-01 00:00:00\",\"2023-02-01 00:00:00\",\"2023-03-01 00:00:00\",\"2023-04-01 00:00:00\",\"2023-05-01 00:00:00\",\"2023-06-01 00:00:00\",\"2023-07-01 00:00:00\"],\"y\":[0.35576551596,0.35399758896,0.4519171723999999,0.34374361236,0.33856947934,0.31794366434,0.28615633688,0.30057083502,0.28428233426,0.27234913578,0.25861823608,0.2366841551,0.2043900219,0.27972728446,0.22803309898,0.20931664514,0.20988238178,0.23205218636,0.22904671],\"type\":\"scatter\"},{\"mode\":\"lines\",\"name\":\"P1 Cierzo\",\"text\":\"Cierzo\",\"x\":[\"2022-01-01 00:00:00\",\"2022-02-01 00:00:00\",\"2022-03-01 00:00:00\",\"2022-04-01 00:00:00\",\"2022-05-01 00:00:00\",\"2022-06-01 00:00:00\",\"2022-07-01 00:00:00\",\"2022-08-01 00:00:00\",\"2022-09-01 00:00:00\",\"2022-10-01 00:00:00\",\"2022-11-01 00:00:00\",\"2022-12-01 00:00:00\",\"2023-01-01 00:00:00\",\"2023-02-01 00:00:00\",\"2023-03-01 00:00:00\",\"2023-04-01 00:00:00\",\"2023-05-01 00:00:00\",\"2023-06-01 00:00:00\",\"2023-07-01 00:00:00\"],\"y\":[0.33648051596,0.33471258896,0.4326321723999999,0.32445861236,0.31928447934,0.29865866434,0.26687133688,0.28128583502,0.26499733426,0.25306413578,0.23933323608,0.2173991551,0.1851050219,0.26044228446,0.20874809898,0.19003164514,0.19059738178,0.21276718636,0.20976171],\"type\":\"scatter\"}],                        {\"template\":{\"data\":{\"barpolar\":[{\"marker\":{\"line\":{\"color\":\"#E5ECF6\",\"width\":0.5},\"pattern\":{\"fillmode\":\"overlay\",\"size\":10,\"solidity\":0.2}},\"type\":\"barpolar\"}],\"bar\":[{\"error_x\":{\"color\":\"#2a3f5f\"},\"error_y\":{\"color\":\"#2a3f5f\"},\"marker\":{\"line\":{\"color\":\"#E5ECF6\",\"width\":0.5},\"pattern\":{\"fillmode\":\"overlay\",\"size\":10,\"solidity\":0.2}},\"type\":\"bar\"}],\"carpet\":[{\"aaxis\":{\"endlinecolor\":\"#2a3f5f\",\"gridcolor\":\"white\",\"linecolor\":\"white\",\"minorgridcolor\":\"white\",\"startlinecolor\":\"#2a3f5f\"},\"baxis\":{\"endlinecolor\":\"#2a3f5f\",\"gridcolor\":\"white\",\"linecolor\":\"white\",\"minorgridcolor\":\"white\",\"startlinecolor\":\"#2a3f5f\"},\"type\":\"carpet\"}],\"choropleth\":[{\"colorbar\":{\"outlinewidth\":0,\"ticks\":\"\"},\"type\":\"choropleth\"}],\"contourcarpet\":[{\"colorbar\":{\"outlinewidth\":0,\"ticks\":\"\"},\"type\":\"contourcarpet\"}],\"contour\":[{\"colorbar\":{\"outlinewidth\":0,\"ticks\":\"\"},\"colorscale\":[[0.0,\"#0d0887\"],[0.1111111111111111,\"#46039f\"],[0.2222222222222222,\"#7201a8\"],[0.3333333333333333,\"#9c179e\"],[0.4444444444444444,\"#bd3786\"],[0.5555555555555556,\"#d8576b\"],[0.6666666666666666,\"#ed7953\"],[0.7777777777777778,\"#fb9f3a\"],[0.8888888888888888,\"#fdca26\"],[1.0,\"#f0f921\"]],\"type\":\"contour\"}],\"heatmapgl\":[{\"colorbar\":{\"outlinewidth\":0,\"ticks\":\"\"},\"colorscale\":[[0.0,\"#0d0887\"],[0.1111111111111111,\"#46039f\"],[0.2222222222222222,\"#7201a8\"],[0.3333333333333333,\"#9c179e\"],[0.4444444444444444,\"#bd3786\"],[0.5555555555555556,\"#d8576b\"],[0.6666666666666666,\"#ed7953\"],[0.7777777777777778,\"#fb9f3a\"],[0.8888888888888888,\"#fdca26\"],[1.0,\"#f0f921\"]],\"type\":\"heatmapgl\"}],\"heatmap\":[{\"colorbar\":{\"outlinewidth\":0,\"ticks\":\"\"},\"colorscale\":[[0.0,\"#0d0887\"],[0.1111111111111111,\"#46039f\"],[0.2222222222222222,\"#7201a8\"],[0.3333333333333333,\"#9c179e\"],[0.4444444444444444,\"#bd3786\"],[0.5555555555555556,\"#d8576b\"],[0.6666666666666666,\"#ed7953\"],[0.7777777777777778,\"#fb9f3a\"],[0.8888888888888888,\"#fdca26\"],[1.0,\"#f0f921\"]],\"type\":\"heatmap\"}],\"histogram2dcontour\":[{\"colorbar\":{\"outlinewidth\":0,\"ticks\":\"\"},\"colorscale\":[[0.0,\"#0d0887\"],[0.1111111111111111,\"#46039f\"],[0.2222222222222222,\"#7201a8\"],[0.3333333333333333,\"#9c179e\"],[0.4444444444444444,\"#bd3786\"],[0.5555555555555556,\"#d8576b\"],[0.6666666666666666,\"#ed7953\"],[0.7777777777777778,\"#fb9f3a\"],[0.8888888888888888,\"#fdca26\"],[1.0,\"#f0f921\"]],\"type\":\"histogram2dcontour\"}],\"histogram2d\":[{\"colorbar\":{\"outlinewidth\":0,\"ticks\":\"\"},\"colorscale\":[[0.0,\"#0d0887\"],[0.1111111111111111,\"#46039f\"],[0.2222222222222222,\"#7201a8\"],[0.3333333333333333,\"#9c179e\"],[0.4444444444444444,\"#bd3786\"],[0.5555555555555556,\"#d8576b\"],[0.6666666666666666,\"#ed7953\"],[0.7777777777777778,\"#fb9f3a\"],[0.8888888888888888,\"#fdca26\"],[1.0,\"#f0f921\"]],\"type\":\"histogram2d\"}],\"histogram\":[{\"marker\":{\"pattern\":{\"fillmode\":\"overlay\",\"size\":10,\"solidity\":0.2}},\"type\":\"histogram\"}],\"mesh3d\":[{\"colorbar\":{\"outlinewidth\":0,\"ticks\":\"\"},\"type\":\"mesh3d\"}],\"parcoords\":[{\"line\":{\"colorbar\":{\"outlinewidth\":0,\"ticks\":\"\"}},\"type\":\"parcoords\"}],\"pie\":[{\"automargin\":true,\"type\":\"pie\"}],\"scatter3d\":[{\"line\":{\"colorbar\":{\"outlinewidth\":0,\"ticks\":\"\"}},\"marker\":{\"colorbar\":{\"outlinewidth\":0,\"ticks\":\"\"}},\"type\":\"scatter3d\"}],\"scattercarpet\":[{\"marker\":{\"colorbar\":{\"outlinewidth\":0,\"ticks\":\"\"}},\"type\":\"scattercarpet\"}],\"scattergeo\":[{\"marker\":{\"colorbar\":{\"outlinewidth\":0,\"ticks\":\"\"}},\"type\":\"scattergeo\"}],\"scattergl\":[{\"marker\":{\"colorbar\":{\"outlinewidth\":0,\"ticks\":\"\"}},\"type\":\"scattergl\"}],\"scattermapbox\":[{\"marker\":{\"colorbar\":{\"outlinewidth\":0,\"ticks\":\"\"}},\"type\":\"scattermapbox\"}],\"scatterpolargl\":[{\"marker\":{\"colorbar\":{\"outlinewidth\":0,\"ticks\":\"\"}},\"type\":\"scatterpolargl\"}],\"scatterpolar\":[{\"marker\":{\"colorbar\":{\"outlinewidth\":0,\"ticks\":\"\"}},\"type\":\"scatterpolar\"}],\"scatter\":[{\"fillpattern\":{\"fillmode\":\"overlay\",\"size\":10,\"solidity\":0.2},\"type\":\"scatter\"}],\"scatterternary\":[{\"marker\":{\"colorbar\":{\"outlinewidth\":0,\"ticks\":\"\"}},\"type\":\"scatterternary\"}],\"surface\":[{\"colorbar\":{\"outlinewidth\":0,\"ticks\":\"\"},\"colorscale\":[[0.0,\"#0d0887\"],[0.1111111111111111,\"#46039f\"],[0.2222222222222222,\"#7201a8\"],[0.3333333333333333,\"#9c179e\"],[0.4444444444444444,\"#bd3786\"],[0.5555555555555556,\"#d8576b\"],[0.6666666666666666,\"#ed7953\"],[0.7777777777777778,\"#fb9f3a\"],[0.8888888888888888,\"#fdca26\"],[1.0,\"#f0f921\"]],\"type\":\"surface\"}],\"table\":[{\"cells\":{\"fill\":{\"color\":\"#EBF0F8\"},\"line\":{\"color\":\"white\"}},\"header\":{\"fill\":{\"color\":\"#C8D4E3\"},\"line\":{\"color\":\"white\"}},\"type\":\"table\"}]},\"layout\":{\"annotationdefaults\":{\"arrowcolor\":\"#2a3f5f\",\"arrowhead\":0,\"arrowwidth\":1},\"autotypenumbers\":\"strict\",\"coloraxis\":{\"colorbar\":{\"outlinewidth\":0,\"ticks\":\"\"}},\"colorscale\":{\"diverging\":[[0,\"#8e0152\"],[0.1,\"#c51b7d\"],[0.2,\"#de77ae\"],[0.3,\"#f1b6da\"],[0.4,\"#fde0ef\"],[0.5,\"#f7f7f7\"],[0.6,\"#e6f5d0\"],[0.7,\"#b8e186\"],[0.8,\"#7fbc41\"],[0.9,\"#4d9221\"],[1,\"#276419\"]],\"sequential\":[[0.0,\"#0d0887\"],[0.1111111111111111,\"#46039f\"],[0.2222222222222222,\"#7201a8\"],[0.3333333333333333,\"#9c179e\"],[0.4444444444444444,\"#bd3786\"],[0.5555555555555556,\"#d8576b\"],[0.6666666666666666,\"#ed7953\"],[0.7777777777777778,\"#fb9f3a\"],[0.8888888888888888,\"#fdca26\"],[1.0,\"#f0f921\"]],\"sequentialminus\":[[0.0,\"#0d0887\"],[0.1111111111111111,\"#46039f\"],[0.2222222222222222,\"#7201a8\"],[0.3333333333333333,\"#9c179e\"],[0.4444444444444444,\"#bd3786\"],[0.5555555555555556,\"#d8576b\"],[0.6666666666666666,\"#ed7953\"],[0.7777777777777778,\"#fb9f3a\"],[0.8888888888888888,\"#fdca26\"],[1.0,\"#f0f921\"]]},\"colorway\":[\"#636efa\",\"#EF553B\",\"#00cc96\",\"#ab63fa\",\"#FFA15A\",\"#19d3f3\",\"#FF6692\",\"#B6E880\",\"#FF97FF\",\"#FECB52\"],\"font\":{\"color\":\"#2a3f5f\"},\"geo\":{\"bgcolor\":\"white\",\"lakecolor\":\"white\",\"landcolor\":\"#E5ECF6\",\"showlakes\":true,\"showland\":true,\"subunitcolor\":\"white\"},\"hoverlabel\":{\"align\":\"left\"},\"hovermode\":\"closest\",\"mapbox\":{\"style\":\"light\"},\"paper_bgcolor\":\"white\",\"plot_bgcolor\":\"#E5ECF6\",\"polar\":{\"angularaxis\":{\"gridcolor\":\"white\",\"linecolor\":\"white\",\"ticks\":\"\"},\"bgcolor\":\"#E5ECF6\",\"radialaxis\":{\"gridcolor\":\"white\",\"linecolor\":\"white\",\"ticks\":\"\"}},\"scene\":{\"xaxis\":{\"backgroundcolor\":\"#E5ECF6\",\"gridcolor\":\"white\",\"gridwidth\":2,\"linecolor\":\"white\",\"showbackground\":true,\"ticks\":\"\",\"zerolinecolor\":\"white\"},\"yaxis\":{\"backgroundcolor\":\"#E5ECF6\",\"gridcolor\":\"white\",\"gridwidth\":2,\"linecolor\":\"white\",\"showbackground\":true,\"ticks\":\"\",\"zerolinecolor\":\"white\"},\"zaxis\":{\"backgroundcolor\":\"#E5ECF6\",\"gridcolor\":\"white\",\"gridwidth\":2,\"linecolor\":\"white\",\"showbackground\":true,\"ticks\":\"\",\"zerolinecolor\":\"white\"}},\"shapedefaults\":{\"line\":{\"color\":\"#2a3f5f\"}},\"ternary\":{\"aaxis\":{\"gridcolor\":\"white\",\"linecolor\":\"white\",\"ticks\":\"\"},\"baxis\":{\"gridcolor\":\"white\",\"linecolor\":\"white\",\"ticks\":\"\"},\"bgcolor\":\"#E5ECF6\",\"caxis\":{\"gridcolor\":\"white\",\"linecolor\":\"white\",\"ticks\":\"\"}},\"title\":{\"x\":0.05},\"xaxis\":{\"automargin\":true,\"gridcolor\":\"white\",\"linecolor\":\"white\",\"ticks\":\"\",\"title\":{\"standoff\":15},\"zerolinecolor\":\"white\",\"zerolinewidth\":2},\"yaxis\":{\"automargin\":true,\"gridcolor\":\"white\",\"linecolor\":\"white\",\"ticks\":\"\",\"title\":{\"standoff\":15},\"zerolinecolor\":\"white\",\"zerolinewidth\":2}}},\"title\":{\"text\":\"Precios kWh para Baleares\"},\"xaxis\":{\"ticklen\":5,\"title\":{\"text\":\"Fecha\"}}},                        {\"responsive\": true}                    ).then(function(){\n",
       "                            \n",
       "var gd = document.getElementById('9fab6f0e-39e2-43e3-9b84-63b4b68640e2');\n",
       "var x = new MutationObserver(function (mutations, observer) {{\n",
       "        var display = window.getComputedStyle(gd).display;\n",
       "        if (!display || display === 'none') {{\n",
       "            console.log([gd, 'removed!']);\n",
       "            Plotly.purge(gd);\n",
       "            observer.disconnect();\n",
       "        }}\n",
       "}});\n",
       "\n",
       "// Listen for the removal of the full notebook cells\n",
       "var notebookContainer = gd.closest('#notebook-container');\n",
       "if (notebookContainer) {{\n",
       "    x.observe(notebookContainer, {childList: true});\n",
       "}}\n",
       "\n",
       "// Listen for the clearing of the current output cell\n",
       "var outputEl = gd.closest('.output');\n",
       "if (outputEl) {{\n",
       "    x.observe(outputEl, {childList: true});\n",
       "}}\n",
       "\n",
       "                        })                };                });            </script>        </div>"
      ]
     },
     "metadata": {},
     "output_type": "display_data"
    }
   ],
   "source": [
    "# Dibujo de la gráfica\n",
    "\n",
    "\n",
    "data = [] # Voy a guardar cada línea de la gráfica en esta lista\n",
    "for i in df.FEE.unique(): # Itero por los distintos planes\n",
    "    data.append(go.Scatter(\n",
    "                    x = df[df['FEE'] == i]['MES'],\n",
    "                    y = df[df['FEE'] == i]['P1'],\n",
    "                    name = f'P1 {i}',\n",
    "                    mode= 'lines',\n",
    "                    text = i))\n",
    "\n",
    "layout = dict(title = 'Precios kWh para Baleares',\n",
    "             xaxis= dict(title= 'Fecha',ticklen= 5)\n",
    "           )\n",
    "\n",
    "fig = go.Figure(data = data, layout=layout)\n",
    "\n",
    "iplot(fig)"
   ]
  },
  {
   "cell_type": "code",
   "execution_count": 8,
   "metadata": {},
   "outputs": [],
   "source": [
    "# Guardar en html\n",
    "\n",
    "fig.write_html(\"./img/plot1.html\")"
   ]
  }
 ],
 "metadata": {
  "kernelspec": {
   "display_name": "Python 3",
   "language": "python",
   "name": "python3"
  },
  "language_info": {
   "codemirror_mode": {
    "name": "ipython",
    "version": 3
   },
   "file_extension": ".py",
   "mimetype": "text/x-python",
   "name": "python",
   "nbconvert_exporter": "python",
   "pygments_lexer": "ipython3",
   "version": "3.11.3"
  }
 },
 "nbformat": 4,
 "nbformat_minor": 2
}
